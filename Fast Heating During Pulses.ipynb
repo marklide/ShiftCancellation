{
 "cells": [
  {
   "cell_type": "code",
   "execution_count": 1,
   "id": "1110334a",
   "metadata": {},
   "outputs": [],
   "source": [
    "from qutip import *\n",
    "import numpy as np\n",
    "import scipy as sp\n",
    "import math\n",
    "import matplotlib.pyplot as plt\n",
    "from scipy.special import genlaguerre as L"
   ]
  },
  {
   "cell_type": "code",
   "execution_count": 2,
   "id": "7da4c838",
   "metadata": {},
   "outputs": [],
   "source": [
    "hbar = sp.constants.hbar\n",
    "h = sp.constants.h\n",
    "c = sp.constants.c\n",
    "e = sp.constants.e\n",
    "eVtoJ = 1.602176634e-19\n",
    "amutokg = 1.66053906660e-27\n",
    "\n",
    "omega = 2.0*np.pi*778e3 #Lange\n",
    "Omegarf = 2.0*np.pi*13e6 #Lange\n",
    "m = 170.936331517*amutokg\n",
    "alpha = 5.89e-40 #J m^2 V^-2 E2 transition (Lange)\n",
    "nu0 = 688358979309307.82 #Hz E2 transition (Huntemann)"
   ]
  },
  {
   "cell_type": "code",
   "execution_count": 3,
   "id": "b798a458",
   "metadata": {},
   "outputs": [],
   "source": [
    "def prob(n,nbar):\n",
    "    return 1.0/(nbar+1)*(nbar/(nbar+1))**n    #returns prob of being in state n given nbar\n",
    "\n",
    "def dopAndStark(n):       #for 1D!! to make 3d, multiply this by 3                        \n",
    "    return -2.0*np.pi*nu0*hbar*omega*(n+0.5)/(m*c**2)*(1.0 + alpha*m**2*Omegarf**2*c**2/(h*nu0*e**2*2)) \n",
    "\n",
    "def Omega(n,m,eta):\n",
    "    return np.exp(-eta**2/2.0) * eta**(np.abs(m)) * (math.factorial(n)/math.factorial(n+m))**(np.sign(m)/2.0) \\\n",
    "        * L(n,np.abs(m))(eta**2)              #returns unitless rabi rate of transition n -> n+m given Lamb-Dicke Parameter"
   ]
  },
  {
   "cell_type": "code",
   "execution_count": 4,
   "id": "fd47f468",
   "metadata": {},
   "outputs": [],
   "source": [
    "def psi(g,e):\n",
    "    return np.array([g, e])\n",
    "\n",
    "def pulse(t, Omega0, delta, phi0, phi1):\n",
    "    Omega = np.sqrt(Omega0**2 + delta**2)\n",
    "    \n",
    "    if Omega == 0.0:\n",
    "        U = np.array([[1.0 , 0.0],\n",
    "                      [0.0 , 1.0]])\n",
    "        \n",
    "    else:\n",
    "        U = np.array([[np.cos(Omega*t/2.0) -(1.0j*delta/Omega)*np.sin(Omega*t/2.0), (1.0j*Omega0/Omega)*np.sin(Omega*t/2.0)],\n",
    "                     [(1.0j*Omega0/Omega)*np.sin(Omega*t/2.0) , np.cos(Omega*t/2.0) + (1.0j*delta/Omega)*np.sin(Omega*t/2.0)]])\n",
    "    \n",
    "    V1 = np.array([[1.0 , 0.0],\n",
    "                   [0.0 , np.exp(-1.0j*phi1)]])\n",
    "    \n",
    "    V0 = np.array([[1.0 , 0.0],\n",
    "                   [0.0 , np.exp(1.0j*phi0)]])\n",
    "    \n",
    "    return np.exp(1.0j*delta*t/2.0)*V1@U@V0"
   ]
  },
  {
   "cell_type": "code",
   "execution_count": null,
   "id": "0649484e",
   "metadata": {},
   "outputs": [],
   "source": []
  }
 ],
 "metadata": {
  "kernelspec": {
   "display_name": "Python 3 (ipykernel)",
   "language": "python",
   "name": "python3"
  },
  "language_info": {
   "codemirror_mode": {
    "name": "ipython",
    "version": 3
   },
   "file_extension": ".py",
   "mimetype": "text/x-python",
   "name": "python",
   "nbconvert_exporter": "python",
   "pygments_lexer": "ipython3",
   "version": "3.10.5"
  }
 },
 "nbformat": 4,
 "nbformat_minor": 5
}
