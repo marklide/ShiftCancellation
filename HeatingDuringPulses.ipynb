{
 "cells": [
  {
   "cell_type": "code",
   "execution_count": 1,
   "id": "07c17e7e",
   "metadata": {},
   "outputs": [],
   "source": [
    "from qutip import *\n",
    "import numpy as np\n",
    "import scipy as sp\n",
    "import math\n",
    "import matplotlib.pyplot as plt\n",
    "from scipy.special import genlaguerre as L"
   ]
  },
  {
   "cell_type": "code",
   "execution_count": 8,
   "id": "05d097b8",
   "metadata": {},
   "outputs": [],
   "source": [
    "import gmpy2"
   ]
  },
  {
   "cell_type": "code",
   "execution_count": 2,
   "id": "7a55807e",
   "metadata": {},
   "outputs": [],
   "source": [
    "hbar = sp.constants.hbar\n",
    "h = sp.constants.h\n",
    "c = sp.constants.c\n",
    "e = sp.constants.e\n",
    "eVtoJ = 1.602176634e-19\n",
    "amutokg = 1.66053906660e-27"
   ]
  },
  {
   "cell_type": "code",
   "execution_count": 11,
   "id": "ffd22dee",
   "metadata": {},
   "outputs": [],
   "source": [
    "gmpy2.set_context(gmpy2.ieee(128))\n",
    "gmpy2.sin(gmpy2.mpfr(\"1.2\"))\n",
    "a = 1.0"
   ]
  },
  {
   "cell_type": "code",
   "execution_count": 3,
   "id": "b4e2b931",
   "metadata": {},
   "outputs": [],
   "source": [
    "def psi(g,e):\n",
    "    return np.array([g, e])\n",
    "\n",
    "def pulse(t, Omega0, delta, phi0, phi1):\n",
    "    Omega = np.sqrt(Omega0**2 + delta**2)\n",
    "    \n",
    "    if Omega == 0.0:\n",
    "        U = np.array([[1.0 , 0.0],\n",
    "                      [0.0 , 1.0]])\n",
    "        \n",
    "    else:\n",
    "        U = np.array([[np.cos(Omega*t/2.0) -(1.0j*delta/Omega)*np.sin(Omega*t/2.0), (1.0j*Omega0/Omega)*np.sin(Omega*t/2.0)],\n",
    "                     [(1.0j*Omega0/Omega)*np.sin(Omega*t/2.0) , np.cos(Omega*t/2.0) + (1.0j*delta/Omega)*np.sin(Omega*t/2.0)]])\n",
    "    \n",
    "    V1 = np.array([[1.0 , 0.0],\n",
    "                   [0.0 , np.exp(-1.0j*phi1)]])\n",
    "    \n",
    "    V0 = np.array([[1.0 , 0.0],\n",
    "                   [0.0 , np.exp(1.0j*phi0)]])\n",
    "    \n",
    "    return np.exp(1.0j*delta*t/2.0)*V1@U@V0\n",
    "\n",
    "def thermPulse(psi0, t, Omega0, delPrime, eta, nbar, Ncut): #1-dimensional\n",
    "    result = psi(0.0+0.0j,0.0+0.0j)\n",
    "    for n in range(Ncut):\n",
    "        result += prob(n,nbar)*pulse(t, Omega0*Omega(n,0,eta), delPrime, 0.0, 0.0)@psi0\n",
    "    return result\n",
    "\n",
    "def therm3DPulse(psi0, t, Omega0, delPrime, nbars, Omegas, Ncut):\n",
    "    nbarx = nbars[0]\n",
    "    nbary = nbars[1]\n",
    "    nbarz = nbars[2]\n",
    "    #Ncut = 100\n",
    "    result = psi(0.0+0.0j,0.0+0.0j)\n",
    "    for nx in range(Ncut):\n",
    "        Probx = prob(nx,nbarx)\n",
    "        for ny in range(Ncut):\n",
    "            Probxy = Probx*prob(ny,nbary)\n",
    "            for nz in range(Ncut):\n",
    "                result += Probxy*prob(nz,nbarz)*pulse(t, Omega0*Omegas[nx,ny,nz], delPrime, 0.0, 0.0)@psi0\n",
    "    return result\n",
    "\n",
    "def rhoee(psi):\n",
    "    return (abs(psi[1]))**2.0\n",
    "\n",
    "def rhogg(psi):\n",
    "    return (abs(psi[0]))**2.0\n",
    "\n",
    "def prob(n,nbar):\n",
    "    return 1.0/(nbar+1)*(nbar/(nbar+1))**n    #returns prob of being in state n given nbar\n",
    "\n",
    "def Omega(n,m,eta):\n",
    "    return np.exp(-eta**2/2.0) * eta**(np.abs(m)) * (math.factorial(n)/math.factorial(n+m))**(np.sign(m)/2.0) \\\n",
    "        * L(n,np.abs(m))(eta**2)              #returns unitless rabi rate of transition n -> n+m given Lamb-Dicke Parameter"
   ]
  },
  {
   "cell_type": "code",
   "execution_count": 4,
   "id": "7ec2ee91",
   "metadata": {},
   "outputs": [],
   "source": [
    "def heatPulse(psi0, t, Omega0, delPrime, eta, nbar0, nbarf, Ncut, tsteps):\n",
    "    dt = t/tsteps\n",
    "    nbars = np.linspace(nbar0, nbarf, tsteps)\n",
    "    state = psi0\n",
    "    for ii in range(tsteps):\n",
    "        state = thermPulse(state, dt, Omega0, delPrime, eta, nbars[ii], Ncut)\n",
    "    return state"
   ]
  },
  {
   "cell_type": "code",
   "execution_count": 41,
   "id": "2c82bcba",
   "metadata": {},
   "outputs": [],
   "source": [
    "psi0 = psi(1.0,0.0)\n",
    "t = 20e-3\n",
    "Omega0 = np.pi/(2.0*t)\n",
    "delPrime = 0.0\n",
    "eta = 0.05\n",
    "nbar = 1.0\n",
    "#nbarf = 10.0\n",
    "Ncut = 700\n",
    "tsteps = 2\n",
    "\n",
    "heatpsi = heatPulse(psi0, t, Omega0, delPrime, eta, nbar, nbar, Ncut, tsteps)\n",
    "psi1 = thermPulse(psi0, t, Omega0, delPrime, eta, nbar, Ncut)"
   ]
  },
  {
   "cell_type": "code",
   "execution_count": 44,
   "id": "d1a9bb33",
   "metadata": {},
   "outputs": [
    {
     "data": {
      "text/plain": [
       "0.4970583891150105"
      ]
     },
     "execution_count": 44,
     "metadata": {},
     "output_type": "execute_result"
    }
   ],
   "source": [
    "rhoee(heatpsi)"
   ]
  },
  {
   "cell_type": "code",
   "execution_count": 45,
   "id": "1c80a027",
   "metadata": {},
   "outputs": [
    {
     "data": {
      "text/plain": [
       "0.497056492714418"
      ]
     },
     "execution_count": 45,
     "metadata": {},
     "output_type": "execute_result"
    }
   ],
   "source": [
    "rhoee(psi1)"
   ]
  },
  {
   "cell_type": "code",
   "execution_count": 9,
   "id": "093969e8",
   "metadata": {},
   "outputs": [
    {
     "name": "stdout",
     "output_type": "stream",
     "text": [
      "0\n"
     ]
    }
   ],
   "source": [
    "for ii in range(1):\n",
    "    print(ii)"
   ]
  },
  {
   "cell_type": "code",
   "execution_count": 19,
   "id": "ec0fa17a",
   "metadata": {},
   "outputs": [],
   "source": [
    "ts = np.linspace(0.0, 20e-3, 1+1)"
   ]
  },
  {
   "cell_type": "code",
   "execution_count": 20,
   "id": "11719d46",
   "metadata": {},
   "outputs": [
    {
     "data": {
      "text/plain": [
       "array([0.  , 0.02])"
      ]
     },
     "execution_count": 20,
     "metadata": {},
     "output_type": "execute_result"
    }
   ],
   "source": [
    "ts"
   ]
  },
  {
   "cell_type": "code",
   "execution_count": 79,
   "id": "1490e580",
   "metadata": {},
   "outputs": [
    {
     "data": {
      "text/plain": [
       "0.02"
      ]
     },
     "execution_count": 79,
     "metadata": {},
     "output_type": "execute_result"
    }
   ],
   "source": [
    "t/tsteps*tsteps"
   ]
  },
  {
   "cell_type": "code",
   "execution_count": 21,
   "id": "76b7787e",
   "metadata": {},
   "outputs": [],
   "source": [
    "nbar0 = 10\n",
    "nbarf = 15\n",
    "tsteps=1\n",
    "nbars = np.linspace(nbar0, nbarf, tsteps)"
   ]
  },
  {
   "cell_type": "code",
   "execution_count": 22,
   "id": "7f39779a",
   "metadata": {},
   "outputs": [
    {
     "data": {
      "text/plain": [
       "array([10.])"
      ]
     },
     "execution_count": 22,
     "metadata": {},
     "output_type": "execute_result"
    }
   ],
   "source": [
    "nbars"
   ]
  },
  {
   "cell_type": "code",
   "execution_count": 78,
   "id": "78817430",
   "metadata": {},
   "outputs": [
    {
     "name": "stdout",
     "output_type": "stream",
     "text": [
      "10.0\n",
      "10.0\n",
      "10.0\n",
      "10.0\n",
      "10.0\n"
     ]
    }
   ],
   "source": [
    "for ii in range(tsteps):\n",
    "    print(nbars[ii])"
   ]
  },
  {
   "cell_type": "code",
   "execution_count": 12,
   "id": "ec04fe09",
   "metadata": {},
   "outputs": [
    {
     "data": {
      "text/plain": [
       "1.0"
      ]
     },
     "execution_count": 12,
     "metadata": {},
     "output_type": "execute_result"
    }
   ],
   "source": [
    "a"
   ]
  },
  {
   "cell_type": "code",
   "execution_count": 32,
   "id": "a033be34",
   "metadata": {},
   "outputs": [
    {
     "data": {
      "text/plain": [
       "0.25"
      ]
     },
     "execution_count": 32,
     "metadata": {},
     "output_type": "execute_result"
    }
   ],
   "source": [
    "prob(1,1.0)"
   ]
  },
  {
   "cell_type": "code",
   "execution_count": 34,
   "id": "3e9311e2",
   "metadata": {},
   "outputs": [
    {
     "data": {
      "text/plain": [
       "0.0625"
      ]
     },
     "execution_count": 34,
     "metadata": {},
     "output_type": "execute_result"
    }
   ],
   "source": [
    "prob(3,1.0)\n"
   ]
  },
  {
   "cell_type": "code",
   "execution_count": null,
   "id": "2dc015c2",
   "metadata": {},
   "outputs": [],
   "source": []
  }
 ],
 "metadata": {
  "kernelspec": {
   "display_name": "Python 3 (ipykernel)",
   "language": "python",
   "name": "python3"
  },
  "language_info": {
   "codemirror_mode": {
    "name": "ipython",
    "version": 3
   },
   "file_extension": ".py",
   "mimetype": "text/x-python",
   "name": "python",
   "nbconvert_exporter": "python",
   "pygments_lexer": "ipython3",
   "version": "3.10.5"
  }
 },
 "nbformat": 4,
 "nbformat_minor": 5
}
