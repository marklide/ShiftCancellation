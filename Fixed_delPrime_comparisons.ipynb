{
 "cells": [
  {
   "cell_type": "code",
   "execution_count": 1,
   "id": "2a96bdcf",
   "metadata": {},
   "outputs": [],
   "source": [
    "from qutip import *\n",
    "import numpy as np\n",
    "import scipy as sp\n",
    "import math\n",
    "import matplotlib.pyplot as plt\n",
    "from scipy.special import genlaguerre as L"
   ]
  },
  {
   "cell_type": "code",
   "execution_count": 2,
   "id": "d13f0c53",
   "metadata": {},
   "outputs": [],
   "source": [
    "def psi(g,e):\n",
    "    return np.array([g, e])\n",
    "\n",
    "def pulse(t, Omega0, delta, phi0, phi1):\n",
    "    Omega = np.sqrt(Omega0**2 + delta**2)\n",
    "    \n",
    "    if Omega == 0.0:\n",
    "        U = np.array([[1.0 , 0.0],\n",
    "                      [0.0 , 1.0]])\n",
    "        \n",
    "    else:\n",
    "        U = np.array([[np.cos(Omega*t/2.0) -(1.0j*delta/Omega)*np.sin(Omega*t/2.0), (1.0j*Omega0/Omega)*np.sin(Omega*t/2.0)],\n",
    "                     [(1.0j*Omega0/Omega)*np.sin(Omega*t/2.0) , np.cos(Omega*t/2.0) + (1.0j*delta/Omega)*np.sin(Omega*t/2.0)]])\n",
    "    \n",
    "    V1 = np.array([[1.0 , 0.0],\n",
    "                   [0.0 , np.exp(-1.0j*phi1)]])\n",
    "    \n",
    "    V0 = np.array([[1.0 , 0.0],\n",
    "                   [0.0 , np.exp(1.0j*phi0)]])\n",
    "    \n",
    "    return np.exp(1.0j*delta*t/2.0)*V1@U@V0\n",
    "\n",
    "def thermPulse(psi0, t, Omega0, delPrime, eta, nbar, Ncut): #1-dimensional\n",
    "    result = psi(0.0+0.0j,0.0+0.0j)\n",
    "    for n in range(Ncut):\n",
    "        result += prob(n,nbar)*pulse(t, Omega0*Omega(n,0,eta), delPrime, 0.0, 0.0)@psi0\n",
    "    return result\n",
    "\n",
    "def therm3DPulse(psi0, t, Omega0, delPrime, nbars, Omegas, Ncut):\n",
    "    nbarx = nbars[0]\n",
    "    nbary = nbars[1]\n",
    "    nbarz = nbars[2]\n",
    "    #Ncut = 100\n",
    "    result = psi(0.0+0.0j,0.0+0.0j)\n",
    "    for nx in range(Ncut):\n",
    "        Probx = prob(nx,nbarx)\n",
    "        for ny in range(Ncut):\n",
    "            Probxy = Probx*prob(ny,nbary)\n",
    "            for nz in range(Ncut):\n",
    "                result += Probxy*prob(nz,nbarz)*pulse(t, Omega0*Omegas[nx,ny,nz], delPrime, 0.0, 0.0)@psi0\n",
    "    return result\n",
    "\n",
    "def rhoee(psi):\n",
    "    return (abs(psi[1]))**2.0\n",
    "\n",
    "def rhogg(psi):\n",
    "    return (abs(psi[0]))**2.0\n",
    "\n",
    "def prob(n,nbar):\n",
    "    return 1.0/(nbar+1)*(nbar/(nbar+1))**n    #returns prob of being in state n given nbar\n",
    "\n",
    "def Omega(n,m,eta):\n",
    "    return np.exp(-eta**2/2.0) * eta**(np.abs(m)) * (math.factorial(n)/math.factorial(n+m))**(np.sign(m)/2.0) \\\n",
    "        * L(n,np.abs(m))(eta**2)              #returns unitless rabi rate of transition n -> n+m given Lamb-Dicke Parameter"
   ]
  },
  {
   "cell_type": "code",
   "execution_count": 7,
   "id": "386df322",
   "metadata": {},
   "outputs": [],
   "source": [
    "def RamseyErrSig(deld, psi0, t1, T, t2, delPrime, Omega0, eta, nbar0, nbarf, Ncut):\n",
    "    #nbar = nbar0 + nbardot*T\n",
    "    #delPrime = deld - Delta\n",
    "    freeEvo = pulse(T, 0.0, deld, 0.0, 0.0)\n",
    "    pi2PhaseInjP = pulse(0.0, 0.0, 0.0, 0.0, np.pi/2.0)\n",
    "    pi2PhaseInjM = pulse(0.0, 0.0, 0.0, 0.0, -np.pi/2.0)\n",
    "    intState = thermPulse(psi0, t1, Omega0, delPrime, eta, nbar0, Ncut)\n",
    "    resultP = thermPulse(freeEvo@pi2PhaseInjP@intState, t2, Omega0, delPrime, eta, nbarf, Ncut)\n",
    "    resultM = thermPulse(freeEvo@pi2PhaseInjM@intState, t2, Omega0, delPrime, eta, nbarf, Ncut)\n",
    "    return rhoee(resultP) - rhoee(resultM)\n",
    "\n",
    "def HRJumpThermErrSig(deld, psi0, t1, T, t2, delPrime, Omega0, eta, nbar0, nbarf, Ncut):\n",
    "    #delPrime = deld - Delta\n",
    "    freeEvo = pulse(T, 0.0, deld, 0.0, 0.0)\n",
    "    pi2PhaseInjP = pulse(0.0, 0.0, 0.0, 0.0, np.pi/2.0)\n",
    "    pi2PhaseInjM = pulse(0.0, 0.0, 0.0, 0.0, -np.pi/2.0)\n",
    "    #def thermPulse(psi0, t, Omega0, delPrime, eta, nbar, Ncut): #1-dimensional\n",
    "    intState = thermPulse(psi0, t1, Omega0, delPrime, eta, nbar0, Ncut)\n",
    "    resultP = thermPulse(thermPulse(freeEvo@pi2PhaseInjP@intState, 2.0*t2/3.0, -Omega0, delPrime, eta, nbarf, Ncut), t2/3.0, Omega0, delPrime, eta, nbarf, Ncut)\n",
    "    resultM = thermPulse(thermPulse(freeEvo@pi2PhaseInjM@intState, 2.0*t2/3.0, -Omega0, delPrime, eta, nbarf, Ncut), t2/3.0, Omega0, delPrime, eta, nbarf, Ncut)\n",
    "    return rhoee(resultP) - rhoee(resultM)\n",
    "\n",
    "def HRJumpThermErrSigFront(deld, psi0, t1, T, t2, Delta, Omega0, eta, nbar0, nbarf, Ncut):\n",
    "    delPrime = deld - Delta\n",
    "    freeEvo = pulse(T, 0.0, deld, 0.0, 0.0)\n",
    "    pi2PhaseInjP = pulse(0.0, 0.0, 0.0, 0.0, np.pi/2.0)\n",
    "    pi2PhaseInjM = pulse(0.0, 0.0, 0.0, 0.0, -np.pi/2.0)\n",
    "    #def thermPulse(psi0, t, Omega0, delPrime, eta, nbar, Ncut): #1-dimensional\n",
    "    intState = thermPulse(thermPulse(psi0, t1/3.0, Omega0, delPrime, eta, nbar0, Ncut), 2.0*t1/3.0, -Omega0, delPrime, eta, nbar0, Ncut)\n",
    "    resultP = thermPulse(freeEvo@pi2PhaseInjP@intState, t2, Omega0, delPrime, eta, nbarf, Ncut)\n",
    "    resultM = thermPulse(freeEvo@pi2PhaseInjM@intState, t2, Omega0, delPrime, eta, nbarf, Ncut)\n",
    "    return rhoee(resultP) - rhoee(resultM)"
   ]
  },
  {
   "cell_type": "code",
   "execution_count": 3,
   "id": "83e86498",
   "metadata": {},
   "outputs": [],
   "source": [
    "def prob(n,nbar):\n",
    "    return 1.0/(nbar+1)*(nbar/(nbar+1))**n\n",
    "\n",
    "def expE(nbar, omega, Ncut):\n",
    "    expE = 0.0\n",
    "    #Ncut = 1001\n",
    "    for n in range(Ncut):\n",
    "        expE += prob(n,nbar)*hbar*omega*(0.5+n)\n",
    "    return expE\n",
    "\n",
    "def expEHeat(nbar0, nbarf, omega, Ncut):\n",
    "    return expE((nbar0+nbarf)/2.0, omega, Ncut)\n",
    "\n",
    "hbar = sp.constants.hbar\n",
    "h = sp.constants.h\n",
    "c = sp.constants.c\n",
    "e = sp.constants.e\n",
    "eVtoJ = 1.602176634e-19\n",
    "amutokg = 1.66053906660e-27\n",
    "\n",
    "omega = 2.0*np.pi*778e3 #Lange\n",
    "Omegarf = 2.0*np.pi*13e6 #Lange\n",
    "m = 170.936331517*amutokg\n",
    "beta = 0.0\n",
    "alpha = 5.89e-40 #J m^2 V^-2 E2 transition (Lange)\n",
    "nu0 = 688358979309307.82 #Hz E2 transition (Huntemann)"
   ]
  },
  {
   "cell_type": "code",
   "execution_count": 4,
   "id": "819718e6",
   "metadata": {},
   "outputs": [
    {
     "data": {
      "image/png": "[encoded data removed]",
      "text/plain": [
       "<Figure size 432x288 with 1 Axes>"
      ]
     },
     "metadata": {
      "needs_background": "light"
     },
     "output_type": "display_data"
    }
   ],
   "source": [
    "pts = 5\n",
    "nbarfs = np.linspace(0, 40, pts)\n",
    "Ncut = 1201\n",
    "nbar0 = 0.0\n",
    "shifts = -expEHeat(nbar0, nbarfs, omega, Ncut)*(3.0/(m*c**2) + (alpha/(h*nu0))*(3.0*m*Omegarf**2/(2.0*e**2)))\n",
    "plt.plot(nbarfs,shifts*nu0*1.0e3, label=\"Ncut=1201\")\n",
    "plt.xlabel(\"Final nbar\")\n",
    "plt.ylabel(\"Shift (mHz)\")\n",
    "plt.title(\"Converged 2nd Order Doppler and DC Stark Shift \")\n",
    "plt.show()"
   ]
  },
  {
   "cell_type": "code",
   "execution_count": 32,
   "id": "3afc4d6d",
   "metadata": {},
   "outputs": [],
   "source": [
    "def optimizeDelp(t1, T, delPrime0, eta, nbar0, nbarf, Ncut):\n",
    "    t2 = t1/3.0\n",
    "    Omega0 = np.pi/(2.0*t2)\n",
    "    psi0 = psi(0.0,1.0)\n",
    "    x0 = -0.1\n",
    "    x1 = 0.1\n",
    "    shift =sp.optimize.root_scalar(HRJumpThermErrSigFront, args=(psi0, t1, T, t2, delPrime0, Omega0, eta, 0.0, nbarf, Ncut), bracket=[x0,x1], xtol = 1e-10).root\n",
    "    dopStark = -nu0*expEHeat(nbar0, nbarf, omega, Ncut)*(3.0/(m*c**2) + (alpha/(h*nu0))*(3.0*m*Omegarf**2/(2.0*e**2)))\n",
    "    return delPrime0*(dopStark/shift)"
   ]
  },
  {
   "cell_type": "code",
   "execution_count": 33,
   "id": "44e8ef82",
   "metadata": {},
   "outputs": [
    {
     "data": {
      "text/plain": [
       "1.610268058411276"
      ]
     },
     "execution_count": 33,
     "metadata": {},
     "output_type": "execute_result"
    }
   ],
   "source": [
    "optimizeDelp(60e-3, 500e-3, 0.27*2.0*np.pi, 0.05, 0.0, 30.0, 401)"
   ]
  },
  {
   "cell_type": "code",
   "execution_count": 36,
   "id": "e6deb2e4",
   "metadata": {},
   "outputs": [
    {
     "name": "stdout",
     "output_type": "stream",
     "text": [
      "0.0\n",
      "6.9121996900227e-05\n",
      "10.0\n",
      "-0.000484559763518324\n",
      "20.0\n",
      "-0.0009858359562556116\n",
      "30.0\n",
      "-0.0014404487154438877\n",
      "40.0\n",
      "-0.001853118074442694\n"
     ]
    }
   ],
   "source": [
    "Ncut = 401\n",
    "pts = 5\n",
    "nbarfs = np.linspace(0, 40, pts)\n",
    "psi0 = psi(0.0, 1.0)\n",
    "delPrime = 0.25628*2.0*np.pi #hz\n",
    "t2 = 20.0e-3\n",
    "t1 = 3.0*t1\n",
    "Omega0 = np.pi/(2.0*t2) #hz\n",
    "T = 500.0e-3\n",
    "eta = 0.05\n",
    "#shifts1 = np.zeros(pts)\n",
    "shifts4 = np.zeros(pts)\n",
    "nbarfStars = nbarfs*(t1+T)/(t1+t2+T)\n",
    "nbar0s = nbarfs*t1/(t1+t2+T)\n",
    "\n",
    "tol = 1.0e-11\n",
    "x0 = -0.1\n",
    "x1 = 0.5\n",
    "guessTol = 0.1\n",
    "\n",
    "for ii in range(pts):\n",
    "    print(nbarfs[ii])\n",
    "    shifts4[ii] = sp.optimize.root_scalar(HRJumpThermErrSigFront, args=(psi0, t1, T, t2, delPrime, Omega0, eta, 0.0, nbarfs[ii], Ncut), bracket=[x0,x1], xtol = tol).root\n",
    "    print(shifts4[ii])\n",
    "    x0 = shifts4[ii] - guessTol\n",
    "    x1 = shifts4[ii] + guessTol\n",
    "    #print(x0,x1)"
   ]
  },
  {
   "cell_type": "code",
   "execution_count": 37,
   "id": "436735c1",
   "metadata": {},
   "outputs": [
    {
     "data": {
      "image/png": "[encoded data removed]",
      "text/plain": [
       "<Figure size 432x288 with 1 Axes>"
      ]
     },
     "metadata": {
      "needs_background": "light"
     },
     "output_type": "display_data"
    }
   ],
   "source": [
    "plt.plot(nbarfs,shifts*nu0*1.0e3, label=\"dop and stark\")\n",
    "#plt.plot(nbarfs, shifts1*1e3, label=\"HRS180 1+3\")\n",
    "plt.plot(nbarfs, shifts4*1e3, label=\"HRS180 3+1\")\n",
    "\n",
    "plt.xlabel(\"Final nbar\")\n",
    "plt.ylabel(\"Clock Shift (mHz)\")\n",
    "plt.legend()\n",
    "plt.show()"
   ]
  },
  {
   "cell_type": "code",
   "execution_count": 38,
   "id": "93321f0f",
   "metadata": {},
   "outputs": [
    {
     "data": {
      "text/plain": [
       "Text(0.5, 0, 'Final nbar')"
      ]
     },
     "execution_count": 38,
     "metadata": {},
     "output_type": "execute_result"
    },
    {
     "data": {
      "image/png": "[encoded data removed]",
      "text/plain": [
       "<Figure size 432x288 with 1 Axes>"
      ]
     },
     "metadata": {
      "needs_background": "light"
     },
     "output_type": "display_data"
    }
   ],
   "source": [
    "plt.plot(nbarfs, (shifts*nu0-shifts4)*1e3)\n",
    "plt.ylabel(\"residual shift (mHz)\")\n",
    "plt.xlabel(\"Final nbar\")"
   ]
  },
  {
   "cell_type": "code",
   "execution_count": 26,
   "id": "3baed4e7",
   "metadata": {},
   "outputs": [
    {
     "data": {
      "text/plain": [
       "Text(0, 0.5, '% error')"
      ]
     },
     "execution_count": 26,
     "metadata": {},
     "output_type": "execute_result"
    },
    {
     "data": {
      "image/png": "[encoded data removed]",
      "text/plain": [
       "<Figure size 432x288 with 1 Axes>"
      ]
     },
     "metadata": {
      "needs_background": "light"
     },
     "output_type": "display_data"
    }
   ],
   "source": [
    "plt.plot(nbarfs, (shifts1-shifts2)/shifts1*100)\n",
    "plt.xlabel(\"final nbar\")\n",
    "plt.ylabel(\"% error\")"
   ]
  },
  {
   "cell_type": "code",
   "execution_count": 35,
   "id": "515cb47b",
   "metadata": {},
   "outputs": [
    {
     "data": {
      "text/plain": [
       "0.25628212119914345"
      ]
     },
     "execution_count": 35,
     "metadata": {},
     "output_type": "execute_result"
    }
   ],
   "source": [
    "1.610268058411276/(2*np.pi)"
   ]
  },
  {
   "cell_type": "code",
   "execution_count": null,
   "id": "d4379e22",
   "metadata": {},
   "outputs": [],
   "source": []
  }
 ],
 "metadata": {
  "kernelspec": {
   "display_name": "Python 3 (ipykernel)",
   "language": "python",
   "name": "python3"
  },
  "language_info": {
   "codemirror_mode": {
    "name": "ipython",
    "version": 3
   },
   "file_extension": ".py",
   "mimetype": "text/x-python",
   "name": "python",
   "nbconvert_exporter": "python",
   "pygments_lexer": "ipython3",
   "version": "3.10.5"
  }
 },
 "nbformat": 4,
 "nbformat_minor": 5
}
