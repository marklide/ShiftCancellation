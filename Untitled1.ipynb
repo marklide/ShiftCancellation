{
 "cells": [
  {
   "cell_type": "code",
   "execution_count": 1,
   "id": "04c3f2c2",
   "metadata": {},
   "outputs": [
    {
     "name": "stdout",
     "output_type": "stream",
     "text": [
      "Give the Lamb-Dicke parameter:  0.01\n"
     ]
    },
    {
     "ename": "KeyboardInterrupt",
     "evalue": "Interrupted by user",
     "output_type": "error",
     "traceback": [
      "\u001b[1;31m---------------------------------------------------------------------------\u001b[0m",
      "\u001b[1;31mKeyboardInterrupt\u001b[0m                         Traceback (most recent call last)",
      "Input \u001b[1;32mIn [1]\u001b[0m, in \u001b[0;36m<cell line: 47>\u001b[1;34m()\u001b[0m\n\u001b[0;32m     36\u001b[0m cs2 \u001b[38;5;241m=\u001b[39m np\u001b[38;5;241m.\u001b[39mzeros((\u001b[38;5;241m1\u001b[39m,\u001b[38;5;241m1000\u001b[39m))\n\u001b[0;32m     41\u001b[0m \u001b[38;5;66;03m# Start of program.  Place the first line of your algorithm below\u001b[39;00m\n\u001b[0;32m     42\u001b[0m \n\u001b[0;32m     43\u001b[0m \n\u001b[0;32m     44\u001b[0m \n\u001b[0;32m     45\u001b[0m \n\u001b[0;32m     46\u001b[0m \u001b[38;5;66;03m#3D Thermal Distribution\u001b[39;00m\n\u001b[1;32m---> 47\u001b[0m wx, wy, wz \u001b[38;5;241m=\u001b[39m [\u001b[38;5;28mfloat\u001b[39m(x) \u001b[38;5;28;01mfor\u001b[39;00m x \u001b[38;5;129;01min\u001b[39;00m \u001b[38;5;28;43minput\u001b[39;49m\u001b[43m(\u001b[49m\u001b[38;5;124;43m'\u001b[39;49m\u001b[38;5;124;43mList wx,wy,wz:  \u001b[39;49m\u001b[38;5;124;43m'\u001b[39;49m\u001b[43m)\u001b[49m\u001b[38;5;241m.\u001b[39msplit(\u001b[38;5;124m'\u001b[39m\u001b[38;5;124m,\u001b[39m\u001b[38;5;124m'\u001b[39m)]\n\u001b[0;32m     48\u001b[0m nbx \u001b[38;5;241m=\u001b[39m \u001b[38;5;28mfloat\u001b[39m(\u001b[38;5;28minput\u001b[39m(\u001b[38;5;124m'\u001b[39m\u001b[38;5;124mList value for nbar_x:  \u001b[39m\u001b[38;5;124m'\u001b[39m))\n\u001b[0;32m     49\u001b[0m theta, phi \u001b[38;5;241m=\u001b[39m [\u001b[38;5;28mfloat\u001b[39m(x) \u001b[38;5;28;01mfor\u001b[39;00m x \u001b[38;5;129;01min\u001b[39;00m \u001b[38;5;28minput\u001b[39m(\u001b[38;5;124m'\u001b[39m\u001b[38;5;124mList theta and phi for incoming laser direction (radians):  \u001b[39m\u001b[38;5;124m'\u001b[39m)\u001b[38;5;241m.\u001b[39msplit(\u001b[38;5;124m'\u001b[39m\u001b[38;5;124m,\u001b[39m\u001b[38;5;124m'\u001b[39m)]\n",
      "File \u001b[1;32mD:\\Mark\\Python\\lib\\site-packages\\ipykernel\\kernelbase.py:1177\u001b[0m, in \u001b[0;36mKernel.raw_input\u001b[1;34m(self, prompt)\u001b[0m\n\u001b[0;32m   1173\u001b[0m \u001b[38;5;28;01mif\u001b[39;00m \u001b[38;5;129;01mnot\u001b[39;00m \u001b[38;5;28mself\u001b[39m\u001b[38;5;241m.\u001b[39m_allow_stdin:\n\u001b[0;32m   1174\u001b[0m     \u001b[38;5;28;01mraise\u001b[39;00m StdinNotImplementedError(\n\u001b[0;32m   1175\u001b[0m         \u001b[38;5;124m\"\u001b[39m\u001b[38;5;124mraw_input was called, but this frontend does not support input requests.\u001b[39m\u001b[38;5;124m\"\u001b[39m\n\u001b[0;32m   1176\u001b[0m     )\n\u001b[1;32m-> 1177\u001b[0m \u001b[38;5;28;01mreturn\u001b[39;00m \u001b[38;5;28;43mself\u001b[39;49m\u001b[38;5;241;43m.\u001b[39;49m\u001b[43m_input_request\u001b[49m\u001b[43m(\u001b[49m\n\u001b[0;32m   1178\u001b[0m \u001b[43m    \u001b[49m\u001b[38;5;28;43mstr\u001b[39;49m\u001b[43m(\u001b[49m\u001b[43mprompt\u001b[49m\u001b[43m)\u001b[49m\u001b[43m,\u001b[49m\n\u001b[0;32m   1179\u001b[0m \u001b[43m    \u001b[49m\u001b[38;5;28;43mself\u001b[39;49m\u001b[38;5;241;43m.\u001b[39;49m\u001b[43m_parent_ident\u001b[49m\u001b[43m[\u001b[49m\u001b[38;5;124;43m\"\u001b[39;49m\u001b[38;5;124;43mshell\u001b[39;49m\u001b[38;5;124;43m\"\u001b[39;49m\u001b[43m]\u001b[49m\u001b[43m,\u001b[49m\n\u001b[0;32m   1180\u001b[0m \u001b[43m    \u001b[49m\u001b[38;5;28;43mself\u001b[39;49m\u001b[38;5;241;43m.\u001b[39;49m\u001b[43mget_parent\u001b[49m\u001b[43m(\u001b[49m\u001b[38;5;124;43m\"\u001b[39;49m\u001b[38;5;124;43mshell\u001b[39;49m\u001b[38;5;124;43m\"\u001b[39;49m\u001b[43m)\u001b[49m\u001b[43m,\u001b[49m\n\u001b[0;32m   1181\u001b[0m \u001b[43m    \u001b[49m\u001b[43mpassword\u001b[49m\u001b[38;5;241;43m=\u001b[39;49m\u001b[38;5;28;43;01mFalse\u001b[39;49;00m\u001b[43m,\u001b[49m\n\u001b[0;32m   1182\u001b[0m \u001b[43m\u001b[49m\u001b[43m)\u001b[49m\n",
      "File \u001b[1;32mD:\\Mark\\Python\\lib\\site-packages\\ipykernel\\kernelbase.py:1219\u001b[0m, in \u001b[0;36mKernel._input_request\u001b[1;34m(self, prompt, ident, parent, password)\u001b[0m\n\u001b[0;32m   1216\u001b[0m             \u001b[38;5;28;01mbreak\u001b[39;00m\n\u001b[0;32m   1217\u001b[0m \u001b[38;5;28;01mexcept\u001b[39;00m \u001b[38;5;167;01mKeyboardInterrupt\u001b[39;00m:\n\u001b[0;32m   1218\u001b[0m     \u001b[38;5;66;03m# re-raise KeyboardInterrupt, to truncate traceback\u001b[39;00m\n\u001b[1;32m-> 1219\u001b[0m     \u001b[38;5;28;01mraise\u001b[39;00m \u001b[38;5;167;01mKeyboardInterrupt\u001b[39;00m(\u001b[38;5;124m\"\u001b[39m\u001b[38;5;124mInterrupted by user\u001b[39m\u001b[38;5;124m\"\u001b[39m) \u001b[38;5;28;01mfrom\u001b[39;00m \u001b[38;5;28mNone\u001b[39m\n\u001b[0;32m   1220\u001b[0m \u001b[38;5;28;01mexcept\u001b[39;00m \u001b[38;5;167;01mException\u001b[39;00m:\n\u001b[0;32m   1221\u001b[0m     \u001b[38;5;28mself\u001b[39m\u001b[38;5;241m.\u001b[39mlog\u001b[38;5;241m.\u001b[39mwarning(\u001b[38;5;124m\"\u001b[39m\u001b[38;5;124mInvalid Message:\u001b[39m\u001b[38;5;124m\"\u001b[39m, exc_info\u001b[38;5;241m=\u001b[39m\u001b[38;5;28;01mTrue\u001b[39;00m)\n",
      "\u001b[1;31mKeyboardInterrupt\u001b[0m: Interrupted by user"
     ]
    },
    {
     "data": {
      "image/png": "[encoded data removed]",
      "text/plain": [
       "<Figure size 432x288 with 1 Axes>"
      ]
     },
     "metadata": {
      "needs_background": "light"
     },
     "output_type": "display_data"
    }
   ],
   "source": [
    "# -*- coding: utf-8 -*-\n",
    "\"\"\"\n",
    "Name:\t\tWesley Hardin\n",
    "Assignment:\tCoupling Strength\n",
    "Date:\t\t\n",
    "\"\"\"\n",
    "\n",
    "# Imports\n",
    "import math\n",
    "import scipy\n",
    "import scipy.constants as sc\n",
    "from scipy import special\n",
    "import numpy as np\n",
    "import matplotlib.pyplot as plt\n",
    "from multiprocessing import Pool\n",
    "\n",
    "#graph params\n",
    "params = {'legend.fontsize': 'xx-large', 'figure.figsize': (15, 10), 'axes.labelsize': 'xx-large', 'axes.titlesize':'xx-large', 'xtick.labelsize':'large', 'ytick.labelsize':'large'}\n",
    "plt.style.use('default')\n",
    "plt.rcParams[\"axes.edgecolor\"] = \"black\"\n",
    "plt.rcParams[\"axes.linewidth\"] = 1\n",
    "#plt.rcParams['figure.facecolor'] = 'white'\n",
    "plt.rcParams['figure.dpi'] = 300\n",
    "plt.rcParams.update(params)\n",
    "plt.grid(True, which='major', axis='both')\n",
    "\n",
    "# Constants\n",
    "LD = float(input('Give the Lamb-Dicke parameter:  '))\n",
    "LDP=LD**2\n",
    "n = np.arange(0, 1000, 1)\n",
    "cs = np.zeros((1,1000))\n",
    "fac = np.zeros((1,1000))\n",
    "fac1 = np.zeros((1,1000))\n",
    "z = np.zeros((1,1000))\n",
    "z2 = np.zeros((1,1000))\n",
    "cs2 = np.zeros((1,1000))\n",
    "\n",
    "\n",
    "\n",
    "\n",
    "# Start of program.  Place the first line of your algorithm below\n",
    "\n",
    "\n",
    "\n",
    "\n",
    "#3D Thermal Distribution\n",
    "wx, wy, wz = [float(x) for x in input('List wx,wy,wz:  ').split(',')]\n",
    "nbx = float(input('List value for nbar_x:  '))\n",
    "theta, phi = [float(x) for x in input('List theta and phi for incoming laser direction (radians):  ').split(',')]\n",
    "omega0 = float(input('What is Omega_0:  '))\n",
    "\n",
    "\n",
    "#calculate LD in each dimension\n",
    "LDx = np.sin(theta*np.pi)*np.cos(phi*np.pi)*LD\n",
    "LDy = np.sin(theta*np.pi)*np.sin(phi*np.pi)*LD\n",
    "LDz = np.cos(theta*np.pi)*LD\n",
    "\n",
    "#Calculate nbar in each direction using wx*nx = wy*ny = wz*nz\n",
    "nby = wx*nbx/wy\n",
    "nbz = wx*nbx/wz\n",
    "\n",
    "\n",
    "#Thermal distribution\n",
    "delta_t = 200/omega0\n",
    "t = np.linspace(0, delta_t, 1000)\n",
    "n1 = np.arange(0,50,1)\n",
    "pDDt_mx = np.zeros((1,1000))\n",
    "pDDt_my = np.zeros((1,1000))\n",
    "pDDt_mz = np.zeros((1,1000))\n",
    "pDDt_m = np.zeros((1,1000))\n",
    "omega_nn = np.zeros((100,100,100))\n",
    "\n",
    "#thermal distribution probability\n",
    "\n",
    "for i in n1:\n",
    "    for j in n1:\n",
    "        for k in n1:\n",
    "            omega = omega0 * scipy.special.assoc_laguerre(LDx**2, i, k=0.0) * scipy.special.assoc_laguerre(LDy**2, j, k=0.0) * scipy.special.assoc_laguerre(LDz**2, k, k=0.0)\n",
    "            omega_nn[i,j,k] = omega_nn[i,j,k] + omega\n",
    "\n",
    "\n",
    "for a in n:\n",
    "    pDD = 0\n",
    "    for i in n1:\n",
    "        pnx = (1/(nbx+1)) * (nbx/(nbx+1))**i\n",
    "        for j in n1:\n",
    "            pny = (1/(nby+1)) * (nby/(nby+1))**j\n",
    "            for k in n1:\n",
    "                pnz = (1/(nbz+1)) * (nbz/(nbz+1))**k\n",
    "                \n",
    "                pn = pnx * pny * pnz\n",
    "                \n",
    "                pDD += pn * np.sin(omega_nn[i,j,k] * t[a])**2\n",
    "    pDDt_m[0,a] = pDDt_m[0,a] + pDD\n",
    "                \n",
    "    \n",
    "\n",
    "\n",
    "\n",
    "\n",
    "pDDt = pDDt_m.reshape(1000,)\n",
    "\n",
    "plt.title('Time Evolution of Excited State Population')\n",
    "plt.xlabel('Time')\n",
    "plt.ylabel('Excited State Population')\n",
    "plt.grid(True, which='major', axis='both')\n",
    "\n",
    "plt.plot(t, pDDt, color=\"darkred\", label = 'First Sideband')\n",
    "\n",
    "\n",
    "plt.show()"
   ]
  },
  {
   "cell_type": "code",
   "execution_count": null,
   "id": "7f720851",
   "metadata": {},
   "outputs": [],
   "source": []
  }
 ],
 "metadata": {
  "kernelspec": {
   "display_name": "Python 3 (ipykernel)",
   "language": "python",
   "name": "python3"
  },
  "language_info": {
   "codemirror_mode": {
    "name": "ipython",
    "version": 3
   },
   "file_extension": ".py",
   "mimetype": "text/x-python",
   "name": "python",
   "nbconvert_exporter": "python",
   "pygments_lexer": "ipython3",
   "version": "3.10.5"
  }
 },
 "nbformat": 4,
 "nbformat_minor": 5
}
