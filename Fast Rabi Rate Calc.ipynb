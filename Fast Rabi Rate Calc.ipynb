{
 "cells": [
  {
   "cell_type": "code",
   "execution_count": 1,
   "id": "ccd96657",
   "metadata": {},
   "outputs": [],
   "source": [
    "import numpy as np\n",
    "import scipy as sp\n",
    "import math\n",
    "import matplotlib.pyplot as plt\n",
    "from scipy.special import genlaguerre as L\n",
    "import time"
   ]
  },
  {
   "cell_type": "code",
   "execution_count": 178,
   "id": "4fd866ff",
   "metadata": {},
   "outputs": [],
   "source": [
    "def prob(n,nbar):\n",
    "    return 1.0/(nbar+1)*(nbar/(nbar+1))**n    #returns prob of being in state n given nbar\n",
    "\n",
    "def Omega(n,m,eta2):\n",
    "    return np.exp(-eta2/2.0) * eta2**(np.abs(m)/2.0) * (math.factorial(n)/math.factorial(n+m))**(np.sign(m)/2.0) \\\n",
    "        * L(n,np.abs(m))(eta2)              #returns unitless rabi rate of transition n -> n+m given Lamb-Dicke Parameter\n",
    "\n",
    "def carryOmega(n,eta2):\n",
    "    return np.exp(-eta2/2.0)* L(n,0)(eta2)\n",
    "\n",
    "def basicFastOmega(n,eta2):\n",
    "    return 1.0-eta2*n\n",
    "\n",
    "def fastOmega(n,eta2):\n",
    "    ncuts = np.array([23, 115, 275, 460, 550, 1000])\n",
    "    if n <= ncuts[0]:\n",
    "        return np.exp(-eta2/2.0)*(1.0 - n*eta2 )\n",
    "    elif ncuts[0]<n<=ncuts[1]:\n",
    "        return np.exp(-eta2/2.0)*(1.0 - n*eta2 + n*(n-1)/4.0*eta2**2)\n",
    "    elif ncuts[1]<n<=ncuts[2]:\n",
    "        return np.exp(-eta2/2.0)*(1.0 - n*eta2 + n*(n-1)/4.0*eta2**2 - n*(n-1)*(n-2)/36.0*eta2**3)\n",
    "    elif ncuts[2]<n<=ncuts[3]:\n",
    "        return np.exp(-eta2/2.0)*(1.0 - n*eta2 + n*(n-1)/4.0*eta2**2 - n*(n-1)*(n-2)/36.0*eta2**3 \\\n",
    "            + n*(n-1)*(n-2)*(n-3)/576.0*eta2**4)\n",
    "    elif ncuts[3]<n<=ncuts[4]:\n",
    "        return np.exp(-eta2/2.0)*(1.0 - n*eta2 + n*(n-1)/4.0*eta2**2 - n*(n-1)*(n-2)/36.0*eta2**3 \\\n",
    "            + n*(n-1)*(n-2)*(n-3)/576.0*eta2**4 - n*(n-1)*(n-2)*(n-3)*(n-4)/14400.0*eta2**5)\n",
    "    elif ncuts[4]<n<=ncuts[5]:\n",
    "        return np.exp(-eta2/2.0)*(1.0 - n*eta2 + n*(n-1)/4.0*eta2**2 - n*(n-1)*(n-2)/36.0*eta2**3 \\\n",
    "            + n*(n-1)*(n-2)*(n-3)/576.0*eta2**4 - n*(n-1)*(n-2)*(n-3)*(n-4)/14400.0*eta2**5 \\\n",
    "            + n*(n-1)*(n-2)*(n-3)*(n-4)*(n-5)/518400.0*eta2**6)\n",
    "    else: return 0.0"
   ]
  },
  {
   "cell_type": "code",
   "execution_count": 182,
   "id": "586d2ade",
   "metadata": {},
   "outputs": [
    {
     "name": "stdout",
     "output_type": "stream",
     "text": [
      "11.142390012741089\n",
      "0.0\n",
      "0.0045583248138427734\n"
     ]
    }
   ],
   "source": [
    "Ncut = 999\n",
    "omegas = np.zeros(Ncut)\n",
    "fastOmegas = np.zeros(Ncut)\n",
    "basicFastOmegas = np.zeros(Ncut)\n",
    "eta2 = 0.05**2\n",
    "start = time.time()\n",
    "for n in range(Ncut):\n",
    "    omegas[n] = carryOmega(n, eta2)\n",
    "    #fastOmegas[n] =fastOmega(n,eta)\n",
    "end = time.time()\n",
    "print(end-start)\n",
    "\n",
    "start = time.time()\n",
    "for n in range(Ncut):\n",
    "    #omegas[n] = Omega(n, 0 ,eta)\n",
    "    basicFastOmegas[n] = basicFastOmega(n,eta2)\n",
    "end = time.time()\n",
    "print(end-start)\n",
    "\n",
    "start = time.time()\n",
    "for n in range(Ncut):\n",
    "    #omegas[n] = Omega(n, 0 ,eta)\n",
    "    fastOmegas[n] = fastOmega(n,eta2)\n",
    "end = time.time()\n",
    "print(end-start)"
   ]
  },
  {
   "cell_type": "code",
   "execution_count": 183,
   "id": "f3313eee",
   "metadata": {},
   "outputs": [
    {
     "data": {
      "text/plain": [
       "[<matplotlib.lines.Line2D at 0x1881d39bf40>]"
      ]
     },
     "execution_count": 183,
     "metadata": {},
     "output_type": "execute_result"
    },
    {
     "data": {
      "image/png": "[encoded data removed]",
      "text/plain": [
       "<Figure size 432x288 with 1 Axes>"
      ]
     },
     "metadata": {
      "needs_background": "light"
     },
     "output_type": "display_data"
    }
   ],
   "source": [
    "ns = np.linspace(0,Ncut-1,Ncut)\n",
    "plt.plot(ns, np.abs(omegas))\n",
    "#plt.plot(ns, np.abs(basicFastOmegas))\n",
    "plt.plot(ns, np.abs(fastOmegas))"
   ]
  },
  {
   "cell_type": "code",
   "execution_count": 184,
   "id": "dee0f1c8",
   "metadata": {},
   "outputs": [
    {
     "data": {
      "text/plain": [
       "(-0.1, 0.1)"
      ]
     },
     "execution_count": 184,
     "metadata": {},
     "output_type": "execute_result"
    },
    {
     "data": {
      "image/png": "[encoded data removed]",
      "text/plain": [
       "<Figure size 432x288 with 1 Axes>"
      ]
     },
     "metadata": {
      "needs_background": "light"
     },
     "output_type": "display_data"
    }
   ],
   "source": [
    "#plt.plot(ns[:301], 100*(np.abs(omegas[:301])-np.abs(fastOmegas[:301]))/np.abs(omegas[:301]))\n",
    "plt.plot(ns, 100*(np.abs(omegas)-np.abs(fastOmegas))/np.abs(omegas))\n",
    "plt.grid()\n",
    "plt.ylim([-0.1,0.1])"
   ]
  },
  {
   "cell_type": "code",
   "execution_count": 171,
   "id": "e586b4c3",
   "metadata": {},
   "outputs": [
    {
     "data": {
      "text/plain": [
       "518400"
      ]
     },
     "execution_count": 171,
     "metadata": {},
     "output_type": "execute_result"
    }
   ],
   "source": [
    "math.factorial(6)**2"
   ]
  },
  {
   "cell_type": "code",
   "execution_count": null,
   "id": "4f9d6cf2",
   "metadata": {},
   "outputs": [],
   "source": []
  }
 ],
 "metadata": {
  "kernelspec": {
   "display_name": "Python 3 (ipykernel)",
   "language": "python",
   "name": "python3"
  },
  "language_info": {
   "codemirror_mode": {
    "name": "ipython",
    "version": 3
   },
   "file_extension": ".py",
   "mimetype": "text/x-python",
   "name": "python",
   "nbconvert_exporter": "python",
   "pygments_lexer": "ipython3",
   "version": "3.10.5"
  }
 },
 "nbformat": 4,
 "nbformat_minor": 5
}
