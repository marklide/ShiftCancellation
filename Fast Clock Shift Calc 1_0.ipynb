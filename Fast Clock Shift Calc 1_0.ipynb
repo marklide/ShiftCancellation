{
 "cells": [
  {
   "cell_type": "code",
   "execution_count": 14,
   "id": "fd4bdd87",
   "metadata": {},
   "outputs": [],
   "source": [
    "from qutip import *\n",
    "import numpy as np\n",
    "import scipy as sp\n",
    "import math\n",
    "import matplotlib.pyplot as plt\n",
    "from scipy.special import genlaguerre as L"
   ]
  },
  {
   "cell_type": "code",
   "execution_count": 15,
   "id": "b908a1c1",
   "metadata": {},
   "outputs": [],
   "source": [
    "def psi(g,e):\n",
    "    return np.array([g, e])\n",
    "\n",
    "def pulse(t, Omega0, delta, phi0, phi1):\n",
    "    Omega = np.sqrt(Omega0**2 + delta**2)\n",
    "    \n",
    "    if Omega == 0.0:\n",
    "        U = np.array([[1.0 , 0.0],\n",
    "                      [0.0 , 1.0]])\n",
    "        \n",
    "    else:\n",
    "        U = np.array([[np.cos(Omega*t/2.0) -(1.0j*delta/Omega)*np.sin(Omega*t/2.0), (1.0j*Omega0/Omega)*np.sin(Omega*t/2.0)],\n",
    "                     [(1.0j*Omega0/Omega)*np.sin(Omega*t/2.0) , np.cos(Omega*t/2.0) + (1.0j*delta/Omega)*np.sin(Omega*t/2.0)]])\n",
    "    \n",
    "    V1 = np.array([[1.0 , 0.0],\n",
    "                   [0.0 , np.exp(-1.0j*phi1)]])\n",
    "    \n",
    "    V0 = np.array([[1.0 , 0.0],\n",
    "                   [0.0 , np.exp(1.0j*phi0)]])\n",
    "    \n",
    "    return np.exp(1.0j*delta*t/2.0)*V1@U@V0\n",
    "\n",
    "def thermPulse(psi0, t, Omega0, delPrime, eta, nbar, Ncut): #1-dimensional\n",
    "    result = psi(0.0+0.0j,0.0+0.0j)\n",
    "    for n in range(Ncut):\n",
    "        result += prob(n,nbar)*pulse(t, Omega0*Omega(n,0,eta), delPrime, 0.0, 0.0)@psi0\n",
    "    return result\n",
    "\n",
    "def therm3DPulse(psi0, t, Omega0, delPrime, nbars, Omegas, Ncut):\n",
    "    nbarx = nbars[0]\n",
    "    nbary = nbars[1]\n",
    "    nbarz = nbars[2]\n",
    "    #Ncut = 100\n",
    "    result = psi(0.0+0.0j,0.0+0.0j)\n",
    "    for nx in range(Ncut):\n",
    "        Probx = prob(nx,nbarx)\n",
    "        for ny in range(Ncut):\n",
    "            Probxy = Probx*prob(ny,nbary)\n",
    "            for nz in range(Ncut):\n",
    "                result += Probxy*prob(nz,nbarz)*pulse(t, Omega0*Omegas[nx,ny,nz], delPrime, 0.0, 0.0)@psi0\n",
    "    return result\n",
    "\n",
    "def rhoee(psi):\n",
    "    return (abs(psi[1]))**2.0\n",
    "\n",
    "def rhogg(psi):\n",
    "    return (abs(psi[0]))**2.0\n",
    "\n",
    "def prob(n,nbar):\n",
    "    return 1.0/(nbar+1)*(nbar/(nbar+1))**n    #returns prob of being in state n given nbar\n",
    "\n",
    "def Omega(n,m,eta):\n",
    "    return np.exp(-eta**2/2.0) * eta**(np.abs(m)) * (math.factorial(n)/math.factorial(n+m))**(np.sign(m)/2.0) \\\n",
    "        * L(n,np.abs(m))(eta**2)              #returns unitless rabi rate of transition n -> n+m given Lamb-Dicke Parameter"
   ]
  },
  {
   "cell_type": "code",
   "execution_count": 16,
   "id": "44ffaaf3",
   "metadata": {},
   "outputs": [],
   "source": [
    "def HRerrSig(psi0, t1, T, t2, delta, delPrime, Omega01, Omega02):\n",
    "    pulse1 = pulse(t1, Omega01, delPrime, 0.0, 0.0)\n",
    "    pulse2 = pulse(t2, Omega02, delPrime, 0.0, 0.0)\n",
    "    freeEvo = pulse(T, 0.0, delta, 0.0, 0.0)\n",
    "    pi2PhaseInjP = pulse(0.0, 0.0, 0.0, 0.0, np.pi/2.0)\n",
    "    pi2PhaseInjM = pulse(0.0, 0.0, 0.0, 0.0, -np.pi/2.0)\n",
    "    \n",
    "    return rhoee(pulse2@freeEvo@pi2PhaseInjP@pulse1@psi0) - rhoee(pulse2@freeEvo@pi2PhaseInjM@pulse1@psi0)"
   ]
  },
  {
   "cell_type": "markdown",
   "id": "c0a49f1b",
   "metadata": {},
   "source": [
    "$\\delta_d = $ dark time detuning and $\\Delta$ = light shift estimate error (LSEE)"
   ]
  },
  {
   "cell_type": "code",
   "execution_count": 17,
   "id": "dca8b548",
   "metadata": {},
   "outputs": [],
   "source": [
    "def HRJumperrSig(deld, psi0, t1, T, t2, Delta, Omega01, Omega02, Omega03):\n",
    "    delPrime = deld - Delta\n",
    "    pulse1 = pulse(t1, Omega01, delPrime, 0.0, 0.0)\n",
    "    pulse2 = pulse(2.0*t2/3.0, -Omega02, delPrime, 0.0, 0.0)\n",
    "    pulse3 = pulse(t2/3.0, Omega03, delPrime, 0.0, 0.0)\n",
    "    pi2PhaseInjP = pulse(0.0, 0.0, 0.0, 0.0, np.pi/2.0)\n",
    "    pi2PhaseInjM = pulse(0.0, 0.0, 0.0, 0.0, -np.pi/2.0)\n",
    "    freeEvo = pulse(T, 0.0, deld, 0.0, 0.0)\n",
    "    return rhoee(pulse3@pulse2@pi2PhaseInjP@freeEvo@pulse1@psi0) - rhoee(pulse3@pulse2@pi2PhaseInjM@freeEvo@pulse1@psi0)\n",
    "\n",
    "def HRJumpThermErrSig3D(deld, psi0, t1, T, t2, Delta, Omega0s, nbars, Omegas, Ncut):\n",
    "    Omega01 = Omegas[0]\n",
    "    Omega02 = Omegas[1]\n",
    "    Omega03 = Omegas[2]\n",
    "    nbarx = nbars[0]\n",
    "    nbary = nbars[1]\n",
    "    nbarz = nbars[2]\n",
    "    delPrime = deld - Delta\n",
    "    freeEvo = pulse(T, 0.0, deld, 0.0, 0.0)\n",
    "    pi2PhaseInjP = pulse(0.0, 0.0, 0.0, 0.0, np.pi/2.0)\n",
    "    pi2PhaseInjM = pulse(0.0, 0.0, 0.0, 0.0, -np.pi/2.0)\n",
    "    intState = freeEvo@therm3DPulse(psi0, t1, Omega01, delPrime, nbars, Omegas, Ncut)\n",
    "    resultP = therm3DPulse(therm3DPulse(pi2PhaseInjP@intState, 2.0*t2/3.0, -Omega02, delPrime, nbars, Omegas, Ncut), t2/3.0, Omega03, delPrime, nbars, Omegas, Ncut)\n",
    "    resultM = therm3DPulse(therm3DPulse(pi2PhaseInjM@intState, 2.0*t2/3.0, -Omega02, delPrime, nbars, Omegas, Ncut), t2/3.0, Omega03, delPrime, nbars, Omegas, Ncut)\n",
    "    return rhoee(resultP) - rhoee(resultM)\n",
    "\n",
    "def HRJumpThermErrSig(deld, psi0, t1, T, t2, Delta, Omega0, eta, nbar0, nbardot, Ncut):\n",
    "    nbar = nbar0 + nbardot*T\n",
    "    delPrime = deld - Delta\n",
    "    freeEvo = pulse(T, 0.0, deld, 0.0, 0.0)\n",
    "    pi2PhaseInjP = pulse(0.0, 0.0, 0.0, 0.0, np.pi/2.0)\n",
    "    pi2PhaseInjM = pulse(0.0, 0.0, 0.0, 0.0, -np.pi/2.0)\n",
    "    #def thermPulse(psi0, t, Omega0, delPrime, eta, nbar, Ncut): #1-dimensional\n",
    "    intState = thermPulse(psi0, t1, Omega0, delPrime, eta, nbar0, Ncut)\n",
    "    resultP = thermPulse(thermPulse(freeEvo@pi2PhaseInjP@intState, 2.0*t2/3.0, -Omega0, delPrime, eta, nbar, Ncut), t2/3.0, Omega0, delPrime, eta, nbar, Ncut)\n",
    "    resultM = thermPulse(thermPulse(freeEvo@pi2PhaseInjM@intState, 2.0*t2/3.0, -Omega0, delPrime, eta, nbar, Ncut), t2/3.0, Omega0, delPrime, eta, nbar, Ncut)\n",
    "    return rhoee(resultP) - rhoee(resultM)\n",
    "\n",
    "def HRJumpThermErrSigTest(deld, psi0, t1, T, t2, Delta, Omega0, eta, nbar0, nbardot, Ncut):\n",
    "    nbar = nbar0 + nbardot*T\n",
    "    delPrime = deld - Delta\n",
    "    freeEvo = pulse(T, 0.0, deld, 0.0, 0.0)\n",
    "    pi2PhaseInjP = pulse(0.0, 0.0, 0.0, 0.0, np.pi/2.0)\n",
    "    pi2PhaseInjM = pulse(0.0, 0.0, 0.0, 0.0, -np.pi/2.0)\n",
    "    #def thermPulse(psi0, t, Omega0, delPrime, eta, nbar, Ncut): #1-dimensional\n",
    "    intState = thermPulse(psi0, t1, Omega0, delPrime, eta, nbar0, Ncut)\n",
    "    resultP = thermPulse(thermPulse(pi2PhaseInjP@freeEvo@intState, 2.0*t2/3.0, -Omega0, delPrime, eta, nbar, Ncut), t2/3.0, Omega0, delPrime, eta, nbar, Ncut)\n",
    "    resultM = thermPulse(thermPulse(pi2PhaseInjM@freeEvo@intState, 2.0*t2/3.0, -Omega0, delPrime, eta, nbar, Ncut), t2/3.0, Omega0, delPrime, eta, nbar, Ncut)\n",
    "    return rhoee(resultP) - rhoee(resultM)\n",
    "\n",
    "def RamseyErrSig(deld, psi0, t1, T, t2, Delta, Omega0, eta, nbar0, nbardot, Ncut):\n",
    "    nbar = nbar0 + nbardot*T\n",
    "    delPrime = deld - Delta\n",
    "    freeEvo = pulse(T, 0.0, deld, 0.0, 0.0)\n",
    "    pi2PhaseInjP = pulse(0.0, 0.0, 0.0, 0.0, np.pi/2.0)\n",
    "    pi2PhaseInjM = pulse(0.0, 0.0, 0.0, 0.0, -np.pi/2.0)\n",
    "    intState = thermPulse(psi0, t1, Omega0, delPrime, eta, nbar0, Ncut)\n",
    "    resultP = thermPulse(freeEvo@pi2PhaseInjP@intState, t2, Omega0, delPrime, eta, nbar, Ncut)\n",
    "    resultM = thermPulse(freeEvo@pi2PhaseInjM@intState, t2, Omega0, delPrime, eta, nbar, Ncut)\n",
    "    return rhoee(resultP) - rhoee(resultM)\n",
    "\n",
    "def RamseyErrSigTest(deld, psi0, t1, T, t2, Delta, Omega0, eta, nbar0, nbardot, Ncut):\n",
    "    nbar = nbar0 + nbardot*T\n",
    "    delPrime = deld - Delta\n",
    "    freeEvo = pulse(T, 0.0, deld, 0.0, 0.0)\n",
    "    pi2PhaseInjP = pulse(0.0, 0.0, 0.0, 0.0, np.pi/2.0)\n",
    "    pi2PhaseInjM = pulse(0.0, 0.0, 0.0, 0.0, -np.pi/2.0)\n",
    "    intState = thermPulse(psi0, t1, Omega0, delPrime, eta, nbar0, Ncut)\n",
    "    resultP = thermPulse(pi2PhaseInjP@freeEvo@intState, t2, Omega0, delPrime, eta, nbar, Ncut)\n",
    "    resultM = thermPulse(pi2PhaseInjM@freeEvo@intState, t2, Omega0, delPrime, eta, nbar, Ncut)\n",
    "    return rhoee(resultP) - rhoee(resultM)"
   ]
  },
  {
   "cell_type": "code",
   "execution_count": 21,
   "id": "e9d50cf6",
   "metadata": {},
   "outputs": [
    {
     "name": "stdout",
     "output_type": "stream",
     "text": [
      "0\n",
      "1\n",
      "2\n",
      "3\n",
      "4\n",
      "5\n",
      "6\n",
      "7\n",
      "8\n",
      "9\n",
      "10\n",
      "11\n",
      "12\n",
      "13\n",
      "14\n",
      "15\n",
      "16\n",
      "17\n",
      "18\n",
      "19\n",
      "20\n",
      "21\n",
      "22\n",
      "23\n",
      "24\n"
     ]
    }
   ],
   "source": [
    "Ncut = 201\n",
    "psi0 = psi(0.0, 1.0)\n",
    "Delta = 2.0*(2.0*np.pi)  #hz\n",
    "Omega0 = 10.0*(2.0*np.pi) #hz\n",
    "nbardot = 5.0 #n/sec\n",
    "nbar0 = 20.0\n",
    "t1 = np.pi/(2.0*Omega0)\n",
    "T = 50.0/Omega0\n",
    "t2 = 3.0*np.pi/(2.0*Omega0)\n",
    "eta = 0.05\n",
    "\n",
    "tol = 1.0e-10\n",
    "x0 = -0.01\n",
    "x1 = 0.05\n",
    "\n",
    "pts = 25\n",
    "delds = np.linspace(-20.0, 20.0, pts)\n",
    "errSigPts1 = np.zeros(pts,)\n",
    "errSigPts2 = np.zeros(pts,)\n",
    "RhoeeM = np.zeros(pts,)\n",
    "RhoeeP = np.zeros(pts,)\n",
    "dif = np.zeros(pts,)\n",
    "for ii in range(pts):\n",
    "    print(ii)\n",
    "    #HRJumpThermErrSig(deld, psi0, t1, T, t2, Delta, Omega0, eta, nbar0, nbardot, Ncut):\n",
    "    errSigPts1[ii] = HRJumpThermErrSig(delds[ii], psi0, t1, T, t2, Delta, Omega0, eta, nbar0, nbardot, Ncut)\n",
    "    errSigPts2[ii] = HRJumpThermErrSigTest(delds[ii], psi0, t1, T, t2, Delta, Omega0, eta, nbar0, nbardot, Ncut)\n"
   ]
  },
  {
   "cell_type": "code",
   "execution_count": 23,
   "id": "af075c1a",
   "metadata": {},
   "outputs": [
    {
     "data": {
      "image/png": "[encoded data removed]",
      "text/plain": [
       "<Figure size 432x288 with 1 Axes>"
      ]
     },
     "metadata": {
      "needs_background": "light"
     },
     "output_type": "display_data"
    }
   ],
   "source": [
    "plt.plot(delds,errSigPts1, label = \"err\")\n",
    "plt.plot(delds,errSigPts2, label = \"err\")\n",
    "#plt.plot([sp.optimize.root_scalar(HRJumpThermErrSig, args=(psi0, t1, T, t2, Delta, Omega0, eta, nbar0, nbardot, Ncut), bracket=[x0 ,x1]).root],[0.0],marker='x',markersize=10)\n",
    "plt.xlim([-20.0,20.0])\n",
    "#plt.ylim([-0.0001, 0.0001])\n",
    "plt.grid()\n",
    "plt.show()"
   ]
  },
  {
   "cell_type": "code",
   "execution_count": 48,
   "id": "d975ce77",
   "metadata": {},
   "outputs": [
    {
     "data": {
      "text/plain": [
       "      converged: True\n",
       "           flag: 'converged'\n",
       " function_calls: 5\n",
       "     iterations: 4\n",
       "           root: 0.0010609390442808224"
      ]
     },
     "execution_count": 48,
     "metadata": {},
     "output_type": "execute_result"
    }
   ],
   "source": [
    "sp.optimize.root_scalar(HRJumpThermErrSig, args=(psi0, t1, T, t2, Delta, Omega0, eta, nbar0, nbardot, Ncut), bracket=[-0.01,0.05], xtol = 1e-10)"
   ]
  },
  {
   "cell_type": "code",
   "execution_count": 27,
   "id": "14214688",
   "metadata": {},
   "outputs": [
    {
     "name": "stdout",
     "output_type": "stream",
     "text": [
      "0\n",
      "1\n",
      "2\n",
      "3\n",
      "4\n",
      "5\n",
      "0\n",
      "1\n",
      "2\n",
      "3\n",
      "4\n",
      "5\n"
     ]
    }
   ],
   "source": [
    "pts = 6\n",
    "Ncut = 201\n",
    "psi0 = psi(0.0, 1.0)\n",
    "Deltas = np.linspace(0.0,  1.0*(2.0*np.pi), 2) #hz\n",
    "Omega0 = 50.0*(2.0*np.pi) #hz\n",
    "nbardot = 5.0 #n/sec\n",
    "t1 = np.pi/(2.0*Omega0)\n",
    "T = 20.0/Omega0\n",
    "t2 = 3.0*np.pi/(2.0*Omega0)\n",
    "eta = 0.05\n",
    "nbars = np.linspace(0,50, pts)\n",
    "shifts1 = np.zeros((pts,np.size(Deltas)))\n",
    "shifts2 = np.zeros((pts,np.size(Deltas)))\n",
    "\n",
    "tol = 1.0e-11\n",
    "x0 = -0.01\n",
    "x1 = 0.05\n",
    "guessTol = 0.05\n",
    "\n",
    "#def HRJumpThermErrSig(deld, psi0, t1, T, t2, Delta, Omega0, eta, nbar, Ncut):\n",
    "\n",
    "for jj in range(np.size(Deltas)):\n",
    "    x0 = -0.01\n",
    "    x1 = 0.05\n",
    "    for ii in range(pts):\n",
    "        print(ii)\n",
    "        shifts1[ii][jj] = sp.optimize.root_scalar(HRJumpThermErrSig, args=(psi0, t1, T, t2, Deltas[jj], Omega0, eta, nbars[ii], nbardot, Ncut), bracket=[x0,x1], xtol = tol).root\n",
    "        shifts2[ii][jj] = sp.optimize.root_scalar(HRJumpThermErrSigTest, args=(psi0, t1, T, t2, Deltas[jj], Omega0, eta, nbars[ii], nbardot, Ncut), bracket=[x0,x1], xtol = tol).root\n",
    "        x0 = shifts1[ii][jj] - guessTol\n",
    "        x1 = shifts1[ii][jj] + guessTol"
   ]
  },
  {
   "cell_type": "code",
   "execution_count": 32,
   "id": "83873ba3",
   "metadata": {},
   "outputs": [
    {
     "data": {
      "text/plain": [
       "[<matplotlib.lines.Line2D at 0x18fc1e929b0>]"
      ]
     },
     "execution_count": 32,
     "metadata": {},
     "output_type": "execute_result"
    },
    {
     "data": {
      "image/png": "[encoded data removed]",
      "text/plain": [
       "<Figure size 432x288 with 1 Axes>"
      ]
     },
     "metadata": {
      "needs_background": "light"
     },
     "output_type": "display_data"
    }
   ],
   "source": [
    "#plt.plot(nbars,shifts1[:,0]*1.0e3)\n",
    "plt.plot(nbars,shifts1[:,1]*1.0e3)\n",
    "#plt.plot(nbars,shifts2[:,0]*1.0e3)\n",
    "plt.plot(nbars,shifts2[:,1]*1.0e3)\n",
    "#plt.plot(nbars,shifts[:,2]*1.0e3)\n",
    "#plt.plot(nbars,shifts[:,3]*1.0e3)\n",
    "#plt.plot(nbars,shifts[:,4]*1.0e3)"
   ]
  },
  {
   "cell_type": "code",
   "execution_count": 73,
   "id": "6f14417d",
   "metadata": {},
   "outputs": [
    {
     "data": {
      "text/plain": [
       "array([0.  , 1.25, 2.5 , 3.75, 5.  ])"
      ]
     },
     "execution_count": 73,
     "metadata": {},
     "output_type": "execute_result"
    }
   ],
   "source": [
    "Deltas/(2.*np.pi)"
   ]
  },
  {
   "cell_type": "code",
   "execution_count": 51,
   "id": "71f493ac",
   "metadata": {},
   "outputs": [
    {
     "name": "stdout",
     "output_type": "stream",
     "text": [
      "0\n",
      "1\n",
      "2\n",
      "3\n",
      "4\n",
      "0\n",
      "1\n",
      "2\n",
      "3\n",
      "4\n",
      "0\n",
      "1\n",
      "2\n",
      "3\n",
      "4\n"
     ]
    }
   ],
   "source": [
    "pts = 5\n",
    "Ncut = 201\n",
    "psi0 = psi(0.0, 1.0)\n",
    "Delta = 1.0*2.0*np.pi #hz\n",
    "Omega0 = 50.0*(2.0*np.pi) #hz\n",
    "nbardot = 5.0 #n/sec\n",
    "t1 = np.pi/(2.0*Omega0)\n",
    "Ts = np.array([20.0/Omega0, 40.0/Omega0, 60.0/Omega0])\n",
    "t2 = 3.0*np.pi/(2.0*Omega0)\n",
    "eta = 0.05\n",
    "nbars = np.linspace(0,50, pts)\n",
    "shifts1 = np.zeros((pts,np.size(Ts)))\n",
    "shifts2 = np.zeros((pts,np.size(Ts)))\n",
    "\n",
    "tol = 1.0e-11\n",
    "x0 = -0.01\n",
    "x1 = 0.05\n",
    "guessTol = 0.05\n",
    "\n",
    "for jj in range(np.size(Ts)):\n",
    "    for ii in range(pts):\n",
    "        print(ii)\n",
    "        shifts2[ii][jj] = sp.optimize.root_scalar(HRJumpThermErrSigTest, args=(psi0, t1, Ts[jj], t2, Delta, Omega0, eta, nbars[ii], nbardot, Ncut), bracket=[x0,x1], xtol = tol).root\n",
    "        shifts1[ii][jj] = sp.optimize.root_scalar(HRJumpThermErrSig, args=(psi0, t1, Ts[jj], t2, Delta, Omega0, eta, nbars[ii], nbardot, Ncut), bracket=[x0,x1], xtol = tol).root\n",
    "        x0 = shifts1[ii][jj] - guessTol\n",
    "        x1 = shifts1[ii][jj] + guessTol"
   ]
  },
  {
   "cell_type": "code",
   "execution_count": 52,
   "id": "a3103283",
   "metadata": {},
   "outputs": [
    {
     "data": {
      "text/plain": [
       "[<matplotlib.lines.Line2D at 0x18fc63efca0>]"
      ]
     },
     "execution_count": 52,
     "metadata": {},
     "output_type": "execute_result"
    },
    {
     "data": {
      "image/png": "[encoded data removed]",
      "text/plain": [
       "<Figure size 432x288 with 1 Axes>"
      ]
     },
     "metadata": {
      "needs_background": "light"
     },
     "output_type": "display_data"
    }
   ],
   "source": [
    "plt.plot(nbars,shifts1[:,0]*1.0e3)\n",
    "plt.plot(nbars,shifts1[:,1]*1.0e3)\n",
    "plt.plot(nbars,shifts1[:,2]*1.0e3)\n",
    "#plt.plot(nbars,shifts2[:,0]*1.0e3)\n",
    "#plt.plot(nbars,shifts2[:,1]*1.0e3)\n",
    "#plt.plot(nbars,shifts2[:,2]*1.0e3)"
   ]
  },
  {
   "cell_type": "code",
   "execution_count": 40,
   "id": "c8059921",
   "metadata": {},
   "outputs": [
    {
     "name": "stdout",
     "output_type": "stream",
     "text": [
      "0\n",
      "1\n",
      "2\n",
      "3\n",
      "4\n",
      "5\n",
      "6\n",
      "7\n",
      "8\n",
      "9\n"
     ]
    }
   ],
   "source": [
    "pts = 10\n",
    "Ncut = 201\n",
    "psi0 = psi(0.0, 1.0)\n",
    "Delta = 1.0*2.0*np.pi #hz\n",
    "Omega0 = 50.0*(2.0*np.pi) #hz\n",
    "nbardot = 5.0 #n/sec\n",
    "t1 = np.pi/(2.0*Omega0)\n",
    "T = 20.0/Omega0\n",
    "eta = 0.05\n",
    "nbars = np.linspace(0,50, pts)\n",
    "shifts3a = np.zeros(pts)\n",
    "shifts5a = np.zeros(pts)\n",
    "shifts7a = np.zeros(pts)\n",
    "shifts3b = np.zeros(pts)\n",
    "shifts5b = np.zeros(pts)\n",
    "shifts7b = np.zeros(pts)\n",
    "\n",
    "tol = 1.0e-11\n",
    "x0 = -0.1\n",
    "x1 = 0.5\n",
    "guessTol = 0.05\n",
    "\n",
    "#def HRJumpThermErrSig(deld, psi0, t1, T, t2, Delta, Omega0, eta, nbar, Ncut):\n",
    "\n",
    "for ii in range(pts):\n",
    "    print(ii)\n",
    "    shifts3a[ii] = sp.optimize.root_scalar(RamseyErrSig, args=(psi0, t1, T, 3.0*np.pi/(2.0*Omega0), Delta, Omega0, eta, nbars[ii], nbardot, Ncut), bracket=[x0,x1], xtol = tol).root\n",
    "    shifts3b[ii] = sp.optimize.root_scalar(RamseyErrSigTest, args=(psi0, t1, T, 3.0*np.pi/(2.0*Omega0), Delta, Omega0, eta, nbars[ii], nbardot, Ncut), bracket=[x0,x1], xtol = tol).root\n",
    "    x0 = shifts3a[ii] - guessTol\n",
    "    x1 = shifts3a[ii] + guessTol"
   ]
  },
  {
   "cell_type": "code",
   "execution_count": 53,
   "id": "3d6a2020",
   "metadata": {},
   "outputs": [
    {
     "name": "stdout",
     "output_type": "stream",
     "text": [
      "0\n",
      "1\n"
     ]
    },
    {
     "ename": "ValueError",
     "evalue": "f(a) and f(b) must have different signs",
     "output_type": "error",
     "traceback": [
      "\u001b[1;31m---------------------------------------------------------------------------\u001b[0m",
      "\u001b[1;31mValueError\u001b[0m                                Traceback (most recent call last)",
      "Input \u001b[1;32mIn [53]\u001b[0m, in \u001b[0;36m<cell line: 3>\u001b[1;34m()\u001b[0m\n\u001b[0;32m      3\u001b[0m \u001b[38;5;28;01mfor\u001b[39;00m ii \u001b[38;5;129;01min\u001b[39;00m \u001b[38;5;28mrange\u001b[39m(pts):\n\u001b[0;32m      4\u001b[0m     \u001b[38;5;28mprint\u001b[39m(ii)\n\u001b[1;32m----> 5\u001b[0m     shifts5a[ii] \u001b[38;5;241m=\u001b[39m \u001b[43msp\u001b[49m\u001b[38;5;241;43m.\u001b[39;49m\u001b[43moptimize\u001b[49m\u001b[38;5;241;43m.\u001b[39;49m\u001b[43mroot_scalar\u001b[49m\u001b[43m(\u001b[49m\u001b[43mRamseyErrSig\u001b[49m\u001b[43m,\u001b[49m\u001b[43m \u001b[49m\u001b[43margs\u001b[49m\u001b[38;5;241;43m=\u001b[39;49m\u001b[43m(\u001b[49m\u001b[43mpsi0\u001b[49m\u001b[43m,\u001b[49m\u001b[43m \u001b[49m\u001b[43mt1\u001b[49m\u001b[43m,\u001b[49m\u001b[43m \u001b[49m\u001b[43mT\u001b[49m\u001b[43m,\u001b[49m\u001b[43m \u001b[49m\u001b[38;5;241;43m5.0\u001b[39;49m\u001b[38;5;241;43m*\u001b[39;49m\u001b[43mnp\u001b[49m\u001b[38;5;241;43m.\u001b[39;49m\u001b[43mpi\u001b[49m\u001b[38;5;241;43m/\u001b[39;49m\u001b[43m(\u001b[49m\u001b[38;5;241;43m2.0\u001b[39;49m\u001b[38;5;241;43m*\u001b[39;49m\u001b[43mOmega0\u001b[49m\u001b[43m)\u001b[49m\u001b[43m,\u001b[49m\u001b[43m \u001b[49m\u001b[43mDelta\u001b[49m\u001b[43m,\u001b[49m\u001b[43m \u001b[49m\u001b[43mOmega0\u001b[49m\u001b[43m,\u001b[49m\u001b[43m \u001b[49m\u001b[43meta\u001b[49m\u001b[43m,\u001b[49m\u001b[43m \u001b[49m\u001b[43mnbars\u001b[49m\u001b[43m[\u001b[49m\u001b[43mii\u001b[49m\u001b[43m]\u001b[49m\u001b[43m,\u001b[49m\u001b[43m \u001b[49m\u001b[43mnbardot\u001b[49m\u001b[43m,\u001b[49m\u001b[43m \u001b[49m\u001b[43mNcut\u001b[49m\u001b[43m)\u001b[49m\u001b[43m,\u001b[49m\u001b[43m \u001b[49m\u001b[43mbracket\u001b[49m\u001b[38;5;241;43m=\u001b[39;49m\u001b[43m[\u001b[49m\u001b[43mx0\u001b[49m\u001b[43m,\u001b[49m\u001b[43mx1\u001b[49m\u001b[43m]\u001b[49m\u001b[43m,\u001b[49m\u001b[43m \u001b[49m\u001b[43mxtol\u001b[49m\u001b[43m \u001b[49m\u001b[38;5;241;43m=\u001b[39;49m\u001b[43m \u001b[49m\u001b[43mtol\u001b[49m\u001b[43m)\u001b[49m\u001b[38;5;241m.\u001b[39mroot\n\u001b[0;32m      6\u001b[0m     \u001b[38;5;66;03m#shifts5b[ii] = sp.optimize.root_scalar(RamseyErrSigTest, args=(psi0, t1, T, 5.0*np.pi/(2.0*Omega0), Delta, Omega0, eta, nbars[ii], nbardot, Ncut), bracket=[x0,x1], xtol = tol).root\u001b[39;00m\n\u001b[0;32m      7\u001b[0m     x0 \u001b[38;5;241m=\u001b[39m shifts5a[ii] \u001b[38;5;241m-\u001b[39m guessTol\n",
      "File \u001b[1;32mD:\\Mark\\Python\\lib\\site-packages\\scipy\\optimize\\_root_scalar.py:249\u001b[0m, in \u001b[0;36mroot_scalar\u001b[1;34m(f, args, method, bracket, fprime, fprime2, x0, x1, xtol, rtol, maxiter, options)\u001b[0m\n\u001b[0;32m    246\u001b[0m         \u001b[38;5;28;01mraise\u001b[39;00m \u001b[38;5;167;01mValueError\u001b[39;00m(\u001b[38;5;124m'\u001b[39m\u001b[38;5;124mBracket needed for \u001b[39m\u001b[38;5;132;01m%s\u001b[39;00m\u001b[38;5;124m'\u001b[39m \u001b[38;5;241m%\u001b[39m method)\n\u001b[0;32m    248\u001b[0m     a, b \u001b[38;5;241m=\u001b[39m bracket[:\u001b[38;5;241m2\u001b[39m]\n\u001b[1;32m--> 249\u001b[0m     r, sol \u001b[38;5;241m=\u001b[39m methodc(f, a, b, args\u001b[38;5;241m=\u001b[39margs, \u001b[38;5;241m*\u001b[39m\u001b[38;5;241m*\u001b[39mkwargs)\n\u001b[0;32m    250\u001b[0m \u001b[38;5;28;01melif\u001b[39;00m meth \u001b[38;5;129;01min\u001b[39;00m [\u001b[38;5;124m'\u001b[39m\u001b[38;5;124msecant\u001b[39m\u001b[38;5;124m'\u001b[39m]:\n\u001b[0;32m    251\u001b[0m     \u001b[38;5;28;01mif\u001b[39;00m x0 \u001b[38;5;129;01mis\u001b[39;00m \u001b[38;5;28;01mNone\u001b[39;00m:\n",
      "File \u001b[1;32mD:\\Mark\\Python\\lib\\site-packages\\scipy\\optimize\\_zeros_py.py:783\u001b[0m, in \u001b[0;36mbrentq\u001b[1;34m(f, a, b, args, xtol, rtol, maxiter, full_output, disp)\u001b[0m\n\u001b[0;32m    781\u001b[0m \u001b[38;5;28;01mif\u001b[39;00m rtol \u001b[38;5;241m<\u001b[39m _rtol:\n\u001b[0;32m    782\u001b[0m     \u001b[38;5;28;01mraise\u001b[39;00m \u001b[38;5;167;01mValueError\u001b[39;00m(\u001b[38;5;124m\"\u001b[39m\u001b[38;5;124mrtol too small (\u001b[39m\u001b[38;5;132;01m%g\u001b[39;00m\u001b[38;5;124m < \u001b[39m\u001b[38;5;132;01m%g\u001b[39;00m\u001b[38;5;124m)\u001b[39m\u001b[38;5;124m\"\u001b[39m \u001b[38;5;241m%\u001b[39m (rtol, _rtol))\n\u001b[1;32m--> 783\u001b[0m r \u001b[38;5;241m=\u001b[39m \u001b[43m_zeros\u001b[49m\u001b[38;5;241;43m.\u001b[39;49m\u001b[43m_brentq\u001b[49m\u001b[43m(\u001b[49m\u001b[43mf\u001b[49m\u001b[43m,\u001b[49m\u001b[43m \u001b[49m\u001b[43ma\u001b[49m\u001b[43m,\u001b[49m\u001b[43m \u001b[49m\u001b[43mb\u001b[49m\u001b[43m,\u001b[49m\u001b[43m \u001b[49m\u001b[43mxtol\u001b[49m\u001b[43m,\u001b[49m\u001b[43m \u001b[49m\u001b[43mrtol\u001b[49m\u001b[43m,\u001b[49m\u001b[43m \u001b[49m\u001b[43mmaxiter\u001b[49m\u001b[43m,\u001b[49m\u001b[43m \u001b[49m\u001b[43margs\u001b[49m\u001b[43m,\u001b[49m\u001b[43m \u001b[49m\u001b[43mfull_output\u001b[49m\u001b[43m,\u001b[49m\u001b[43m \u001b[49m\u001b[43mdisp\u001b[49m\u001b[43m)\u001b[49m\n\u001b[0;32m    784\u001b[0m \u001b[38;5;28;01mreturn\u001b[39;00m results_c(full_output, r)\n",
      "\u001b[1;31mValueError\u001b[0m: f(a) and f(b) must have different signs"
     ]
    }
   ],
   "source": [
    "x0 = -0.1\n",
    "x1 = 1.0\n",
    "for ii in range(pts):\n",
    "    print(ii)\n",
    "    shifts5a[ii] = sp.optimize.root_scalar(RamseyErrSig, args=(psi0, t1, T, 5.0*np.pi/(2.0*Omega0), Delta, Omega0, eta, nbars[ii], nbardot, Ncut), bracket=[x0,x1], xtol = tol).root\n",
    "    #shifts5b[ii] = sp.optimize.root_scalar(RamseyErrSigTest, args=(psi0, t1, T, 5.0*np.pi/(2.0*Omega0), Delta, Omega0, eta, nbars[ii], nbardot, Ncut), bracket=[x0,x1], xtol = tol).root\n",
    "    x0 = shifts5a[ii] - guessTol\n",
    "    x1 = shifts5a[ii] + guessTol"
   ]
  },
  {
   "cell_type": "code",
   "execution_count": 45,
   "id": "7455fd7f",
   "metadata": {},
   "outputs": [
    {
     "name": "stdout",
     "output_type": "stream",
     "text": [
      "0\n",
      "-1.007221350731692 0.9927786492683078\n",
      "1\n",
      "-1.0686664410751276 0.9313335589248724\n",
      "2\n",
      "-1.142741652889209 0.8572583471107912\n",
      "3\n",
      "-1.2332554922872094 0.7667445077127905\n",
      "4\n",
      "-1.3457887161865472 0.6542112838134528\n",
      "5\n",
      "-1.4885902883727917 0.5114097116272083\n",
      "6\n",
      "-1.6743400649882814 0.3256599350117185\n",
      "7\n",
      "-1.923862334448779 0.07613766555122103\n",
      "8\n",
      "-2.2740592639605577 -0.2740592639605577\n",
      "9\n",
      "-2.7964662141791248 -0.7964662141791246\n"
     ]
    }
   ],
   "source": [
    "x0 = -0.5\n",
    "x1 = 0.5\n",
    "guessTol = 1.0\n",
    "pts = 10\n",
    "for ii in range(pts):\n",
    "    print(ii)\n",
    "    shifts7a[ii] = sp.optimize.root_scalar(RamseyErrSig, args=(psi0, t1, T, 7.0*np.pi/(2.0*Omega0), Delta, Omega0, eta, nbars[ii], nbardot, Ncut), bracket=[x0,x1], xtol = tol).root\n",
    "    shifts7b[ii] = sp.optimize.root_scalar(RamseyErrSigTest, args=(psi0, t1, T, 7.0*np.pi/(2.0*Omega0), Delta, Omega0, eta, nbars[ii], nbardot, Ncut), bracket=[x0,x1], xtol = tol).root\n",
    "    x0 = shifts7a[ii] - guessTol\n",
    "    x1 = shifts7a[ii] + guessTol\n",
    "    print(x0, x1)"
   ]
  },
  {
   "cell_type": "code",
   "execution_count": 55,
   "id": "759c8faf",
   "metadata": {},
   "outputs": [
    {
     "ename": "ValueError",
     "evalue": "x and y must have same first dimension, but have shapes (5,) and (10,)",
     "output_type": "error",
     "traceback": [
      "\u001b[1;31m---------------------------------------------------------------------------\u001b[0m",
      "\u001b[1;31mValueError\u001b[0m                                Traceback (most recent call last)",
      "Input \u001b[1;32mIn [55]\u001b[0m, in \u001b[0;36m<cell line: 1>\u001b[1;34m()\u001b[0m\n\u001b[1;32m----> 1\u001b[0m \u001b[43mplt\u001b[49m\u001b[38;5;241;43m.\u001b[39;49m\u001b[43mplot\u001b[49m\u001b[43m(\u001b[49m\u001b[43mnbars\u001b[49m\u001b[43m,\u001b[49m\u001b[43m \u001b[49m\u001b[43mshifts3a\u001b[49m\u001b[43m)\u001b[49m\n\u001b[0;32m      2\u001b[0m \u001b[38;5;66;03m#plt.plot(nbars, shifts3b)\u001b[39;00m\n\u001b[0;32m      3\u001b[0m \u001b[38;5;66;03m#plt.plot(nbars, shifts5a)\u001b[39;00m\n\u001b[0;32m      4\u001b[0m \u001b[38;5;66;03m#plt.plot(nbars, shifts5b)\u001b[39;00m\n\u001b[0;32m      5\u001b[0m plt\u001b[38;5;241m.\u001b[39mplot(nbars, shifts7a)\n",
      "File \u001b[1;32mD:\\Mark\\Python\\lib\\site-packages\\matplotlib\\pyplot.py:2769\u001b[0m, in \u001b[0;36mplot\u001b[1;34m(scalex, scaley, data, *args, **kwargs)\u001b[0m\n\u001b[0;32m   2767\u001b[0m \u001b[38;5;129m@_copy_docstring_and_deprecators\u001b[39m(Axes\u001b[38;5;241m.\u001b[39mplot)\n\u001b[0;32m   2768\u001b[0m \u001b[38;5;28;01mdef\u001b[39;00m \u001b[38;5;21mplot\u001b[39m(\u001b[38;5;241m*\u001b[39margs, scalex\u001b[38;5;241m=\u001b[39m\u001b[38;5;28;01mTrue\u001b[39;00m, scaley\u001b[38;5;241m=\u001b[39m\u001b[38;5;28;01mTrue\u001b[39;00m, data\u001b[38;5;241m=\u001b[39m\u001b[38;5;28;01mNone\u001b[39;00m, \u001b[38;5;241m*\u001b[39m\u001b[38;5;241m*\u001b[39mkwargs):\n\u001b[1;32m-> 2769\u001b[0m     \u001b[38;5;28;01mreturn\u001b[39;00m gca()\u001b[38;5;241m.\u001b[39mplot(\n\u001b[0;32m   2770\u001b[0m         \u001b[38;5;241m*\u001b[39margs, scalex\u001b[38;5;241m=\u001b[39mscalex, scaley\u001b[38;5;241m=\u001b[39mscaley,\n\u001b[0;32m   2771\u001b[0m         \u001b[38;5;241m*\u001b[39m\u001b[38;5;241m*\u001b[39m({\u001b[38;5;124m\"\u001b[39m\u001b[38;5;124mdata\u001b[39m\u001b[38;5;124m\"\u001b[39m: data} \u001b[38;5;28;01mif\u001b[39;00m data \u001b[38;5;129;01mis\u001b[39;00m \u001b[38;5;129;01mnot\u001b[39;00m \u001b[38;5;28;01mNone\u001b[39;00m \u001b[38;5;28;01melse\u001b[39;00m {}), \u001b[38;5;241m*\u001b[39m\u001b[38;5;241m*\u001b[39mkwargs)\n",
      "File \u001b[1;32mD:\\Mark\\Python\\lib\\site-packages\\matplotlib\\axes\\_axes.py:1632\u001b[0m, in \u001b[0;36mAxes.plot\u001b[1;34m(self, scalex, scaley, data, *args, **kwargs)\u001b[0m\n\u001b[0;32m   1390\u001b[0m \u001b[38;5;124;03m\"\"\"\u001b[39;00m\n\u001b[0;32m   1391\u001b[0m \u001b[38;5;124;03mPlot y versus x as lines and/or markers.\u001b[39;00m\n\u001b[0;32m   1392\u001b[0m \n\u001b[1;32m   (...)\u001b[0m\n\u001b[0;32m   1629\u001b[0m \u001b[38;5;124;03m(``'green'``) or hex strings (``'#008000'``).\u001b[39;00m\n\u001b[0;32m   1630\u001b[0m \u001b[38;5;124;03m\"\"\"\u001b[39;00m\n\u001b[0;32m   1631\u001b[0m kwargs \u001b[38;5;241m=\u001b[39m cbook\u001b[38;5;241m.\u001b[39mnormalize_kwargs(kwargs, mlines\u001b[38;5;241m.\u001b[39mLine2D)\n\u001b[1;32m-> 1632\u001b[0m lines \u001b[38;5;241m=\u001b[39m [\u001b[38;5;241m*\u001b[39m\u001b[38;5;28mself\u001b[39m\u001b[38;5;241m.\u001b[39m_get_lines(\u001b[38;5;241m*\u001b[39margs, data\u001b[38;5;241m=\u001b[39mdata, \u001b[38;5;241m*\u001b[39m\u001b[38;5;241m*\u001b[39mkwargs)]\n\u001b[0;32m   1633\u001b[0m \u001b[38;5;28;01mfor\u001b[39;00m line \u001b[38;5;129;01min\u001b[39;00m lines:\n\u001b[0;32m   1634\u001b[0m     \u001b[38;5;28mself\u001b[39m\u001b[38;5;241m.\u001b[39madd_line(line)\n",
      "File \u001b[1;32mD:\\Mark\\Python\\lib\\site-packages\\matplotlib\\axes\\_base.py:312\u001b[0m, in \u001b[0;36m_process_plot_var_args.__call__\u001b[1;34m(self, data, *args, **kwargs)\u001b[0m\n\u001b[0;32m    310\u001b[0m     this \u001b[38;5;241m+\u001b[39m\u001b[38;5;241m=\u001b[39m args[\u001b[38;5;241m0\u001b[39m],\n\u001b[0;32m    311\u001b[0m     args \u001b[38;5;241m=\u001b[39m args[\u001b[38;5;241m1\u001b[39m:]\n\u001b[1;32m--> 312\u001b[0m \u001b[38;5;28;01myield from\u001b[39;00m \u001b[38;5;28;43mself\u001b[39;49m\u001b[38;5;241;43m.\u001b[39;49m\u001b[43m_plot_args\u001b[49m\u001b[43m(\u001b[49m\u001b[43mthis\u001b[49m\u001b[43m,\u001b[49m\u001b[43m \u001b[49m\u001b[43mkwargs\u001b[49m\u001b[43m)\u001b[49m\n",
      "File \u001b[1;32mD:\\Mark\\Python\\lib\\site-packages\\matplotlib\\axes\\_base.py:498\u001b[0m, in \u001b[0;36m_process_plot_var_args._plot_args\u001b[1;34m(self, tup, kwargs, return_kwargs)\u001b[0m\n\u001b[0;32m    495\u001b[0m     \u001b[38;5;28mself\u001b[39m\u001b[38;5;241m.\u001b[39maxes\u001b[38;5;241m.\u001b[39myaxis\u001b[38;5;241m.\u001b[39mupdate_units(y)\n\u001b[0;32m    497\u001b[0m \u001b[38;5;28;01mif\u001b[39;00m x\u001b[38;5;241m.\u001b[39mshape[\u001b[38;5;241m0\u001b[39m] \u001b[38;5;241m!=\u001b[39m y\u001b[38;5;241m.\u001b[39mshape[\u001b[38;5;241m0\u001b[39m]:\n\u001b[1;32m--> 498\u001b[0m     \u001b[38;5;28;01mraise\u001b[39;00m \u001b[38;5;167;01mValueError\u001b[39;00m(\u001b[38;5;124mf\u001b[39m\u001b[38;5;124m\"\u001b[39m\u001b[38;5;124mx and y must have same first dimension, but \u001b[39m\u001b[38;5;124m\"\u001b[39m\n\u001b[0;32m    499\u001b[0m                      \u001b[38;5;124mf\u001b[39m\u001b[38;5;124m\"\u001b[39m\u001b[38;5;124mhave shapes \u001b[39m\u001b[38;5;132;01m{\u001b[39;00mx\u001b[38;5;241m.\u001b[39mshape\u001b[38;5;132;01m}\u001b[39;00m\u001b[38;5;124m and \u001b[39m\u001b[38;5;132;01m{\u001b[39;00my\u001b[38;5;241m.\u001b[39mshape\u001b[38;5;132;01m}\u001b[39;00m\u001b[38;5;124m\"\u001b[39m)\n\u001b[0;32m    500\u001b[0m \u001b[38;5;28;01mif\u001b[39;00m x\u001b[38;5;241m.\u001b[39mndim \u001b[38;5;241m>\u001b[39m \u001b[38;5;241m2\u001b[39m \u001b[38;5;129;01mor\u001b[39;00m y\u001b[38;5;241m.\u001b[39mndim \u001b[38;5;241m>\u001b[39m \u001b[38;5;241m2\u001b[39m:\n\u001b[0;32m    501\u001b[0m     \u001b[38;5;28;01mraise\u001b[39;00m \u001b[38;5;167;01mValueError\u001b[39;00m(\u001b[38;5;124mf\u001b[39m\u001b[38;5;124m\"\u001b[39m\u001b[38;5;124mx and y can be no greater than 2D, but have \u001b[39m\u001b[38;5;124m\"\u001b[39m\n\u001b[0;32m    502\u001b[0m                      \u001b[38;5;124mf\u001b[39m\u001b[38;5;124m\"\u001b[39m\u001b[38;5;124mshapes \u001b[39m\u001b[38;5;132;01m{\u001b[39;00mx\u001b[38;5;241m.\u001b[39mshape\u001b[38;5;132;01m}\u001b[39;00m\u001b[38;5;124m and \u001b[39m\u001b[38;5;132;01m{\u001b[39;00my\u001b[38;5;241m.\u001b[39mshape\u001b[38;5;132;01m}\u001b[39;00m\u001b[38;5;124m\"\u001b[39m)\n",
      "\u001b[1;31mValueError\u001b[0m: x and y must have same first dimension, but have shapes (5,) and (10,)"
     ]
    },
    {
     "data": {
      "image/png": "[encoded data removed]",
      "text/plain": [
       "<Figure size 432x288 with 1 Axes>"
      ]
     },
     "metadata": {
      "needs_background": "light"
     },
     "output_type": "display_data"
    }
   ],
   "source": [
    "plt.plot(nbars, shifts3a)\n",
    "#plt.plot(nbars, shifts3b)\n",
    "#plt.plot(nbars, shifts5a)\n",
    "#plt.plot(nbars, shifts5b)\n",
    "plt.plot(nbars, shifts7a)\n",
    "#plt.plot(nbars, shifts7b)"
   ]
  },
  {
   "cell_type": "code",
   "execution_count": 54,
   "id": "803ce34b",
   "metadata": {},
   "outputs": [
    {
     "data": {
      "text/plain": [
       "-0.0035167605871094846"
      ]
     },
     "execution_count": 54,
     "metadata": {},
     "output_type": "execute_result"
    }
   ],
   "source": [
    "shifts3a[0]"
   ]
  },
  {
   "cell_type": "code",
   "execution_count": null,
   "id": "6ca9af29",
   "metadata": {},
   "outputs": [],
   "source": []
  }
 ],
 "metadata": {
  "kernelspec": {
   "display_name": "Python 3 (ipykernel)",
   "language": "python",
   "name": "python3"
  },
  "language_info": {
   "codemirror_mode": {
    "name": "ipython",
    "version": 3
   },
   "file_extension": ".py",
   "mimetype": "text/x-python",
   "name": "python",
   "nbconvert_exporter": "python",
   "pygments_lexer": "ipython3",
   "version": "3.10.5"
  }
 },
 "nbformat": 4,
 "nbformat_minor": 5
}
