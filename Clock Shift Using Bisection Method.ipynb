{
 "cells": [
  {
   "cell_type": "code",
   "execution_count": null,
   "id": "18d7c8d0",
   "metadata": {},
   "outputs": [],
   "source": [
    "from qutip import *\n",
    "import numpy as np\n",
    "import scipy as sp\n",
    "import math\n",
    "import matplotlib.pyplot as plt"
   ]
  },
  {
   "cell_type": "code",
   "execution_count": null,
   "id": "429f444f",
   "metadata": {},
   "outputs": [],
   "source": [
    "def psi(g,e):\n",
    "    return np.array([g, e])\n",
    "\n",
    "#def pulse(t, Omega0, delPrime):\n",
    "#    Omega = np.sqrt(Omega0**2 + delPrime**2)\n",
    "#    \n",
    "#    return np.array([[np.cos(Omega*t/2.0) -(1.0j*delPrime/Omega)*np.sin(Omega*t/2.0), (1.0j*Omega0/Omega)*np.sin(Omega*t/2.0)],\n",
    "#             [(1.0j*Omega0/Omega)*np.sin(Omega*t/2.0) , np.cos(Omega*t/2.0) + (1.0j*delPrime/Omega)*np.sin(Omega*t/2.0)]])\n",
    "\n",
    "def pulse(t, Omega0, delta, phi0, phi1):\n",
    "    Omega = np.sqrt(Omega0**2 + delta**2)\n",
    "    \n",
    "    if Omega == 0.0:\n",
    "        U = np.array([[1.0 , 0.0],\n",
    "                      [0.0 , 1.0]])\n",
    "    else:\n",
    "        U = np.array([[np.cos(Omega*t/2.0) -(1.0j*delta/Omega)*np.sin(Omega*t/2.0), (1.0j*Omega0/Omega)*np.sin(Omega*t/2.0)],\n",
    "                     [(1.0j*Omega0/Omega)*np.sin(Omega*t/2.0) , np.cos(Omega*t/2.0) + (1.0j*delta/Omega)*np.sin(Omega*t/2.0)]])\n",
    "    \n",
    "    V1 = np.array([[1.0 , 0.0],\n",
    "                   [0.0 , np.exp(-1.0j*phi1)]])\n",
    "    \n",
    "    V0 = np.array([[1.0 , 0.0],\n",
    "                   [0.0 , np.exp(1.0j*phi0)]])\n",
    "    \n",
    "    return np.exp(1.0j*delta*t/2.0)*V1@U@V0\n",
    "\n",
    "def rhoee(psi):\n",
    "    return (abs(psi[1]))**2.0\n",
    "\n",
    "def rhogg(psi):\n",
    "    return (abs(psi[0]))**2.0\n",
    "\n",
    "def phi(psi):\n",
    "    phi0 = math.atan2(np.real(psi[0]),np.imag(psi[0]))\n",
    "    phi1 = math.atan2(np.real(psi[1]),np.imag(psi[1]))\n",
    "    return (phi0-phi1)\n",
    "\n",
    "def blochVec(psi):\n",
    "    w = rhogg(psi) - rhoee(psi)  #pointed up is ground state\n",
    "    if abs(w)>1.0:\n",
    "        w = float(round(w))\n",
    "    x = np.sin(np.arccos(w))*np.cos(phi(psi))\n",
    "    y = np.sin(np.arccos(w))*np.sin(phi(psi))\n",
    "    return np.array([x,y,w])\n",
    "\n",
    "def ramsey(psi0, t, delta, delPrime, Omega0):\n",
    "    #psi0 = initial state vector\n",
    "    #t = dark time\n",
    "    #delta = dark time detuning\n",
    "    #delprime = pulse detuning\n",
    "    #Omega0 = rabi freq.\n",
    "    pi2Pulse = pulse(np.pi/(2.0*Omega0), Omega0, delPrime, 0.0, 0.0)\n",
    "    freeEvo = pulse(t, 0.0, delta, 0.0, 0.0)\n",
    "    \n",
    "    return pi2Pulse@freeEvo@pi2Pulse@psi0\n",
    "\n",
    "def ramseyInjP(psi0, t, delta, delPrime, Omega0):\n",
    "    pi2Pulse = pulse(np.pi/(2.0*Omega0), Omega0, delPrime, 0.0, 0.0)\n",
    "    freeEvo = pulse(t, 0.0, delta, 0.0, 0.0)\n",
    "    pi2PhaseInj = pulse(0.0, 0.0, 0.0, 0.0, np.pi/2.0) \n",
    "    \n",
    "    return pi2Pulse@pi2PhaseInj@freeEvo@pi2Pulse@psi0\n",
    "\n",
    "def ramseyInjM(psi0, t, delta, delPrime, Omega0):\n",
    "    pi2Pulse = pulse(np.pi/(2.0*Omega0), Omega0, delPrime, 0.0, 0.0)\n",
    "    freeEvo = pulse(t, 0.0, delta, 0.0, 0.0)\n",
    "    pi2PhaseInj = pulse(0.0, 0.0, 0.0, 0.0, -np.pi/2.0) \n",
    "    \n",
    "    return pi2Pulse@pi2PhaseInj@freeEvo@pi2Pulse@psi0\n",
    "\n",
    "def errSig(psi0, t, delta, delPrime, Omega0):\n",
    "    RhoeeP = rhoee(ramseyInjP(psi0,t,delta,delPrime,Omega0))\n",
    "    RhoeeM = rhoee(ramseyInjM(psi0,t,delta,delPrime,Omega0))\n",
    "    return RhoeeP - RhoeeM\n",
    "\n",
    "def errSig1(psi0, t, delta, delPrime, Omega0):\n",
    "    RhoeeP = rhoee(ramseyInjP(psi0,t,delta,delta+delPrime,Omega0))\n",
    "    RhoeeM = rhoee(ramseyInjM(psi0,t,delta,delta+delPrime,Omega0))\n",
    "    return RhoeeP - RhoeeM"
   ]
  },
  {
   "cell_type": "markdown",
   "id": "aed7db2b",
   "metadata": {},
   "source": [
    "As in the notes from Friday 10/28, I'll call the detuning during the pulse $\\delta'$ (delp), the detuning during the dark time $\\delta_d$ (deld), and the difference between them $\\Delta = \\delta_d - \\delta'$ (Delta) as in the HRS paper.\n",
    "\n",
    "For a given $\\Delta$, I'll scan $\\delta'$ and $\\delta_d$ common mode such that $\\delta'(t) = \\delta_d(t) - \\Delta$ and plot the error signal against $\\delta_d$ for a given $\\Omega_0$ and $T$ to find the zero."
   ]
  },
  {
   "cell_type": "code",
   "execution_count": 86,
   "id": "c39e5e4a",
   "metadata": {},
   "outputs": [],
   "source": [
    "def validate_interval(psi0, t, Delta, Omega0, x0, x1):\n",
    "    return errSig(psi0, t, x0, x0+Delta, Omega0) * errSig(psi0, t, x1, x1+Delta, Omega0) < 0\n",
    "\n",
    "def error_bound(a, b, err):\n",
    "    n = np.log((b - a) / err) / np.log(2)\n",
    "    return int(np.ceil(n))\n",
    "\n",
    "def findRoot(psi0, t, Delta, Omega0, tol):\n",
    "    #find initial interval (will only work for small Delta):\n",
    "    \n",
    "    #pts = 100\n",
    "    #delds = np.linspace(-5.0, 5.0, pts)\n",
    "    #errSigPts = [0.0]*pts\n",
    "    #for ii in range(pts):\n",
    "    #    errSigPts[ii] = errSig(psi0, t, delds[ii], Delta+delds[ii], Omega0)\n",
    "    #x0 = delds[np.argmax(errSigPts)]\n",
    "    #x1= delds[np.argmin(errSigPts)]\n",
    "\n",
    "    #I could test if the above printed x0 and x1 satisfy x0 < x1 and if they don,t move one of them over to the next \n",
    "    #local extremum. A guess of what the clock shift should be will tell you which x to move and which direction.\n",
    "\n",
    "    #x0 = -t*Omega0*Delta/2.0 - 0.5*np.abs(t*Omega0*Delta/2.0) - 0.01\n",
    "    #x1 = -t*Omega0*Delta/2.0 + 0.5*np.abs(t*Omega0*Delta/2.0) + 0.01\n",
    "    \n",
    "    x0 = -2.0*Delta/(Omega0*t) - 0.5*np.abs(2.0*Delta/(Omega0*t)) - 0.01\n",
    "    x1 = -2.0*Delta/(Omega0*t) + 0.5*np.abs(2.0*Delta/(Omega0*t)) + 0.01\n",
    "    \n",
    "    #x0 = -Delta/(Omega0*t) - 0.5*np.abs(Delta/(Omega0*t)) - 0.01\n",
    "    #x1 = -Delta/(Omega0*t) + 0.5*np.abs(Delta/(Omega0*t)) + 0.01\n",
    "    #print(x0,x1)\n",
    "    \n",
    "    if not validate_interval(psi0, t, Delta, Omega0, x0, x1):\n",
    "        print(\"not valid interval\")\n",
    "        return\n",
    "    \n",
    "    n = error_bound(x0, x1, tol)\n",
    "    counter = 1\n",
    "    \n",
    "    while True:\n",
    "        root_approx = x0 + ((x1 - x0) / 2.0) \n",
    "        y = errSig(psi0, t, root_approx, root_approx+Delta, Omega0)\n",
    "        if -tol < y < tol:\n",
    "            return root_approx\n",
    "        if validate_interval(psi0, t, Delta, Omega0, x0, root_approx):\n",
    "            x1 = root_approx\n",
    "        else:\n",
    "            x0 = root_approx\n",
    "        counter +=1"
   ]
  },
  {
   "cell_type": "code",
   "execution_count": 88,
   "id": "2d1acae4",
   "metadata": {},
   "outputs": [
    {
     "data": {
      "image/png": "[encoded data removed]",
      "text/plain": [
       "<Figure size 432x288 with 1 Axes>"
      ]
     },
     "metadata": {
      "needs_background": "light"
     },
     "output_type": "display_data"
    }
   ],
   "source": [
    "psi0 = psi(0.0, 1.0)\n",
    "Delta = 0.5\n",
    "Omega0 = 1.0\n",
    "t = 20.0\n",
    "tol = 1.0e-10\n",
    "\n",
    "pts = 1000\n",
    "delds = np.linspace(-0.5, 0.5, pts)\n",
    "errSigPts = [0.0]*pts\n",
    "\n",
    "for ii in range(pts):\n",
    "    #def errSig(psi0, t, dark detuning, pulse detuning, Omega0):\n",
    "    errSigPts[ii] = errSig(psi0, t, delds[ii], Delta+delds[ii], Omega0)\n",
    "    \n",
    "plt.plot(delds, errSigPts)\n",
    "plt.xlabel('$\\delta_d$')\n",
    "plt.ylabel('Error Signal')\n",
    "plt.plot([0.0], [0.0], marker=\"x\", markersize=10)\n",
    "plt.plot([findRoot(psi0, t, Delta, Omega0, tol)], [0.0], marker=\"x\", markersize=10)\n",
    "plt.show()"
   ]
  },
  {
   "cell_type": "code",
   "execution_count": 90,
   "id": "448db2ea",
   "metadata": {},
   "outputs": [
    {
     "data": {
      "image/png": "[encoded data removed]",
      "text/plain": [
       "<Figure size 432x288 with 1 Axes>"
      ]
     },
     "metadata": {
      "needs_background": "light"
     },
     "output_type": "display_data"
    }
   ],
   "source": [
    "psi0 = psi(0.0, 1.0)\n",
    "t = 20.0\n",
    "Omega0 = 1.0\n",
    "tol = 1.0e-7\n",
    "\n",
    "pts = 101\n",
    "Deltas = np.linspace(-0.3, 0.3, pts)\n",
    "clockShifts = [0.0]*pts\n",
    "\n",
    "for ii in range(pts):\n",
    "    clockShifts[ii] = t*findRoot(psi0, t, Deltas[ii], Omega0, tol)\n",
    "    \n",
    "plt.plot(Deltas, clockShifts)\n",
    "plt.xlabel(\"$\\Delta / \\Omega_0$ (LSEE)\")\n",
    "plt.ylabel('Clock Shift*T')\n",
    "plt.show()"
   ]
  },
  {
   "cell_type": "code",
   "execution_count": null,
   "id": "7bc74894",
   "metadata": {},
   "outputs": [],
   "source": []
  }
 ],
 "metadata": {
  "kernelspec": {
   "display_name": "Python 3 (ipykernel)",
   "language": "python",
   "name": "python3"
  },
  "language_info": {
   "codemirror_mode": {
    "name": "ipython",
    "version": 3
   },
   "file_extension": ".py",
   "mimetype": "text/x-python",
   "name": "python",
   "nbconvert_exporter": "python",
   "pygments_lexer": "ipython3",
   "version": "3.10.5"
  }
 },
 "nbformat": 4,
 "nbformat_minor": 5
}
