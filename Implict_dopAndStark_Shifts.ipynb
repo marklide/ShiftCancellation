{
 "cells": [
  {
   "cell_type": "code",
   "execution_count": 1,
   "id": "522d6ef4",
   "metadata": {},
   "outputs": [],
   "source": [
    "from qutip import *\n",
    "import numpy as np\n",
    "import scipy as sp\n",
    "import math\n",
    "import matplotlib.pyplot as plt\n",
    "from scipy.special import genlaguerre as L"
   ]
  },
  {
   "cell_type": "code",
   "execution_count": 9,
   "id": "6cfd7c3d",
   "metadata": {},
   "outputs": [],
   "source": [
    "hbar = sp.constants.hbar\n",
    "h = sp.constants.h\n",
    "c = sp.constants.c\n",
    "e = sp.constants.e\n",
    "eVtoJ = 1.602176634e-19\n",
    "amutokg = 1.66053906660e-27"
   ]
  },
  {
   "cell_type": "code",
   "execution_count": 2,
   "id": "5a91797f",
   "metadata": {},
   "outputs": [],
   "source": [
    "def psi(g,e):\n",
    "    return np.array([g, e])\n",
    "\n",
    "def pulse(t, Omega0, delta, phi0, phi1):\n",
    "    Omega = np.sqrt(Omega0**2 + delta**2)\n",
    "    \n",
    "    if Omega == 0.0:\n",
    "        U = np.array([[1.0 , 0.0],\n",
    "                      [0.0 , 1.0]])\n",
    "        \n",
    "    else:\n",
    "        U = np.array([[np.cos(Omega*t/2.0) -(1.0j*delta/Omega)*np.sin(Omega*t/2.0), (1.0j*Omega0/Omega)*np.sin(Omega*t/2.0)],\n",
    "                     [(1.0j*Omega0/Omega)*np.sin(Omega*t/2.0) , np.cos(Omega*t/2.0) + (1.0j*delta/Omega)*np.sin(Omega*t/2.0)]])\n",
    "    \n",
    "    V1 = np.array([[1.0 , 0.0],\n",
    "                   [0.0 , np.exp(-1.0j*phi1)]])\n",
    "    \n",
    "    V0 = np.array([[1.0 , 0.0],\n",
    "                   [0.0 , np.exp(1.0j*phi0)]])\n",
    "    \n",
    "    return np.exp(1.0j*delta*t/2.0)*V1@U@V0\n",
    "\n",
    "def thermPulse(psi0, t, Omega0, delPrime, eta, nbar, Ncut): #1-dimensional\n",
    "    result = psi(0.0+0.0j,0.0+0.0j)\n",
    "    for n in range(Ncut):\n",
    "        result += prob(n,nbar)*pulse(t, Omega0*Omega(n,0,eta), delPrime, 0.0, 0.0)@psi0\n",
    "    return result\n",
    "\n",
    "def therm3DPulse(psi0, t, Omega0, delPrime, nbars, Omegas, Ncut):\n",
    "    nbarx = nbars[0]\n",
    "    nbary = nbars[1]\n",
    "    nbarz = nbars[2]\n",
    "    #Ncut = 100\n",
    "    result = psi(0.0+0.0j,0.0+0.0j)\n",
    "    for nx in range(Ncut):\n",
    "        Probx = prob(nx,nbarx)\n",
    "        for ny in range(Ncut):\n",
    "            Probxy = Probx*prob(ny,nbary)\n",
    "            for nz in range(Ncut):\n",
    "                result += Probxy*prob(nz,nbarz)*pulse(t, Omega0*Omegas[nx,ny,nz], delPrime, 0.0, 0.0)@psi0\n",
    "    return result\n",
    "\n",
    "def rhoee(psi):\n",
    "    return (abs(psi[1]))**2.0\n",
    "\n",
    "def rhogg(psi):\n",
    "    return (abs(psi[0]))**2.0\n",
    "\n",
    "def prob(n,nbar):\n",
    "    return 1.0/(nbar+1)*(nbar/(nbar+1))**n    #returns prob of being in state n given nbar\n",
    "\n",
    "def Omega(n,m,eta):\n",
    "    return np.exp(-eta**2/2.0) * eta**(np.abs(m)) * (math.factorial(n)/math.factorial(n+m))**(np.sign(m)/2.0) \\\n",
    "        * L(n,np.abs(m))(eta**2)              #returns unitless rabi rate of transition n -> n+m given Lamb-Dicke Parameter"
   ]
  },
  {
   "cell_type": "code",
   "execution_count": 10,
   "id": "81dbc252",
   "metadata": {},
   "outputs": [],
   "source": [
    "def prob(n,nbar):\n",
    "    return 1.0/(nbar+1)*(nbar/(nbar+1))**n\n",
    "\n",
    "def expE(nbar, omega, Ncut):\n",
    "    expE = 0.0\n",
    "    #Ncut = 1001\n",
    "    for n in range(Ncut):\n",
    "        expE += prob(n,nbar)*hbar*omega*(0.5+n)\n",
    "    return expE\n",
    "\n",
    "def expEHeat(nbar0, nbarf, omega, Ncut):\n",
    "    return expE((nbar0+nbarf)/2.0, omega, Ncut)\n",
    "\n",
    "def dopAndStark(nbar):\n",
    "    Ncut = 1201\n",
    "    nbar0 = 0.0\n",
    "    omega = 2.0*np.pi*778e3 #Lange\n",
    "    Omegarf = 2.0*np.pi*13e6 #Lange\n",
    "    m = 170.936331517*amutokg\n",
    "    alpha = 5.89e-40 #J m^2 V^-2 E2 transition (Lange)\n",
    "    nu0 = 688358979309307.82 #Hz E2 transition (Huntemann)\n",
    "    return -nu0*expEHeat(nbar0, nbar, omega, Ncut)*(3.0/(m*c**2) + (alpha/(h*nu0))*(3.0*m*Omegarf**2/(2.0*e**2)))"
   ]
  },
  {
   "cell_type": "code",
   "execution_count": 11,
   "id": "43eb5058",
   "metadata": {},
   "outputs": [
    {
     "data": {
      "image/png": "[encoded data removed]",
      "text/plain": [
       "<Figure size 432x288 with 1 Axes>"
      ]
     },
     "metadata": {
      "needs_background": "light"
     },
     "output_type": "display_data"
    }
   ],
   "source": [
    "pts = 5\n",
    "nbarfs = np.linspace(0, 40, pts)\n",
    "Ncut = 1201\n",
    "nbar0 = 0.0\n",
    "shifts = -expEHeat(nbar0, nbarfs, omega, Ncut)*(3.0/(m*c**2) + (alpha/(h*nu0))*(3.0*m*Omegarf**2/(2.0*e**2)))\n",
    "dopAndStarks = dopAndStark(nbarfs)\n",
    "plt.plot(nbarfs,shifts*nu0*1.0e3, label=\"Ncut=1201\")\n",
    "plt.plot(nbarfs, dopAndStarks*1e3)\n",
    "plt.xlabel(\"Final nbar\")\n",
    "plt.ylabel(\"Shift (mHz)\")\n",
    "plt.title(\"Converged 2nd Order Doppler and DC Stark Shift \")\n",
    "plt.show()"
   ]
  },
  {
   "cell_type": "code",
   "execution_count": 52,
   "id": "a05f2b00",
   "metadata": {},
   "outputs": [],
   "source": [
    "def RamseyErrSig(deld, psi0, t1, T, t2, delPrime, Omega0, eta, nbar0, nbarf, Ncut):\n",
    "    #nbar = nbar0 + nbardot*T\n",
    "    #delPrime = deld - Delta\n",
    "    delp1 = dopAndStark(nbar0)\n",
    "    delp2 = delPrime + dopAndStark(nbarf)\n",
    "\n",
    "    freeEvo = pulse(T, 0.0, deld, 0.0, 0.0)\n",
    "    pi2PhaseInjP = pulse(0.0, 0.0, 0.0, 0.0, np.pi/2.0)\n",
    "    pi2PhaseInjM = pulse(0.0, 0.0, 0.0, 0.0, -np.pi/2.0)\n",
    "    intState = thermPulse(psi0, t1, Omega0, delp1, eta, nbar0, Ncut)\n",
    "    resultP = thermPulse(freeEvo@pi2PhaseInjP@intState, t2, Omega0, delp2, eta, nbarf, Ncut)\n",
    "    resultM = thermPulse(freeEvo@pi2PhaseInjM@intState, t2, Omega0, delp2, eta, nbarf, Ncut)\n",
    "    return rhoee(resultP) - rhoee(resultM)\n",
    "\n",
    "def HRJumpThermErrSig(deld, psi0, t1, T, t2, delPrime, Omega0, eta, nbar0, nbarf, Ncut):\n",
    "    #delPrime = deld - Delta\n",
    "    delp1 = delPrime + dopAndStark(nbar0)\n",
    "    delp2 = delPrime + dopAndStark(nbarf)\n",
    "    freeEvo = pulse(T, 0.0, deld, 0.0, 0.0)\n",
    "    pi2PhaseInjP = pulse(0.0, 0.0, 0.0, 0.0, np.pi/2.0)\n",
    "    pi2PhaseInjM = pulse(0.0, 0.0, 0.0, 0.0, -np.pi/2.0)\n",
    "    #def thermPulse(psi0, t, Omega0, delPrime, eta, nbar, Ncut): #1-dimensional\n",
    "    intState = thermPulse(psi0, t1, Omega0, delp1, eta, nbar0, Ncut)\n",
    "    resultP = thermPulse(thermPulse(freeEvo@pi2PhaseInjP@intState, 2.0*t2/3.0, -Omega0, delp2, eta, nbarf, Ncut), t2/3.0, Omega0, delp2, eta, nbarf, Ncut)\n",
    "    resultM = thermPulse(thermPulse(freeEvo@pi2PhaseInjM@intState, 2.0*t2/3.0, -Omega0, delp2, eta, nbarf, Ncut), t2/3.0, Omega0, delp2, eta, nbarf, Ncut)\n",
    "    return rhoee(resultP) - rhoee(resultM)"
   ]
  },
  {
   "cell_type": "code",
   "execution_count": 87,
   "id": "09100de0",
   "metadata": {},
   "outputs": [
    {
     "name": "stdout",
     "output_type": "stream",
     "text": [
      "0.0\n",
      "0.0006430401719550393\n",
      "10.0\n",
      "0.0006335914200595336\n",
      "20.0\n",
      "0.0006241631641481833\n",
      "30.0\n",
      "0.0006147547259115951\n",
      "40.0\n",
      "0.0006053659559323604\n"
     ]
    }
   ],
   "source": [
    "Ncut = 401\n",
    "pts = 5\n",
    "nbarfs = np.linspace(0, 40, pts)\n",
    "psi0 = psi(0.0, 1.0)\n",
    "delPrime = -0.005*2.0*np.pi #hz\n",
    "t1 = 20.0e-3\n",
    "t2 = 3.0*t1\n",
    "Omega0 = np.pi/(2.0*t2) #hz\n",
    "T = 500.0e-3\n",
    "eta = 0.05\n",
    "shifts1 = np.zeros(pts)\n",
    "nbarfStars = nbarfs*(t1+T)/(t1+t2+T)\n",
    "nbar0s = nbarfs*t1/(t1+t2+T)\n",
    "\n",
    "tol = 1.0e-11\n",
    "x0 = -0.1\n",
    "x1 = 0.5\n",
    "guessTol = 0.1\n",
    "\n",
    "for ii in range(pts):\n",
    "    print(nbarfs[ii])\n",
    "    shifts1[ii] = sp.optimize.root_scalar(HRJumpThermErrSig, args=(psi0, t1, T, t2, delPrime, Omega0, eta, 0.0, nbarfs[ii], Ncut), bracket=[x0,x1], xtol = tol).root\n",
    "    print(shifts1[ii])\n",
    "    x0 = shifts1[ii] - guessTol\n",
    "    x1 = shifts1[ii] + guessTol\n",
    "    #print(x0,x1)"
   ]
  },
  {
   "cell_type": "code",
   "execution_count": 89,
   "id": "bd2e0095",
   "metadata": {},
   "outputs": [
    {
     "data": {
      "image/png": "[encoded data removed]",
      "text/plain": [
       "<Figure size 432x288 with 1 Axes>"
      ]
     },
     "metadata": {
      "needs_background": "light"
     },
     "output_type": "display_data"
    }
   ],
   "source": [
    "plt.plot(nbarfs, dopAndStarks*1e3, label=\"dop and stark\")\n",
    "plt.plot(nbarfs, shifts1*1e3, label=\"HRS180 1+3\")\n",
    "plt.xlabel(\"final nbar\")\n",
    "plt.ylabel(\"clock shift (mHz)\")\n",
    "plt.legend()\n",
    "plt.show()"
   ]
  },
  {
   "cell_type": "code",
   "execution_count": 53,
   "id": "90391a32",
   "metadata": {},
   "outputs": [
    {
     "name": "stdout",
     "output_type": "stream",
     "text": [
      "0.0\n",
      "0.0016012130155790365\n",
      "10.0\n",
      "0.001591195821649673\n",
      "20.0\n",
      "0.0015829502861452146\n",
      "30.0\n",
      "0.0015762890567860885\n",
      "40.0\n",
      "0.0015710599882697008\n"
     ]
    }
   ],
   "source": [
    "Ncut = 401\n",
    "pts = 5\n",
    "nbarfs = np.linspace(0, 40, pts)\n",
    "psi0 = psi(0.0, 1.0)\n",
    "delPrime = -0.01*2.0*np.pi #hz\n",
    "t1 = 20.0e-3\n",
    "t2 = t1\n",
    "Omega0 = np.pi/(2.0*t2) #hz\n",
    "T = 500.0e-3\n",
    "eta = 0.05\n",
    "shifts1 = np.zeros(pts)\n",
    "nbarfStars = nbarfs*(t1+T)/(t1+t2+T)\n",
    "nbar0s = nbarfs*t1/(t1+t2+T)\n",
    "\n",
    "tol = 1.0e-11\n",
    "x0 = -0.1\n",
    "x1 = 0.5\n",
    "guessTol = 0.1\n",
    "\n",
    "for ii in range(pts):\n",
    "    print(nbarfs[ii])\n",
    "    shifts1[ii] = sp.optimize.root_scalar(RamseyErrSig, args=(psi0, t1, T, t2, delPrime, Omega0, eta, 0.0, nbarfs[ii], Ncut), bracket=[x0,x1], xtol = tol).root\n",
    "    print(shifts1[ii])\n",
    "    x0 = shifts1[ii] - guessTol\n",
    "    x1 = shifts1[ii] + guessTol\n",
    "    #print(x0,x1)"
   ]
  },
  {
   "cell_type": "code",
   "execution_count": 54,
   "id": "2d326ab5",
   "metadata": {},
   "outputs": [
    {
     "data": {
      "image/png": "[encoded data removed]",
      "text/plain": [
       "<Figure size 432x288 with 1 Axes>"
      ]
     },
     "metadata": {
      "needs_background": "light"
     },
     "output_type": "display_data"
    }
   ],
   "source": [
    "plt.plot(nbarfs, dopAndStarks*1e3, label=\"dop and stark\")\n",
    "plt.plot(nbarfs, -shifts1*1e3, label=r\"RS $\\pi/2+\\pi/2$\")\n",
    "plt.xlabel(\"final nbar\")\n",
    "plt.ylabel(\"clock shift (mHz)\")\n",
    "plt.legend()\n",
    "plt.show()"
   ]
  },
  {
   "cell_type": "code",
   "execution_count": 62,
   "id": "c742c68d",
   "metadata": {},
   "outputs": [],
   "source": [
    "def MHRSthermPulse(psi0, t, Omega0, delPrime, phi0, phi1, eta, nbar, Ncut): #1-dimensional\n",
    "    result = psi(0.0+0.0j,0.0+0.0j)\n",
    "    for n in range(Ncut):\n",
    "        result += prob(n,nbar)*pulse(t, Omega0*Omega(n,0,eta), delPrime, phi0, phi1)@psi0\n",
    "    return result\n",
    "\n",
    "def HRAThermp(deld, psi0, t, T, delPrime, Omega0, eta, nbar0, nbarf, Ncut):\n",
    "    #thermPulse(psi0, t, Omega0, delPrime, phi0, phi1, eta, nbar, Ncut):\n",
    "    #delPrime = deld - Delta\n",
    "    delp1 = delPrime + dopAndStark(nbar0)\n",
    "    delp2 = delPrime + dopAndStark(nbarf)\n",
    "    freeEvo = pulse(T, 0.0, deld, 0.0, 0.0)\n",
    "    state1 = MHRSthermPulse(psi0, t, Omega0, delp1, np.pi/2.0, -np.pi/2.0, eta, nbar0, Ncut)\n",
    "    state2 = freeEvo@state1\n",
    "    state3 = MHRSthermPulse(state2, 2.0*t, Omega0, delp2, np.pi, -np.pi, eta, nbarf, Ncut)\n",
    "    state4 = MHRSthermPulse(state3, t, Omega0, delp2, 0.0, 0.0, eta, nbarf, Ncut)\n",
    "    return state4\n",
    "\n",
    "def HRAThermn(deld, psi0, t, T, delPrime, Omega0, eta, nbar0, nbarf, Ncut):\n",
    "    #delPrime = deld - Delta\n",
    "    delp1 = delPrime + dopAndStark(nbar0)\n",
    "    delp2 = delPrime + dopAndStark(nbarf)\n",
    "    freeEvo = pulse(T, 0.0, deld, 0.0, 0.0)\n",
    "    state1 = MHRSthermPulse(psi0, t, Omega0, delp1, -np.pi/2.0, np.pi/2.0, eta, nbar0, Ncut)\n",
    "    state2 = freeEvo@state1\n",
    "    state3 = MHRSthermPulse(state2, 2.0*t, Omega0, delp2, np.pi, -np.pi, eta, nbarf, Ncut)\n",
    "    state4 = MHRSthermPulse(state3, t, Omega0, delp2, 0.0, 0.0, eta, nbarf, Ncut)\n",
    "    return state4\n",
    "    \n",
    "def HRBThermp(deld, psi0, t, T, delPrime, Omega0, eta, nbar0, nbarf, Ncut):\n",
    "    #delPrime = deld - Delta\n",
    "    delp1 = delPrime + dopAndStark(nbar0)\n",
    "    delp2 = delPrime + dopAndStark(nbarf)\n",
    "    freeEvo = pulse(T, 0.0, deld, 0.0, 0.0)\n",
    "    state1 = MHRSthermPulse(psi0, t, Omega0, delp1, 0.0, 0.0, eta, nbar0, Ncut)\n",
    "    state2 = freeEvo@state1\n",
    "    state3 = MHRSthermPulse(state2, 2.0*t, Omega0, delp2, np.pi, -np.pi/2.0, eta, nbarf, Ncut)\n",
    "    state4 = MHRSthermPulse(state3, t, Omega0, delp2, 0.0, -np.pi/2.0, eta, nbarf, Ncut)\n",
    "    return state4\n",
    "\n",
    "def HRBThermn(deld, psi0, t, T, delPrime, Omega0, eta, nbar0, nbarf, Ncut):\n",
    "    #delPrime = deld - Delta\n",
    "    delp1 = delPrime + dopAndStark(nbar0)\n",
    "    delp2 = delPrime + dopAndStark(nbarf)\n",
    "    freeEvo = pulse(T, 0.0, deld, 0.0, 0.0)\n",
    "    state1 = MHRSthermPulse(psi0, t, Omega0, delp1, 0.0, 0.0, eta, nbar0, Ncut)\n",
    "    state2 = freeEvo@state1\n",
    "    state3 = MHRSthermPulse(state2, 2.0*t, Omega0, delp2, np.pi, -3.0*np.pi/2.0, eta, nbarf, Ncut)\n",
    "    state4 = MHRSthermPulse(state3, t, Omega0, delp2, 0.0, np.pi/2.0, eta, nbarf, Ncut)\n",
    "    return state4\n",
    "\n",
    "def MHRThermES1(deld, psi0, t, T, delPrime, Omega0, eta, nbar0, nbarf, Ncut):\n",
    "    return rhoee(HRAThermp(deld, psi0, t, T, delPrime, Omega0, eta, nbar0, nbarf, Ncut)) - rhoee(HRBThermn(deld, psi0, t, T, delPrime, Omega0, eta, nbar0, nbarf, Ncut))\n",
    "def MHRThermES2(deld, psi0, t, T, delPrime, Omega0, eta, nbar0, nbarf, Ncut):\n",
    "    return rhoee(HRBThermp(deld, psi0, t, T, delPrime, Omega0, eta, nbar0, nbarf, Ncut)) - rhoee(HRAThermn(deld, psi0, t, T, delPrime, Omega0, eta, nbar0, nbarf, Ncut))"
   ]
  },
  {
   "cell_type": "code",
   "execution_count": 81,
   "id": "4819a0b1",
   "metadata": {},
   "outputs": [
    {
     "name": "stdout",
     "output_type": "stream",
     "text": [
      "0.0\n",
      "9.98930169251376e-15\n",
      "10.0\n",
      "0.0031380322909198475\n",
      "20.0\n",
      "0.0119374573512876\n",
      "30.0\n",
      "0.025885860435927673\n",
      "40.0\n",
      "0.044439221002068235\n"
     ]
    }
   ],
   "source": [
    "Ncut = 401\n",
    "pts = 5\n",
    "nbarfs = np.linspace(0, 40, pts)\n",
    "psi0 = psi(0.0, 1.0)\n",
    "delPrime = 0.000*2.0*np.pi #hz\n",
    "t = 20.0e-3\n",
    "#t2 = t1|\n",
    "Omega0 = np.pi/(2.0*t) #hz\n",
    "T = 500.0e-3\n",
    "eta = 0.05\n",
    "shifts1 = np.zeros(pts)\n",
    "nbarfStars = nbarfs*(t1+T)/(t1+t2+T)\n",
    "nbar0s = nbarfs*t1/(t1+t2+T)\n",
    "\n",
    "tol = 1.0e-11\n",
    "x0 = -0.1\n",
    "x1 = 0.5\n",
    "guessTol = 0.1\n",
    "\n",
    "for ii in range(pts):\n",
    "    print(nbarfs[ii])\n",
    "    shifts1[ii] = sp.optimize.root_scalar(MHRThermES2, args=(psi0, t, T, delPrime, Omega0, eta, 0.0, nbarfs[ii], Ncut), bracket=[x0,x1], xtol = tol).root\n",
    "    print(shifts1[ii])\n",
    "    x0 = shifts1[ii] - guessTol\n",
    "    x1 = shifts1[ii] + guessTol\n",
    "    #print(x0,x1)"
   ]
  },
  {
   "cell_type": "code",
   "execution_count": 82,
   "id": "b99c830d",
   "metadata": {},
   "outputs": [
    {
     "data": {
      "image/png": "[encoded data removed]",
      "text/plain": [
       "<Figure size 432x288 with 1 Axes>"
      ]
     },
     "metadata": {
      "needs_background": "light"
     },
     "output_type": "display_data"
    }
   ],
   "source": [
    "shifts2 = np.array([9.843270830126955e-15, 0.003094119008543164, 0.011847479777193437, 0.025747615755507693 , 0.04425054078469512])\n",
    "plt.plot(nbarfs, dopAndStarks*1e3, label=\"dop and stark\")\n",
    "plt.plot(nbarfs, shifts1*1e3, label=\"MHRS2\")\n",
    "\n",
    "plt.xlabel(\"final nbar\")\n",
    "plt.ylabel(\"clock shift (mHz)\")\n",
    "plt.legend()\n",
    "plt.show()"
   ]
  },
  {
   "cell_type": "code",
   "execution_count": null,
   "id": "10c78481",
   "metadata": {},
   "outputs": [],
   "source": []
  }
 ],
 "metadata": {
  "kernelspec": {
   "display_name": "Python 3 (ipykernel)",
   "language": "python",
   "name": "python3"
  },
  "language_info": {
   "codemirror_mode": {
    "name": "ipython",
    "version": 3
   },
   "file_extension": ".py",
   "mimetype": "text/x-python",
   "name": "python",
   "nbconvert_exporter": "python",
   "pygments_lexer": "ipython3",
   "version": "3.10.5"
  }
 },
 "nbformat": 4,
 "nbformat_minor": 5
}
