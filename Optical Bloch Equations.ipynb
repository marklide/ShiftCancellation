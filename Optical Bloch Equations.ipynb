{
 "cells": [
  {
   "cell_type": "code",
   "execution_count": 178,
   "id": "687a94a3",
   "metadata": {},
   "outputs": [],
   "source": [
    "from qutip import *\n",
    "import numpy as np\n",
    "import scipy as sp\n",
    "import math\n",
    "import matplotlib.pyplot as plt\n",
    "from scipy.special import genlaguerre as L\n",
    "from scipy.integrate import solve_ivp as solve"
   ]
  },
  {
   "cell_type": "markdown",
   "id": "17ca6303",
   "metadata": {},
   "source": [
    "To save time and space anytime rho appears without a specific mention of an element of rho (like rhogg), rho will be defined as rho = [rhogg, rhoee, rhoge]. As such, when we have multiple harmonic osc states, rho[n] = [rhogg, rhoee, rhoge] and rho = [rho[0], rho[1] ...]\n",
    "\n",
    "Update: we need rho to be 1D to be compatible with the integrater. So now rhoggn = rho[3n], rhoeen = rho[3n+1], and rhogen = rho[3n+2]"
   ]
  },
  {
   "cell_type": "code",
   "execution_count": 258,
   "id": "4044bc32",
   "metadata": {},
   "outputs": [],
   "source": [
    "def prob(n,nbar):\n",
    "    return 1.0/(nbar+1)*(nbar/(nbar+1))**n    #returns prob of being in state n given nbar\n",
    "\n",
    "def dopAndStark(n):       #for 1D!! to make 3d, multiply this by 3                        \n",
    "    return -2.0*np.pi*nu0*hbar*omega*(n+0.5)/(m*c**2)*(1.0 + alpha*m**2*Omegarf**2*c**2/(h*nu0*e**2*2)) \n",
    "\n",
    "def Omega(n,m,eta):\n",
    "    return np.exp(-eta**2/2.0) * eta**(np.abs(m)) * (math.factorial(n)/math.factorial(n+m))**(np.sign(m)/2.0) \\\n",
    "        * L(n,np.abs(m))(eta**2)              #returns unitless rabi rate of transition n -> n+m given Lamb-Dicke Parameter"
   ]
  },
  {
   "cell_type": "code",
   "execution_count": 334,
   "id": "b3e457e4",
   "metadata": {},
   "outputs": [],
   "source": [
    "#def groundRho(Ncut):\n",
    "#    rho = np.array([[0.0+0.0j]*3]*(Ncut+1))\n",
    "#    rho[0][0] = 1.0+0.0j\n",
    "#    rho = np.reshape(rho, (Ncut+1)*3)\n",
    "#    return rho\n",
    "\n",
    "#def groundRho(Ncut):\n",
    "#    rho = np.array([[0.0j, 0.0j], [0.0j, 0.0j]]*(Ncut+1))\n",
    "#    #rho[0][0] = 1.0+0.0j\n",
    "#    #rho = np.reshape(rho, (Ncut+1)*3)\n",
    "#    return rho\n",
    "\n",
    "def groundRho(Ncut, nbar):\n",
    "    rho = np.zeros([Ncut+1,2,2],dtype=np.complex_)\n",
    "    for n in range(Ncut+1):\n",
    "        rho[n][0][0] = prob(n,nbar)\n",
    "    return rho\n",
    "\n",
    "def pulseSys(t, rho, Omega, delta):\n",
    "    rhogg, rhoee, rhoge = rho\n",
    "    rhoeg = np.conj(rhoge)\n",
    "    rhoggDot = 1j*Omega/2.0*(rhoge - rhoeg)\n",
    "    rhoeeDot = -1j*Omega/2.0*(rhoge - rhoeg)\n",
    "    rhogeDot = -1j*Omega/2.0*(rhoee - rhogg) - 1.0j*delta*rhoge\n",
    "    return [rhoggDot, rhoeeDot, rhogeDot]\n",
    "\n",
    "#def heatSys(t, rho, nbardot):\n",
    "#    Ncut = rho.shape[0]//3 - 1\n",
    "#    rhoDot = [0.0+0.0j]*((Ncut+1)*3)\n",
    "#    for ii in range(3):\n",
    "#        rhoDot[0+ii] = nbardot*(-rho[0+ii]+rho[3*1+ii])\n",
    "#        rhoDot[3*Ncut+ii] = nbardot*(-Ncut*rho[3*Ncut+ii]+Ncut*rho[3*(Ncut-1)+ii])\n",
    "#        #Note*** the above line is true in the limit that rho[Ncut+1,ii]=rho[Ncut,ii] (fair assumption for large Ncut I think)\n",
    "#        for n in range(1,Ncut-1):\n",
    "#            rhoDot[3*n+ii] = nbardot*(-(2.0*n+1.0)*rho[3*n+ii] + (n+1.0)*rho[3*(n+1)+ii] + n*rho[3*(n-1)+ii])\n",
    "#    return rhoDot\n",
    "\n",
    "def heatSys(t, rho, nbardot):    #takes rho as a 2x2x(Ncut+1) matrix\n",
    "    Ncut = rho.size//4 - 1\n",
    "    rhoDot = [0.0+0.0j]*((Ncut+1)*4)\n",
    "    rho = np.reshape(rho, (Ncut+1)*4)\n",
    "    for ii in range(3):\n",
    "        rhoDot[0+ii] = nbardot*(-rho[0+ii]+rho[4*1+ii])\n",
    "        rhoDot[4*Ncut+ii] = nbardot*(-Ncut*rho[4*Ncut+ii]+Ncut*rho[4*(Ncut-1)+ii])\n",
    "        #Note*** the above line is true in the limit that rho[Ncut+1,ii]=rho[Ncut,ii] (fair assumption for large Ncut I think)\n",
    "        for n in range(1,Ncut-1):\n",
    "            rhoDot[4*n+ii] = nbardot*(-(2.0*n+1.0)*rho[4*n+ii] + (n+1.0)*rho[4*(n+1)+ii] + n*rho[4*(n-1)+ii])\n",
    "    return rhoDot\n",
    "\n",
    "def freeEvo(t, rho0, delta):\n",
    "    rhoge0 = rho0[2]\n",
    "    rho = [rho0[0], rho0[1], rhoge0*np.exp(-1.0j*delta*t)]\n",
    "    return rho\n",
    "\n",
    "#def nbar(rho):\n",
    "#    Ncut = rho.shape[0]//3\n",
    "#    nbar = 0.0\n",
    "#    for n in range(Ncut):\n",
    "#        nbar += n*(rho[n*3].real + rho[n*3+1].real)\n",
    "#    return nbar\n",
    "\n",
    "def nbar(rho):\n",
    "    Ncut = np.shape(rho)[0]\n",
    "    nbar = 0.0\n",
    "    for n in range(Ncut):\n",
    "        nbar += n*(np.real(rho[n][0][0]) + np.real(rho[n][1][1]))\n",
    "    return nbar"
   ]
  },
  {
   "cell_type": "code",
   "execution_count": 342,
   "id": "b3b4457c",
   "metadata": {},
   "outputs": [],
   "source": [
    "### ---Integration of the optical bloch equations--- ###\n",
    "#def subpulse(rho0, t, Omega0, delta):\n",
    "#    rho = solve(pulseSys, [0.0,t], rho0, args=[Omega0, delta]).y[:,-1]\n",
    "#    return rho\n",
    "\n",
    "#def pulse(rho0, t, Omega0, delta):\n",
    "#    Ncut = rho0.shape[0]//3 - 1\n",
    "#    rho = np.array([0.0j, 0.0j, 0.0j]*(Ncut+1))\n",
    "#    for n in range(Ncut):\n",
    "#        rho[3*n:3*n+3] = subpulse(rho0[3*n:3*n+3], t, Omega0, delta)\n",
    "#    return rho\n",
    "### ------------------------------------------------- ###\n",
    "def heat(rho, t, nbardot):\n",
    "    Ncut = rho.size//4 - 1\n",
    "    rho = np.reshape(rho, (Ncut+1)*4)\n",
    "    rho = solve(heatSys, [0.0,t], rho, args=[nbardot]).y[:,-1]\n",
    "    \n",
    "    return np.reshape(rho, [2,2,Ncut+1])\n",
    "\n",
    "def ramsey(rho0, T, deld, delPrime, Omega0):\n",
    "    #T = dark-time, deld = dark-time detuning, delPrime=pulse detuning\n",
    "    rho = solve(bloch, [0.0, np.pi/(2.0*Omega0)], rho0, args=(Omega0, delPrime)).y[:,-1]\n",
    "    rho = freeEvo(T, rho, deld)\n",
    "    rho = solve(bloch, [0.0, np.pi/(2.0*Omega0)], rho, args=(Omega0, delPrime)).y[:,-1]\n",
    "    return rho"
   ]
  },
  {
   "cell_type": "code",
   "execution_count": 314,
   "id": "ce5b6d80",
   "metadata": {},
   "outputs": [],
   "source": [
    "def subpulse(rho, t, Omega0, delta):\n",
    "    Omega = np.sqrt(Omega0**2 + delta**2)\n",
    "    if Omega == 0.0:\n",
    "        U = np.array([[1.0 , 0.0],\n",
    "                      [0.0 , 1.0]])\n",
    "    else:\n",
    "        U = np.array([[np.cos(Omega*t/2.0) -(1.0j*delta/Omega)*np.sin(Omega*t/2.0), (1.0j*Omega0/Omega)*np.sin(Omega*t/2.0)],\n",
    "                     [(1.0j*Omega0/Omega)*np.sin(Omega*t/2.0) , np.cos(Omega*t/2.0) + (1.0j*delta/Omega)*np.sin(Omega*t/2.0)]])\n",
    "    return U@rho@np.conj(U)\n",
    "\n",
    "def pulse(rho, t, Omega0, delta, eta):\n",
    "    Ncut = rho.size//4 -1\n",
    "    for n in range(Ncut):\n",
    "        rho[n] = subpulse(rho[n], t, Omega0*Omega(n,0,eta), delta)\n",
    "    return rho"
   ]
  },
  {
   "cell_type": "code",
   "execution_count": 293,
   "id": "ba21430c",
   "metadata": {},
   "outputs": [
    {
     "data": {
      "text/plain": [
       "array([[0.5+0.j , 0. -0.5j],\n",
       "       [0. +0.5j, 0.5+0.j ]])"
      ]
     },
     "execution_count": 293,
     "metadata": {},
     "output_type": "execute_result"
    }
   ],
   "source": [
    "rho0 = np.array([[1.0+0.0j, 0.0j],[0.0j, 0.0j]])\n",
    "densPulse(rho0, 1.0, np.pi/2.0, 0.0)"
   ]
  },
  {
   "cell_type": "code",
   "execution_count": 299,
   "id": "cd4454e8",
   "metadata": {},
   "outputs": [
    {
     "data": {
      "text/plain": [
       "array([0.49996497+0.j        , 0.50003503+0.j        ,\n",
       "       0.        +0.49998591j])"
      ]
     },
     "execution_count": 299,
     "metadata": {},
     "output_type": "execute_result"
    }
   ],
   "source": [
    "subpulse(np.array([1.0+0.0j, 0.0j, 0.0j]), 1.0, np.pi/2.0, 0.0)"
   ]
  },
  {
   "cell_type": "code",
   "execution_count": 247,
   "id": "ccd187ae",
   "metadata": {},
   "outputs": [],
   "source": [
    "a = heat(groundRho(1000), 2.0,  2.0)\n",
    "#solve(heatSys, [0.0,1.0], groundRho(2), args=[1.0])"
   ]
  },
  {
   "cell_type": "code",
   "execution_count": 287,
   "id": "e6380d39",
   "metadata": {},
   "outputs": [
    {
     "data": {
      "text/plain": [
       "0.0"
      ]
     },
     "execution_count": 287,
     "metadata": {},
     "output_type": "execute_result"
    }
   ],
   "source": [
    "nbar(rho)"
   ]
  },
  {
   "cell_type": "code",
   "execution_count": 101,
   "id": "7196628f",
   "metadata": {},
   "outputs": [
    {
     "name": "stderr",
     "output_type": "stream",
     "text": [
      "C:\\Users\\Mark\\AppData\\Local\\Temp\\ipykernel_19980\\2492409076.py:10: ComplexWarning: Casting complex values to real discards the imaginary part\n",
      "  rhoees[ii] = ramsey(groundRho(), T, deld, deltas[ii]-shift, 1.0)[1]\n",
      "C:\\Users\\Mark\\AppData\\Local\\Temp\\ipykernel_19980\\2492409076.py:11: ComplexWarning: Casting complex values to real discards the imaginary part\n",
      "  rhoggs[ii] = ramsey(groundRho(), T, deld, deltas[ii]-shift, 1.0)[0]\n"
     ]
    },
    {
     "data": {
      "text/plain": [
       "[<matplotlib.lines.Line2D at 0x2bcb42055d0>]"
      ]
     },
     "execution_count": 101,
     "metadata": {},
     "output_type": "execute_result"
    },
    {
     "data": {
      "image/png": "[encoded data removed]",
      "text/plain": [
       "<Figure size 432x288 with 1 Axes>"
      ]
     },
     "metadata": {
      "needs_background": "light"
     },
     "output_type": "display_data"
    }
   ],
   "source": [
    "pts = 100\n",
    "deltas = np.linspace(-25.0, 25.0, pts)\n",
    "rhoees = np.zeros(pts)\n",
    "rhoggs = np.zeros(pts)\n",
    "shift = 5.0\n",
    "T = 1.0\n",
    "deld = 0.0\n",
    "\n",
    "for ii in range(pts):\n",
    "    rhoees[ii] = ramsey(groundRho(), T, deld, deltas[ii]-shift, 1.0)[1]\n",
    "    rhoggs[ii] = ramsey(groundRho(), T, deld, deltas[ii]-shift, 1.0)[0]\n",
    "\n",
    "    \n",
    "plt.plot(deltas, rhoees)\n",
    "plt.plot(deltas, rhoees+rhoggs)"
   ]
  },
  {
   "cell_type": "code",
   "execution_count": 103,
   "id": "6031f354",
   "metadata": {},
   "outputs": [
    {
     "data": {
      "text/plain": [
       "[<matplotlib.lines.Line2D at 0x2bcb42b8d30>]"
      ]
     },
     "execution_count": 103,
     "metadata": {},
     "output_type": "execute_result"
    },
    {
     "data": {
      "image/png": "[encoded data removed]",
      "text/plain": [
       "<Figure size 432x288 with 1 Axes>"
      ]
     },
     "metadata": {
      "needs_background": "light"
     },
     "output_type": "display_data"
    }
   ],
   "source": [
    "plt.plot(deltas,rhoees-rhoggs)"
   ]
  },
  {
   "cell_type": "code",
   "execution_count": 104,
   "id": "97a7f7c0",
   "metadata": {},
   "outputs": [],
   "source": [
    "sol = solve(bloch, [0,10], [1.0+0.0j,0.0+0.0j,0.0+0.0j], args=(np.pi, 0.0))#, dense_output=True)"
   ]
  },
  {
   "cell_type": "code",
   "execution_count": 54,
   "id": "609d696f",
   "metadata": {},
   "outputs": [
    {
     "data": {
      "text/plain": [
       "<matplotlib.legend.Legend at 0x2bcb3ca7580>"
      ]
     },
     "execution_count": 54,
     "metadata": {},
     "output_type": "execute_result"
    },
    {
     "data": {
      "image/png": "[encoded data removed]",
      "text/plain": [
       "<Figure size 432x288 with 1 Axes>"
      ]
     },
     "metadata": {
      "needs_background": "light"
     },
     "output_type": "display_data"
    }
   ],
   "source": [
    "t = np.linspace(0,10,100)\n",
    "z = sol.sol(t)\n",
    "plt.plot(t, z.T)\n",
    "plt.legend(['rhogg','rhoee','rhoge'])"
   ]
  },
  {
   "cell_type": "code",
   "execution_count": 77,
   "id": "1962e641",
   "metadata": {},
   "outputs": [
    {
     "data": {
      "text/plain": [
       "array([9.99768742e-01+0.j        , 2.31257740e-04+0.j        ,\n",
       "       0.00000000e+00+0.00854519j])"
      ]
     },
     "execution_count": 77,
     "metadata": {},
     "output_type": "execute_result"
    }
   ],
   "source": [
    "sol.y[:,-1]"
   ]
  },
  {
   "cell_type": "code",
   "execution_count": 105,
   "id": "9016dbfe",
   "metadata": {},
   "outputs": [
    {
     "data": {
      "text/plain": [
       "  message: 'The solver successfully reached the end of the integration interval.'\n",
       "     nfev: 278\n",
       "     njev: 0\n",
       "      nlu: 0\n",
       "      sol: None\n",
       "   status: 0\n",
       "  success: True\n",
       "        t: array([0.00000000e+00, 6.35983789e-04, 6.99582167e-03, 7.05942005e-02,\n",
       "       3.12286503e-01, 6.32292515e-01, 9.60536933e-01, 1.25710575e+00,\n",
       "       1.54706797e+00, 1.87795848e+00, 2.09764757e+00, 2.31426666e+00,\n",
       "       2.63530708e+00, 2.96337509e+00, 3.25901332e+00, 3.55041738e+00,\n",
       "       3.88125792e+00, 4.10504339e+00, 4.31941604e+00, 4.64100642e+00,\n",
       "       4.93499683e+00, 5.22898724e+00, 5.50539024e+00, 5.83641961e+00,\n",
       "       6.06591975e+00, 6.29541989e+00, 6.61338124e+00, 6.94233012e+00,\n",
       "       7.24332607e+00, 7.52601569e+00, 7.85705226e+00, 8.09792339e+00,\n",
       "       8.32249495e+00, 8.64475985e+00, 8.93748226e+00, 9.23020468e+00,\n",
       "       9.50819448e+00, 9.83924750e+00, 1.00000000e+01])\n",
       " t_events: None\n",
       "        y: array([[1.00000000e+00+0.j        , 9.99999002e-01+0.j        ,\n",
       "        9.99879246e-01+0.j        , 9.87753914e-01+0.j        ,\n",
       "        7.78033446e-01+0.j        , 2.97932187e-01+0.j        ,\n",
       "        3.78224453e-03+0.j        , 1.54829496e-01+0.j        ,\n",
       "        5.74302566e-01+0.j        , 9.64019346e-01+0.j        ,\n",
       "        9.76372659e-01+0.j        , 7.74703481e-01+0.j        ,\n",
       "        2.92811059e-01+0.j        , 3.16514486e-03+0.j        ,\n",
       "        1.57650905e-01+0.j        , 5.80370313e-01+0.j        ,\n",
       "        9.66234317e-01+0.j        , 9.72417400e-01+0.j        ,\n",
       "        7.67157909e-01+0.j        , 2.83903051e-01+0.j        ,\n",
       "        1.00087096e-02+0.j        , 1.25385107e-01+0.j        ,\n",
       "        5.10736063e-01+0.j        , 9.36596879e-01+0.j        ,\n",
       "        9.88733482e-01+0.j        , 7.97601471e-01+0.j        ,\n",
       "        3.23117769e-01+0.j        , 7.71720372e-03+0.j        ,\n",
       "        1.41291109e-01+0.j        , 5.43955907e-01+0.j        ,\n",
       "        9.51823510e-01+0.j        , 9.75409714e-01+0.j        ,\n",
       "        7.61634030e-01+0.j        , 2.77151690e-01+0.j        ,\n",
       "        8.98697243e-03+0.j        , 1.27783282e-01+0.j        ,\n",
       "        5.16776755e-01+0.j        , 9.39483052e-01+0.j        ,\n",
       "        9.99879827e-01+0.j        ],\n",
       "       [0.00000000e+00+0.j        , 9.98002664e-07+0.j        ,\n",
       "        1.20753502e-04+0.j        , 1.22460859e-02+0.j        ,\n",
       "        2.21966554e-01+0.j        , 7.02067813e-01+0.j        ,\n",
       "        9.96217755e-01+0.j        , 8.45170504e-01+0.j        ,\n",
       "        4.25697434e-01+0.j        , 3.59806542e-02+0.j        ,\n",
       "        2.36273414e-02+0.j        , 2.25296519e-01+0.j        ,\n",
       "        7.07188941e-01+0.j        , 9.96834855e-01+0.j        ,\n",
       "        8.42349095e-01+0.j        , 4.19629687e-01+0.j        ,\n",
       "        3.37656829e-02+0.j        , 2.75826003e-02+0.j        ,\n",
       "        2.32842091e-01+0.j        , 7.16096949e-01+0.j        ,\n",
       "        9.89991290e-01+0.j        , 8.74614893e-01+0.j        ,\n",
       "        4.89263937e-01+0.j        , 6.34031208e-02+0.j        ,\n",
       "        1.12665183e-02+0.j        , 2.02398529e-01+0.j        ,\n",
       "        6.76882231e-01+0.j        , 9.92282796e-01+0.j        ,\n",
       "        8.58708891e-01+0.j        , 4.56044093e-01+0.j        ,\n",
       "        4.81764905e-02+0.j        , 2.45902862e-02+0.j        ,\n",
       "        2.38365970e-01+0.j        , 7.22848310e-01+0.j        ,\n",
       "        9.91013028e-01+0.j        , 8.72216718e-01+0.j        ,\n",
       "        4.83223245e-01+0.j        , 6.05169484e-02+0.j        ,\n",
       "        1.20172866e-04+0.j        ],\n",
       "       [0.00000000e+00+0.j        , 0.00000000e+00+0.000999j  ,\n",
       "        0.00000000e+00+0.01098813j, 0.00000000e+00+0.10998232j,\n",
       "        0.00000000e+00+0.41555621j, 0.00000000e+00+0.45734039j,\n",
       "        0.00000000e+00+0.06139837j, 0.00000000e+00-0.36173023j,\n",
       "        0.00000000e+00-0.49442763j, 0.00000000e+00-0.18622278j,\n",
       "        0.00000000e+00+0.15183736j, 0.00000000e+00+0.41775174j,\n",
       "        0.00000000e+00+0.45503212j, 0.00000000e+00+0.05609458j,\n",
       "        0.00000000e+00-0.36438706j, 0.00000000e+00-0.49346716j,\n",
       "        0.00000000e+00-0.18057699j, 0.00000000e+00+0.16369588j,\n",
       "        0.00000000e+00+0.42260445j, 0.00000000e+00+0.45085855j,\n",
       "        0.00000000e+00+0.09934186j, 0.00000000e+00-0.33107839j,\n",
       "        0.00000000e+00-0.49982079j, 0.00000000e+00-0.24358314j,\n",
       "        0.00000000e+00+0.10526357j, 0.00000000e+00+0.40170319j,\n",
       "        0.00000000e+00+0.46759511j, 0.00000000e+00+0.08718458j,\n",
       "        0.00000000e+00-0.34822759j, 0.00000000e+00-0.49798554j,\n",
       "        0.00000000e+00-0.2139877j , 0.00000000e+00+0.15463022j,\n",
       "        0.00000000e+00+0.42598648j, 0.00000000e+00+0.44750368j,\n",
       "        0.00000000e+00+0.0938924j , 0.00000000e+00-0.3336959j ,\n",
       "        0.00000000e+00-0.49960354j, 0.00000000e+00-0.23822956j,\n",
       "        0.00000000e+00+0.00414403j]])\n",
       " y_events: None"
      ]
     },
     "execution_count": 105,
     "metadata": {},
     "output_type": "execute_result"
    }
   ],
   "source": [
    "sol"
   ]
  },
  {
   "cell_type": "code",
   "execution_count": 119,
   "id": "f68100f4",
   "metadata": {},
   "outputs": [],
   "source": [
    "rhos = np.array([[0.333,1,0],[0.333,2,0],[0.333,3,0.0],[0.0,0.0,0.0]])"
   ]
  },
  {
   "cell_type": "code",
   "execution_count": 117,
   "id": "7aacf36b",
   "metadata": {},
   "outputs": [
    {
     "data": {
      "text/plain": [
       "3.0"
      ]
     },
     "execution_count": 117,
     "metadata": {},
     "output_type": "execute_result"
    }
   ],
   "source": [
    "rhos[2,1]"
   ]
  },
  {
   "cell_type": "code",
   "execution_count": 115,
   "id": "491a59d5",
   "metadata": {},
   "outputs": [
    {
     "data": {
      "text/plain": [
       "4"
      ]
     },
     "execution_count": 115,
     "metadata": {},
     "output_type": "execute_result"
    }
   ],
   "source": [
    "rhos.shape[0]"
   ]
  },
  {
   "cell_type": "code",
   "execution_count": 121,
   "id": "d333774d",
   "metadata": {},
   "outputs": [
    {
     "data": {
      "text/plain": [
       "array([[0.+0.j, 0.+0.j, 0.+0.j],\n",
       "       [0.+0.j, 0.+0.j, 0.+0.j],\n",
       "       [0.+0.j, 0.+0.j, 0.+0.j],\n",
       "       [0.+0.j, 0.+0.j, 0.+0.j]])"
      ]
     },
     "execution_count": 121,
     "metadata": {},
     "output_type": "execute_result"
    }
   ],
   "source": [
    "np.array([[0.0+0.0j]*3]*4)"
   ]
  },
  {
   "cell_type": "code",
   "execution_count": 126,
   "id": "7fc27941",
   "metadata": {},
   "outputs": [
    {
     "name": "stdout",
     "output_type": "stream",
     "text": [
      "0\n",
      "1\n",
      "2\n"
     ]
    }
   ],
   "source": [
    "for ii in range(3):\n",
    "    print(ii)"
   ]
  },
  {
   "cell_type": "code",
   "execution_count": 135,
   "id": "38716313",
   "metadata": {},
   "outputs": [
    {
     "data": {
      "text/plain": [
       "array([[1.+0.j, 0.+0.j, 0.+0.j],\n",
       "       [0.+0.j, 0.+0.j, 0.+0.j]])"
      ]
     },
     "execution_count": 135,
     "metadata": {},
     "output_type": "execute_result"
    }
   ],
   "source": []
  },
  {
   "cell_type": "code",
   "execution_count": 143,
   "id": "de6316cc",
   "metadata": {},
   "outputs": [
    {
     "ename": "TypeError",
     "evalue": "Value after * must be an iterable, not float",
     "output_type": "error",
     "traceback": [
      "\u001b[1;31m---------------------------------------------------------------------------\u001b[0m",
      "\u001b[1;31mTypeError\u001b[0m                                 Traceback (most recent call last)",
      "Input \u001b[1;32mIn [143]\u001b[0m, in \u001b[0;36m<cell line: 1>\u001b[1;34m()\u001b[0m\n\u001b[1;32m----> 1\u001b[0m \u001b[43msolve\u001b[49m\u001b[43m(\u001b[49m\u001b[43mheatSys\u001b[49m\u001b[43m,\u001b[49m\u001b[43m \u001b[49m\u001b[43m[\u001b[49m\u001b[38;5;241;43m0.0\u001b[39;49m\u001b[43m,\u001b[49m\u001b[38;5;241;43m1.0\u001b[39;49m\u001b[43m]\u001b[49m\u001b[43m,\u001b[49m\u001b[43m \u001b[49m\u001b[43mgroundRho\u001b[49m\u001b[43m(\u001b[49m\u001b[38;5;241;43m2\u001b[39;49m\u001b[43m)\u001b[49m\u001b[43m,\u001b[49m\u001b[43m \u001b[49m\u001b[43margs\u001b[49m\u001b[38;5;241;43m=\u001b[39;49m\u001b[43m(\u001b[49m\u001b[38;5;241;43m1.0\u001b[39;49m\u001b[43m)\u001b[49m\u001b[43m)\u001b[49m\n",
      "File \u001b[1;32mD:\\Mark\\Python\\lib\\site-packages\\scipy\\integrate\\_ivp\\ivp.py:546\u001b[0m, in \u001b[0;36msolve_ivp\u001b[1;34m(fun, t_span, y0, method, t_eval, dense_output, events, vectorized, args, **options)\u001b[0m\n\u001b[0;32m    543\u001b[0m \u001b[38;5;28;01mif\u001b[39;00m method \u001b[38;5;129;01min\u001b[39;00m METHODS:\n\u001b[0;32m    544\u001b[0m     method \u001b[38;5;241m=\u001b[39m METHODS[method]\n\u001b[1;32m--> 546\u001b[0m solver \u001b[38;5;241m=\u001b[39m method(fun, t0, y0, tf, vectorized\u001b[38;5;241m=\u001b[39mvectorized, \u001b[38;5;241m*\u001b[39m\u001b[38;5;241m*\u001b[39moptions)\n\u001b[0;32m    548\u001b[0m \u001b[38;5;28;01mif\u001b[39;00m t_eval \u001b[38;5;129;01mis\u001b[39;00m \u001b[38;5;28;01mNone\u001b[39;00m:\n\u001b[0;32m    549\u001b[0m     ts \u001b[38;5;241m=\u001b[39m [t0]\n",
      "File \u001b[1;32mD:\\Mark\\Python\\lib\\site-packages\\scipy\\integrate\\_ivp\\rk.py:94\u001b[0m, in \u001b[0;36mRungeKutta.__init__\u001b[1;34m(self, fun, t0, y0, t_bound, max_step, rtol, atol, vectorized, first_step, **extraneous)\u001b[0m\n\u001b[0;32m     92\u001b[0m \u001b[38;5;28mself\u001b[39m\u001b[38;5;241m.\u001b[39mmax_step \u001b[38;5;241m=\u001b[39m validate_max_step(max_step)\n\u001b[0;32m     93\u001b[0m \u001b[38;5;28mself\u001b[39m\u001b[38;5;241m.\u001b[39mrtol, \u001b[38;5;28mself\u001b[39m\u001b[38;5;241m.\u001b[39matol \u001b[38;5;241m=\u001b[39m validate_tol(rtol, atol, \u001b[38;5;28mself\u001b[39m\u001b[38;5;241m.\u001b[39mn)\n\u001b[1;32m---> 94\u001b[0m \u001b[38;5;28mself\u001b[39m\u001b[38;5;241m.\u001b[39mf \u001b[38;5;241m=\u001b[39m \u001b[38;5;28;43mself\u001b[39;49m\u001b[38;5;241;43m.\u001b[39;49m\u001b[43mfun\u001b[49m\u001b[43m(\u001b[49m\u001b[38;5;28;43mself\u001b[39;49m\u001b[38;5;241;43m.\u001b[39;49m\u001b[43mt\u001b[49m\u001b[43m,\u001b[49m\u001b[43m \u001b[49m\u001b[38;5;28;43mself\u001b[39;49m\u001b[38;5;241;43m.\u001b[39;49m\u001b[43my\u001b[49m\u001b[43m)\u001b[49m\n\u001b[0;32m     95\u001b[0m \u001b[38;5;28;01mif\u001b[39;00m first_step \u001b[38;5;129;01mis\u001b[39;00m \u001b[38;5;28;01mNone\u001b[39;00m:\n\u001b[0;32m     96\u001b[0m     \u001b[38;5;28mself\u001b[39m\u001b[38;5;241m.\u001b[39mh_abs \u001b[38;5;241m=\u001b[39m select_initial_step(\n\u001b[0;32m     97\u001b[0m         \u001b[38;5;28mself\u001b[39m\u001b[38;5;241m.\u001b[39mfun, \u001b[38;5;28mself\u001b[39m\u001b[38;5;241m.\u001b[39mt, \u001b[38;5;28mself\u001b[39m\u001b[38;5;241m.\u001b[39my, \u001b[38;5;28mself\u001b[39m\u001b[38;5;241m.\u001b[39mf, \u001b[38;5;28mself\u001b[39m\u001b[38;5;241m.\u001b[39mdirection,\n\u001b[0;32m     98\u001b[0m         \u001b[38;5;28mself\u001b[39m\u001b[38;5;241m.\u001b[39merror_estimator_order, \u001b[38;5;28mself\u001b[39m\u001b[38;5;241m.\u001b[39mrtol, \u001b[38;5;28mself\u001b[39m\u001b[38;5;241m.\u001b[39matol)\n",
      "File \u001b[1;32mD:\\Mark\\Python\\lib\\site-packages\\scipy\\integrate\\_ivp\\base.py:138\u001b[0m, in \u001b[0;36mOdeSolver.__init__.<locals>.fun\u001b[1;34m(t, y)\u001b[0m\n\u001b[0;32m    136\u001b[0m \u001b[38;5;28;01mdef\u001b[39;00m \u001b[38;5;21mfun\u001b[39m(t, y):\n\u001b[0;32m    137\u001b[0m     \u001b[38;5;28mself\u001b[39m\u001b[38;5;241m.\u001b[39mnfev \u001b[38;5;241m+\u001b[39m\u001b[38;5;241m=\u001b[39m \u001b[38;5;241m1\u001b[39m\n\u001b[1;32m--> 138\u001b[0m     \u001b[38;5;28;01mreturn\u001b[39;00m \u001b[38;5;28;43mself\u001b[39;49m\u001b[38;5;241;43m.\u001b[39;49m\u001b[43mfun_single\u001b[49m\u001b[43m(\u001b[49m\u001b[43mt\u001b[49m\u001b[43m,\u001b[49m\u001b[43m \u001b[49m\u001b[43my\u001b[49m\u001b[43m)\u001b[49m\n",
      "File \u001b[1;32mD:\\Mark\\Python\\lib\\site-packages\\scipy\\integrate\\_ivp\\base.py:20\u001b[0m, in \u001b[0;36mcheck_arguments.<locals>.fun_wrapped\u001b[1;34m(t, y)\u001b[0m\n\u001b[0;32m     19\u001b[0m \u001b[38;5;28;01mdef\u001b[39;00m \u001b[38;5;21mfun_wrapped\u001b[39m(t, y):\n\u001b[1;32m---> 20\u001b[0m     \u001b[38;5;28;01mreturn\u001b[39;00m np\u001b[38;5;241m.\u001b[39masarray(\u001b[43mfun\u001b[49m\u001b[43m(\u001b[49m\u001b[43mt\u001b[49m\u001b[43m,\u001b[49m\u001b[43m \u001b[49m\u001b[43my\u001b[49m\u001b[43m)\u001b[49m, dtype\u001b[38;5;241m=\u001b[39mdtype)\n",
      "File \u001b[1;32mD:\\Mark\\Python\\lib\\site-packages\\scipy\\integrate\\_ivp\\ivp.py:518\u001b[0m, in \u001b[0;36msolve_ivp.<locals>.<lambda>\u001b[1;34m(t, x, fun)\u001b[0m\n\u001b[0;32m    512\u001b[0m t0, tf \u001b[38;5;241m=\u001b[39m \u001b[38;5;28mmap\u001b[39m(\u001b[38;5;28mfloat\u001b[39m, t_span)\n\u001b[0;32m    514\u001b[0m \u001b[38;5;28;01mif\u001b[39;00m args \u001b[38;5;129;01mis\u001b[39;00m \u001b[38;5;129;01mnot\u001b[39;00m \u001b[38;5;28;01mNone\u001b[39;00m:\n\u001b[0;32m    515\u001b[0m     \u001b[38;5;66;03m# Wrap the user's fun (and jac, if given) in lambdas to hide the\u001b[39;00m\n\u001b[0;32m    516\u001b[0m     \u001b[38;5;66;03m# additional parameters.  Pass in the original fun as a keyword\u001b[39;00m\n\u001b[0;32m    517\u001b[0m     \u001b[38;5;66;03m# argument to keep it in the scope of the lambda.\u001b[39;00m\n\u001b[1;32m--> 518\u001b[0m     fun \u001b[38;5;241m=\u001b[39m \u001b[38;5;28;01mlambda\u001b[39;00m t, x, fun\u001b[38;5;241m=\u001b[39mfun: fun(t, x, \u001b[38;5;241m*\u001b[39margs)\n\u001b[0;32m    519\u001b[0m     jac \u001b[38;5;241m=\u001b[39m options\u001b[38;5;241m.\u001b[39mget(\u001b[38;5;124m'\u001b[39m\u001b[38;5;124mjac\u001b[39m\u001b[38;5;124m'\u001b[39m)\n\u001b[0;32m    520\u001b[0m     \u001b[38;5;28;01mif\u001b[39;00m callable(jac):\n",
      "\u001b[1;31mTypeError\u001b[0m: Value after * must be an iterable, not float"
     ]
    }
   ],
   "source": [
    "solve(heatSys, [0.0,1.0], groundRho(2), args=(1.0))"
   ]
  },
  {
   "cell_type": "code",
   "execution_count": 185,
   "id": "29f33404",
   "metadata": {},
   "outputs": [
    {
     "data": {
      "text/plain": [
       "2"
      ]
     },
     "execution_count": 185,
     "metadata": {},
     "output_type": "execute_result"
    }
   ],
   "source": [
    "groundRho(2).shape[0]//3"
   ]
  },
  {
   "cell_type": "code",
   "execution_count": 218,
   "id": "ffcb748a",
   "metadata": {},
   "outputs": [
    {
     "data": {
      "text/plain": [
       "array([1.+0.j, 0.+0.j, 0.+0.j, 0.+0.j, 0.+0.j, 0.+0.j, 0.+0.j, 0.+0.j,\n",
       "       0.+0.j])"
      ]
     },
     "execution_count": 218,
     "metadata": {},
     "output_type": "execute_result"
    }
   ],
   "source": [
    "groundRho(2)"
   ]
  },
  {
   "cell_type": "code",
   "execution_count": 157,
   "id": "d35a49e4",
   "metadata": {},
   "outputs": [
    {
     "data": {
      "text/plain": [
       "6"
      ]
     },
     "execution_count": 157,
     "metadata": {},
     "output_type": "execute_result"
    }
   ],
   "source": [
    "2*3"
   ]
  },
  {
   "cell_type": "code",
   "execution_count": 161,
   "id": "939120f1",
   "metadata": {},
   "outputs": [
    {
     "data": {
      "text/plain": [
       "array([0.+0.j, 0.+0.j, 0.+0.j, 0.+0.j, 0.+0.j, 0.+0.j])"
      ]
     },
     "execution_count": 161,
     "metadata": {},
     "output_type": "execute_result"
    }
   ],
   "source": [
    "np.array([0.0+0.0j]*(2*3))"
   ]
  },
  {
   "cell_type": "code",
   "execution_count": 195,
   "id": "1992dc50",
   "metadata": {},
   "outputs": [],
   "source": [
    "a = [0.0+0.0j]*(1*3)"
   ]
  },
  {
   "cell_type": "code",
   "execution_count": 198,
   "id": "68472725",
   "metadata": {},
   "outputs": [],
   "source": [
    "a[1] = groundRho(2)[0]"
   ]
  },
  {
   "cell_type": "code",
   "execution_count": 199,
   "id": "073eb0d0",
   "metadata": {},
   "outputs": [
    {
     "data": {
      "text/plain": [
       "[0j, (1+0j), 0j]"
      ]
     },
     "execution_count": 199,
     "metadata": {},
     "output_type": "execute_result"
    }
   ],
   "source": [
    "a"
   ]
  },
  {
   "cell_type": "code",
   "execution_count": 227,
   "id": "0e474da6",
   "metadata": {},
   "outputs": [],
   "source": [
    "a = 1.0+2.0j"
   ]
  },
  {
   "cell_type": "code",
   "execution_count": 228,
   "id": "408a68e6",
   "metadata": {},
   "outputs": [
    {
     "data": {
      "text/plain": [
       "1.0"
      ]
     },
     "execution_count": 228,
     "metadata": {},
     "output_type": "execute_result"
    }
   ],
   "source": [
    "a.real"
   ]
  },
  {
   "cell_type": "code",
   "execution_count": 237,
   "id": "ad9351d4",
   "metadata": {},
   "outputs": [
    {
     "name": "stdout",
     "output_type": "stream",
     "text": [
      "0\n",
      "1\n"
     ]
    }
   ],
   "source": [
    "for ii in range(2):\n",
    "    print(ii)"
   ]
  },
  {
   "cell_type": "code",
   "execution_count": 290,
   "id": "8e0844d1",
   "metadata": {},
   "outputs": [
    {
     "data": {
      "text/plain": [
       "array([[1, 2],\n",
       "       [3, 4]])"
      ]
     },
     "execution_count": 290,
     "metadata": {},
     "output_type": "execute_result"
    }
   ],
   "source": [
    "np.array([[1,2],[3,4]])"
   ]
  },
  {
   "cell_type": "code",
   "execution_count": 292,
   "id": "d9a618e4",
   "metadata": {},
   "outputs": [
    {
     "data": {
      "text/plain": [
       "array([[0., 0.],\n",
       "       [0., 0.]])"
      ]
     },
     "execution_count": 292,
     "metadata": {},
     "output_type": "execute_result"
    }
   ],
   "source": [
    "np.zeros([2,2])"
   ]
  },
  {
   "cell_type": "code",
   "execution_count": 311,
   "id": "0b288e68",
   "metadata": {},
   "outputs": [
    {
     "data": {
      "text/plain": [
       "array([[[1.+0.j, 0.+0.j],\n",
       "        [0.+0.j, 0.+0.j]],\n",
       "\n",
       "       [[0.+0.j, 0.+0.j],\n",
       "        [0.+0.j, 0.+0.j]],\n",
       "\n",
       "       [[0.+0.j, 0.+0.j],\n",
       "        [0.+0.j, 0.+0.j]]])"
      ]
     },
     "execution_count": 311,
     "metadata": {},
     "output_type": "execute_result"
    }
   ],
   "source": [
    "groundRho(2,0.0)"
   ]
  },
  {
   "cell_type": "code",
   "execution_count": 315,
   "id": "7adaac17",
   "metadata": {},
   "outputs": [
    {
     "data": {
      "text/plain": [
       "array([[[0.5+0.j , 0. -0.5j],\n",
       "        [0. +0.5j, 0.5+0.j ]],\n",
       "\n",
       "       [[0. +0.j , 0. +0.j ],\n",
       "        [0. +0.j , 0. +0.j ]],\n",
       "\n",
       "       [[0. +0.j , 0. +0.j ],\n",
       "        [0. +0.j , 0. +0.j ]]])"
      ]
     },
     "execution_count": 315,
     "metadata": {},
     "output_type": "execute_result"
    }
   ],
   "source": [
    "pulse(groundRho(2,0.0), 1.0, np.pi/2.0, 0.0, 0.0)"
   ]
  },
  {
   "cell_type": "code",
   "execution_count": 345,
   "id": "52690f0c",
   "metadata": {},
   "outputs": [],
   "source": [
    "rho = heat(groundRho(1000,1.0), 1.0,1.0)"
   ]
  },
  {
   "cell_type": "code",
   "execution_count": 331,
   "id": "d48bcc5e",
   "metadata": {},
   "outputs": [
    {
     "data": {
      "text/plain": [
       "16"
      ]
     },
     "execution_count": 331,
     "metadata": {},
     "output_type": "execute_result"
    }
   ],
   "source": [
    "np.reshape(groundRho(3,1.0), (3+1)*4).size"
   ]
  },
  {
   "cell_type": "code",
   "execution_count": 337,
   "id": "da407a32",
   "metadata": {},
   "outputs": [
    {
     "data": {
      "text/plain": [
       "0.9999999999999999"
      ]
     },
     "execution_count": 337,
     "metadata": {},
     "output_type": "execute_result"
    }
   ],
   "source": [
    "nbar(groundRho(100,1.0))"
   ]
  },
  {
   "cell_type": "code",
   "execution_count": 346,
   "id": "03db8e8f",
   "metadata": {},
   "outputs": [
    {
     "data": {
      "text/plain": [
       "2.281507747080369e-205"
      ]
     },
     "execution_count": 346,
     "metadata": {},
     "output_type": "execute_result"
    }
   ],
   "source": [
    "nbar(rho)"
   ]
  },
  {
   "cell_type": "code",
   "execution_count": 341,
   "id": "62a31c19",
   "metadata": {},
   "outputs": [
    {
     "data": {
      "text/plain": [
       "array([0.33333092+0.j, 0.        +0.j, 0.        +0.j, 0.        +0.j,\n",
       "       0.22220454+0.j, 0.        +0.j, 0.        +0.j, 0.        +0.j,\n",
       "       0.14807707+0.j, 0.        +0.j, 0.        +0.j, 0.        +0.j,\n",
       "       0.09855808+0.j, 0.        +0.j, 0.        +0.j, 0.        +0.j,\n",
       "       0.0653449 +0.j, 0.        +0.j, 0.        +0.j, 0.        +0.j,\n",
       "       0.04287914+0.j, 0.        +0.j, 0.        +0.j, 0.        +0.j,\n",
       "       0.02734729+0.j, 0.        +0.j, 0.        +0.j, 0.        +0.j,\n",
       "       0.01631091+0.j, 0.        +0.j, 0.        +0.j, 0.        +0.j,\n",
       "       0.0078559 +0.j, 0.        +0.j, 0.        +0.j, 0.        +0.j,\n",
       "       0.00097656+0.j, 0.        +0.j, 0.        +0.j, 0.        +0.j,\n",
       "       0.00097654+0.j, 0.        +0.j, 0.        +0.j, 0.        +0.j])"
      ]
     },
     "execution_count": 341,
     "metadata": {},
     "output_type": "execute_result"
    }
   ],
   "source": []
  }
 ],
 "metadata": {
  "kernelspec": {
   "display_name": "Python 3 (ipykernel)",
   "language": "python",
   "name": "python3"
  },
  "language_info": {
   "codemirror_mode": {
    "name": "ipython",
    "version": 3
   },
   "file_extension": ".py",
   "mimetype": "text/x-python",
   "name": "python",
   "nbconvert_exporter": "python",
   "pygments_lexer": "ipython3",
   "version": "3.10.5"
  }
 },
 "nbformat": 4,
 "nbformat_minor": 5
}
