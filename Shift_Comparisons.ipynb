{
 "cells": [
  {
   "cell_type": "code",
   "execution_count": 1,
   "id": "20c40f4c",
   "metadata": {},
   "outputs": [],
   "source": [
    "from qutip import *\n",
    "import numpy as np\n",
    "import scipy as sp\n",
    "import math\n",
    "import matplotlib.pyplot as plt\n",
    "from scipy.special import genlaguerre as L"
   ]
  },
  {
   "cell_type": "code",
   "execution_count": 2,
   "id": "8e1f4e2a",
   "metadata": {},
   "outputs": [],
   "source": [
    "def psi(g,e):\n",
    "    return np.array([g, e])\n",
    "\n",
    "def pulse(t, Omega0, delta, phi0, phi1):\n",
    "    Omega = np.sqrt(Omega0**2 + delta**2)\n",
    "    \n",
    "    if Omega == 0.0:\n",
    "        U = np.array([[1.0 , 0.0],\n",
    "                      [0.0 , 1.0]])\n",
    "        \n",
    "    else:\n",
    "        U = np.array([[np.cos(Omega*t/2.0) -(1.0j*delta/Omega)*np.sin(Omega*t/2.0), (1.0j*Omega0/Omega)*np.sin(Omega*t/2.0)],\n",
    "                     [(1.0j*Omega0/Omega)*np.sin(Omega*t/2.0) , np.cos(Omega*t/2.0) + (1.0j*delta/Omega)*np.sin(Omega*t/2.0)]])\n",
    "    \n",
    "    V1 = np.array([[1.0 , 0.0],\n",
    "                   [0.0 , np.exp(-1.0j*phi1)]])\n",
    "    \n",
    "    V0 = np.array([[1.0 , 0.0],\n",
    "                   [0.0 , np.exp(1.0j*phi0)]])\n",
    "    \n",
    "    return np.exp(1.0j*delta*t/2.0)*V1@U@V0\n",
    "\n",
    "def thermPulse(psi0, t, Omega0, delPrime, eta, nbar, Ncut): #1-dimensional\n",
    "    result = psi(0.0+0.0j,0.0+0.0j)\n",
    "    for n in range(Ncut):\n",
    "        result += prob(n,nbar)*pulse(t, Omega0*Omega(n,0,eta), delPrime, 0.0, 0.0)@psi0\n",
    "    return result\n",
    "\n",
    "def therm3DPulse(psi0, t, Omega0, delPrime, nbars, Omegas, Ncut):\n",
    "    nbarx = nbars[0]\n",
    "    nbary = nbars[1]\n",
    "    nbarz = nbars[2]\n",
    "    #Ncut = 100\n",
    "    result = psi(0.0+0.0j,0.0+0.0j)\n",
    "    for nx in range(Ncut):\n",
    "        Probx = prob(nx,nbarx)\n",
    "        for ny in range(Ncut):\n",
    "            Probxy = Probx*prob(ny,nbary)\n",
    "            for nz in range(Ncut):\n",
    "                result += Probxy*prob(nz,nbarz)*pulse(t, Omega0*Omegas[nx,ny,nz], delPrime, 0.0, 0.0)@psi0\n",
    "    return result\n",
    "\n",
    "def rhoee(psi):\n",
    "    return (abs(psi[1]))**2.0\n",
    "\n",
    "def rhogg(psi):\n",
    "    return (abs(psi[0]))**2.0\n",
    "\n",
    "def prob(n,nbar):\n",
    "    return 1.0/(nbar+1)*(nbar/(nbar+1))**n    #returns prob of being in state n given nbar\n",
    "\n",
    "def Omega(n,m,eta):\n",
    "    return np.exp(-eta**2/2.0) * eta**(np.abs(m)) * (math.factorial(n)/math.factorial(n+m))**(np.sign(m)/2.0) \\\n",
    "        * L(n,np.abs(m))(eta**2)              #returns unitless rabi rate of transition n -> n+m given Lamb-Dicke Parameter"
   ]
  },
  {
   "cell_type": "code",
   "execution_count": 3,
   "id": "c101dcff",
   "metadata": {},
   "outputs": [],
   "source": [
    "def prob(n,nbar):\n",
    "    return 1.0/(nbar+1)*(nbar/(nbar+1))**n\n",
    "\n",
    "def expE(nbar, omega, Ncut):\n",
    "    expE = 0.0\n",
    "    #Ncut = 1001\n",
    "    for n in range(Ncut):\n",
    "        expE += prob(n,nbar)*hbar*omega*(0.5+n)\n",
    "    return expE\n",
    "\n",
    "def expEHeat(nbar0, nbarf, omega, Ncut):\n",
    "    return expE((nbar0+nbarf)/2.0, omega, Ncut)\n",
    "\n",
    "hbar = sp.constants.hbar\n",
    "h = sp.constants.h\n",
    "c = sp.constants.c\n",
    "e = sp.constants.e\n",
    "eVtoJ = 1.602176634e-19\n",
    "amutokg = 1.66053906660e-27\n",
    "\n",
    "omega = 2.0*np.pi*778e3 #Lange\n",
    "Omegarf = 2.0*np.pi*13e6 #Lange\n",
    "m = 170.936331517*amutokg\n",
    "beta = 0.0\n",
    "alpha = 5.89e-40 #J m^2 V^-2 E2 transition (Lange)\n",
    "nu0 = 688358979309307.82 #Hz E2 transition (Huntemann)"
   ]
  },
  {
   "cell_type": "code",
   "execution_count": 8,
   "id": "eedf0ae2",
   "metadata": {},
   "outputs": [
    {
     "data": {
      "image/png": "[encoded data removed]",
      "text/plain": [
       "<Figure size 432x288 with 1 Axes>"
      ]
     },
     "metadata": {
      "needs_background": "light"
     },
     "output_type": "display_data"
    }
   ],
   "source": [
    "pts = 5\n",
    "nbarfs = np.linspace(0, 40, pts)\n",
    "Ncut = 1201\n",
    "nbar0 = 0.0\n",
    "shifts = -expEHeat(nbar0, nbarfs, omega, Ncut)*(3.0/(m*c**2) + (alpha/(h*nu0))*(3.0*m*Omegarf**2/(2.0*e**2)))\n",
    "plt.plot(nbarfs,shifts*nu0*1.0e3, label=\"Ncut=1201\")\n",
    "plt.xlabel(\"Final nbar\")\n",
    "plt.ylabel(\"Shift (mHz)\")\n",
    "plt.title(\"Converged 2nd Order Doppler and DC Stark Shift \")\n",
    "plt.show()"
   ]
  },
  {
   "cell_type": "code",
   "execution_count": 5,
   "id": "5385b53a",
   "metadata": {},
   "outputs": [],
   "source": [
    "def HRJumpThermErrSig(deld, psi0, t1, T, t2, Delta, Omega0, eta, nbar0, nbarf, Ncut):\n",
    "    delPrime = deld - Delta\n",
    "    freeEvo = pulse(T, 0.0, deld, 0.0, 0.0)\n",
    "    pi2PhaseInjP = pulse(0.0, 0.0, 0.0, 0.0, np.pi/2.0)\n",
    "    pi2PhaseInjM = pulse(0.0, 0.0, 0.0, 0.0, -np.pi/2.0)\n",
    "    #def thermPulse(psi0, t, Omega0, delPrime, eta, nbar, Ncut): #1-dimensional\n",
    "    intState = thermPulse(psi0, t1, Omega0, delPrime, eta, nbar0, Ncut)\n",
    "    resultP = thermPulse(thermPulse(freeEvo@pi2PhaseInjP@intState, 2.0*t2/3.0, -Omega0, delPrime, eta, nbarf, Ncut), t2/3.0, Omega0, delPrime, eta, nbarf, Ncut)\n",
    "    resultM = thermPulse(thermPulse(freeEvo@pi2PhaseInjM@intState, 2.0*t2/3.0, -Omega0, delPrime, eta, nbarf, Ncut), t2/3.0, Omega0, delPrime, eta, nbarf, Ncut)\n",
    "    return rhoee(resultP) - rhoee(resultM)"
   ]
  },
  {
   "cell_type": "code",
   "execution_count": 18,
   "id": "9ad0990b",
   "metadata": {},
   "outputs": [
    {
     "name": "stdout",
     "output_type": "stream",
     "text": [
      "0.0\n",
      "6.154456162935089e-08\n",
      "10.0\n",
      "0.00024727409123724195\n",
      "20.0\n",
      "0.0004731227947227715\n",
      "30.0\n",
      "0.0006826801253466468\n",
      "40.0\n",
      "0.0008799923445351921\n"
     ]
    }
   ],
   "source": [
    "Ncut = 601\n",
    "pts = 5\n",
    "nbarfs = np.linspace(0, 40, pts)\n",
    "psi0 = psi(0.0, 1.0)\n",
    "Delta = 18.303*2.0*np.pi*1.0e-3 #hz\n",
    "Omega0 = 20.0*2.0*np.pi #hz\n",
    "nbar0 = 0.0 \n",
    "t1 = np.pi/(2.0*Omega0)\n",
    "t2 = 3.0*np.pi/(2.0*Omega0)\n",
    "T = 50.0e-3\n",
    "eta = 0.05\n",
    "shifts1 = np.zeros(pts)\n",
    "\n",
    "tol = 1.0e-11\n",
    "x0 = -0.1\n",
    "x1 = 0.5\n",
    "guessTol = 5.0\n",
    "\n",
    "for ii in range(pts):\n",
    "    print(nbarfs[ii])\n",
    "    shifts1[ii] = sp.optimize.root_scalar(HRJumpThermErrSig, args=(psi0, t1, T, t2, Delta, Omega0, eta, nbar0, nbarfs[ii], Ncut), bracket=[x0,x1], xtol = tol).root\n",
    "    print(shifts1[ii])\n",
    "    x0 = shifts1[ii] - guessTol\n",
    "    x1 = shifts1[ii] + guessTol\n",
    "    #print(x0,x1)\n"
   ]
  },
  {
   "cell_type": "code",
   "execution_count": 19,
   "id": "47807801",
   "metadata": {},
   "outputs": [
    {
     "data": {
      "image/png": "[encoded data removed]",
      "text/plain": [
       "<Figure size 432x288 with 1 Axes>"
      ]
     },
     "metadata": {
      "needs_background": "light"
     },
     "output_type": "display_data"
    }
   ],
   "source": [
    "plt.plot(nbarfs,shifts1*1e3, label=\"HRSJump\")\n",
    "plt.plot(nbarfs,-shifts*nu0*1.0e3, label=\"Doppler and Stark Shifts\")\n",
    "\n",
    "plt.xlabel(\"Final nbar\")\n",
    "plt.ylabel(\"Shift (mHz)\")\n",
    "plt.title(\"HRJump Shifts\")\n",
    "plt.show()"
   ]
  },
  {
   "cell_type": "code",
   "execution_count": 10,
   "id": "33af4401",
   "metadata": {},
   "outputs": [
    {
     "data": {
      "text/plain": [
       "array([4.92336351e-07, 4.94936388e-04, 9.46653168e-04, 1.36578738e-03,\n",
       "       1.76043134e-03])"
      ]
     },
     "execution_count": 10,
     "metadata": {},
     "output_type": "execute_result"
    }
   ],
   "source": [
    "#Omega0 = 20*2*pi\n",
    "#T = 50 ms\n",
    "#Delta = 0.23 = 36.606*2*pi*1e-3 \n",
    "array([4.92336351e-07, 4.94936388e-04, 9.46653168e-04, 1.36578738e-03,\n",
    "       1.76043134e-03])"
   ]
  },
  {
   "cell_type": "code",
   "execution_count": 14,
   "id": "3edf5665",
   "metadata": {},
   "outputs": [
    {
     "data": {
      "text/plain": [
       "array([2.46176291e-07, 2.47737773e-04, 4.74308534e-04, 6.84935873e-04,\n",
       "       8.83608392e-04])"
      ]
     },
     "execution_count": 14,
     "metadata": {},
     "output_type": "execute_result"
    }
   ],
   "source": [
    "#Omega0 = 20*2*pi\n",
    "#T = 100 ms\n",
    "#Delta = 0.23 = 36.606*2*pi*1e-3 \n",
    "array([2.46176291e-07, 2.47737773e-04, 4.74308534e-04, 6.84935873e-04,\n",
    "       8.83608392e-04])"
   ]
  },
  {
   "cell_type": "code",
   "execution_count": 17,
   "id": "3478a38e",
   "metadata": {},
   "outputs": [
    {
     "data": {
      "text/plain": [
       "array([3.07723167e-08, 1.23836856e-04, 2.37293796e-04, 3.42866911e-04,\n",
       "       4.42536349e-04])"
      ]
     },
     "execution_count": 17,
     "metadata": {},
     "output_type": "execute_result"
    }
   ],
   "source": [
    "#Omega0 = 40*2*pi\n",
    "#T = 100 ms\n",
    "#Delta = 0.23 = 36.606*2*pi*1e-3 \n",
    "array([3.07723167e-08, 1.23836856e-04, 2.37293796e-04, 3.42866911e-04,\n",
    "       4.42536349e-04])"
   ]
  },
  {
   "cell_type": "code",
   "execution_count": 21,
   "id": "b11b278c",
   "metadata": {},
   "outputs": [
    {
     "ename": "NameError",
     "evalue": "name 'array' is not defined",
     "output_type": "error",
     "traceback": [
      "\u001b[1;31m---------------------------------------------------------------------------\u001b[0m",
      "\u001b[1;31mNameError\u001b[0m                                 Traceback (most recent call last)",
      "Input \u001b[1;32mIn [21]\u001b[0m, in \u001b[0;36m<cell line: 4>\u001b[1;34m()\u001b[0m\n\u001b[0;32m      1\u001b[0m \u001b[38;5;66;03m#Omega0 = 20*2*pi\u001b[39;00m\n\u001b[0;32m      2\u001b[0m \u001b[38;5;66;03m#T = 50 ms\u001b[39;00m\n\u001b[0;32m      3\u001b[0m \u001b[38;5;66;03m#Delta = 18.303*2*pi*1e-3 \u001b[39;00m\n\u001b[1;32m----> 4\u001b[0m \u001b[43marray\u001b[49m([\u001b[38;5;241m6.15445616e-08\u001b[39m, \u001b[38;5;241m2.47274091e-04\u001b[39m, \u001b[38;5;241m4.73122795e-04\u001b[39m, \u001b[38;5;241m6.82680125e-04\u001b[39m,\n\u001b[0;32m      5\u001b[0m        \u001b[38;5;241m8.79992345e-04\u001b[39m])\n",
      "\u001b[1;31mNameError\u001b[0m: name 'array' is not defined"
     ]
    }
   ],
   "source": [
    "#Omega0 = 20*2*pi\n",
    "#T = 50 ms\n",
    "#Delta = 18.303*2*pi*1e-3 \n",
    "array([6.15445616e-08, 2.47274091e-04, 4.73122795e-04, 6.82680125e-04,\n",
    "       8.79992345e-04])"
   ]
  },
  {
   "cell_type": "code",
   "execution_count": 45,
   "id": "44aec3a8",
   "metadata": {},
   "outputs": [
    {
     "data": {
      "text/plain": [
       "[<matplotlib.lines.Line2D at 0x1e20463c1c0>]"
      ]
     },
     "execution_count": 45,
     "metadata": {},
     "output_type": "execute_result"
    },
    {
     "data": {
      "image/png": "[encoded data removed]",
      "text/plain": [
       "<Figure size 432x288 with 1 Axes>"
      ]
     },
     "metadata": {
      "needs_background": "light"
     },
     "output_type": "display_data"
    }
   ],
   "source": [
    "plt.plot(nbarfs,(shifts1+shifts*nu0)*1.0e3, label=\"Ncut=1201\")\n"
   ]
  },
  {
   "cell_type": "markdown",
   "id": "1f1decfb",
   "metadata": {},
   "source": [
    "Now for the Modified Hyper Ramsey scheme:"
   ]
  },
  {
   "cell_type": "code",
   "execution_count": 5,
   "id": "02fbf57f",
   "metadata": {},
   "outputs": [],
   "source": [
    "def MHRSthermPulse(psi0, t, Omega0, delPrime, phi0, phi1, eta, nbar, Ncut): #1-dimensional\n",
    "    result = psi(0.0+0.0j,0.0+0.0j)\n",
    "    for n in range(Ncut):\n",
    "        result += prob(n,nbar)*pulse(t, Omega0*Omega(n,0,eta), delPrime, phi0, phi1)@psi0\n",
    "    return result"
   ]
  },
  {
   "cell_type": "code",
   "execution_count": 6,
   "id": "04bf0afb",
   "metadata": {},
   "outputs": [],
   "source": [
    "def HRAThermp(deld, psi0, t, T, Delta, Omega0, eta, nbar0, nbarf, Ncut):\n",
    "    #thermPulse(psi0, t, Omega0, delPrime, phi0, phi1, eta, nbar, Ncut):\n",
    "    delPrime = deld - Delta\n",
    "    freeEvo = pulse(T, 0.0, deld, 0.0, 0.0)\n",
    "    state1 = MHRSthermPulse(psi0, t, Omega0, delPrime, np.pi/2.0, -np.pi/2.0, eta, nbar0, Ncut)\n",
    "    state2 = freeEvo@state1\n",
    "    state3 = MHRSthermPulse(state2, 2.0*t, Omega0, delPrime, np.pi, -np.pi, eta, nbarf, Ncut)\n",
    "    state4 = MHRSthermPulse(state3, t, Omega0, delPrime, 0.0, 0.0, eta, nbarf, Ncut)\n",
    "    return state4\n",
    "\n",
    "def HRAThermn(deld, psi0, t, T, Delta, Omega0, eta, nbar0, nbarf, Ncut):\n",
    "    delPrime = deld - Delta\n",
    "    freeEvo = pulse(T, 0.0, deld, 0.0, 0.0)\n",
    "    state1 = MHRSthermPulse(psi0, t, Omega0, delPrime, -np.pi/2.0, np.pi/2.0, eta, nbar0, Ncut)\n",
    "    state2 = freeEvo@state1\n",
    "    state3 = MHRSthermPulse(state2, 2.0*t, Omega0, delPrime, np.pi, -np.pi, eta, nbarf, Ncut)\n",
    "    state4 = MHRSthermPulse(state3, t, Omega0, delPrime, 0.0, 0.0, eta, nbarf, Ncut)\n",
    "    return state4\n",
    "    \n",
    "def HRBThermp(deld, psi0, t, T, Delta, Omega0, eta, nbar0, nbarf, Ncut):\n",
    "    delPrime = deld - Delta\n",
    "    freeEvo = pulse(T, 0.0, deld, 0.0, 0.0)\n",
    "    state1 = MHRSthermPulse(psi0, t, Omega0, delPrime, 0.0, 0.0, eta, nbar0, Ncut)\n",
    "    state2 = freeEvo@state1\n",
    "    state3 = MHRSthermPulse(state2, 2.0*t, Omega0, delPrime, np.pi, -np.pi/2.0, eta, nbarf, Ncut)\n",
    "    state4 = MHRSthermPulse(state3, t, Omega0, delPrime, 0.0, -np.pi/2.0, eta, nbarf, Ncut)\n",
    "    return state4\n",
    "\n",
    "def HRBThermn(deld, psi0, t, T, Delta, Omega0, eta, nbar0, nbarf, Ncut):\n",
    "    delPrime = deld - Delta\n",
    "    freeEvo = pulse(T, 0.0, deld, 0.0, 0.0)\n",
    "    state1 = MHRSthermPulse(psi0, t, Omega0, delPrime, 0.0, 0.0, eta, nbar0, Ncut)\n",
    "    state2 = freeEvo@state1\n",
    "    state3 = MHRSthermPulse(state2, 2.0*t, Omega0, delPrime, np.pi, -3.0*np.pi/2.0, eta, nbarf, Ncut)\n",
    "    state4 = MHRSthermPulse(state3, t, Omega0, delPrime, 0.0, np.pi/2.0, eta, nbarf, Ncut)\n",
    "    return state4"
   ]
  },
  {
   "cell_type": "code",
   "execution_count": 7,
   "id": "d972bd19",
   "metadata": {},
   "outputs": [],
   "source": [
    "def MHRThermES1(deld, psi0, t, T, Delta, Omega0, eta, nbar0, nbarf, Ncut):\n",
    "    return rhoee(HRAThermp(deld, psi0, t, T, Delta, Omega0, eta, nbar0, nbarf, Ncut)) - rhoee(HRBThermn(deld, psi0, t, T, Delta, Omega0, eta, nbar0, nbarf, Ncut))\n",
    "def MHRThermES2(deld, psi0, t, T, Delta, Omega0, eta, nbar0, nbarf, Ncut):\n",
    "    return rhoee(HRBThermp(deld, psi0, t, T, Delta, Omega0, eta, nbar0, nbarf, Ncut)) - rhoee(HRAThermn(deld, psi0, t, T, Delta, Omega0, eta, nbar0, nbarf, Ncut))"
   ]
  },
  {
   "cell_type": "code",
   "execution_count": 68,
   "id": "03dfac33",
   "metadata": {},
   "outputs": [
    {
     "name": "stdout",
     "output_type": "stream",
     "text": [
      "0.0\n",
      "1.8893697560781546e-15\n",
      "2.1052631578947367\n",
      "0.002089521844131548\n",
      "4.2105263157894735\n",
      "0.006847599364784144\n",
      "6.315789473684211\n",
      "0.014214978325503815\n",
      "8.421052631578947\n",
      "0.024131702204758777\n",
      "10.526315789473683\n",
      "0.036537251225199366\n",
      "12.631578947368421\n",
      "0.05137067126176127\n",
      "14.736842105263158\n",
      "0.06857069313975887\n",
      "16.842105263157894\n",
      "0.08807584268204656\n",
      "18.94736842105263\n",
      "0.10982454027839651\n",
      "21.052631578947366\n",
      "0.13375518164945277\n",
      "23.157894736842103\n",
      "0.1598061745611992\n",
      "25.263157894736842\n",
      "0.1879158845882709\n",
      "27.36842105263158\n",
      "0.21802243343408578\n",
      "29.473684210526315\n",
      "0.2500633100179493\n",
      "31.57894736842105\n",
      "0.2839747950926956\n",
      "33.68421052631579\n",
      "0.31969124769942775\n",
      "35.78947368421053\n",
      "0.35714433779479554\n",
      "37.89473684210526\n",
      "0.3962623236966246\n",
      "40.0\n",
      "0.4369694654690512\n"
     ]
    }
   ],
   "source": [
    "#pts = 15\n",
    "#Ncut = 601\n",
    "#psi0 = psi(0.0, 1.0)\n",
    "#Delta = 0.23 #*2.0*np.pi #hz\n",
    "#Omega0 = 20.0*2.0*np.pi #hz\n",
    "#nbar0 = 0.0 \n",
    "t = np.pi/(2.0*Omega0)\n",
    "T = 50.0e-3\n",
    "eta = 0.05\n",
    "shifts2 = np.zeros(pts)\n",
    "\n",
    "tol = 1.0e-11\n",
    "x0 = -0.1\n",
    "x1 = 0.5\n",
    "guessTol = 5.0\n",
    "for ii in range(pts):\n",
    "    #print(ii)\n",
    "    print(nbarfs[ii])\n",
    "    shifts2[ii] = sp.optimize.root_scalar(MHRThermES1, args=(psi0, t, T, Delta, Omega0, eta, nbar0, nbarfs[ii], Ncut), bracket=[x0,x1], xtol = tol).root\n",
    "    print(shifts2[ii])\n",
    "    x0 = shifts2[ii] - guessTol\n",
    "    x1 = shifts2[ii] + guessTol\n",
    "    #print(x0,x1)"
   ]
  },
  {
   "cell_type": "code",
   "execution_count": 69,
   "id": "66e622cd",
   "metadata": {},
   "outputs": [
    {
     "data": {
      "text/plain": [
       "[<matplotlib.lines.Line2D at 0x1e20503c760>]"
      ]
     },
     "execution_count": 69,
     "metadata": {},
     "output_type": "execute_result"
    },
    {
     "data": {
      "image/png": "[encoded data removed]",
      "text/plain": [
       "<Figure size 432x288 with 1 Axes>"
      ]
     },
     "metadata": {
      "needs_background": "light"
     },
     "output_type": "display_data"
    }
   ],
   "source": [
    "plt.plot(nbarfs,shifts2)"
   ]
  },
  {
   "cell_type": "code",
   "execution_count": 8,
   "id": "e9f78d19",
   "metadata": {},
   "outputs": [],
   "source": [
    "def RamseyErrSig(deld, psi0, t1, T, t2, Delta, Omega0, eta, nbar0, nbarf, Ncut):\n",
    "    #nbar = nbar0 + nbardot*T\n",
    "    delPrime = deld - Delta\n",
    "    freeEvo = pulse(T, 0.0, deld, 0.0, 0.0)\n",
    "    pi2PhaseInjP = pulse(0.0, 0.0, 0.0, 0.0, np.pi/2.0)\n",
    "    pi2PhaseInjM = pulse(0.0, 0.0, 0.0, 0.0, -np.pi/2.0)\n",
    "    intState = thermPulse(psi0, t1, Omega0, delPrime, eta, nbar0, Ncut)\n",
    "    resultP = thermPulse(freeEvo@pi2PhaseInjP@intState, t2, Omega0, delPrime, eta, nbarf, Ncut)\n",
    "    resultM = thermPulse(freeEvo@pi2PhaseInjM@intState, t2, Omega0, delPrime, eta, nbarf, Ncut)\n",
    "    return rhoee(resultP) - rhoee(resultM)"
   ]
  },
  {
   "cell_type": "code",
   "execution_count": 65,
   "id": "f5a6b5b0",
   "metadata": {},
   "outputs": [
    {
     "name": "stdout",
     "output_type": "stream",
     "text": [
      "0.0\n",
      "0.05533954285101383\n",
      "2.1052631578947367\n",
      "0.054595150849006166\n",
      "4.2105263157894735\n",
      "0.05387020487972807\n",
      "6.315789473684211\n",
      "0.053162789527483566\n",
      "8.421052631578947\n",
      "0.05247109779446414\n",
      "10.526315789473683\n",
      "0.051793427101286225\n",
      "12.631578947368421\n",
      "0.05112817476286371\n",
      "14.736842105263158\n",
      "0.05047383306956078\n",
      "16.842105263157894\n",
      "0.049828984102636566\n",
      "18.94736842105263\n",
      "0.04919229444423607\n",
      "21.052631578947366\n",
      "0.04856251008072057\n",
      "23.157894736842103\n",
      "0.047938452073555585\n",
      "25.263157894736842\n",
      "0.047319013801515084\n",
      "27.36842105263158\n",
      "0.04670316047449687\n",
      "29.473684210526315\n",
      "0.04608993112151865\n",
      "31.57894736842105\n",
      "0.045478442581485354\n",
      "33.68421052631579\n",
      "0.044867894504930346\n",
      "35.78947368421053\n",
      "0.044257574188594766\n",
      "37.89473684210526\n",
      "0.043646860195110625\n",
      "40.0\n",
      "0.043035224049275955\n"
     ]
    }
   ],
   "source": [
    "#pts = 15\n",
    "#nbarfs = np.linspace(0, 100, pts)\n",
    "Ncut = 401\n",
    "#psi0 = psi(0.0, 1.0)\n",
    "#Delta = 0.23 #*2.0*np.pi #hz\n",
    "#Omega0 = 20.0*2.0*np.pi #hz\n",
    "#nbar0 = 0.0 \n",
    "t1 = np.pi/(2.0*Omega0)\n",
    "t2 = 5.0*np.pi/(2.0*Omega0)\n",
    "T = 50.0e-3\n",
    "eta = 0.05\n",
    "\n",
    "shifts3 = np.zeros(pts)\n",
    "tol = 1.0e-11\n",
    "x0 = -0.1\n",
    "x1 = 0.5\n",
    "guessTol = 2.0\n",
    "\n",
    "for ii in range(pts):\n",
    "    print(nbarfs[ii])\n",
    "    shifts3[ii] = sp.optimize.root_scalar(RamseyErrSig, args=(psi0, t1, T, t2, Delta, Omega0, eta, nbar0, nbarfs[ii], Ncut), bracket=[x0,x1], xtol = tol).root\n",
    "    print(shifts3[ii])\n",
    "    x0 = shifts3[ii] - guessTol\n",
    "    x1 = shifts3[ii] + guessTol\n",
    "    #print(x0,x1)"
   ]
  },
  {
   "cell_type": "code",
   "execution_count": 66,
   "id": "ba4364c9",
   "metadata": {},
   "outputs": [
    {
     "data": {
      "image/png": "[encoded data removed]",
      "text/plain": [
       "<Figure size 432x288 with 1 Axes>"
      ]
     },
     "metadata": {
      "needs_background": "light"
     },
     "output_type": "display_data"
    }
   ],
   "source": [
    "plt.plot(nbarfs,shifts3*1e3, label=\"HRS\")\n",
    "plt.title(\"Ramsey Style 3pi/2\")\n",
    "plt.xlabel(\"Final nbar\")\n",
    "plt.ylabel(\"Shift (mHz)\")\n",
    "plt.show()\n",
    "#plt.ylim([-1,1])"
   ]
  },
  {
   "cell_type": "code",
   "execution_count": 14,
   "id": "2bfc99db",
   "metadata": {},
   "outputs": [
    {
     "name": "stdout",
     "output_type": "stream",
     "text": [
      "0.0\n",
      "0.055339542851014334\n",
      "7.142857142857143\n",
      "0.05288927483767282\n",
      "14.285714285714286\n",
      "0.05061320302030384\n",
      "21.42857142857143\n",
      "0.048450683021501816\n",
      "28.571428571428573\n",
      "0.04635239163098295\n",
      "35.714285714285715\n",
      "0.044277973034228126\n",
      "42.85714285714286\n",
      "0.04219386484524495\n",
      "50.0\n",
      "0.04007145118094295\n",
      "57.142857142857146\n",
      "0.03788555837869792\n",
      "64.28571428571429\n"
     ]
    },
    {
     "ename": "KeyboardInterrupt",
     "evalue": "",
     "output_type": "error",
     "traceback": [
      "\u001b[1;31m---------------------------------------------------------------------------\u001b[0m",
      "\u001b[1;31mKeyboardInterrupt\u001b[0m                         Traceback (most recent call last)",
      "Input \u001b[1;32mIn [14]\u001b[0m, in \u001b[0;36m<cell line: 6>\u001b[1;34m()\u001b[0m\n\u001b[0;32m      6\u001b[0m \u001b[38;5;28;01mfor\u001b[39;00m ii \u001b[38;5;129;01min\u001b[39;00m \u001b[38;5;28mrange\u001b[39m(pts):\n\u001b[0;32m      7\u001b[0m     \u001b[38;5;28mprint\u001b[39m(nbarfs[ii])\n\u001b[1;32m----> 8\u001b[0m     shifts4[ii] \u001b[38;5;241m=\u001b[39m \u001b[43msp\u001b[49m\u001b[38;5;241;43m.\u001b[39;49m\u001b[43moptimize\u001b[49m\u001b[38;5;241;43m.\u001b[39;49m\u001b[43mroot_scalar\u001b[49m\u001b[43m(\u001b[49m\u001b[43mRamseyErrSig\u001b[49m\u001b[43m,\u001b[49m\u001b[43m \u001b[49m\u001b[43margs\u001b[49m\u001b[38;5;241;43m=\u001b[39;49m\u001b[43m(\u001b[49m\u001b[43mpsi0\u001b[49m\u001b[43m,\u001b[49m\u001b[43m \u001b[49m\u001b[43mt1\u001b[49m\u001b[43m,\u001b[49m\u001b[43m \u001b[49m\u001b[43mT\u001b[49m\u001b[43m,\u001b[49m\u001b[43m \u001b[49m\u001b[43mt2\u001b[49m\u001b[43m,\u001b[49m\u001b[43m \u001b[49m\u001b[43mDelta\u001b[49m\u001b[43m,\u001b[49m\u001b[43m \u001b[49m\u001b[43mOmega0\u001b[49m\u001b[43m,\u001b[49m\u001b[43m \u001b[49m\u001b[43meta\u001b[49m\u001b[43m,\u001b[49m\u001b[43m \u001b[49m\u001b[43mnbar0\u001b[49m\u001b[43m,\u001b[49m\u001b[43m \u001b[49m\u001b[43mnbarfs\u001b[49m\u001b[43m[\u001b[49m\u001b[43mii\u001b[49m\u001b[43m]\u001b[49m\u001b[43m,\u001b[49m\u001b[43m \u001b[49m\u001b[43mNcut\u001b[49m\u001b[43m)\u001b[49m\u001b[43m,\u001b[49m\u001b[43m \u001b[49m\u001b[43mbracket\u001b[49m\u001b[38;5;241;43m=\u001b[39;49m\u001b[43m[\u001b[49m\u001b[43mx0\u001b[49m\u001b[43m,\u001b[49m\u001b[43mx1\u001b[49m\u001b[43m]\u001b[49m\u001b[43m,\u001b[49m\u001b[43m \u001b[49m\u001b[43mxtol\u001b[49m\u001b[43m \u001b[49m\u001b[38;5;241;43m=\u001b[39;49m\u001b[43m \u001b[49m\u001b[43mtol\u001b[49m\u001b[43m)\u001b[49m\u001b[38;5;241m.\u001b[39mroot\n\u001b[0;32m      9\u001b[0m     \u001b[38;5;28mprint\u001b[39m(shifts4[ii])\n\u001b[0;32m     10\u001b[0m     x0 \u001b[38;5;241m=\u001b[39m shifts4[ii] \u001b[38;5;241m-\u001b[39m guessTol\n",
      "File \u001b[1;32mD:\\Mark\\Python\\lib\\site-packages\\scipy\\optimize\\_root_scalar.py:249\u001b[0m, in \u001b[0;36mroot_scalar\u001b[1;34m(f, args, method, bracket, fprime, fprime2, x0, x1, xtol, rtol, maxiter, options)\u001b[0m\n\u001b[0;32m    246\u001b[0m         \u001b[38;5;28;01mraise\u001b[39;00m \u001b[38;5;167;01mValueError\u001b[39;00m(\u001b[38;5;124m'\u001b[39m\u001b[38;5;124mBracket needed for \u001b[39m\u001b[38;5;132;01m%s\u001b[39;00m\u001b[38;5;124m'\u001b[39m \u001b[38;5;241m%\u001b[39m method)\n\u001b[0;32m    248\u001b[0m     a, b \u001b[38;5;241m=\u001b[39m bracket[:\u001b[38;5;241m2\u001b[39m]\n\u001b[1;32m--> 249\u001b[0m     r, sol \u001b[38;5;241m=\u001b[39m methodc(f, a, b, args\u001b[38;5;241m=\u001b[39margs, \u001b[38;5;241m*\u001b[39m\u001b[38;5;241m*\u001b[39mkwargs)\n\u001b[0;32m    250\u001b[0m \u001b[38;5;28;01melif\u001b[39;00m meth \u001b[38;5;129;01min\u001b[39;00m [\u001b[38;5;124m'\u001b[39m\u001b[38;5;124msecant\u001b[39m\u001b[38;5;124m'\u001b[39m]:\n\u001b[0;32m    251\u001b[0m     \u001b[38;5;28;01mif\u001b[39;00m x0 \u001b[38;5;129;01mis\u001b[39;00m \u001b[38;5;28;01mNone\u001b[39;00m:\n",
      "File \u001b[1;32mD:\\Mark\\Python\\lib\\site-packages\\scipy\\optimize\\_zeros_py.py:783\u001b[0m, in \u001b[0;36mbrentq\u001b[1;34m(f, a, b, args, xtol, rtol, maxiter, full_output, disp)\u001b[0m\n\u001b[0;32m    781\u001b[0m \u001b[38;5;28;01mif\u001b[39;00m rtol \u001b[38;5;241m<\u001b[39m _rtol:\n\u001b[0;32m    782\u001b[0m     \u001b[38;5;28;01mraise\u001b[39;00m \u001b[38;5;167;01mValueError\u001b[39;00m(\u001b[38;5;124m\"\u001b[39m\u001b[38;5;124mrtol too small (\u001b[39m\u001b[38;5;132;01m%g\u001b[39;00m\u001b[38;5;124m < \u001b[39m\u001b[38;5;132;01m%g\u001b[39;00m\u001b[38;5;124m)\u001b[39m\u001b[38;5;124m\"\u001b[39m \u001b[38;5;241m%\u001b[39m (rtol, _rtol))\n\u001b[1;32m--> 783\u001b[0m r \u001b[38;5;241m=\u001b[39m \u001b[43m_zeros\u001b[49m\u001b[38;5;241;43m.\u001b[39;49m\u001b[43m_brentq\u001b[49m\u001b[43m(\u001b[49m\u001b[43mf\u001b[49m\u001b[43m,\u001b[49m\u001b[43m \u001b[49m\u001b[43ma\u001b[49m\u001b[43m,\u001b[49m\u001b[43m \u001b[49m\u001b[43mb\u001b[49m\u001b[43m,\u001b[49m\u001b[43m \u001b[49m\u001b[43mxtol\u001b[49m\u001b[43m,\u001b[49m\u001b[43m \u001b[49m\u001b[43mrtol\u001b[49m\u001b[43m,\u001b[49m\u001b[43m \u001b[49m\u001b[43mmaxiter\u001b[49m\u001b[43m,\u001b[49m\u001b[43m \u001b[49m\u001b[43margs\u001b[49m\u001b[43m,\u001b[49m\u001b[43m \u001b[49m\u001b[43mfull_output\u001b[49m\u001b[43m,\u001b[49m\u001b[43m \u001b[49m\u001b[43mdisp\u001b[49m\u001b[43m)\u001b[49m\n\u001b[0;32m    784\u001b[0m \u001b[38;5;28;01mreturn\u001b[39;00m results_c(full_output, r)\n",
      "Input \u001b[1;32mIn [9]\u001b[0m, in \u001b[0;36mRamseyErrSig\u001b[1;34m(deld, psi0, t1, T, t2, Delta, Omega0, eta, nbar0, nbarf, Ncut)\u001b[0m\n\u001b[0;32m      5\u001b[0m pi2PhaseInjP \u001b[38;5;241m=\u001b[39m pulse(\u001b[38;5;241m0.0\u001b[39m, \u001b[38;5;241m0.0\u001b[39m, \u001b[38;5;241m0.0\u001b[39m, \u001b[38;5;241m0.0\u001b[39m, np\u001b[38;5;241m.\u001b[39mpi\u001b[38;5;241m/\u001b[39m\u001b[38;5;241m2.0\u001b[39m)\n\u001b[0;32m      6\u001b[0m pi2PhaseInjM \u001b[38;5;241m=\u001b[39m pulse(\u001b[38;5;241m0.0\u001b[39m, \u001b[38;5;241m0.0\u001b[39m, \u001b[38;5;241m0.0\u001b[39m, \u001b[38;5;241m0.0\u001b[39m, \u001b[38;5;241m-\u001b[39mnp\u001b[38;5;241m.\u001b[39mpi\u001b[38;5;241m/\u001b[39m\u001b[38;5;241m2.0\u001b[39m)\n\u001b[1;32m----> 7\u001b[0m intState \u001b[38;5;241m=\u001b[39m \u001b[43mthermPulse\u001b[49m\u001b[43m(\u001b[49m\u001b[43mpsi0\u001b[49m\u001b[43m,\u001b[49m\u001b[43m \u001b[49m\u001b[43mt1\u001b[49m\u001b[43m,\u001b[49m\u001b[43m \u001b[49m\u001b[43mOmega0\u001b[49m\u001b[43m,\u001b[49m\u001b[43m \u001b[49m\u001b[43mdelPrime\u001b[49m\u001b[43m,\u001b[49m\u001b[43m \u001b[49m\u001b[43meta\u001b[49m\u001b[43m,\u001b[49m\u001b[43m \u001b[49m\u001b[43mnbar0\u001b[49m\u001b[43m,\u001b[49m\u001b[43m \u001b[49m\u001b[43mNcut\u001b[49m\u001b[43m)\u001b[49m\n\u001b[0;32m      8\u001b[0m resultP \u001b[38;5;241m=\u001b[39m thermPulse(freeEvo\u001b[38;5;129m@pi2PhaseInjP\u001b[39m\u001b[38;5;129m@intState\u001b[39m, t2, Omega0, delPrime, eta, nbarf, Ncut)\n\u001b[0;32m      9\u001b[0m resultM \u001b[38;5;241m=\u001b[39m thermPulse(freeEvo\u001b[38;5;129m@pi2PhaseInjM\u001b[39m\u001b[38;5;129m@intState\u001b[39m, t2, Omega0, delPrime, eta, nbarf, Ncut)\n",
      "Input \u001b[1;32mIn [7]\u001b[0m, in \u001b[0;36mthermPulse\u001b[1;34m(psi0, t, Omega0, delPrime, eta, nbar, Ncut)\u001b[0m\n\u001b[0;32m     24\u001b[0m result \u001b[38;5;241m=\u001b[39m psi(\u001b[38;5;241m0.0\u001b[39m\u001b[38;5;241m+\u001b[39m\u001b[38;5;241m0.0\u001b[39mj,\u001b[38;5;241m0.0\u001b[39m\u001b[38;5;241m+\u001b[39m\u001b[38;5;241m0.0\u001b[39mj)\n\u001b[0;32m     25\u001b[0m \u001b[38;5;28;01mfor\u001b[39;00m n \u001b[38;5;129;01min\u001b[39;00m \u001b[38;5;28mrange\u001b[39m(Ncut):\n\u001b[1;32m---> 26\u001b[0m     result \u001b[38;5;241m+\u001b[39m\u001b[38;5;241m=\u001b[39m prob(n,nbar)\u001b[38;5;241m*\u001b[39mpulse(t, Omega0\u001b[38;5;241m*\u001b[39m\u001b[43mOmega\u001b[49m\u001b[43m(\u001b[49m\u001b[43mn\u001b[49m\u001b[43m,\u001b[49m\u001b[38;5;241;43m0\u001b[39;49m\u001b[43m,\u001b[49m\u001b[43meta\u001b[49m\u001b[43m)\u001b[49m, delPrime, \u001b[38;5;241m0.0\u001b[39m, \u001b[38;5;241m0.0\u001b[39m)\u001b[38;5;129m@psi0\u001b[39m\n\u001b[0;32m     27\u001b[0m \u001b[38;5;28;01mreturn\u001b[39;00m result\n",
      "Input \u001b[1;32mIn [7]\u001b[0m, in \u001b[0;36mOmega\u001b[1;34m(n, m, eta)\u001b[0m\n\u001b[0;32m     52\u001b[0m \u001b[38;5;28;01mdef\u001b[39;00m \u001b[38;5;21mOmega\u001b[39m(n,m,eta):\n\u001b[0;32m     53\u001b[0m     \u001b[38;5;28;01mreturn\u001b[39;00m np\u001b[38;5;241m.\u001b[39mexp(\u001b[38;5;241m-\u001b[39meta\u001b[38;5;241m*\u001b[39m\u001b[38;5;241m*\u001b[39m\u001b[38;5;241m2\u001b[39m\u001b[38;5;241m/\u001b[39m\u001b[38;5;241m2.0\u001b[39m) \u001b[38;5;241m*\u001b[39m eta\u001b[38;5;241m*\u001b[39m\u001b[38;5;241m*\u001b[39m(np\u001b[38;5;241m.\u001b[39mabs(m)) \u001b[38;5;241m*\u001b[39m (math\u001b[38;5;241m.\u001b[39mfactorial(n)\u001b[38;5;241m/\u001b[39mmath\u001b[38;5;241m.\u001b[39mfactorial(n\u001b[38;5;241m+\u001b[39mm))\u001b[38;5;241m*\u001b[39m\u001b[38;5;241m*\u001b[39m(np\u001b[38;5;241m.\u001b[39msign(m)\u001b[38;5;241m/\u001b[39m\u001b[38;5;241m2.0\u001b[39m) \\\n\u001b[1;32m---> 54\u001b[0m         \u001b[38;5;241m*\u001b[39m \u001b[43mL\u001b[49m\u001b[43m(\u001b[49m\u001b[43mn\u001b[49m\u001b[43m,\u001b[49m\u001b[43mnp\u001b[49m\u001b[38;5;241;43m.\u001b[39;49m\u001b[43mabs\u001b[49m\u001b[43m(\u001b[49m\u001b[43mm\u001b[49m\u001b[43m)\u001b[49m\u001b[43m)\u001b[49m(eta\u001b[38;5;241m*\u001b[39m\u001b[38;5;241m*\u001b[39m\u001b[38;5;241m2\u001b[39m)\n",
      "File \u001b[1;32mD:\\Mark\\Python\\lib\\site-packages\\scipy\\special\\_orthogonal.py:647\u001b[0m, in \u001b[0;36mgenlaguerre\u001b[1;34m(n, alpha, monic)\u001b[0m\n\u001b[0;32m    645\u001b[0m \u001b[38;5;28;01melse\u001b[39;00m:\n\u001b[0;32m    646\u001b[0m     n1 \u001b[38;5;241m=\u001b[39m n\n\u001b[1;32m--> 647\u001b[0m x, w \u001b[38;5;241m=\u001b[39m \u001b[43mroots_genlaguerre\u001b[49m\u001b[43m(\u001b[49m\u001b[43mn1\u001b[49m\u001b[43m,\u001b[49m\u001b[43m \u001b[49m\u001b[43malpha\u001b[49m\u001b[43m)\u001b[49m\n\u001b[0;32m    648\u001b[0m wfunc \u001b[38;5;241m=\u001b[39m \u001b[38;5;28;01mlambda\u001b[39;00m x: exp(\u001b[38;5;241m-\u001b[39mx) \u001b[38;5;241m*\u001b[39m x\u001b[38;5;241m*\u001b[39m\u001b[38;5;241m*\u001b[39malpha\n\u001b[0;32m    649\u001b[0m \u001b[38;5;28;01mif\u001b[39;00m n \u001b[38;5;241m==\u001b[39m \u001b[38;5;241m0\u001b[39m:\n",
      "File \u001b[1;32mD:\\Mark\\Python\\lib\\site-packages\\scipy\\special\\_orthogonal.py:554\u001b[0m, in \u001b[0;36mroots_genlaguerre\u001b[1;34m(n, alpha, mu)\u001b[0m\n\u001b[0;32m    551\u001b[0m f \u001b[38;5;241m=\u001b[39m \u001b[38;5;28;01mlambda\u001b[39;00m n, x: cephes\u001b[38;5;241m.\u001b[39meval_genlaguerre(n, alpha, x)\n\u001b[0;32m    552\u001b[0m df \u001b[38;5;241m=\u001b[39m \u001b[38;5;28;01mlambda\u001b[39;00m n, x: (n\u001b[38;5;241m*\u001b[39mcephes\u001b[38;5;241m.\u001b[39meval_genlaguerre(n, alpha, x)\n\u001b[0;32m    553\u001b[0m                  \u001b[38;5;241m-\u001b[39m (n \u001b[38;5;241m+\u001b[39m alpha)\u001b[38;5;241m*\u001b[39mcephes\u001b[38;5;241m.\u001b[39meval_genlaguerre(n\u001b[38;5;241m-\u001b[39m\u001b[38;5;241m1\u001b[39m, alpha, x))\u001b[38;5;241m/\u001b[39mx\n\u001b[1;32m--> 554\u001b[0m \u001b[38;5;28;01mreturn\u001b[39;00m \u001b[43m_gen_roots_and_weights\u001b[49m\u001b[43m(\u001b[49m\u001b[43mm\u001b[49m\u001b[43m,\u001b[49m\u001b[43m \u001b[49m\u001b[43mmu0\u001b[49m\u001b[43m,\u001b[49m\u001b[43m \u001b[49m\u001b[43man_func\u001b[49m\u001b[43m,\u001b[49m\u001b[43m \u001b[49m\u001b[43mbn_func\u001b[49m\u001b[43m,\u001b[49m\u001b[43m \u001b[49m\u001b[43mf\u001b[49m\u001b[43m,\u001b[49m\u001b[43m \u001b[49m\u001b[43mdf\u001b[49m\u001b[43m,\u001b[49m\u001b[43m \u001b[49m\u001b[38;5;28;43;01mFalse\u001b[39;49;00m\u001b[43m,\u001b[49m\u001b[43m \u001b[49m\u001b[43mmu\u001b[49m\u001b[43m)\u001b[49m\n",
      "File \u001b[1;32mD:\\Mark\\Python\\lib\\site-packages\\scipy\\special\\_orthogonal.py:186\u001b[0m, in \u001b[0;36m_gen_roots_and_weights\u001b[1;34m(n, mu0, an_func, bn_func, f, df, symmetrize, mu)\u001b[0m\n\u001b[0;32m    184\u001b[0m c[\u001b[38;5;241m0\u001b[39m,\u001b[38;5;241m1\u001b[39m:] \u001b[38;5;241m=\u001b[39m bn_func(k[\u001b[38;5;241m1\u001b[39m:])\n\u001b[0;32m    185\u001b[0m c[\u001b[38;5;241m1\u001b[39m,:] \u001b[38;5;241m=\u001b[39m an_func(k)\n\u001b[1;32m--> 186\u001b[0m x \u001b[38;5;241m=\u001b[39m \u001b[43mlinalg\u001b[49m\u001b[38;5;241;43m.\u001b[39;49m\u001b[43meigvals_banded\u001b[49m\u001b[43m(\u001b[49m\u001b[43mc\u001b[49m\u001b[43m,\u001b[49m\u001b[43m \u001b[49m\u001b[43moverwrite_a_band\u001b[49m\u001b[38;5;241;43m=\u001b[39;49m\u001b[38;5;28;43;01mTrue\u001b[39;49;00m\u001b[43m)\u001b[49m\n\u001b[0;32m    188\u001b[0m \u001b[38;5;66;03m# improve roots by one application of Newton's method\u001b[39;00m\n\u001b[0;32m    189\u001b[0m y \u001b[38;5;241m=\u001b[39m f(n, x)\n",
      "File \u001b[1;32mD:\\Mark\\Python\\lib\\site-packages\\scipy\\linalg\\_decomp.py:1104\u001b[0m, in \u001b[0;36meigvals_banded\u001b[1;34m(a_band, lower, overwrite_a_band, select, select_range, check_finite)\u001b[0m\n\u001b[0;32m   1017\u001b[0m \u001b[38;5;28;01mdef\u001b[39;00m \u001b[38;5;21meigvals_banded\u001b[39m(a_band, lower\u001b[38;5;241m=\u001b[39m\u001b[38;5;28;01mFalse\u001b[39;00m, overwrite_a_band\u001b[38;5;241m=\u001b[39m\u001b[38;5;28;01mFalse\u001b[39;00m,\n\u001b[0;32m   1018\u001b[0m                    select\u001b[38;5;241m=\u001b[39m\u001b[38;5;124m'\u001b[39m\u001b[38;5;124ma\u001b[39m\u001b[38;5;124m'\u001b[39m, select_range\u001b[38;5;241m=\u001b[39m\u001b[38;5;28;01mNone\u001b[39;00m, check_finite\u001b[38;5;241m=\u001b[39m\u001b[38;5;28;01mTrue\u001b[39;00m):\n\u001b[0;32m   1019\u001b[0m     \u001b[38;5;124;03m\"\"\"\u001b[39;00m\n\u001b[0;32m   1020\u001b[0m \u001b[38;5;124;03m    Solve real symmetric or complex Hermitian band matrix eigenvalue problem.\u001b[39;00m\n\u001b[0;32m   1021\u001b[0m \n\u001b[1;32m   (...)\u001b[0m\n\u001b[0;32m   1102\u001b[0m \u001b[38;5;124;03m    array([-4.26200532, -2.22987175,  3.95222349, 12.53965359])\u001b[39;00m\n\u001b[0;32m   1103\u001b[0m \u001b[38;5;124;03m    \"\"\"\u001b[39;00m\n\u001b[1;32m-> 1104\u001b[0m     \u001b[38;5;28;01mreturn\u001b[39;00m \u001b[43meig_banded\u001b[49m\u001b[43m(\u001b[49m\u001b[43ma_band\u001b[49m\u001b[43m,\u001b[49m\u001b[43m \u001b[49m\u001b[43mlower\u001b[49m\u001b[38;5;241;43m=\u001b[39;49m\u001b[43mlower\u001b[49m\u001b[43m,\u001b[49m\u001b[43m \u001b[49m\u001b[43meigvals_only\u001b[49m\u001b[38;5;241;43m=\u001b[39;49m\u001b[38;5;241;43m1\u001b[39;49m\u001b[43m,\u001b[49m\n\u001b[0;32m   1105\u001b[0m \u001b[43m                      \u001b[49m\u001b[43moverwrite_a_band\u001b[49m\u001b[38;5;241;43m=\u001b[39;49m\u001b[43moverwrite_a_band\u001b[49m\u001b[43m,\u001b[49m\u001b[43m \u001b[49m\u001b[43mselect\u001b[49m\u001b[38;5;241;43m=\u001b[39;49m\u001b[43mselect\u001b[49m\u001b[43m,\u001b[49m\n\u001b[0;32m   1106\u001b[0m \u001b[43m                      \u001b[49m\u001b[43mselect_range\u001b[49m\u001b[38;5;241;43m=\u001b[39;49m\u001b[43mselect_range\u001b[49m\u001b[43m,\u001b[49m\u001b[43m \u001b[49m\u001b[43mcheck_finite\u001b[49m\u001b[38;5;241;43m=\u001b[39;49m\u001b[43mcheck_finite\u001b[49m\u001b[43m)\u001b[49m\n",
      "File \u001b[1;32mD:\\Mark\\Python\\lib\\site-packages\\scipy\\linalg\\_decomp.py:804\u001b[0m, in \u001b[0;36meig_banded\u001b[1;34m(***failed resolving arguments***)\u001b[0m\n\u001b[0;32m    802\u001b[0m     \u001b[38;5;28;01mif\u001b[39;00m \u001b[38;5;129;01mnot\u001b[39;00m eigvals_only:\n\u001b[0;32m    803\u001b[0m         v \u001b[38;5;241m=\u001b[39m v[:, :m]\n\u001b[1;32m--> 804\u001b[0m \u001b[43m_check_info\u001b[49m\u001b[43m(\u001b[49m\u001b[43minfo\u001b[49m\u001b[43m,\u001b[49m\u001b[43m \u001b[49m\u001b[43minternal_name\u001b[49m\u001b[43m)\u001b[49m\n\u001b[0;32m    806\u001b[0m \u001b[38;5;28;01mif\u001b[39;00m eigvals_only:\n\u001b[0;32m    807\u001b[0m     \u001b[38;5;28;01mreturn\u001b[39;00m w\n",
      "File \u001b[1;32mD:\\Mark\\Python\\lib\\site-packages\\scipy\\linalg\\_decomp.py:1350\u001b[0m, in \u001b[0;36m_check_info\u001b[1;34m(info, driver, positive)\u001b[0m\n\u001b[0;32m   1346\u001b[0m             v \u001b[38;5;241m=\u001b[39m v[:, :m]\n\u001b[0;32m   1347\u001b[0m         \u001b[38;5;28;01mreturn\u001b[39;00m w, v\n\u001b[1;32m-> 1350\u001b[0m \u001b[38;5;28;01mdef\u001b[39;00m \u001b[38;5;21m_check_info\u001b[39m(info, driver, positive\u001b[38;5;241m=\u001b[39m\u001b[38;5;124m'\u001b[39m\u001b[38;5;124mdid not converge (LAPACK info=\u001b[39m\u001b[38;5;132;01m%d\u001b[39;00m\u001b[38;5;124m)\u001b[39m\u001b[38;5;124m'\u001b[39m):\n\u001b[0;32m   1351\u001b[0m     \u001b[38;5;124;03m\"\"\"Check info return value.\"\"\"\u001b[39;00m\n\u001b[0;32m   1352\u001b[0m     \u001b[38;5;28;01mif\u001b[39;00m info \u001b[38;5;241m<\u001b[39m \u001b[38;5;241m0\u001b[39m:\n",
      "\u001b[1;31mKeyboardInterrupt\u001b[0m: "
     ]
    }
   ],
   "source": [
    "t2 = 5.0*np.pi/(2.0*Omega0)\n",
    "shifts4 = np.zeros(pts)\n",
    "x0 = -0.5\n",
    "x1 = 0.5\n",
    "guessTol = 1.0\n",
    "for ii in range(pts):\n",
    "    print(nbarfs[ii])\n",
    "    shifts4[ii] = sp.optimize.root_scalar(RamseyErrSig, args=(psi0, t1, T, t2, Delta, Omega0, eta, nbar0, nbarfs[ii], Ncut), bracket=[x0,x1], xtol = tol).root\n",
    "    print(shifts4[ii])\n",
    "    x0 = shifts4[ii] - guessTol\n",
    "    x1 = shifts4[ii] + guessTol\n",
    "    #print(x0,x1)"
   ]
  },
  {
   "cell_type": "code",
   "execution_count": 19,
   "id": "989726d8",
   "metadata": {},
   "outputs": [
    {
     "name": "stdout",
     "output_type": "stream",
     "text": [
      "64.28571428571429\n",
      "0.0356132509629028\n",
      "71.42857142857143\n",
      "0.03323287021856791\n",
      "78.57142857142857\n",
      "0.030723258282535335\n",
      "85.71428571428572\n",
      "0.0280631136741063\n",
      "92.85714285714286\n",
      "0.025230427505680202\n",
      "100.0\n",
      "0.022201954308010446\n"
     ]
    }
   ],
   "source": [
    "for ii in range(9,pts):\n",
    "    print(nbarfs[ii])\n",
    "    shifts4[ii] = sp.optimize.root_scalar(RamseyErrSig, args=(psi0, t1, T, t2, Delta, Omega0, eta, nbar0, nbarfs[ii], Ncut), bracket=[x0,x1], xtol = tol).root\n",
    "    print(shifts4[ii])\n",
    "    x0 = shifts4[ii] - guessTol\n",
    "    x1 = shifts4[ii] + guessTol"
   ]
  },
  {
   "cell_type": "code",
   "execution_count": 21,
   "id": "855042b2",
   "metadata": {},
   "outputs": [
    {
     "data": {
      "text/plain": [
       "Text(0, 0.5, 'Shift (mHz)')"
      ]
     },
     "execution_count": 21,
     "metadata": {},
     "output_type": "execute_result"
    },
    {
     "data": {
      "image/png": "[encoded data removed]",
      "text/plain": [
       "<Figure size 432x288 with 1 Axes>"
      ]
     },
     "metadata": {
      "needs_background": "light"
     },
     "output_type": "display_data"
    }
   ],
   "source": [
    "plt.plot(nbarfs,shifts4*1e3, label=\"Ramsey S\")\n",
    "plt.title(\"Ramsey Style 5pi/2\")\n",
    "plt.xlabel(\"Final nbar\")\n",
    "plt.ylabel(\"Shift (mHz)\")"
   ]
  },
  {
   "cell_type": "code",
   "execution_count": 9,
   "id": "f7078c1e",
   "metadata": {},
   "outputs": [],
   "source": [
    "def HRJumpThermErrSigFront(deld, psi0, t1, T, t2, Delta, Omega0, eta, nbar0, nbarf, Ncut):\n",
    "    delPrime = deld - Delta\n",
    "    freeEvo = pulse(T, 0.0, deld, 0.0, 0.0)\n",
    "    pi2PhaseInjP = pulse(0.0, 0.0, 0.0, 0.0, np.pi/2.0)\n",
    "    pi2PhaseInjM = pulse(0.0, 0.0, 0.0, 0.0, -np.pi/2.0)\n",
    "    #def thermPulse(psi0, t, Omega0, delPrime, eta, nbar, Ncut): #1-dimensional\n",
    "    intState = thermPulse(thermPulse(psi0, t1/3.0, Omega0, delPrime, eta, nbar0, Ncut), 2.0*t1/3.0, -Omega0, delPrime, eta, nbar0, Ncut)\n",
    "    resultP = thermPulse(freeEvo@pi2PhaseInjP@intState, t2, Omega0, delPrime, eta, nbarf, Ncut)\n",
    "    resultM = thermPulse(freeEvo@pi2PhaseInjM@intState, t2, Omega0, delPrime, eta, nbarf, Ncut)\n",
    "    return rhoee(resultP) - rhoee(resultM)"
   ]
  },
  {
   "cell_type": "code",
   "execution_count": 17,
   "id": "6d4640fe",
   "metadata": {},
   "outputs": [
    {
     "name": "stdout",
     "output_type": "stream",
     "text": [
      "0.0\n",
      "-0.0014732612875850983\n",
      "2.1052631578947367\n",
      "-0.0014712417515648291\n",
      "4.2105263157894735\n",
      "-0.0014692644622644835\n",
      "6.315789473684211\n",
      "-0.0014673284016108656\n",
      "8.421052631578947\n",
      "-0.0014654325751433169\n",
      "10.526315789473683\n",
      "-0.0014635760118668479\n",
      "12.631578947368421\n",
      "-0.0014617577639166393\n",
      "14.736842105263158\n",
      "-0.0014599769063145585\n",
      "16.842105263157894\n",
      "-0.0014582325366484775\n",
      "18.94736842105263\n",
      "-0.0014565237747159387\n",
      "21.052631578947366\n",
      "-0.0014548497622202756\n",
      "23.157894736842103\n",
      "-0.0014532096623175914\n",
      "25.263157894736842\n",
      "-0.001451602659241467\n",
      "27.36842105263158\n",
      "-0.001450027958029326\n",
      "29.473684210526315\n",
      "-0.0014484847840334331\n",
      "31.57894736842105\n",
      "-0.0014469723827410816\n",
      "33.68421052631579\n",
      "-0.0014454900197163692\n",
      "35.78947368421053\n",
      "-0.0014440369806982011\n",
      "37.89473684210526\n",
      "-0.0014426125719827797\n",
      "40.0\n",
      "-0.001441216121094161\n"
     ]
    }
   ],
   "source": [
    "Ncut = 601\n",
    "psi0 = psi(0.0, 1.0)\n",
    "pts=20\n",
    "nbarfs= np.linspace(0,40,pts)\n",
    "Delta = -0.02 #*2.0*np.pi #hz\n",
    "Omega0 = 20.0*2.0*np.pi #hz\n",
    "nbar0 = 0.0 \n",
    "t1 = np.pi/(2.0*Omega0)\n",
    "t2 = np.pi/(2.0*Omega0)\n",
    "T = 200.0e-3\n",
    "eta = 0.05\n",
    "shifts5 = np.zeros(pts)\n",
    "\n",
    "tol = 1.0e-11\n",
    "x0 = -0.1\n",
    "x1 = 0.5\n",
    "guessTol = 5.0\n",
    "\n",
    "for ii in range(pts):\n",
    "    print(nbarfs[ii])\n",
    "    shifts5[ii] = sp.optimize.root_scalar(RamseyErrSig, args=(psi0, t1, T, t2, Delta, Omega0, eta, nbar0, nbarfs[ii], Ncut), bracket=[x0,x1], xtol = tol).root\n",
    "    print(shifts5[ii])\n",
    "    x0 = shifts5[ii] - guessTol\n",
    "    x1 = shifts5[ii] + guessTol\n",
    "    #print(x0,x1)"
   ]
  },
  {
   "cell_type": "code",
   "execution_count": 18,
   "id": "d73801e3",
   "metadata": {},
   "outputs": [],
   "source": [
    "np.savetxt(\"Ramseypi2.csv\", shifts5, delimiter=',')"
   ]
  },
  {
   "cell_type": "code",
   "execution_count": 55,
   "id": "30ce5ee3",
   "metadata": {},
   "outputs": [
    {
     "data": {
      "text/plain": [
       "array([4.92336351e-07, 1.08715792e-04, 2.14628916e-04, 3.18351169e-04,\n",
       "       4.19997457e-04, 5.19678156e-04, 6.17499151e-04, 7.13561899e-04,\n",
       "       8.07963500e-04, 9.00796782e-04, 9.92150398e-04, 1.08210892e-03,\n",
       "       1.17075296e-03, 1.25815926e-03, 1.34440079e-03, 1.42954683e-03,\n",
       "       1.51366298e-03, 1.59681112e-03, 1.67904926e-03, 1.76043134e-03])"
      ]
     },
     "execution_count": 55,
     "metadata": {},
     "output_type": "execute_result"
    }
   ],
   "source": [
    "data"
   ]
  },
  {
   "cell_type": "code",
   "execution_count": 93,
   "id": "663381f9",
   "metadata": {},
   "outputs": [],
   "source": [
    "np.savetxt(\"FineDopplerAndStark.csv\", shifts*nu0, delimiter=',')"
   ]
  },
  {
   "cell_type": "code",
   "execution_count": 71,
   "id": "f472d1f2",
   "metadata": {},
   "outputs": [],
   "source": [
    "np.savetxt(\"Ramsey5pi2.csv\", shifts3, delimiter=',')"
   ]
  },
  {
   "cell_type": "code",
   "execution_count": 72,
   "id": "772784e6",
   "metadata": {},
   "outputs": [],
   "source": [
    "np.savetxt(\"MHRS2.csv\", shifts2, delimiter=',')"
   ]
  },
  {
   "cell_type": "code",
   "execution_count": null,
   "id": "7a72a6de",
   "metadata": {},
   "outputs": [],
   "source": []
  }
 ],
 "metadata": {
  "kernelspec": {
   "display_name": "Python 3 (ipykernel)",
   "language": "python",
   "name": "python3"
  },
  "language_info": {
   "codemirror_mode": {
    "name": "ipython",
    "version": 3
   },
   "file_extension": ".py",
   "mimetype": "text/x-python",
   "name": "python",
   "nbconvert_exporter": "python",
   "pygments_lexer": "ipython3",
   "version": "3.10.5"
  }
 },
 "nbformat": 4,
 "nbformat_minor": 5
}
