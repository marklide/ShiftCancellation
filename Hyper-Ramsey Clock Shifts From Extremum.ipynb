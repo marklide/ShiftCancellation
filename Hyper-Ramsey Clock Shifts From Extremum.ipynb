{
 "cells": [
  {
   "cell_type": "code",
   "execution_count": 2,
   "id": "671976ed",
   "metadata": {},
   "outputs": [],
   "source": [
    "from qutip import *\n",
    "import numpy as np\n",
    "import scipy as sp\n",
    "import math\n",
    "import matplotlib.pyplot as plt"
   ]
  },
  {
   "cell_type": "code",
   "execution_count": 3,
   "id": "f6a8a5e1",
   "metadata": {},
   "outputs": [],
   "source": [
    "def psi(g,e):\n",
    "    return np.array([g, e])\n",
    "\n",
    "#def pulse(t, Omega0, delPrime):\n",
    "#    Omega = np.sqrt(Omega0**2 + delPrime**2)\n",
    "#    \n",
    "#    return np.array([[np.cos(Omega*t/2.0) -(1.0j*delPrime/Omega)*np.sin(Omega*t/2.0), (1.0j*Omega0/Omega)*np.sin(Omega*t/2.0)],\n",
    "#             [(1.0j*Omega0/Omega)*np.sin(Omega*t/2.0) , np.cos(Omega*t/2.0) + (1.0j*delPrime/Omega)*np.sin(Omega*t/2.0)]])\n",
    "\n",
    "def pulse(t, Omega0, delta, phi0, phi1):\n",
    "    Omega = np.sqrt(Omega0**2 + delta**2)\n",
    "    \n",
    "    if Omega == 0.0:\n",
    "        U = np.array([[1.0 , 0.0],\n",
    "                      [0.0 , 1.0]])\n",
    "        \n",
    "    else:\n",
    "        U = np.array([[np.cos(Omega*t/2.0) -(1.0j*delta/Omega)*np.sin(Omega*t/2.0), (1.0j*Omega0/Omega)*np.sin(Omega*t/2.0)],\n",
    "                     [(1.0j*Omega0/Omega)*np.sin(Omega*t/2.0) , np.cos(Omega*t/2.0) + (1.0j*delta/Omega)*np.sin(Omega*t/2.0)]])\n",
    "    \n",
    "    V1 = np.array([[1.0 , 0.0],\n",
    "                   [0.0 , np.exp(-1.0j*phi1)]])\n",
    "    \n",
    "    V0 = np.array([[1.0 , 0.0],\n",
    "                   [0.0 , np.exp(1.0j*phi0)]])\n",
    "    \n",
    "    return np.exp(1.0j*delta*t/2.0)*V1@U@V0\n",
    "\n",
    "def rhoee(psi):\n",
    "    return (abs(psi[1]))**2.0\n",
    "\n",
    "def rhogg(psi):\n",
    "    return (abs(psi[0]))**2.0\n",
    "\n",
    "def phi(psi):\n",
    "    phi0 = math.atan2(np.real(psi[0]),np.imag(psi[0]))\n",
    "    phi1 = math.atan2(np.real(psi[1]),np.imag(psi[1]))\n",
    "    return (phi0-phi1)\n",
    "\n",
    "def blochVec(psi):\n",
    "    w = rhogg(psi) - rhoee(psi)  #pointed up is ground state\n",
    "    if abs(w)>1.0:\n",
    "        w = float(round(w))\n",
    "    x = np.sin(np.arccos(w))*np.cos(phi(psi))\n",
    "    y = np.sin(np.arccos(w))*np.sin(phi(psi))\n",
    "    return np.array([x,y,w])\n",
    "\n",
    "def hyperRamsey(psi0, t1, T, t2, delta, delPrime, Omega0):\n",
    "    #psi0 = original state\n",
    "    #t1 = pulse 1 duration\n",
    "    #T = dark time\n",
    "    #t2 = pulse 2 duration\n",
    "    #Omega0 = rabi freq\n",
    "    #delta = dark time detuning\n",
    "    #delPrime = pulse detuning\n",
    "    #phi = phase injection\n",
    "    \n",
    "    #pulse(t, Omega0, delta, phi0, phi1):\n",
    "    pulse1 = pulse(t1, Omega0, delPrime, 0.0, 0.0)\n",
    "    pulse2 = pulse(t2, Omega0, delPrime, 0.0, 0.0)\n",
    "    freeEvo = pulse(T, 0.0, delta, 0.0, 0.0)\n",
    "    \n",
    "    return pulse2@freeEvo@pulse1@psi0\n",
    "\n",
    "def hyperRamseyP(psi0, t1, T, t2, delta, delPrime, Omega0):\n",
    "    #psi0 = original state\n",
    "    #t1 = pulse 1 duration\n",
    "    #T = dark time\n",
    "    #t2 = pulse 2 duration\n",
    "    #Omega0 = rabi freq\n",
    "    #delta = dark time detuning\n",
    "    #delPrime = pulse detuning\n",
    "    #phi = phase injection\n",
    "    \n",
    "    #pulse(t, Omega0, delta, phi0, phi1):\n",
    "    pulse1 = pulse(t1, Omega0, delPrime, 0.0, 0.0)\n",
    "    pulse2 = pulse(t2, Omega0, delPrime, 0.0, 0.0)\n",
    "    freeEvo = pulse(T, 0.0, delta, 0.0, 0.0)\n",
    "    pi2PhaseInj = pulse(0.0, 0.0, 0.0, 0.0, np.pi/2.0) \n",
    "    \n",
    "    return pulse2@freeEvo@pi2PhaseInj@pulse1@psi0\n",
    "\n",
    "def hyperRamseyM(psi0, t1, T, t2, delta, delPrime, Omega0):\n",
    "    #psi0 = original state\n",
    "    #t1 = pulse 1 duration\n",
    "    #T = dark time\n",
    "    #t2 = pulse 2 duration\n",
    "    #Omega0 = rabi freq\n",
    "    #delta = dark time detuning\n",
    "    #delPrime = pulse detuning\n",
    "    #phi = phase injection\n",
    "    \n",
    "    #pulse(t, Omega0, delta, phi0, phi1):\n",
    "    pulse1 = pulse(t1, Omega0, delPrime, 0.0, 0.0)\n",
    "    pulse2 = pulse(t2, Omega0, delPrime, 0.0, 0.0)\n",
    "    freeEvo = pulse(T, 0.0, delta, 0.0, 0.0)\n",
    "    pi2PhaseInj = pulse(0.0, 0.0, 0.0, 0.0, -np.pi/2.0) \n",
    "    \n",
    "    return pulse2@freeEvo@pi2PhaseInj@pulse1@psi0\n",
    "\n",
    "def HRerrSig(psi0, t1, T, t2, delta, delPrime, Omega0):\n",
    "    RhoeeP = rhoee(hyperRamseyP(psi0,t1,T,t2,delta,delPrime,Omega0))\n",
    "    RhoeeM = rhoee(hyperRamseyM(psi0,t1,T,t2,delta,delPrime,Omega0))\n",
    "    return RhoeeP - RhoeeM"
   ]
  },
  {
   "cell_type": "code",
   "execution_count": 17,
   "id": "85272c10",
   "metadata": {},
   "outputs": [],
   "source": [
    "def CSbyMax(psi0, t1, T, t2, Delta, Omega0):\n",
    "    x0 = -0.1*Delta/(Omega0*T) - 0.05*np.abs(2.0*Delta/(Omega0*T)) - 0.01\n",
    "    x1 = -0.1*Delta/(Omega0*T) + 0.05*np.abs(2.0*Delta/(Omega0*T)) + 0.01\n",
    "    \n",
    "    pts = 10000\n",
    "    delds = np.linspace(x0, x1, pts)\n",
    "    Rhoee = [0.0]*pts\n",
    "    for ii in range(pts):\n",
    "        #def errSig(psi0, t, dark detuning, pulse detuning, Omega0):\n",
    "        Rhoee[ii] = rhoee(hyperRamsey(psi0, t1, T, t2, delds[ii], delds[ii]+Delta, Omega0))\n",
    "        \n",
    "    return delds[np.argmax(Rhoee)]"
   ]
  },
  {
   "cell_type": "code",
   "execution_count": 18,
   "id": "163cf4ed",
   "metadata": {},
   "outputs": [
    {
     "data": {
      "image/png": "[encoded data removed]",
      "text/plain": [
       "<Figure size 432x288 with 1 Axes>"
      ]
     },
     "metadata": {
      "needs_background": "light"
     },
     "output_type": "display_data"
    }
   ],
   "source": [
    "psi0 = psi(0.0, 1.0)\n",
    "Delta = 0.2\n",
    "Omega0 = 1.0\n",
    "t1 = np.pi/(2.0*Omega0)\n",
    "T = 20.0/Omega0\n",
    "t2 = 3.0*np.pi/(2.0*Omega0)\n",
    "tol = 1.0e-10\n",
    "\n",
    "pts = 1000\n",
    "delds = np.linspace(-1.0, 1.0, pts)\n",
    "Rhoee = [0.0]*pts\n",
    "\n",
    "for ii in range(pts):\n",
    "    #def errSig(psi0, t, dark detuning, pulse detuning, Omega0):\n",
    "    Rhoee[ii] = rhoee(hyperRamsey(psi0, t1, T, t2, delds[ii], delds[ii]+Delta, Omega0))\n",
    "    \n",
    "plt.plot(delds, Rhoee)\n",
    "plt.xlabel('$\\delta_d$')\n",
    "plt.ylabel('Error Signal')\n",
    "plt.plot([0.0], [1.0], marker=\"x\", markersize=10)\n",
    "plt.plot([CSbyMax(psi0, t1, T, t2, Delta, Omega0)], [1.0], marker=\"x\", markersize=10)\n",
    "#plt.legend()\n",
    "plt.show()"
   ]
  },
  {
   "cell_type": "code",
   "execution_count": 20,
   "id": "3bd7acb1",
   "metadata": {},
   "outputs": [
    {
     "data": {
      "image/png": "[encoded data removed]",
      "text/plain": [
       "<Figure size 432x288 with 1 Axes>"
      ]
     },
     "metadata": {
      "needs_background": "light"
     },
     "output_type": "display_data"
    }
   ],
   "source": [
    "psi0 = psi(0.0, 1.0)\n",
    "Omega0 = 1.0\n",
    "t1 = np.pi/(2.0*Omega0)\n",
    "T = 20.0/Omega0\n",
    "t2 = 3.0*np.pi/(2.0*Omega0)\n",
    "tol = 1.0e-10\n",
    "\n",
    "pts = 101\n",
    "Deltas = np.linspace(-0.5, 0.5, pts)\n",
    "clockShifts = [0.0]*pts\n",
    "\n",
    "for ii in range(pts):\n",
    "    clockShifts[ii] = T*CSbyMax(psi0, t1, T, t2, Deltas[ii], Omega0)\n",
    "    \n",
    "plt.plot(Deltas, clockShifts)\n",
    "plt.xlabel(\"$\\Delta / \\Omega_0$ (LSEE)\")\n",
    "plt.ylabel('Clock Shift*T')\n",
    "plt.show()"
   ]
  },
  {
   "cell_type": "code",
   "execution_count": null,
   "id": "6f8069c4",
   "metadata": {},
   "outputs": [],
   "source": []
  }
 ],
 "metadata": {
  "kernelspec": {
   "display_name": "Python 3 (ipykernel)",
   "language": "python",
   "name": "python3"
  },
  "language_info": {
   "codemirror_mode": {
    "name": "ipython",
    "version": 3
   },
   "file_extension": ".py",
   "mimetype": "text/x-python",
   "name": "python",
   "nbconvert_exporter": "python",
   "pygments_lexer": "ipython3",
   "version": "3.10.5"
  }
 },
 "nbformat": 4,
 "nbformat_minor": 5
}
