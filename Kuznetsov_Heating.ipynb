{
 "cells": [
  {
   "cell_type": "code",
   "execution_count": 3,
   "id": "71c5f4c2",
   "metadata": {},
   "outputs": [],
   "source": [
    "from qutip import *\n",
    "import numpy as np\n",
    "import scipy as sp\n",
    "import math\n",
    "import matplotlib.pyplot as plt\n",
    "from scipy.special import genlaguerre as L"
   ]
  },
  {
   "cell_type": "code",
   "execution_count": 4,
   "id": "34a06d09",
   "metadata": {},
   "outputs": [],
   "source": [
    "hbar = sp.constants.hbar\n",
    "h = sp.constants.h\n",
    "c = sp.constants.c\n",
    "e = sp.constants.e\n",
    "eVtoJ = 1.602176634e-19\n",
    "amutokg = 1.66053906660e-27\n",
    "\n",
    "omega = 2.0*np.pi*778e3 #Lange\n",
    "Omegarf = 2.0*np.pi*13e6 #Lange\n",
    "m = 170.936331517*amutokg\n",
    "alpha = 5.89e-40 #J m^2 V^-2 E2 transition (Lange)\n",
    "nu0 = 688358979309307.82 #Hz E2 transition (Huntemann)"
   ]
  },
  {
   "cell_type": "code",
   "execution_count": 5,
   "id": "c7fe4912",
   "metadata": {},
   "outputs": [],
   "source": [
    "def prob(n,nbar):\n",
    "    return 1.0/(nbar+1)*(nbar/(nbar+1))**n    #returns prob of being in state n given nbar\n",
    "\n",
    "def dopAndStark(n):       #for 1D!! to make 3d, multiply this by 3                        \n",
    "    return -2.0*np.pi*nu0*hbar*omega*(n+0.5)/(m*c**2)*(1.0 + alpha*m**2*Omegarf**2*c**2/(h*nu0*e**2*2)) \n",
    "\n",
    "def Omega(n,m,eta):\n",
    "    return np.exp(-eta**2/2.0) * eta**(np.abs(m)) * (math.factorial(n)/math.factorial(n+m))**(np.sign(m)/2.0) \\\n",
    "        * L(n,np.abs(m))(eta**2)              #returns unitless rabi rate of transition n -> n+m given Lamb-Dicke Parameter"
   ]
  },
  {
   "cell_type": "code",
   "execution_count": 6,
   "id": "2265f94c",
   "metadata": {},
   "outputs": [],
   "source": [
    "def psi(g,e):\n",
    "    return np.array([g, e])\n",
    "\n",
    "def pulse(t, Omega0, delta, phi0, phi1):\n",
    "    Omega = np.sqrt(Omega0**2 + delta**2)\n",
    "    \n",
    "    if Omega == 0.0:\n",
    "        U = np.array([[1.0 , 0.0],\n",
    "                      [0.0 , 1.0]])\n",
    "        \n",
    "    else:\n",
    "        U = np.array([[np.cos(Omega*t/2.0) -(1.0j*delta/Omega)*np.sin(Omega*t/2.0), (1.0j*Omega0/Omega)*np.sin(Omega*t/2.0)],\n",
    "                     [(1.0j*Omega0/Omega)*np.sin(Omega*t/2.0) , np.cos(Omega*t/2.0) + (1.0j*delta/Omega)*np.sin(Omega*t/2.0)]])\n",
    "    \n",
    "    V1 = np.array([[1.0 , 0.0],\n",
    "                   [0.0 , np.exp(-1.0j*phi1)]])\n",
    "    \n",
    "    V0 = np.array([[1.0 , 0.0],\n",
    "                   [0.0 , np.exp(1.0j*phi0)]])\n",
    "    \n",
    "    return np.exp(1.0j*delta*t/2.0)*V1@U@V0"
   ]
  },
  {
   "cell_type": "code",
   "execution_count": 26,
   "id": "6b642a82",
   "metadata": {},
   "outputs": [],
   "source": [
    "def densPulse(rho, t, Omega0, delta):\n",
    "    Omega = np.sqrt(Omega0**2 + delta**2)\n",
    "    if Omega == 0.0:\n",
    "        U = np.array([[1.0 , 0.0],\n",
    "                      [0.0 , 1.0]])\n",
    "    else:\n",
    "        U = np.array([[np.cos(Omega*t/2.0) -(1.0j*delta/Omega)*np.sin(Omega*t/2.0), (1.0j*Omega0/Omega)*np.sin(Omega*t/2.0)],\n",
    "                     [(1.0j*Omega0/Omega)*np.sin(Omega*t/2.0) , np.cos(Omega*t/2.0) + (1.0j*delta/Omega)*np.sin(Omega*t/2.0)]])\n",
    "    return U@rho@np.conj(U)\n",
    "\n",
    "def densPhaseInj(rho, phi):\n",
    "    V = np.array([[1.0 , 0.0],\n",
    "                   [0.0 , np.exp(1.0j*phi)]])\n",
    "    return V@rho@np.conj(V)\n",
    "\n",
    "def thermPulse(rho, t, Omega0, delta, eta):\n",
    "    Ncut = np.shape(rho)[0]\n",
    "    result = np.zeros([Ncut,2,2],dtype=np.complex_)\n",
    "    for n in range(Ncut):\n",
    "        result[n] = densPulse(rho[n], t, Omega0*Omega(n,0,eta), delta+dopAndStark(n))\n",
    "    return result\n",
    "\n",
    "def thermPhaseInj(rho, phi):\n",
    "    V = np.array([[1.0 , 0.0],\n",
    "                    [0.0 , np.exp(1.0j*phi)]])\n",
    "    Ncut = np.shape(rho)[0]\n",
    "    result = np.zeros([Ncut,2,2],dtype=np.complex_)\n",
    "    for n in range(Ncut):\n",
    "        result[n] = V@rho[n]@np.conj(V)\n",
    "    return result\n",
    "\n",
    "def heatPulse(rho, t, Omega0, delta, eta, tsteps, nbarDot):\n",
    "    dt = t/tsteps\n",
    "    Ncut = np.shape(rho)[0]\n",
    "    result = np.zeros([Ncut,2,2],dtype=np.complex_)\n",
    "    result = heatRhoTherm(thermPulse(rho, dt, Omega0, delta, eta), dt, nbarDot)\n",
    "    for ii in range(tsteps-1):\n",
    "        result = heatRhoTherm(thermPulse(result, dt, Omega0, delta, eta), dt, nbarDot)\n",
    "    return result\n",
    "\n",
    "def heatPulseFast(rho, t, Omega0, delta, eta, tsteps, nbarDot):\n",
    "    dt = t/tsteps\n",
    "    Ncut = np.shape(rho)[0]\n",
    "    result = np.zeros([Ncut,2,2],dtype=np.complex_)\n",
    "    result = heatRhoTherm(thermPulse(rho, dt, Omega0, delta, eta), dt, nbarDot)\n",
    "    for ii in range(tsteps-1):\n",
    "        result = heatRhoTherm(result, dt, nbarDot)\n",
    "        if ii%100==0: result = thermPulse(result, dt*100.0, Omega0, delta, eta)\n",
    "    return result"
   ]
  },
  {
   "cell_type": "code",
   "execution_count": 8,
   "id": "a821addd",
   "metadata": {},
   "outputs": [],
   "source": [
    "def heatRho(rhon, rhonm, rhonp, dt, n, nbarDot):\n",
    "    result = np.zeros([2,2],dtype=np.complex_)\n",
    "    for ii in range(2):\n",
    "        for jj in range(2):\n",
    "            result[ii][jj] = rhon[ii][jj] + dt*nbarDot*(-(2.0*n+1)*rhon[ii][jj] + (n+1)*rhonp[ii][jj] + n*rhonm[ii][jj])\n",
    "    return result\n",
    "\n",
    "def heatRhoTherm(rho, dt, nbarDot):\n",
    "    if nbarDot*dt>1e-3: print('nbarDot*dt is too large!!!')\n",
    "    Ncut = np.shape(rho)[0]\n",
    "    result = np.zeros([Ncut,2,2],dtype=np.complex_)\n",
    "    for n in range(Ncut):\n",
    "        for ii in range(2):\n",
    "            for jj in range(2):\n",
    "                if (n==0): result[0][ii][jj] = rho[0][ii][jj] + dt*nbarDot*(-rho[0][ii][jj]+rho[1][ii][jj])\n",
    "                elif (n==(Ncut-1)): result[Ncut-1][ii][jj] =  rho[Ncut-1][ii][jj] + dt*nbarDot*(-(2.0*Ncut-1)*rho[Ncut-1][ii][jj] + (Ncut-1)*rho[Ncut-2][ii][jj])\n",
    "                else: result[n][ii][jj] = rho[n][ii][jj] + dt*nbarDot*(-(2.0*n+1)*rho[n][ii][jj] +(n+1)*rho[n+1][ii][jj] +n*rho[n-1][ii][jj])\n",
    "    return result"
   ]
  },
  {
   "cell_type": "code",
   "execution_count": 9,
   "id": "70e6ba36",
   "metadata": {},
   "outputs": [],
   "source": [
    "def densNbar(rho):\n",
    "    Ncut = np.shape(rho)[0]\n",
    "    nbar = 0.0\n",
    "    for n in range(Ncut):\n",
    "        nbar += n*(np.real(rho[n][0][0]) + np.real(rho[n][1][1]))\n",
    "    return nbar\n",
    "\n",
    "def groundRho(Ncut, nbar):\n",
    "    rho = np.zeros([Ncut,2,2],dtype=np.complex_)\n",
    "    for n in range(Ncut):\n",
    "        rho[n][0][0] = prob(n,nbar)\n",
    "    return rho\n",
    "\n",
    "def rhoee(rho):\n",
    "    Ncut = np.shape(rho)[0]\n",
    "    result = 0.0\n",
    "    for n in range(Ncut):\n",
    "        result += np.real(rho[n][1][1])\n",
    "    return result\n",
    "        \n",
    "def rhogg(rho):\n",
    "    Ncut = np.shape(rho)[0]\n",
    "    result = 0.0\n",
    "    for n in range(Ncut):\n",
    "        result += np.real(rho[n][0][0])\n",
    "    return result"
   ]
  },
  {
   "cell_type": "code",
   "execution_count": 10,
   "id": "ce1383b7",
   "metadata": {},
   "outputs": [],
   "source": [
    "def RamseyErrSig(deld, rho0, t1, T, t2, delPrime, Omega0, eta): #, eta, nbar0, nbarf, Ncut, delExc):\n",
    "    #def thermPulse(rho, t, Omega0, delta, eta):\n",
    "    intState = thermPulse(thermPulse(rho0, t1, Omega0, delPrime, eta), T, 0.0, deld, eta)\n",
    "    resultP = thermPulse(thermPhaseInj(intState, np.pi/2.0), t2, Omega0, delPrime, eta)\n",
    "    resultM = thermPulse(thermPhaseInj(intState, -np.pi/2.0), t2, Omega0, delPrime, eta)\n",
    "    return rhoee(resultP) - rhoee(resultM)"
   ]
  },
  {
   "cell_type": "code",
   "execution_count": 34,
   "id": "c1350d62",
   "metadata": {},
   "outputs": [
    {
     "data": {
      "text/plain": [
       "0.005"
      ]
     },
     "execution_count": 34,
     "metadata": {},
     "output_type": "execute_result"
    }
   ],
   "source": [
    "5/500*nbarDot"
   ]
  },
  {
   "cell_type": "code",
   "execution_count": 27,
   "id": "051ee31f",
   "metadata": {},
   "outputs": [
    {
     "name": "stdout",
     "output_type": "stream",
     "text": [
      "9.999998894185534\n",
      "10.026314423733176\n",
      "10.052630045917141\n",
      "10.078945684612854\n",
      "10.105261329125556\n",
      "10.131576975274237\n",
      "10.157892620867177\n",
      "10.184208264549705\n",
      "10.210523905385648\n",
      "10.236839542671975\n",
      "10.26315517584547\n",
      "10.289470804431135\n",
      "10.315786428011794\n",
      "10.342102046208847\n",
      "10.368417658669797\n",
      "10.39473326505978\n",
      "10.421048865055512\n",
      "10.447364458341008\n",
      "10.473680044604333\n",
      "10.499995623535286\n"
     ]
    }
   ],
   "source": [
    "Ncut = 200\n",
    "nbar = 10.0\n",
    "rho0 = groundRho(Ncut, nbar)\n",
    "Omega0 = np.pi/2.0\n",
    "pts = 20\n",
    "ts = np.linspace(0.0, 5.0, pts)\n",
    "#rhoee2s = np.zeros(pts)\n",
    "nbars = np.zeros(pts)\n",
    "delta = 0.0*2.0*np.pi\n",
    "eta = 0.05\n",
    "tsteps = 1000\n",
    "nbarDot = 0.1\n",
    "\n",
    "for ii in range(pts):\n",
    "    rho = heatPulseFast(rho0, ts[ii], Omega0, delta, eta, tsteps, nbarDot)\n",
    "    nbars[ii] = densNbar(rho)\n",
    "    rhoee2s[ii] = rhoee(rho)\n",
    "    print(nbars[ii])"
   ]
  },
  {
   "cell_type": "code",
   "execution_count": 28,
   "id": "e6e0c1e5",
   "metadata": {},
   "outputs": [
    {
     "data": {
      "text/plain": [
       "[<matplotlib.lines.Line2D at 0x21ad45e0ee0>]"
      ]
     },
     "execution_count": 28,
     "metadata": {},
     "output_type": "execute_result"
    },
    {
     "data": {
      "image/png": "[encoded data removed]",
      "text/plain": [
       "<Figure size 432x288 with 1 Axes>"
      ]
     },
     "metadata": {
      "needs_background": "light"
     },
     "output_type": "display_data"
    }
   ],
   "source": [
    "plt.plot(ts,nbars)"
   ]
  },
  {
   "cell_type": "code",
   "execution_count": 29,
   "id": "8b056336",
   "metadata": {},
   "outputs": [
    {
     "data": {
      "image/png": "[encoded data removed]",
      "text/plain": [
       "<Figure size 432x288 with 1 Axes>"
      ]
     },
     "metadata": {
      "needs_background": "light"
     },
     "output_type": "display_data"
    }
   ],
   "source": [
    "plt.plot(ts, rhoee1s)\n",
    "plt.plot(ts, rhoee2s)\n",
    "\n",
    "plt.grid()"
   ]
  },
  {
   "cell_type": "code",
   "execution_count": 30,
   "id": "7a41a059",
   "metadata": {},
   "outputs": [
    {
     "data": {
      "text/plain": [
       "0.48797028958156147"
      ]
     },
     "execution_count": 30,
     "metadata": {},
     "output_type": "execute_result"
    }
   ],
   "source": [
    "100*(rhoee1s[np.size(rhoee1s)-1]-rhoee2s[np.size(rhoee2s)-1])/rhoee1s[np.size(rhoee1s)-1]"
   ]
  },
  {
   "cell_type": "code",
   "execution_count": 25,
   "id": "7999e84a",
   "metadata": {},
   "outputs": [
    {
     "data": {
      "text/plain": [
       "0.5142304038295871"
      ]
     },
     "execution_count": 25,
     "metadata": {},
     "output_type": "execute_result"
    }
   ],
   "source": [
    "100*(rhoee1s[np.size(rhoee1s)-1]-rhoee2s[np.size(rhoee2s)-1])/rhoee1s[np.size(rhoee1s)-1]"
   ]
  },
  {
   "cell_type": "code",
   "execution_count": 460,
   "id": "054a09c0",
   "metadata": {},
   "outputs": [],
   "source": [
    "Ncut = 200\n",
    "nbar = 10.0\n",
    "rho0 = groundRho(Ncut, nbar)\n",
    "nbarDot = 3.0\n",
    "pts = 10\n",
    "ts = np.linspace(0.0, 10.0, pts)\n",
    "nbars = np.zeros(pts)\n",
    "for ii in range(pts):\n",
    "    nbars[ii] = densNbar(heatRhoTherm(rho0, ts[ii], nbarDot))"
   ]
  },
  {
   "cell_type": "code",
   "execution_count": 461,
   "id": "9f237d76",
   "metadata": {},
   "outputs": [
    {
     "data": {
      "image/png": "[encoded data removed]",
      "text/plain": [
       "<Figure size 432x288 with 1 Axes>"
      ]
     },
     "metadata": {
      "needs_background": "light"
     },
     "output_type": "display_data"
    }
   ],
   "source": [
    "plt.plot(ts, nbars)\n",
    "plt.grid()"
   ]
  },
  {
   "cell_type": "code",
   "execution_count": 258,
   "id": "944f1b1d",
   "metadata": {},
   "outputs": [],
   "source": [
    "Ncut = 100\n",
    "nbar = 20.0\n",
    "rho0 = groundRho(Ncut, nbar)\n",
    "Omega0 = np.pi/2.0\n",
    "pts = 20\n",
    "delPrimes = np.linspace(-0.1*2.0*np.pi, 0.1*2.0*np.pi, pts)\n",
    "errSigPts = np.zeros(pts)\n",
    "deld = 0.0\n",
    "eta = 0.05\n",
    "t1 = 1.0\n",
    "T = 20.0\n",
    "t2 = 1.0\n",
    "for ii in range(pts):\n",
    "    errSigPts[ii] = RamseyErrSig(deld, rho0, t1, T, t2, delPrimes[ii], Omega0, eta)"
   ]
  },
  {
   "cell_type": "code",
   "execution_count": 259,
   "id": "a42c4267",
   "metadata": {},
   "outputs": [
    {
     "data": {
      "image/png": "[encoded data removed]",
      "text/plain": [
       "<Figure size 432x288 with 1 Axes>"
      ]
     },
     "metadata": {
      "needs_background": "light"
     },
     "output_type": "display_data"
    }
   ],
   "source": [
    "plt.plot(delPrimes, errSigPts)\n",
    "plt.grid()"
   ]
  },
  {
   "cell_type": "code",
   "execution_count": 269,
   "id": "ded63082",
   "metadata": {},
   "outputs": [],
   "source": [
    "Ncut = 100\n",
    "nbar = 0.0\n",
    "rho0 = groundRho(Ncut, nbar)\n",
    "Omega0 = np.pi/2.0\n",
    "pts = 20\n",
    "delPrimes = np.linspace(-0.1*2.0*np.pi, 0.1*2.0*np.pi, pts)\n",
    "shifts2 = np.zeros(pts)\n",
    "deld = 0.0\n",
    "eta = 0.0\n",
    "t1 = 1.0\n",
    "T = 20.0\n",
    "t2 = 3.0*t1\n",
    "\n",
    "tol = 1.0e-11\n",
    "x0 = -0.1\n",
    "x1 = 0.1\n",
    "guessTol = 0.1\n",
    "\n",
    "for ii in range(pts):\n",
    "    #print(delPrime[ii]/(2.0*np.pi))\n",
    "    shifts2[ii] = (1.0/(2.0*np.pi))*sp.optimize.root_scalar(RamseyErrSig, args = (rho0, t1, T, t2, delPrimes[ii], Omega0, eta), bracket=[x0,x1], xtol = tol).root\n",
    "    x0 = shifts2[ii]*(2.0*np.pi) - guessTol\n",
    "    x1 = shifts2[ii]*(2.0*np.pi) + guessTol\n",
    "    #print(shifts[ii])"
   ]
  },
  {
   "cell_type": "code",
   "execution_count": 271,
   "id": "aef14eca",
   "metadata": {},
   "outputs": [
    {
     "data": {
      "text/plain": [
       "[<matplotlib.lines.Line2D at 0x2107a981420>]"
      ]
     },
     "execution_count": 271,
     "metadata": {},
     "output_type": "execute_result"
    },
    {
     "data": {
      "image/png": "[encoded data removed]",
      "text/plain": [
       "<Figure size 432x288 with 1 Axes>"
      ]
     },
     "metadata": {
      "needs_background": "light"
     },
     "output_type": "display_data"
    }
   ],
   "source": [
    "#plt.plot(delPrimes/(2.0*np.pi)*1e3, shifts*1e3)\n",
    "#plt.plot(delPrimes/(2.0*np.pi)*1e3, shifts1*1e3)\n",
    "plt.plot(delPrimes/(2.0*np.pi)*1e3, shifts2*1e3)"
   ]
  },
  {
   "cell_type": "code",
   "execution_count": 233,
   "id": "b1bca5b5",
   "metadata": {},
   "outputs": [],
   "source": [
    "Ncut = 100\n",
    "nbar = 20.0\n",
    "rho0 = groundRho(Ncut, nbar)\n",
    "pts = 100\n",
    "ts = np.linspace(0, 10, pts)\n",
    "Omega0 = 0.0#np.pi/2.0\n",
    "delta = 0.0\n",
    "eta = 0.05\n",
    "rhoees = np.zeros(pts)\n",
    "for ii in range(pts):\n",
    "    rhoees[ii] = rhoee(thermPulse(rho0, ts[ii], Omega0, delta, eta))"
   ]
  },
  {
   "cell_type": "code",
   "execution_count": 234,
   "id": "14a8d066",
   "metadata": {},
   "outputs": [
    {
     "data": {
      "image/png": "[encoded data removed]",
      "text/plain": [
       "<Figure size 432x288 with 1 Axes>"
      ]
     },
     "metadata": {
      "needs_background": "light"
     },
     "output_type": "display_data"
    }
   ],
   "source": [
    "plt.plot(ts, rhoees)\n",
    "plt.grid()\n"
   ]
  },
  {
   "cell_type": "code",
   "execution_count": 178,
   "id": "a60622f4",
   "metadata": {},
   "outputs": [
    {
     "name": "stdout",
     "output_type": "stream",
     "text": [
      "0.0\n",
      "1.0\n",
      "0.0\n",
      "0.0\n",
      "1.0\n",
      "0.001\n"
     ]
    }
   ],
   "source": [
    "Ncut = 3\n",
    "nbar = 0.0\n",
    "rho = groundRho(Ncut, nbar)\n",
    "print(rhoee(rho))\n",
    "print(rhogg(rho))\n",
    "print(densNbar(rho))\n",
    "rho = heatRhoTherm(rho, 0.001, 1.0)\n",
    "print(rhoee(rho))\n",
    "print(rhogg(rho))\n",
    "print(densNbar(rho))"
   ]
  },
  {
   "cell_type": "code",
   "execution_count": 92,
   "id": "237f781c",
   "metadata": {},
   "outputs": [
    {
     "name": "stdout",
     "output_type": "stream",
     "text": [
      "-0.1\n",
      "0.005092942554691748\n",
      "-0.09591836734693877\n",
      "0.0048850685467871505\n",
      "-0.09183673469387756\n",
      "0.0046771943890834946\n",
      "-0.08775510204081632\n",
      "0.004469320087954752\n",
      "-0.0836734693877551\n",
      "0.004261445649774907\n",
      "-0.07959183673469389\n",
      "0.0040535710809180584\n",
      "-0.07551020408163266\n",
      "0.0038456963877584512\n",
      "-0.07142857142857142\n",
      "0.0036378215766702127\n",
      "-0.06734693877551019\n",
      "0.003429946654027625\n",
      "-0.06326530612244897\n",
      "0.003222071626204973\n",
      "-0.05918367346938776\n",
      "0.0030141964995765535\n",
      "-0.055102040816326525\n",
      "0.0028063212805168815\n",
      "-0.05102040816326531\n",
      "0.002598445975400181\n",
      "-0.046938775510204075\n",
      "0.0023905705906010753\n",
      "-0.04285714285714286\n",
      "0.002182695132493969\n",
      "-0.038775510204081626\n",
      "0.0019748196074533377\n",
      "-0.03469387755102041\n",
      "0.0017669440218537895\n",
      "-0.030612244897959186\n",
      "0.0015590683820698656\n",
      "-0.026530612244897958\n",
      "0.0013511926944760645\n",
      "-0.022448979591836737\n",
      "0.00114331696544711\n",
      "-0.018367346938775515\n",
      "0.0009354412013575801\n",
      "-0.014285714285714285\n",
      "0.000727565408582082\n",
      "-0.010204081632653057\n",
      "0.000519689593495335\n",
      "-0.006122448979591827\n",
      "0.0003118137624718532\n",
      "-0.0020408163265306146\n",
      "0.00010393792188638924\n",
      "0.0020408163265306146\n",
      "-0.00010393792188637269\n",
      "0.006122448979591844\n",
      "-0.0003118137624718545\n",
      "0.010204081632653057\n",
      "-0.0005196895934952617\n",
      "0.014285714285714285\n",
      "-0.0007275654085821109\n",
      "0.018367346938775515\n",
      "-0.0009354412013576099\n",
      "0.022448979591836744\n",
      "-0.0011433169654471431\n",
      "0.026530612244897958\n",
      "-0.0013511926944760884\n",
      "0.030612244897959186\n",
      "-0.0015590683820698096\n",
      "0.034693877551020415\n",
      "-0.001766944021853782\n",
      "0.038775510204081626\n",
      "-0.0019748196074533394\n",
      "0.04285714285714286\n",
      "-0.0021826951324939404\n",
      "0.04693877551020409\n",
      "-0.002390570590601061\n",
      "0.051020408163265314\n",
      "-0.0025984459754001994\n",
      "0.055102040816326525\n",
      "-0.002806321280516849\n",
      "0.05918367346938778\n",
      "-0.0030141964995765705\n",
      "0.06326530612244897\n",
      "-0.0032220716262049997\n",
      "0.06734693877551019\n",
      "-0.0034299466540276056\n",
      "0.07142857142857142\n",
      "-0.003637821576670249\n",
      "0.07551020408163266\n",
      "-0.003845696387758438\n",
      "0.07959183673469389\n",
      "-0.004053571080918062\n",
      "0.08367346938775512\n",
      "-0.004261445649774887\n",
      "0.08775510204081635\n",
      "-0.004469320087954737\n",
      "0.09183673469387754\n",
      "-0.004677194389083522\n",
      "0.09591836734693877\n",
      "-0.004885068546787166\n",
      "0.1\n",
      "-0.005092942554691683\n"
     ]
    }
   ],
   "source": [
    "t1 = 20e-3\n",
    "t2 = 3.0*t1\n",
    "T = 500e-3\n",
    "rho0 = np.array([[1.0, 0.0],[0.0, 0.0]])\n",
    "Omega0 = np.pi/(2.0*t1)\n",
    "\n",
    "pts = 50\n",
    "delPrime = np.linspace(-0.1*2.0*np.pi, 0.1*2.0*np.pi, pts)\n",
    "shifts1 = np.zeros(pts)\n",
    "\n",
    "tol = 1.0e-11\n",
    "x0 = -0.1\n",
    "x1 = 0.1\n",
    "guessTol = 0.1\n",
    "\n",
    "for ii in range(pts):\n",
    "    #print(delPrime[ii]/(2.0*np.pi))\n",
    "    shifts1[ii] = (1.0/(2.0*np.pi))*sp.optimize.root_scalar(RamseyErrSig, args = (rho0, t1, T, t2, delPrime[ii], Omega0), bracket=[x0,x1], xtol = tol).root\n",
    "    x0 = shifts1[ii]*(2.0*np.pi) - guessTol\n",
    "    x1 = shifts1[ii]*(2.0*np.pi) + guessTol\n",
    "    #print(shifts[ii])"
   ]
  },
  {
   "cell_type": "code",
   "execution_count": 95,
   "id": "a929cacd",
   "metadata": {},
   "outputs": [
    {
     "data": {
      "text/plain": [
       "[<matplotlib.lines.Line2D at 0x21077f642e0>]"
      ]
     },
     "execution_count": 95,
     "metadata": {},
     "output_type": "execute_result"
    },
    {
     "data": {
      "image/png": "[encoded data removed]",
      "text/plain": [
       "<Figure size 432x288 with 1 Axes>"
      ]
     },
     "metadata": {
      "needs_background": "light"
     },
     "output_type": "display_data"
    }
   ],
   "source": [
    "#plt.plot(delPrime, shifts)\n",
    "plt.plot(delPrime, shifts1)"
   ]
  },
  {
   "cell_type": "code",
   "execution_count": 69,
   "id": "dd04328c",
   "metadata": {},
   "outputs": [],
   "source": [
    "pts = 100\n",
    "delds = np.linspace(-2.0*2.0*np.pi, 2.0*2.0*np.pi, pts)\n",
    "errSigpts = np.zeros(pts)\n",
    "t1 = 20e-3\n",
    "t2 = t1\n",
    "T = 500e-3\n",
    "rho0 = np.array([[1.0, 0.0],[0.0, 0.0]])\n",
    "delPrime = 0.5*2.0*np.pi\n",
    "Omega0 = np.pi/(2.0*t1)\n",
    "for ii in range(pts):\n",
    "    errSigpts[ii] = RamseyErrSig(delds[ii], rho0, t1, T, t2, delPrime, Omega0)"
   ]
  },
  {
   "cell_type": "code",
   "execution_count": 70,
   "id": "b7764ff6",
   "metadata": {},
   "outputs": [
    {
     "data": {
      "image/png": "[encoded data removed]",
      "text/plain": [
       "<Figure size 432x288 with 1 Axes>"
      ]
     },
     "metadata": {
      "needs_background": "light"
     },
     "output_type": "display_data"
    }
   ],
   "source": [
    "plt.plot(delds/(2.0*np.pi), errSigpts)\n",
    "plt.grid()"
   ]
  },
  {
   "cell_type": "code",
   "execution_count": 84,
   "id": "7e14ece4",
   "metadata": {},
   "outputs": [],
   "source": [
    "pts = 100\n",
    "ts = np.linspace(0, 10, pts)\n",
    "rhoees = np.zeros(pts)\n",
    "rhoggs = np.zeros(pts)\n",
    "rho0 = np.array([[1.0, 0.0],[0.0, 0.0]])\n",
    "Omega0 = np.pi/2.0\n",
    "delPrime = 0.05*2.0*np.pi\n",
    "for ii in range(pts):\n",
    "    rho = densPulse(rho0, ts[ii], Omega0, delPrime)\n",
    "    rhoees[ii] = np.real(rho[1][1])\n",
    "    rhoggs[ii] = np.real(rho[0][0])"
   ]
  },
  {
   "cell_type": "code",
   "execution_count": 85,
   "id": "093f4ca4",
   "metadata": {},
   "outputs": [
    {
     "data": {
      "text/plain": [
       "[<matplotlib.lines.Line2D at 0x21077b3ea10>]"
      ]
     },
     "execution_count": 85,
     "metadata": {},
     "output_type": "execute_result"
    },
    {
     "data": {
      "image/png": "[encoded data removed]",
      "text/plain": [
       "<Figure size 432x288 with 1 Axes>"
      ]
     },
     "metadata": {
      "needs_background": "light"
     },
     "output_type": "display_data"
    }
   ],
   "source": [
    "plt.plot(ts, rhoees)\n",
    "plt.plot(ts, rhoggs)\n",
    "plt.plot(ts, rhoees+rhoggs)"
   ]
  },
  {
   "cell_type": "code",
   "execution_count": 97,
   "id": "cba5b46f",
   "metadata": {},
   "outputs": [
    {
     "data": {
      "text/plain": [
       "array([[ 0.50000435+0.j        , -0.00318307-0.49998987j],\n",
       "       [-0.00318307+0.49998987j,  0.49999565+0.j        ]])"
      ]
     },
     "execution_count": 97,
     "metadata": {},
     "output_type": "execute_result"
    }
   ],
   "source": [
    "rho0 = np.array([[1.0, 0.0],[0.0, 0.0]])\n",
    "Omega0 = np.pi/2.0\n",
    "t = 1.0\n",
    "delPrime = 0.01\n",
    "deld = np.pi/4.0\n",
    "rho = densPulse(rho0, t, Omega0, delPrime)\n",
    "rho"
   ]
  },
  {
   "cell_type": "code",
   "execution_count": 98,
   "id": "7a479c7d",
   "metadata": {},
   "outputs": [
    {
     "data": {
      "text/plain": [
       "array([[ 0.50000435+0.00000000e+00j, -0.00318307-4.99989868e-01j],\n",
       "       [-0.00318307+4.99989868e-01j,  0.49999565-7.02600974e-21j]])"
      ]
     },
     "execution_count": 98,
     "metadata": {},
     "output_type": "execute_result"
    }
   ],
   "source": [
    "rho0 = np.array([[1.0, 0.0],[0.0, 0.0]])\n",
    "Omega0 = np.pi/2.0\n",
    "t = 1.0\n",
    "delPrime = 0.01\n",
    "deld = np.pi/4.0\n",
    "rho = densPulse(densPulse(rho0, t/2, Omega0, delPrime), t/2, Omega0, delPrime)\n",
    "rho"
   ]
  },
  {
   "cell_type": "code",
   "execution_count": 507,
   "id": "f01e5f09",
   "metadata": {},
   "outputs": [
    {
     "name": "stdout",
     "output_type": "stream",
     "text": [
      "$\\alpha$\n"
     ]
    }
   ],
   "source": [
    "print(r'$\\alpha$')"
   ]
  },
  {
   "cell_type": "code",
   "execution_count": 3,
   "id": "2f989647",
   "metadata": {},
   "outputs": [
    {
     "data": {
      "text/plain": [
       "0"
      ]
     },
     "execution_count": 3,
     "metadata": {},
     "output_type": "execute_result"
    }
   ],
   "source": [
    "20%10"
   ]
  },
  {
   "cell_type": "code",
   "execution_count": null,
   "id": "8d0b3438",
   "metadata": {},
   "outputs": [],
   "source": []
  }
 ],
 "metadata": {
  "kernelspec": {
   "display_name": "Python 3 (ipykernel)",
   "language": "python",
   "name": "python3"
  },
  "language_info": {
   "codemirror_mode": {
    "name": "ipython",
    "version": 3
   },
   "file_extension": ".py",
   "mimetype": "text/x-python",
   "name": "python",
   "nbconvert_exporter": "python",
   "pygments_lexer": "ipython3",
   "version": "3.10.5"
  }
 },
 "nbformat": 4,
 "nbformat_minor": 5
}
