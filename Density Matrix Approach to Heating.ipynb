{
 "cells": [
  {
   "cell_type": "code",
   "execution_count": 12,
   "id": "3e0bf275",
   "metadata": {},
   "outputs": [],
   "source": [
    "from qutip import *\n",
    "import numpy as np\n",
    "import scipy as scipy\n",
    "import matplotlib.pyplot as plt"
   ]
  },
  {
   "cell_type": "code",
   "execution_count": 296,
   "id": "5a12ae3e",
   "metadata": {},
   "outputs": [],
   "source": [
    "hbar = scipy.constants.hbar\n",
    "c = scipy.constants.c\n",
    "delta = 1e-3*2.0*np.pi \n",
    "omega = 2.0*np.pi*778e3 #Lange\n",
    "Omega = np.pi/(2.0*20e-3)\n",
    "amutokg = 1.66053906660e-27\n",
    "m = 170.936331517*amutokg\n",
    "nuE3 = 642121496772645.1 #(Hz)\n",
    "k = 2.0*np.pi*nuE3/c\n",
    "eta2 = hbar*k**2/(2.0*m*omega)   #eta squared\n",
    "\n",
    "N = 100\n",
    "\n",
    "sm = tensor(destroy(2), qeye(N))   #internal atomic state lowering operator\n",
    "sp = sm.dag()\n",
    "sz = tensor(sigmaz(), qeye(N))\n",
    "am = tensor(qeye(2), destroy(N))   #motional state lowering operator\n",
    "ap = am.dag()\n",
    "x = np.sqrt(hbar/(2.0*m*omega))*(ap + am)\n",
    "\n",
    "def prob(n,nbar):\n",
    "    return 1.0/(nbar+1)*(nbar/(nbar+1))**n"
   ]
  },
  {
   "cell_type": "code",
   "execution_count": 314,
   "id": "48b2fa70",
   "metadata": {},
   "outputs": [],
   "source": [
    "nbar = 10\n",
    "rho0 = tensor(fock_dm(2,0), thermal_dm(N,nbar))\n",
    "\n",
    "#The following are from Kuznetsov paper:\n",
    "H = delta*(sz - sm*sp) - omega*(ap*am + 0.5)\n",
    "\n",
    "#V = Omega*(sp*(1j*k*x).expm() + sm*(-1j*k*x).expm())\n",
    "\n",
    "# = Omega/2.0*(sp+sm)\n",
    "\n",
    "V = (Omega/2.0)*(1.0 - ap*am*eta2 + ap*am*(ap*am-1.0)*eta2**2/4.0)*(sp+sm)\n",
    "\n",
    "#The collapse operators are\n",
    "nbardot = 1000\n",
    "c1 = np.sqrt(nbardot/nbar*(nbar+1))*am\n",
    "c2 = np.sqrt(nbardot/nbar*nbar)*ap"
   ]
  },
  {
   "cell_type": "code",
   "execution_count": 328,
   "id": "7338eede",
   "metadata": {},
   "outputs": [
    {
     "ename": "KeyboardInterrupt",
     "evalue": "",
     "output_type": "error",
     "traceback": [
      "\u001b[1;31m---------------------------------------------------------------------------\u001b[0m",
      "\u001b[1;31mKeyboardInterrupt\u001b[0m                         Traceback (most recent call last)",
      "Input \u001b[1;32mIn [328]\u001b[0m, in \u001b[0;36m<cell line: 3>\u001b[1;34m()\u001b[0m\n\u001b[0;32m      1\u001b[0m ts \u001b[38;5;241m=\u001b[39m np\u001b[38;5;241m.\u001b[39mlinspace(\u001b[38;5;241m0\u001b[39m,\u001b[38;5;241m320e-3\u001b[39m,\u001b[38;5;241m100\u001b[39m)\n\u001b[0;32m      2\u001b[0m \u001b[38;5;66;03m#rho = mesolve(H, rho0, ts, [c1, c2], [ap*am, sp*sm])\u001b[39;00m\n\u001b[1;32m----> 3\u001b[0m rho \u001b[38;5;241m=\u001b[39m \u001b[43mmesolve\u001b[49m\u001b[43m(\u001b[49m\u001b[43mtensor\u001b[49m\u001b[43m(\u001b[49m\u001b[43mqeye\u001b[49m\u001b[43m(\u001b[49m\u001b[38;5;241;43m2\u001b[39;49m\u001b[43m)\u001b[49m\u001b[43m,\u001b[49m\u001b[43mqeye\u001b[49m\u001b[43m(\u001b[49m\u001b[43mN\u001b[49m\u001b[43m)\u001b[49m\u001b[43m)\u001b[49m\u001b[43m,\u001b[49m\u001b[43m \u001b[49m\u001b[43mrho0\u001b[49m\u001b[43m,\u001b[49m\u001b[43m \u001b[49m\u001b[43mts\u001b[49m\u001b[43m,\u001b[49m\u001b[43m \u001b[49m\u001b[43m[\u001b[49m\u001b[43mc1\u001b[49m\u001b[43m,\u001b[49m\u001b[43m \u001b[49m\u001b[43mc2\u001b[49m\u001b[43m]\u001b[49m\u001b[43m,\u001b[49m\u001b[43m \u001b[49m\u001b[43m[\u001b[49m\u001b[43map\u001b[49m\u001b[38;5;241;43m*\u001b[39;49m\u001b[43mam\u001b[49m\u001b[43m,\u001b[49m\u001b[43m \u001b[49m\u001b[43msp\u001b[49m\u001b[38;5;241;43m*\u001b[39;49m\u001b[43msm\u001b[49m\u001b[43m]\u001b[49m\u001b[43m,\u001b[49m\u001b[43m \u001b[49m\u001b[43moptions\u001b[49m\u001b[38;5;241;43m=\u001b[39;49m\u001b[43mOptions\u001b[49m\u001b[43m(\u001b[49m\u001b[43mnsteps\u001b[49m\u001b[38;5;241;43m=\u001b[39;49m\u001b[38;5;241;43m10000\u001b[39;49m\u001b[43m)\u001b[49m\u001b[43m)\u001b[49m\n",
      "File \u001b[1;32mD:\\Mark\\Python\\lib\\site-packages\\qutip\\mesolve.py:244\u001b[0m, in \u001b[0;36mmesolve\u001b[1;34m(H, rho0, tlist, c_ops, e_ops, args, options, progress_bar, _safe_mode)\u001b[0m\n\u001b[0;32m    241\u001b[0m     v \u001b[38;5;241m=\u001b[39m rho0\u001b[38;5;241m.\u001b[39mfull()\u001b[38;5;241m.\u001b[39mravel(\u001b[38;5;124m'\u001b[39m\u001b[38;5;124mF\u001b[39m\u001b[38;5;124m'\u001b[39m)\n\u001b[0;32m    242\u001b[0m     func(\u001b[38;5;241m0.\u001b[39m, v, \u001b[38;5;241m*\u001b[39mode_args) \u001b[38;5;241m+\u001b[39m v\n\u001b[1;32m--> 244\u001b[0m res \u001b[38;5;241m=\u001b[39m \u001b[43m_generic_ode_solve\u001b[49m\u001b[43m(\u001b[49m\u001b[43mfunc\u001b[49m\u001b[43m,\u001b[49m\u001b[43m \u001b[49m\u001b[43mode_args\u001b[49m\u001b[43m,\u001b[49m\u001b[43m \u001b[49m\u001b[43mrho0\u001b[49m\u001b[43m,\u001b[49m\u001b[43m \u001b[49m\u001b[43mtlist\u001b[49m\u001b[43m,\u001b[49m\u001b[43m \u001b[49m\u001b[43me_ops\u001b[49m\u001b[43m,\u001b[49m\u001b[43m \u001b[49m\u001b[43moptions\u001b[49m\u001b[43m,\u001b[49m\n\u001b[0;32m    245\u001b[0m \u001b[43m                         \u001b[49m\u001b[43mprogress_bar\u001b[49m\u001b[43m,\u001b[49m\u001b[43m \u001b[49m\u001b[43mdims\u001b[49m\u001b[38;5;241;43m=\u001b[39;49m\u001b[43mrho0\u001b[49m\u001b[38;5;241;43m.\u001b[39;49m\u001b[43mdims\u001b[49m\u001b[43m)\u001b[49m\n\u001b[0;32m    246\u001b[0m res\u001b[38;5;241m.\u001b[39mnum_collapse \u001b[38;5;241m=\u001b[39m \u001b[38;5;28mlen\u001b[39m(c_ops)\n\u001b[0;32m    248\u001b[0m \u001b[38;5;28;01mif\u001b[39;00m e_ops_dict:\n",
      "File \u001b[1;32mD:\\Mark\\Python\\lib\\site-packages\\qutip\\mesolve.py:526\u001b[0m, in \u001b[0;36m_generic_ode_solve\u001b[1;34m(func, ode_args, rho0, tlist, e_ops, opt, progress_bar, dims)\u001b[0m\n\u001b[0;32m    521\u001b[0m         output\u001b[38;5;241m.\u001b[39mexpect[m][t_idx] \u001b[38;5;241m=\u001b[39m expect_rho_vec(e_ops_data[m], r\u001b[38;5;241m.\u001b[39my,\n\u001b[0;32m    522\u001b[0m                                                  e_ops[m]\u001b[38;5;241m.\u001b[39misherm\n\u001b[0;32m    523\u001b[0m                                                  \u001b[38;5;129;01mand\u001b[39;00m rho0\u001b[38;5;241m.\u001b[39misherm)\n\u001b[0;32m    525\u001b[0m     \u001b[38;5;28;01mif\u001b[39;00m t_idx \u001b[38;5;241m<\u001b[39m n_tsteps \u001b[38;5;241m-\u001b[39m \u001b[38;5;241m1\u001b[39m:\n\u001b[1;32m--> 526\u001b[0m         \u001b[43mr\u001b[49m\u001b[38;5;241;43m.\u001b[39;49m\u001b[43mintegrate\u001b[49m\u001b[43m(\u001b[49m\u001b[43mr\u001b[49m\u001b[38;5;241;43m.\u001b[39;49m\u001b[43mt\u001b[49m\u001b[43m \u001b[49m\u001b[38;5;241;43m+\u001b[39;49m\u001b[43m \u001b[49m\u001b[43mdt\u001b[49m\u001b[43m[\u001b[49m\u001b[43mt_idx\u001b[49m\u001b[43m]\u001b[49m\u001b[43m)\u001b[49m\n\u001b[0;32m    528\u001b[0m progress_bar\u001b[38;5;241m.\u001b[39mfinished()\n\u001b[0;32m    530\u001b[0m \u001b[38;5;28;01mif\u001b[39;00m opt\u001b[38;5;241m.\u001b[39mstore_final_state:\n",
      "File \u001b[1;32mD:\\Mark\\Python\\lib\\site-packages\\scipy\\integrate\\_ode.py:433\u001b[0m, in \u001b[0;36mode.integrate\u001b[1;34m(self, t, step, relax)\u001b[0m\n\u001b[0;32m    430\u001b[0m     mth \u001b[38;5;241m=\u001b[39m \u001b[38;5;28mself\u001b[39m\u001b[38;5;241m.\u001b[39m_integrator\u001b[38;5;241m.\u001b[39mrun\n\u001b[0;32m    432\u001b[0m \u001b[38;5;28;01mtry\u001b[39;00m:\n\u001b[1;32m--> 433\u001b[0m     \u001b[38;5;28mself\u001b[39m\u001b[38;5;241m.\u001b[39m_y, \u001b[38;5;28mself\u001b[39m\u001b[38;5;241m.\u001b[39mt \u001b[38;5;241m=\u001b[39m \u001b[43mmth\u001b[49m\u001b[43m(\u001b[49m\u001b[38;5;28;43mself\u001b[39;49m\u001b[38;5;241;43m.\u001b[39;49m\u001b[43mf\u001b[49m\u001b[43m,\u001b[49m\u001b[43m \u001b[49m\u001b[38;5;28;43mself\u001b[39;49m\u001b[38;5;241;43m.\u001b[39;49m\u001b[43mjac\u001b[49m\u001b[43m \u001b[49m\u001b[38;5;129;43;01mor\u001b[39;49;00m\u001b[43m \u001b[49m\u001b[43m(\u001b[49m\u001b[38;5;28;43;01mlambda\u001b[39;49;00m\u001b[43m:\u001b[49m\u001b[43m \u001b[49m\u001b[38;5;28;43;01mNone\u001b[39;49;00m\u001b[43m)\u001b[49m\u001b[43m,\u001b[49m\n\u001b[0;32m    434\u001b[0m \u001b[43m                          \u001b[49m\u001b[38;5;28;43mself\u001b[39;49m\u001b[38;5;241;43m.\u001b[39;49m\u001b[43m_y\u001b[49m\u001b[43m,\u001b[49m\u001b[43m \u001b[49m\u001b[38;5;28;43mself\u001b[39;49m\u001b[38;5;241;43m.\u001b[39;49m\u001b[43mt\u001b[49m\u001b[43m,\u001b[49m\u001b[43m \u001b[49m\u001b[43mt\u001b[49m\u001b[43m,\u001b[49m\n\u001b[0;32m    435\u001b[0m \u001b[43m                          \u001b[49m\u001b[38;5;28;43mself\u001b[39;49m\u001b[38;5;241;43m.\u001b[39;49m\u001b[43mf_params\u001b[49m\u001b[43m,\u001b[49m\u001b[43m \u001b[49m\u001b[38;5;28;43mself\u001b[39;49m\u001b[38;5;241;43m.\u001b[39;49m\u001b[43mjac_params\u001b[49m\u001b[43m)\u001b[49m\n\u001b[0;32m    436\u001b[0m \u001b[38;5;28;01mexcept\u001b[39;00m \u001b[38;5;167;01mSystemError\u001b[39;00m \u001b[38;5;28;01mas\u001b[39;00m e:\n\u001b[0;32m    437\u001b[0m     \u001b[38;5;66;03m# f2py issue with tuple returns, see ticket 1187.\u001b[39;00m\n\u001b[0;32m    438\u001b[0m     \u001b[38;5;28;01mraise\u001b[39;00m \u001b[38;5;167;01mValueError\u001b[39;00m(\n\u001b[0;32m    439\u001b[0m         \u001b[38;5;124m'\u001b[39m\u001b[38;5;124mFunction to integrate must not return a tuple.\u001b[39m\u001b[38;5;124m'\u001b[39m\n\u001b[0;32m    440\u001b[0m     ) \u001b[38;5;28;01mfrom\u001b[39;00m \u001b[38;5;21;01me\u001b[39;00m\n",
      "File \u001b[1;32mD:\\Mark\\Python\\lib\\site-packages\\scipy\\integrate\\_ode.py:1009\u001b[0m, in \u001b[0;36mvode.run\u001b[1;34m(self, f, jac, y0, t0, t1, f_params, jac_params)\u001b[0m\n\u001b[0;32m   1005\u001b[0m     jac \u001b[38;5;241m=\u001b[39m _vode_banded_jac_wrapper(jac, \u001b[38;5;28mself\u001b[39m\u001b[38;5;241m.\u001b[39mml, jac_params)\n\u001b[0;32m   1007\u001b[0m args \u001b[38;5;241m=\u001b[39m ((f, jac, y0, t0, t1) \u001b[38;5;241m+\u001b[39m \u001b[38;5;28mtuple\u001b[39m(\u001b[38;5;28mself\u001b[39m\u001b[38;5;241m.\u001b[39mcall_args) \u001b[38;5;241m+\u001b[39m\n\u001b[0;32m   1008\u001b[0m         (f_params, jac_params))\n\u001b[1;32m-> 1009\u001b[0m y1, t, istate \u001b[38;5;241m=\u001b[39m \u001b[38;5;28;43mself\u001b[39;49m\u001b[38;5;241;43m.\u001b[39;49m\u001b[43mrunner\u001b[49m\u001b[43m(\u001b[49m\u001b[38;5;241;43m*\u001b[39;49m\u001b[43margs\u001b[49m\u001b[43m)\u001b[49m\n\u001b[0;32m   1010\u001b[0m \u001b[38;5;28mself\u001b[39m\u001b[38;5;241m.\u001b[39mistate \u001b[38;5;241m=\u001b[39m istate\n\u001b[0;32m   1011\u001b[0m \u001b[38;5;28;01mif\u001b[39;00m istate \u001b[38;5;241m<\u001b[39m \u001b[38;5;241m0\u001b[39m:\n",
      "\u001b[1;31mKeyboardInterrupt\u001b[0m: "
     ]
    }
   ],
   "source": [
    "ts = np.linspace(0,320e-3,100)\n",
    "#rho = mesolve(H, rho0, ts, [c1, c2], [ap*am, sp*sm])\n",
    "rho = mesolve(tensor(qeye(2),qeye(N)), rho0, ts, [c1, c2], [ap*am, sp*sm], options=Options(nsteps=10000))#, atol=1e-2, rtol=1e-2))"
   ]
  },
  {
   "cell_type": "code",
   "execution_count": 322,
   "id": "6dce672c",
   "metadata": {},
   "outputs": [
    {
     "data": {
      "image/png": "[encoded data removed]",
      "text/plain": [
       "<Figure size 432x288 with 1 Axes>"
      ]
     },
     "metadata": {
      "needs_background": "light"
     },
     "output_type": "display_data"
    }
   ],
   "source": [
    "plt.plot(ts*1e3, rho.expect[0])\n",
    "#plt.ylim(9,11)\n",
    "plt.grid()"
   ]
  },
  {
   "cell_type": "code",
   "execution_count": 317,
   "id": "9d012f1b",
   "metadata": {},
   "outputs": [
    {
     "data": {
      "image/png": "[encoded data removed]",
      "text/plain": [
       "<Figure size 432x288 with 1 Axes>"
      ]
     },
     "metadata": {
      "needs_background": "light"
     },
     "output_type": "display_data"
    }
   ],
   "source": [
    "plt.plot(ts*Omega/(np.pi), rho.expect[1])\n",
    "plt.grid()"
   ]
  },
  {
   "cell_type": "code",
   "execution_count": 275,
   "id": "e8e91328",
   "metadata": {},
   "outputs": [
    {
     "data": {
      "text/plain": [
       "11.96658553846319"
      ]
     },
     "execution_count": 275,
     "metadata": {},
     "output_type": "execute_result"
    }
   ],
   "source": [
    "expect(ap*am,tensor(fock_dm(2,0),thermal_dm(N,12)))"
   ]
  },
  {
   "cell_type": "code",
   "execution_count": 319,
   "id": "ff18161c",
   "metadata": {},
   "outputs": [
    {
     "data": {
      "text/plain": [
       "0.08296176565119641"
      ]
     },
     "execution_count": 319,
     "metadata": {},
     "output_type": "execute_result"
    }
   ],
   "source": [
    "np.sqrt(eta2)"
   ]
  },
  {
   "cell_type": "code",
   "execution_count": 326,
   "id": "4969826d",
   "metadata": {},
   "outputs": [
    {
     "data": {
      "text/plain": [
       "[]"
      ]
     },
     "execution_count": 326,
     "metadata": {},
     "output_type": "execute_result"
    }
   ],
   "source": [
    "rho.states"
   ]
  },
  {
   "cell_type": "code",
   "execution_count": 327,
   "id": "3ae38611",
   "metadata": {},
   "outputs": [
    {
     "ename": "TypeError",
     "evalue": "The unitary solver requires psi0 to be a ket as initial state or a unitary as initial operator.",
     "output_type": "error",
     "traceback": [
      "\u001b[1;31m---------------------------------------------------------------------------\u001b[0m",
      "\u001b[1;31mTypeError\u001b[0m                                 Traceback (most recent call last)",
      "Input \u001b[1;32mIn [327]\u001b[0m, in \u001b[0;36m<cell line: 1>\u001b[1;34m()\u001b[0m\n\u001b[1;32m----> 1\u001b[0m rho1 \u001b[38;5;241m=\u001b[39m \u001b[43msesolve\u001b[49m\u001b[43m(\u001b[49m\u001b[43mH\u001b[49m\u001b[38;5;241;43m+\u001b[39;49m\u001b[43mV\u001b[49m\u001b[43m,\u001b[49m\u001b[43m \u001b[49m\u001b[43mrho0\u001b[49m\u001b[43m,\u001b[49m\u001b[43m \u001b[49m\u001b[43mts\u001b[49m\u001b[43m)\u001b[49m\n",
      "File \u001b[1;32mD:\\Mark\\Python\\lib\\site-packages\\qutip\\sesolve.py:105\u001b[0m, in \u001b[0;36msesolve\u001b[1;34m(H, psi0, tlist, e_ops, args, options, progress_bar, _safe_mode)\u001b[0m\n\u001b[0;32m    102\u001b[0m     progress_bar \u001b[38;5;241m=\u001b[39m TextProgressBar()\n\u001b[0;32m    104\u001b[0m \u001b[38;5;28;01mif\u001b[39;00m \u001b[38;5;129;01mnot\u001b[39;00m (psi0\u001b[38;5;241m.\u001b[39misket \u001b[38;5;129;01mor\u001b[39;00m psi0\u001b[38;5;241m.\u001b[39misunitary):\n\u001b[1;32m--> 105\u001b[0m     \u001b[38;5;28;01mraise\u001b[39;00m \u001b[38;5;167;01mTypeError\u001b[39;00m(\u001b[38;5;124m\"\u001b[39m\u001b[38;5;124mThe unitary solver requires psi0 to be\u001b[39m\u001b[38;5;124m\"\u001b[39m\n\u001b[0;32m    106\u001b[0m                     \u001b[38;5;124m\"\u001b[39m\u001b[38;5;124m a ket as initial state\u001b[39m\u001b[38;5;124m\"\u001b[39m\n\u001b[0;32m    107\u001b[0m                     \u001b[38;5;124m\"\u001b[39m\u001b[38;5;124m or a unitary as initial operator.\u001b[39m\u001b[38;5;124m\"\u001b[39m)\n\u001b[0;32m    109\u001b[0m \u001b[38;5;28;01mif\u001b[39;00m options \u001b[38;5;129;01mis\u001b[39;00m \u001b[38;5;28;01mNone\u001b[39;00m:\n\u001b[0;32m    110\u001b[0m     options \u001b[38;5;241m=\u001b[39m Options()\n",
      "\u001b[1;31mTypeError\u001b[0m: The unitary solver requires psi0 to be a ket as initial state or a unitary as initial operator."
     ]
    }
   ],
   "source": [
    "rho1 = sesolve(H+V, rho0, ts)"
   ]
  },
  {
   "cell_type": "code",
   "execution_count": 330,
   "id": "9799c56e",
   "metadata": {},
   "outputs": [
    {
     "data": {
      "text/latex": [
       "Quantum object: dims = [[2], [2]], shape = (2, 2), type = oper, isherm = True\\begin{equation*}\\left(\\begin{array}{*{11}c}0.0 & 1.0\\\\1.0 & 0.0\\\\\\end{array}\\right)\\end{equation*}"
      ],
      "text/plain": [
       "Quantum object: dims = [[2], [2]], shape = (2, 2), type = oper, isherm = True\n",
       "Qobj data =\n",
       "[[0. 1.]\n",
       " [1. 0.]]"
      ]
     },
     "execution_count": 330,
     "metadata": {},
     "output_type": "execute_result"
    }
   ],
   "source": [
    "destroy(2).dag()+destroy(2)"
   ]
  },
  {
   "cell_type": "code",
   "execution_count": 332,
   "id": "219c5f7c",
   "metadata": {},
   "outputs": [
    {
     "data": {
      "text/latex": [
       "Quantum object: dims = [[3], [3]], shape = (3, 3), type = oper, isherm = True\\begin{equation*}\\left(\\begin{array}{*{11}c}0.0 & 0.0 & 0.0\\\\0.0 & 1.0 & 0.0\\\\0.0 & 0.0 & 2.0\\\\\\end{array}\\right)\\end{equation*}"
      ],
      "text/plain": [
       "Quantum object: dims = [[3], [3]], shape = (3, 3), type = oper, isherm = True\n",
       "Qobj data =\n",
       "[[0. 0. 0.]\n",
       " [0. 1. 0.]\n",
       " [0. 0. 2.]]"
      ]
     },
     "execution_count": 332,
     "metadata": {},
     "output_type": "execute_result"
    }
   ],
   "source": [
    "destroy(3).dag()*destroy(3)"
   ]
  },
  {
   "cell_type": "code",
   "execution_count": null,
   "id": "b61ec3d8",
   "metadata": {},
   "outputs": [],
   "source": []
  }
 ],
 "metadata": {
  "kernelspec": {
   "display_name": "Python 3 (ipykernel)",
   "language": "python",
   "name": "python3"
  },
  "language_info": {
   "codemirror_mode": {
    "name": "ipython",
    "version": 3
   },
   "file_extension": ".py",
   "mimetype": "text/x-python",
   "name": "python",
   "nbconvert_exporter": "python",
   "pygments_lexer": "ipython3",
   "version": "3.10.5"
  }
 },
 "nbformat": 4,
 "nbformat_minor": 5
}
