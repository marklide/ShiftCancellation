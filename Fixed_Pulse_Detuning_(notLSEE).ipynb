{
 "cells": [
  {
   "cell_type": "code",
   "execution_count": 1,
   "id": "cbf9db3d",
   "metadata": {},
   "outputs": [],
   "source": [
    "from qutip import *\n",
    "import numpy as np\n",
    "import scipy as sp\n",
    "import math\n",
    "import matplotlib.pyplot as plt\n",
    "from scipy.special import genlaguerre as L"
   ]
  },
  {
   "cell_type": "code",
   "execution_count": 21,
   "id": "7953bc2d",
   "metadata": {},
   "outputs": [],
   "source": [
    "def psi(g,e):\n",
    "    return np.array([g, e])\n",
    "\n",
    "def pulse(t, Omega0, delta, phi0, phi1):\n",
    "    Omega = np.sqrt(Omega0**2 + delta**2)\n",
    "    \n",
    "    if Omega == 0.0:\n",
    "        U = np.array([[1.0 , 0.0],\n",
    "                      [0.0 , 1.0]])\n",
    "        \n",
    "    else:\n",
    "        U = np.array([[np.cos(Omega*t/2.0) -(1.0j*delta/Omega)*np.sin(Omega*t/2.0), (1.0j*Omega0/Omega)*np.sin(Omega*t/2.0)],\n",
    "                     [(1.0j*Omega0/Omega)*np.sin(Omega*t/2.0) , np.cos(Omega*t/2.0) + (1.0j*delta/Omega)*np.sin(Omega*t/2.0)]])\n",
    "    \n",
    "    V1 = np.array([[1.0 , 0.0],\n",
    "                   [0.0 , np.exp(-1.0j*phi1)]])\n",
    "    \n",
    "    V0 = np.array([[1.0 , 0.0],\n",
    "                   [0.0 , np.exp(1.0j*phi0)]])\n",
    "    \n",
    "    return np.exp(1.0j*delta*t/2.0)*V1@U@V0\n",
    "\n",
    "def thermPulse(psi0, t, Omega0, delPrime, eta, nbar, Ncut): #1-dimensional\n",
    "    result = psi(0.0+0.0j,0.0+0.0j)\n",
    "    for n in range(Ncut):\n",
    "        result += prob(n,nbar)*pulse(t, Omega0*Omega(n,0,eta), delPrime, 0.0, 0.0)@psi0\n",
    "    return result\n",
    "\n",
    "def therm3DPulse(psi0, t, Omega0, delPrime, nbars, Omegas, Ncut):\n",
    "    nbarx = nbars[0]\n",
    "    nbary = nbars[1]\n",
    "    nbarz = nbars[2]\n",
    "    #Ncut = 100\n",
    "    result = psi(0.0+0.0j,0.0+0.0j)\n",
    "    for nx in range(Ncut):\n",
    "        Probx = prob(nx,nbarx)\n",
    "        for ny in range(Ncut):\n",
    "            Probxy = Probx*prob(ny,nbary)\n",
    "            for nz in range(Ncut):\n",
    "                result += Probxy*prob(nz,nbarz)*pulse(t, Omega0*Omegas[nx,ny,nz], delPrime, 0.0, 0.0)@psi0\n",
    "    return result\n",
    "\n",
    "def rhoee(psi):\n",
    "    return (abs(psi[1]))**2.0\n",
    "\n",
    "def rhogg(psi):\n",
    "    return (abs(psi[0]))**2.0\n",
    "\n",
    "def prob(n,nbar):\n",
    "    return 1.0/(nbar+1)*(nbar/(nbar+1))**n    #returns prob of being in state n given nbar\n",
    "\n",
    "def Omega(n,m,eta):\n",
    "    return np.exp(-eta**2/2.0) * eta**(np.abs(m)) * (math.factorial(n)/math.factorial(n+m))**(np.sign(m)/2.0) \\\n",
    "        * L(n,np.abs(m))(eta**2)              #returns unitless rabi rate of transition n -> n+m given Lamb-Dicke Parameter"
   ]
  },
  {
   "cell_type": "code",
   "execution_count": 22,
   "id": "f8e76c0a",
   "metadata": {},
   "outputs": [],
   "source": [
    "def phi(psi):\n",
    "    phi0 = math.atan2(np.real(psi[0]),np.imag(psi[0]))\n",
    "    phi1 = math.atan2(np.real(psi[1]),np.imag(psi[1]))\n",
    "    return (phi0-phi1)\n",
    "\n",
    "def blochVec(psi):\n",
    "    w = rhogg(psi) - rhoee(psi)  #pointed up is ground state\n",
    "    if abs(w)>1.0:\n",
    "        w = float(round(w))\n",
    "    x = np.sin(np.arccos(w))*np.cos(phi(psi))\n",
    "    y = np.sin(np.arccos(w))*np.sin(phi(psi))\n",
    "    return np.array([x,y,w])"
   ]
  },
  {
   "cell_type": "code",
   "execution_count": 96,
   "id": "c1e44ae9",
   "metadata": {},
   "outputs": [],
   "source": [
    "def prob(n,nbar):\n",
    "    return 1.0/(nbar+1)*(nbar/(nbar+1))**n\n",
    "\n",
    "def expE(nbar, omega, Ncut):\n",
    "    expE = 0.0\n",
    "    #Ncut = 1001\n",
    "    for n in range(Ncut):\n",
    "        expE += prob(n,nbar)*hbar*omega*(0.5+n)\n",
    "    return expE\n",
    "\n",
    "def expEHeat(nbar0, nbarf, omega, Ncut):\n",
    "    return expE((nbar0+nbarf)/2.0, omega, Ncut)\n",
    "\n",
    "hbar = sp.constants.hbar\n",
    "h = sp.constants.h\n",
    "c = sp.constants.c\n",
    "e = sp.constants.e\n",
    "eVtoJ = 1.602176634e-19\n",
    "amutokg = 1.66053906660e-27\n",
    "\n",
    "omega = 2.0*np.pi*778e3 #Lange\n",
    "Omegarf = 2.0*np.pi*13e6 #Lange\n",
    "m = 170.936331517*amutokg\n",
    "beta = 0.0\n",
    "alpha = 5.89e-40 #J m^2 V^-2 E2 transition (Lange)\n",
    "nu0 = 688358979309307.82 #Hz E2 transition (Huntemann)"
   ]
  },
  {
   "cell_type": "code",
   "execution_count": 170,
   "id": "42073d78",
   "metadata": {},
   "outputs": [],
   "source": [
    "def RamseyErrSig(deld, psi0, t1, T, t2, delPrime, Omega0, eta, nbar0, nbarf, Ncut):\n",
    "    #nbar = nbar0 + nbardot*T\n",
    "    #delPrime = deld - Delta\n",
    "    freeEvo = pulse(T, 0.0, deld, 0.0, 0.0)\n",
    "    pi2PhaseInjP = pulse(0.0, 0.0, 0.0, 0.0, np.pi/2.0)\n",
    "    pi2PhaseInjM = pulse(0.0, 0.0, 0.0, 0.0, -np.pi/2.0)\n",
    "    intState = thermPulse(psi0, t1, Omega0, delPrime, eta, nbar0, Ncut)\n",
    "    resultP = thermPulse(freeEvo@pi2PhaseInjP@intState, t2, Omega0, delPrime, eta, nbarf, Ncut)\n",
    "    resultM = thermPulse(freeEvo@pi2PhaseInjM@intState, t2, Omega0, delPrime, eta, nbarf, Ncut)\n",
    "    return rhoee(resultP) - rhoee(resultM)\n",
    "\n",
    "def RamseyErrSig2(deld, psi0, t1, T, t2, delPrime, Omega0, eta, nbar0, nbarf, Ncut):\n",
    "    #nbar = nbar0 + nbardot*T\n",
    "    #delPrime = deld - Delta\n",
    "    freeEvo = pulse(T, 0.0, deld, 0.0, 0.0)\n",
    "    pi2PhaseInjP = pulse(0.0, 0.0, 0.0, 0.0, np.pi/2.0)\n",
    "    pi2PhaseInjM = pulse(0.0, 0.0, 0.0, 0.0, -np.pi/2.0)\n",
    "    intState = thermPulse(psi0, t1, Omega0, delPrime, eta, nbar0, Ncut)\n",
    "    resultP = thermPulse(freeEvo@pi2PhaseInjP@intState, t2, Omega0, 0.0, eta, nbarf, Ncut)\n",
    "    resultM = thermPulse(freeEvo@pi2PhaseInjM@intState, t2, Omega0, 0.0, eta, nbarf, Ncut)\n",
    "    return rhoee(resultP) - rhoee(resultM)\n",
    "\n",
    "def HRJumpThermErrSig(deld, psi0, t1, T, t2, delPrime, Omega0, eta, nbar0, nbarf, Ncut):\n",
    "    #delPrime = deld - Delta\n",
    "    freeEvo = pulse(T, 0.0, deld, 0.0, 0.0)\n",
    "    pi2PhaseInjP = pulse(0.0, 0.0, 0.0, 0.0, np.pi/2.0)\n",
    "    pi2PhaseInjM = pulse(0.0, 0.0, 0.0, 0.0, -np.pi/2.0)\n",
    "    #def thermPulse(psi0, t, Omega0, delPrime, eta, nbar, Ncut): #1-dimensional\n",
    "    intState = thermPulse(psi0, t1, Omega0, delPrime, eta, nbar0, Ncut)\n",
    "    resultP = thermPulse(thermPulse(freeEvo@pi2PhaseInjP@intState, 2.0*t2/3.0, -Omega0, delPrime, eta, nbarf, Ncut), t2/3.0, Omega0, delPrime, eta, nbarf, Ncut)\n",
    "    resultM = thermPulse(thermPulse(freeEvo@pi2PhaseInjM@intState, 2.0*t2/3.0, -Omega0, delPrime, eta, nbarf, Ncut), t2/3.0, Omega0, delPrime, eta, nbarf, Ncut)\n",
    "    return rhoee(resultP) - rhoee(resultM)\n",
    "\n",
    "def HRJumpThermErrSig2(deld, psi0, t1, T, t2, delPrime, Omega0, eta, nbar0, nbarf, Ncut):\n",
    "    #delPrime = deld - Delta\n",
    "    freeEvo = pulse(T, 0.0, deld, 0.0, 0.0)\n",
    "    pi2PhaseInjP = pulse(0.0, 0.0, 0.0, 0.0, np.pi/2.0)\n",
    "    pi2PhaseInjM = pulse(0.0, 0.0, 0.0, 0.0, -np.pi/2.0)\n",
    "    #def thermPulse(psi0, t, Omega0, delPrime, eta, nbar, Ncut): #1-dimensional\n",
    "    intState = thermPulse(psi0, t1, Omega0, 0.0, eta, nbar0, Ncut)\n",
    "    resultP = thermPulse(thermPulse(freeEvo@pi2PhaseInjP@intState, 2.0*t2/3.0, -Omega0, delPrime, eta, nbarf, Ncut), t2/3.0, Omega0, delPrime, eta, nbarf, Ncut)\n",
    "    resultM = thermPulse(thermPulse(freeEvo@pi2PhaseInjM@intState, 2.0*t2/3.0, -Omega0, delPrime, eta, nbarf, Ncut), t2/3.0, Omega0, delPrime, eta, nbarf, Ncut)\n",
    "    return rhoee(resultP) - rhoee(resultM)"
   ]
  },
  {
   "cell_type": "code",
   "execution_count": 77,
   "id": "6da51174",
   "metadata": {},
   "outputs": [],
   "source": [
    "def heatPulse(psi0, t, Omega0, delPrime, eta, nbar0, nbarf, steps, Ncut):\n",
    "    nbars = np.linspace(nbar0, nbarf, steps)\n",
    "    print(nbars)\n",
    "    for ii in range(steps):\n",
    "        result = psi(0.0+0.0j,0.0+0.0j)\n",
    "        for n in range(Ncut):\n",
    "            result += prob(n,nbars[ii])*pulse(t/steps, Omega0*Omega(n,0,eta), delPrime, 0.0, 0.0)@psi0\n",
    "        psi0=result\n",
    "        print(psi0)\n",
    "    return psi0\n",
    "\n",
    "def heatPulse2(psi0, t, Omega0, delPrime, eta, nbar0, nbarf, steps, Ncut):\n",
    "    nbars = np.linspace(nbar0, nbarf, steps)\n",
    "    for ii in range(steps):\n",
    "        psi0 = thermPulse(psi0, t/steps, Omega0, delPrime, eta, nbars[ii], Ncut)\n",
    "    return psi0"
   ]
  },
  {
   "cell_type": "code",
   "execution_count": 132,
   "id": "0e0b6120",
   "metadata": {},
   "outputs": [],
   "source": [
    "def optimizeDelp(t1, T, delPrime0, eta, nbar0, nbarf, Ncut):\n",
    "    t2 = 3.0*t1\n",
    "    Omega0 = np.pi/(2.0*t1)\n",
    "    psi0 = psi(0.0,1.0)\n",
    "    x0 = 0.0\n",
    "    x1 = 0.1\n",
    "    shift =sp.optimize.root_scalar(HRJumpThermErrSig2, args=(psi0, t1, T, t2, delPrime0, Omega0, eta, 0.0, nbarf, Ncut), bracket=[x0,x1], xtol = tol).root\n",
    "    dopStark = -nu0*expEHeat(nbar0, nbarf, omega, Ncut)*(3.0/(m*c**2) + (alpha/(h*nu0))*(3.0*m*Omegarf**2/(2.0*e**2)))\n",
    "    return delPrime0*(dopStark/shift)"
   ]
  },
  {
   "cell_type": "code",
   "execution_count": 168,
   "id": "3c91eae0",
   "metadata": {},
   "outputs": [
    {
     "name": "stdout",
     "output_type": "stream",
     "text": [
      "0.0\n",
      "0.0\n",
      "0.025\n",
      "-0.0006361664855788486\n",
      "0.05\n",
      "-0.0012723329526993011\n",
      "0.07500000000000001\n",
      "-0.0019084993829023233\n",
      "0.1\n",
      "-0.0025446657577296522\n"
     ]
    }
   ],
   "source": [
    "Ncut = 401\n",
    "nbar0 = 0\n",
    "nbarf = 0\n",
    "psi0 = psi(0.0, 1.0)\n",
    "t1 = 20.0*1e-3\n",
    "t2 = 3.0*t1\n",
    "Omega0 = np.pi/(2.0*t1) #hz\n",
    "T = 500.0e-3\n",
    "eta = 0.05\n",
    "\n",
    "pts = 5\n",
    "delPs = np.linspace(0, 0.1,pts)\n",
    "deltas = np.zeros(pts)\n",
    "delta3s = np.zeros(pts)\n",
    "#delta2s = np.zeros(pts)\n",
    "#delta4s = np.zeros(pts)\n",
    "guesstol = 0.1\n",
    "x0 = -0.1\n",
    "x1 = 0.1\n",
    "\n",
    "for ii in range(pts):\n",
    "    print(delPs[ii])\n",
    "    delta3s[ii] = sp.optimize.root_scalar(RamseyErrSig2, args=(psi0, t1, T, t2, delPs[ii], Omega0, eta, nbar0, nbarf, Ncut), bracket=[x0,x1], xtol = tol).root\n",
    "    #deltas[ii] = sp.optimize.root_scalar(HRJumpThermErrSig2, args=(psi0, t1, T, t2, delPs[ii], Omega0, eta, nbar0, nbarf, Ncut), bracket=[x0,x1], xtol = tol).root\n",
    "    print(delta3s[ii])\n",
    "    x0 = delta3s[ii] - guessTol\n",
    "    x1 = delta3s[ii] + guessTol"
   ]
  },
  {
   "cell_type": "code",
   "execution_count": 169,
   "id": "517e8bda",
   "metadata": {},
   "outputs": [
    {
     "data": {
      "image/png": "[encoded data removed]",
      "text/plain": [
       "<Figure size 432x288 with 1 Axes>"
      ]
     },
     "metadata": {
      "needs_background": "light"
     },
     "output_type": "display_data"
    }
   ],
   "source": [
    "#deltaHRSlastDetune = delta3s\n",
    "plt.plot(delPs, delta1s*1e3, label=\"HRS Both Pulses det.\")\n",
    "plt.plot(delPs, delta2s*1e3, label=\"HRS Only 2nd Pulse det.\")\n",
    "plt.plot(delPs, delta3s*1e3, label=\"HRS Only 1st Pulse det.\")\n",
    "\n",
    "plt.xlabel(\"Pulse Detuning (Hz)\")\n",
    "plt.ylabel(\"Clock Shift (mHz)\")\n",
    "plt.legend()\n",
    "plt.show()"
   ]
  },
  {
   "cell_type": "code",
   "execution_count": 219,
   "id": "61a75a52",
   "metadata": {},
   "outputs": [
    {
     "name": "stdout",
     "output_type": "stream",
     "text": [
      "0.0\n",
      "0.0\n",
      "0.0189873417721519\n",
      "-2.148551026727589e-05\n",
      "0.0379746835443038\n",
      "-0.00017141496937043694\n",
      "0.056962025316455694\n",
      "-0.0005759103721523876\n",
      "0.0759493670886076\n",
      "-0.001356557868524474\n",
      "0.0949367088607595\n",
      "-0.0026284007722898526\n",
      "0.11392405063291139\n",
      "-0.004498221100190207\n",
      "0.1329113924050633\n",
      "-0.0070631683359331544\n",
      "0.1518987341772152\n",
      "-0.010409768281825514\n",
      "0.17088607594936708\n",
      "-0.01461331905367472\n",
      "0.189873417721519\n",
      "-0.01973765804950565\n",
      "0.2088607594936709\n",
      "-0.02583526494814102\n",
      "0.22784810126582278\n",
      "-0.03294765250087499\n",
      "0.2468354430379747\n",
      "-0.041105989281335895\n",
      "0.2658227848101266\n",
      "-0.05033189619712445\n",
      "0.2848101265822785\n",
      "-0.060638360529349795\n",
      "0.3037974683544304\n",
      "-0.0720307164142462\n",
      "0.3227848101265823\n",
      "-0.08450764784850362\n",
      "0.34177215189873417\n",
      "-0.09806217843669973\n",
      "0.3607594936708861\n",
      "-0.11268262035589939\n",
      "0.379746835443038\n",
      "-0.12835346277126525\n",
      "0.3987341772151899\n",
      "-0.14505618680339696\n",
      "0.4177215189873418\n",
      "-0.16276999992060917\n",
      "0.43670886075949367\n",
      "-0.18147248725332848\n",
      "0.45569620253164556\n",
      "-0.20114018085293212\n",
      "0.4746835443037975\n",
      "-0.221749050457782\n",
      "0.4936708860759494\n",
      "-0.24327492103142576\n",
      "0.5126582278481013\n",
      "-0.26569382335787745\n",
      "0.5316455696202532\n",
      "-0.28898228446585833\n",
      "0.5506329113924051\n",
      "-0.31311756474203684\n",
      "0.569620253164557\n",
      "-0.33807784839660354\n",
      "0.5886075949367089\n",
      "-0.363842393556229\n",
      "0.6075949367088608\n",
      "-0.3903916477528216\n",
      "0.6265822784810127\n",
      "-0.4177073340071008\n",
      "0.6455696202531646\n",
      "-0.4457725121144554\n",
      "0.6645569620253164\n",
      "-0.47457161915526697\n",
      "0.6835443037974683\n",
      "-0.5040904926915565\n",
      "0.7025316455696202\n",
      "-0.5343163795879599\n",
      "0.7215189873417722\n",
      "-0.5652379329136155\n",
      "0.7405063291139241\n",
      "-0.5968451989445789\n",
      "0.759493670886076\n",
      "-0.6291295958935612\n",
      "0.7784810126582279\n",
      "-0.6620838856425335\n",
      "0.7974683544303798\n",
      "-0.6957021394410626\n",
      "0.8164556962025317\n",
      "-0.7299796982552278\n",
      "0.8354430379746836\n",
      "-0.7649131282048403\n",
      "0.8544303797468354\n",
      "-0.8005001713067872\n",
      "0.8734177215189873\n",
      "-0.8367396915462949\n",
      "0.8924050632911392\n",
      "-0.873631616123091\n",
      "0.9113924050632911\n",
      "-0.9111768715634312\n",
      "0.9303797468354431\n",
      "-0.9493773142511975\n",
      "0.949367088607595\n",
      "-0.9882356548093745\n",
      "0.9683544303797469\n",
      "-1.0277553756597888\n",
      "0.9873417721518988\n",
      "-1.0679406410031977\n",
      "1.0063291139240507\n",
      "-1.10879619839686\n",
      "1.0253164556962027\n",
      "-1.150327271065654\n",
      "1.0443037974683544\n",
      "-1.192539440069749\n",
      "1.0632911392405064\n",
      "-1.2354385154721133\n",
      "1.0822784810126582\n",
      "-1.2790303957093683\n",
      "1.1012658227848102\n",
      "-1.3233209144764335\n",
      "1.120253164556962\n",
      "-1.3683156745973042\n",
      "1.139240506329114\n",
      "-1.4140198685791217\n",
      "1.1582278481012658\n",
      "-1.460438085842467\n",
      "1.1772151898734178\n",
      "-1.507574106994633\n",
      "1.1962025316455696\n",
      "-1.5554306859699432\n",
      "1.2151898734177216\n",
      "-1.6040093214045226\n",
      "1.2341772151898736\n",
      "-1.6533100192407717\n",
      "1.2531645569620253\n",
      "-1.7033310492623828\n",
      "1.2721518987341773\n",
      "-1.7540686990301169\n",
      "1.2911392405063291\n",
      "-1.8055170294998666\n",
      "1.3101265822784811\n",
      "-1.8576676374265135\n",
      "1.3291139240506329\n",
      "-1.9105094304487467\n",
      "1.3481012658227849\n",
      "-1.964028421460746\n",
      "1.3670886075949367\n",
      "-2.018207549447821\n",
      "1.3860759493670887\n",
      "-2.0730265343302716\n",
      "1.4050632911392404\n",
      "-2.128461773457003\n",
      "1.4240506329113924\n",
      "-2.1844862871557704\n",
      "1.4430379746835444\n",
      "-2.2410697201287357\n",
      "1.4620253164556962\n",
      "-2.298178404446604\n",
      "1.4810126582278482\n",
      "-2.3557754884332835\n",
      "1.5\n",
      "-2.4138211338680717\n"
     ]
    }
   ],
   "source": [
    "Ncut = 1\n",
    "nbar0 = 0\n",
    "nbarf = 0\n",
    "psi0 = psi(0.0, 1.0)\n",
    "t1 = np.pi/2.0\n",
    "t2 =3.0*t1\n",
    "Omega0 = 1.0 #hz\n",
    "T = 1.0\n",
    "eta = 0.0\n",
    "\n",
    "pts = 80\n",
    "delPs = np.linspace(0, 1.5,pts)\n",
    "deltas = np.zeros(pts)\n",
    "#delta3s = np.zeros(pts)\n",
    "#delta2s = np.zeros(pts)\n",
    "#delta4s = np.zeros(pts)\n",
    "guesstol = 10.0e-3\n",
    "x0 = -0.1\n",
    "x1 = 0.1\n",
    "\n",
    "for ii in range(pts):\n",
    "    print(delPs[ii])\n",
    "    deltas[ii] = sp.optimize.root_scalar(RamseyErrSig, args=(psi0, t1, T, t2, delPs[ii], Omega0, eta, nbar0, nbarf, Ncut), bracket=[x0,x1], xtol = tol).root\n",
    "    #deltas[ii] = sp.optimize.root_scalar(HRJumpThermErrSig2, args=(psi0, t1, T, t2, delPs[ii], Omega0, eta, nbar0, nbarf, Ncut), bracket=[x0,x1], xtol = tol).root\n",
    "    print(deltas[ii])\n",
    "    x0 = deltas[ii] - guessTol\n",
    "    x1 = deltas[ii] + guessTol"
   ]
  },
  {
   "cell_type": "code",
   "execution_count": 220,
   "id": "0e23f876",
   "metadata": {},
   "outputs": [
    {
     "data": {
      "image/png": "[encoded data removed]",
      "text/plain": [
       "<Figure size 432x288 with 1 Axes>"
      ]
     },
     "metadata": {
      "needs_background": "light"
     },
     "output_type": "display_data"
    }
   ],
   "source": [
    "plt.plot(delPs, deltas, label=\"HRS\")\n",
    "plt.plot(delPs, delta1s, label=r\"Ramsey $\\pi/2 + \\pi/2$\")\n",
    "plt.xlabel(r\"$\\delta_p/(2\\pi)*t$ (pulse detuning)\")\n",
    "plt.ylabel(r\"$\\delta T $ (clock shift)\")\n",
    "plt.legend()\n",
    "plt.show()"
   ]
  },
  {
   "cell_type": "code",
   "execution_count": 210,
   "id": "4b57e80e",
   "metadata": {},
   "outputs": [
    {
     "ename": "KeyboardInterrupt",
     "evalue": "",
     "output_type": "error",
     "traceback": [
      "\u001b[1;31m---------------------------------------------------------------------------\u001b[0m",
      "\u001b[1;31mKeyboardInterrupt\u001b[0m                         Traceback (most recent call last)",
      "Input \u001b[1;32mIn [210]\u001b[0m, in \u001b[0;36m<cell line: 1>\u001b[1;34m()\u001b[0m\n\u001b[1;32m----> 1\u001b[0m \u001b[43moptimizeDelp\u001b[49m\u001b[43m(\u001b[49m\u001b[38;5;241;43m20e-3\u001b[39;49m\u001b[43m,\u001b[49m\u001b[43m \u001b[49m\u001b[38;5;241;43m500e-3\u001b[39;49m\u001b[43m,\u001b[49m\u001b[43m \u001b[49m\u001b[38;5;241;43m1.0\u001b[39;49m\u001b[43m,\u001b[49m\u001b[43m \u001b[49m\u001b[38;5;241;43m0.05\u001b[39;49m\u001b[43m,\u001b[49m\u001b[43m \u001b[49m\u001b[38;5;241;43m0.0\u001b[39;49m\u001b[43m,\u001b[49m\u001b[43m \u001b[49m\u001b[38;5;241;43m40\u001b[39;49m\u001b[43m,\u001b[49m\u001b[43m \u001b[49m\u001b[38;5;241;43m601\u001b[39;49m\u001b[43m)\u001b[49m\n",
      "Input \u001b[1;32mIn [132]\u001b[0m, in \u001b[0;36moptimizeDelp\u001b[1;34m(t1, T, delPrime0, eta, nbar0, nbarf, Ncut)\u001b[0m\n\u001b[0;32m      5\u001b[0m x0 \u001b[38;5;241m=\u001b[39m \u001b[38;5;241m0.0\u001b[39m\n\u001b[0;32m      6\u001b[0m x1 \u001b[38;5;241m=\u001b[39m \u001b[38;5;241m0.1\u001b[39m\n\u001b[1;32m----> 7\u001b[0m shift \u001b[38;5;241m=\u001b[39m\u001b[43msp\u001b[49m\u001b[38;5;241;43m.\u001b[39;49m\u001b[43moptimize\u001b[49m\u001b[38;5;241;43m.\u001b[39;49m\u001b[43mroot_scalar\u001b[49m\u001b[43m(\u001b[49m\u001b[43mHRJumpThermErrSig2\u001b[49m\u001b[43m,\u001b[49m\u001b[43m \u001b[49m\u001b[43margs\u001b[49m\u001b[38;5;241;43m=\u001b[39;49m\u001b[43m(\u001b[49m\u001b[43mpsi0\u001b[49m\u001b[43m,\u001b[49m\u001b[43m \u001b[49m\u001b[43mt1\u001b[49m\u001b[43m,\u001b[49m\u001b[43m \u001b[49m\u001b[43mT\u001b[49m\u001b[43m,\u001b[49m\u001b[43m \u001b[49m\u001b[43mt2\u001b[49m\u001b[43m,\u001b[49m\u001b[43m \u001b[49m\u001b[43mdelPrime0\u001b[49m\u001b[43m,\u001b[49m\u001b[43m \u001b[49m\u001b[43mOmega0\u001b[49m\u001b[43m,\u001b[49m\u001b[43m \u001b[49m\u001b[43meta\u001b[49m\u001b[43m,\u001b[49m\u001b[43m \u001b[49m\u001b[38;5;241;43m0.0\u001b[39;49m\u001b[43m,\u001b[49m\u001b[43m \u001b[49m\u001b[43mnbarf\u001b[49m\u001b[43m,\u001b[49m\u001b[43m \u001b[49m\u001b[43mNcut\u001b[49m\u001b[43m)\u001b[49m\u001b[43m,\u001b[49m\u001b[43m \u001b[49m\u001b[43mbracket\u001b[49m\u001b[38;5;241;43m=\u001b[39;49m\u001b[43m[\u001b[49m\u001b[43mx0\u001b[49m\u001b[43m,\u001b[49m\u001b[43mx1\u001b[49m\u001b[43m]\u001b[49m\u001b[43m,\u001b[49m\u001b[43m \u001b[49m\u001b[43mxtol\u001b[49m\u001b[43m \u001b[49m\u001b[38;5;241;43m=\u001b[39;49m\u001b[43m \u001b[49m\u001b[43mtol\u001b[49m\u001b[43m)\u001b[49m\u001b[38;5;241m.\u001b[39mroot\n\u001b[0;32m      8\u001b[0m dopStark \u001b[38;5;241m=\u001b[39m \u001b[38;5;241m-\u001b[39mnu0\u001b[38;5;241m*\u001b[39mexpEHeat(nbar0, nbarf, omega, Ncut)\u001b[38;5;241m*\u001b[39m(\u001b[38;5;241m3.0\u001b[39m\u001b[38;5;241m/\u001b[39m(m\u001b[38;5;241m*\u001b[39mc\u001b[38;5;241m*\u001b[39m\u001b[38;5;241m*\u001b[39m\u001b[38;5;241m2\u001b[39m) \u001b[38;5;241m+\u001b[39m (alpha\u001b[38;5;241m/\u001b[39m(h\u001b[38;5;241m*\u001b[39mnu0))\u001b[38;5;241m*\u001b[39m(\u001b[38;5;241m3.0\u001b[39m\u001b[38;5;241m*\u001b[39mm\u001b[38;5;241m*\u001b[39mOmegarf\u001b[38;5;241m*\u001b[39m\u001b[38;5;241m*\u001b[39m\u001b[38;5;241m2\u001b[39m\u001b[38;5;241m/\u001b[39m(\u001b[38;5;241m2.0\u001b[39m\u001b[38;5;241m*\u001b[39me\u001b[38;5;241m*\u001b[39m\u001b[38;5;241m*\u001b[39m\u001b[38;5;241m2\u001b[39m)))\n\u001b[0;32m      9\u001b[0m \u001b[38;5;28;01mreturn\u001b[39;00m delPrime0\u001b[38;5;241m*\u001b[39m(dopStark\u001b[38;5;241m/\u001b[39mshift)\n",
      "File \u001b[1;32mD:\\Mark\\Python\\lib\\site-packages\\scipy\\optimize\\_root_scalar.py:249\u001b[0m, in \u001b[0;36mroot_scalar\u001b[1;34m(f, args, method, bracket, fprime, fprime2, x0, x1, xtol, rtol, maxiter, options)\u001b[0m\n\u001b[0;32m    246\u001b[0m         \u001b[38;5;28;01mraise\u001b[39;00m \u001b[38;5;167;01mValueError\u001b[39;00m(\u001b[38;5;124m'\u001b[39m\u001b[38;5;124mBracket needed for \u001b[39m\u001b[38;5;132;01m%s\u001b[39;00m\u001b[38;5;124m'\u001b[39m \u001b[38;5;241m%\u001b[39m method)\n\u001b[0;32m    248\u001b[0m     a, b \u001b[38;5;241m=\u001b[39m bracket[:\u001b[38;5;241m2\u001b[39m]\n\u001b[1;32m--> 249\u001b[0m     r, sol \u001b[38;5;241m=\u001b[39m methodc(f, a, b, args\u001b[38;5;241m=\u001b[39margs, \u001b[38;5;241m*\u001b[39m\u001b[38;5;241m*\u001b[39mkwargs)\n\u001b[0;32m    250\u001b[0m \u001b[38;5;28;01melif\u001b[39;00m meth \u001b[38;5;129;01min\u001b[39;00m [\u001b[38;5;124m'\u001b[39m\u001b[38;5;124msecant\u001b[39m\u001b[38;5;124m'\u001b[39m]:\n\u001b[0;32m    251\u001b[0m     \u001b[38;5;28;01mif\u001b[39;00m x0 \u001b[38;5;129;01mis\u001b[39;00m \u001b[38;5;28;01mNone\u001b[39;00m:\n",
      "File \u001b[1;32mD:\\Mark\\Python\\lib\\site-packages\\scipy\\optimize\\_zeros_py.py:783\u001b[0m, in \u001b[0;36mbrentq\u001b[1;34m(f, a, b, args, xtol, rtol, maxiter, full_output, disp)\u001b[0m\n\u001b[0;32m    781\u001b[0m \u001b[38;5;28;01mif\u001b[39;00m rtol \u001b[38;5;241m<\u001b[39m _rtol:\n\u001b[0;32m    782\u001b[0m     \u001b[38;5;28;01mraise\u001b[39;00m \u001b[38;5;167;01mValueError\u001b[39;00m(\u001b[38;5;124m\"\u001b[39m\u001b[38;5;124mrtol too small (\u001b[39m\u001b[38;5;132;01m%g\u001b[39;00m\u001b[38;5;124m < \u001b[39m\u001b[38;5;132;01m%g\u001b[39;00m\u001b[38;5;124m)\u001b[39m\u001b[38;5;124m\"\u001b[39m \u001b[38;5;241m%\u001b[39m (rtol, _rtol))\n\u001b[1;32m--> 783\u001b[0m r \u001b[38;5;241m=\u001b[39m \u001b[43m_zeros\u001b[49m\u001b[38;5;241;43m.\u001b[39;49m\u001b[43m_brentq\u001b[49m\u001b[43m(\u001b[49m\u001b[43mf\u001b[49m\u001b[43m,\u001b[49m\u001b[43m \u001b[49m\u001b[43ma\u001b[49m\u001b[43m,\u001b[49m\u001b[43m \u001b[49m\u001b[43mb\u001b[49m\u001b[43m,\u001b[49m\u001b[43m \u001b[49m\u001b[43mxtol\u001b[49m\u001b[43m,\u001b[49m\u001b[43m \u001b[49m\u001b[43mrtol\u001b[49m\u001b[43m,\u001b[49m\u001b[43m \u001b[49m\u001b[43mmaxiter\u001b[49m\u001b[43m,\u001b[49m\u001b[43m \u001b[49m\u001b[43margs\u001b[49m\u001b[43m,\u001b[49m\u001b[43m \u001b[49m\u001b[43mfull_output\u001b[49m\u001b[43m,\u001b[49m\u001b[43m \u001b[49m\u001b[43mdisp\u001b[49m\u001b[43m)\u001b[49m\n\u001b[0;32m    784\u001b[0m \u001b[38;5;28;01mreturn\u001b[39;00m results_c(full_output, r)\n",
      "Input \u001b[1;32mIn [170]\u001b[0m, in \u001b[0;36mHRJumpThermErrSig2\u001b[1;34m(deld, psi0, t1, T, t2, delPrime, Omega0, eta, nbar0, nbarf, Ncut)\u001b[0m\n\u001b[0;32m     39\u001b[0m \u001b[38;5;66;03m#def thermPulse(psi0, t, Omega0, delPrime, eta, nbar, Ncut): #1-dimensional\u001b[39;00m\n\u001b[0;32m     40\u001b[0m intState \u001b[38;5;241m=\u001b[39m thermPulse(psi0, t1, Omega0, \u001b[38;5;241m0.0\u001b[39m, eta, nbar0, Ncut)\n\u001b[1;32m---> 41\u001b[0m resultP \u001b[38;5;241m=\u001b[39m thermPulse(\u001b[43mthermPulse\u001b[49m\u001b[43m(\u001b[49m\u001b[43mfreeEvo\u001b[49m\u001b[38;5;129;43m@pi2PhaseInjP\u001b[39;49m\u001b[38;5;129;43m@intState\u001b[39;49m\u001b[43m,\u001b[49m\u001b[43m \u001b[49m\u001b[38;5;241;43m2.0\u001b[39;49m\u001b[38;5;241;43m*\u001b[39;49m\u001b[43mt2\u001b[49m\u001b[38;5;241;43m/\u001b[39;49m\u001b[38;5;241;43m3.0\u001b[39;49m\u001b[43m,\u001b[49m\u001b[43m \u001b[49m\u001b[38;5;241;43m-\u001b[39;49m\u001b[43mOmega0\u001b[49m\u001b[43m,\u001b[49m\u001b[43m \u001b[49m\u001b[43mdelPrime\u001b[49m\u001b[43m,\u001b[49m\u001b[43m \u001b[49m\u001b[43meta\u001b[49m\u001b[43m,\u001b[49m\u001b[43m \u001b[49m\u001b[43mnbarf\u001b[49m\u001b[43m,\u001b[49m\u001b[43m \u001b[49m\u001b[43mNcut\u001b[49m\u001b[43m)\u001b[49m, t2\u001b[38;5;241m/\u001b[39m\u001b[38;5;241m3.0\u001b[39m, Omega0, delPrime, eta, nbarf, Ncut)\n\u001b[0;32m     42\u001b[0m resultM \u001b[38;5;241m=\u001b[39m thermPulse(thermPulse(freeEvo\u001b[38;5;129m@pi2PhaseInjM\u001b[39m\u001b[38;5;129m@intState\u001b[39m, \u001b[38;5;241m2.0\u001b[39m\u001b[38;5;241m*\u001b[39mt2\u001b[38;5;241m/\u001b[39m\u001b[38;5;241m3.0\u001b[39m, \u001b[38;5;241m-\u001b[39mOmega0, delPrime, eta, nbarf, Ncut), t2\u001b[38;5;241m/\u001b[39m\u001b[38;5;241m3.0\u001b[39m, Omega0, delPrime, eta, nbarf, Ncut)\n\u001b[0;32m     43\u001b[0m \u001b[38;5;28;01mreturn\u001b[39;00m rhoee(resultP) \u001b[38;5;241m-\u001b[39m rhoee(resultM)\n",
      "Input \u001b[1;32mIn [21]\u001b[0m, in \u001b[0;36mthermPulse\u001b[1;34m(psi0, t, Omega0, delPrime, eta, nbar, Ncut)\u001b[0m\n\u001b[0;32m     24\u001b[0m result \u001b[38;5;241m=\u001b[39m psi(\u001b[38;5;241m0.0\u001b[39m\u001b[38;5;241m+\u001b[39m\u001b[38;5;241m0.0\u001b[39mj,\u001b[38;5;241m0.0\u001b[39m\u001b[38;5;241m+\u001b[39m\u001b[38;5;241m0.0\u001b[39mj)\n\u001b[0;32m     25\u001b[0m \u001b[38;5;28;01mfor\u001b[39;00m n \u001b[38;5;129;01min\u001b[39;00m \u001b[38;5;28mrange\u001b[39m(Ncut):\n\u001b[1;32m---> 26\u001b[0m     result \u001b[38;5;241m+\u001b[39m\u001b[38;5;241m=\u001b[39m prob(n,nbar)\u001b[38;5;241m*\u001b[39mpulse(t, Omega0\u001b[38;5;241m*\u001b[39m\u001b[43mOmega\u001b[49m\u001b[43m(\u001b[49m\u001b[43mn\u001b[49m\u001b[43m,\u001b[49m\u001b[38;5;241;43m0\u001b[39;49m\u001b[43m,\u001b[49m\u001b[43meta\u001b[49m\u001b[43m)\u001b[49m, delPrime, \u001b[38;5;241m0.0\u001b[39m, \u001b[38;5;241m0.0\u001b[39m)\u001b[38;5;129m@psi0\u001b[39m\n\u001b[0;32m     27\u001b[0m \u001b[38;5;28;01mreturn\u001b[39;00m result\n",
      "Input \u001b[1;32mIn [21]\u001b[0m, in \u001b[0;36mOmega\u001b[1;34m(n, m, eta)\u001b[0m\n\u001b[0;32m     52\u001b[0m \u001b[38;5;28;01mdef\u001b[39;00m \u001b[38;5;21mOmega\u001b[39m(n,m,eta):\n\u001b[0;32m     53\u001b[0m     \u001b[38;5;28;01mreturn\u001b[39;00m np\u001b[38;5;241m.\u001b[39mexp(\u001b[38;5;241m-\u001b[39meta\u001b[38;5;241m*\u001b[39m\u001b[38;5;241m*\u001b[39m\u001b[38;5;241m2\u001b[39m\u001b[38;5;241m/\u001b[39m\u001b[38;5;241m2.0\u001b[39m) \u001b[38;5;241m*\u001b[39m eta\u001b[38;5;241m*\u001b[39m\u001b[38;5;241m*\u001b[39m(np\u001b[38;5;241m.\u001b[39mabs(m)) \u001b[38;5;241m*\u001b[39m (math\u001b[38;5;241m.\u001b[39mfactorial(n)\u001b[38;5;241m/\u001b[39mmath\u001b[38;5;241m.\u001b[39mfactorial(n\u001b[38;5;241m+\u001b[39mm))\u001b[38;5;241m*\u001b[39m\u001b[38;5;241m*\u001b[39m(np\u001b[38;5;241m.\u001b[39msign(m)\u001b[38;5;241m/\u001b[39m\u001b[38;5;241m2.0\u001b[39m) \\\n\u001b[1;32m---> 54\u001b[0m         \u001b[38;5;241m*\u001b[39m \u001b[43mL\u001b[49m\u001b[43m(\u001b[49m\u001b[43mn\u001b[49m\u001b[43m,\u001b[49m\u001b[43mnp\u001b[49m\u001b[38;5;241;43m.\u001b[39;49m\u001b[43mabs\u001b[49m\u001b[43m(\u001b[49m\u001b[43mm\u001b[49m\u001b[43m)\u001b[49m\u001b[43m)\u001b[49m(eta\u001b[38;5;241m*\u001b[39m\u001b[38;5;241m*\u001b[39m\u001b[38;5;241m2\u001b[39m)\n",
      "File \u001b[1;32mD:\\Mark\\Python\\lib\\site-packages\\scipy\\special\\_orthogonal.py:647\u001b[0m, in \u001b[0;36mgenlaguerre\u001b[1;34m(n, alpha, monic)\u001b[0m\n\u001b[0;32m    645\u001b[0m \u001b[38;5;28;01melse\u001b[39;00m:\n\u001b[0;32m    646\u001b[0m     n1 \u001b[38;5;241m=\u001b[39m n\n\u001b[1;32m--> 647\u001b[0m x, w \u001b[38;5;241m=\u001b[39m \u001b[43mroots_genlaguerre\u001b[49m\u001b[43m(\u001b[49m\u001b[43mn1\u001b[49m\u001b[43m,\u001b[49m\u001b[43m \u001b[49m\u001b[43malpha\u001b[49m\u001b[43m)\u001b[49m\n\u001b[0;32m    648\u001b[0m wfunc \u001b[38;5;241m=\u001b[39m \u001b[38;5;28;01mlambda\u001b[39;00m x: exp(\u001b[38;5;241m-\u001b[39mx) \u001b[38;5;241m*\u001b[39m x\u001b[38;5;241m*\u001b[39m\u001b[38;5;241m*\u001b[39malpha\n\u001b[0;32m    649\u001b[0m \u001b[38;5;28;01mif\u001b[39;00m n \u001b[38;5;241m==\u001b[39m \u001b[38;5;241m0\u001b[39m:\n",
      "File \u001b[1;32mD:\\Mark\\Python\\lib\\site-packages\\scipy\\special\\_orthogonal.py:554\u001b[0m, in \u001b[0;36mroots_genlaguerre\u001b[1;34m(n, alpha, mu)\u001b[0m\n\u001b[0;32m    551\u001b[0m f \u001b[38;5;241m=\u001b[39m \u001b[38;5;28;01mlambda\u001b[39;00m n, x: cephes\u001b[38;5;241m.\u001b[39meval_genlaguerre(n, alpha, x)\n\u001b[0;32m    552\u001b[0m df \u001b[38;5;241m=\u001b[39m \u001b[38;5;28;01mlambda\u001b[39;00m n, x: (n\u001b[38;5;241m*\u001b[39mcephes\u001b[38;5;241m.\u001b[39meval_genlaguerre(n, alpha, x)\n\u001b[0;32m    553\u001b[0m                  \u001b[38;5;241m-\u001b[39m (n \u001b[38;5;241m+\u001b[39m alpha)\u001b[38;5;241m*\u001b[39mcephes\u001b[38;5;241m.\u001b[39meval_genlaguerre(n\u001b[38;5;241m-\u001b[39m\u001b[38;5;241m1\u001b[39m, alpha, x))\u001b[38;5;241m/\u001b[39mx\n\u001b[1;32m--> 554\u001b[0m \u001b[38;5;28;01mreturn\u001b[39;00m \u001b[43m_gen_roots_and_weights\u001b[49m\u001b[43m(\u001b[49m\u001b[43mm\u001b[49m\u001b[43m,\u001b[49m\u001b[43m \u001b[49m\u001b[43mmu0\u001b[49m\u001b[43m,\u001b[49m\u001b[43m \u001b[49m\u001b[43man_func\u001b[49m\u001b[43m,\u001b[49m\u001b[43m \u001b[49m\u001b[43mbn_func\u001b[49m\u001b[43m,\u001b[49m\u001b[43m \u001b[49m\u001b[43mf\u001b[49m\u001b[43m,\u001b[49m\u001b[43m \u001b[49m\u001b[43mdf\u001b[49m\u001b[43m,\u001b[49m\u001b[43m \u001b[49m\u001b[38;5;28;43;01mFalse\u001b[39;49;00m\u001b[43m,\u001b[49m\u001b[43m \u001b[49m\u001b[43mmu\u001b[49m\u001b[43m)\u001b[49m\n",
      "File \u001b[1;32mD:\\Mark\\Python\\lib\\site-packages\\scipy\\special\\_orthogonal.py:189\u001b[0m, in \u001b[0;36m_gen_roots_and_weights\u001b[1;34m(n, mu0, an_func, bn_func, f, df, symmetrize, mu)\u001b[0m\n\u001b[0;32m    186\u001b[0m x \u001b[38;5;241m=\u001b[39m linalg\u001b[38;5;241m.\u001b[39meigvals_banded(c, overwrite_a_band\u001b[38;5;241m=\u001b[39m\u001b[38;5;28;01mTrue\u001b[39;00m)\n\u001b[0;32m    188\u001b[0m \u001b[38;5;66;03m# improve roots by one application of Newton's method\u001b[39;00m\n\u001b[1;32m--> 189\u001b[0m y \u001b[38;5;241m=\u001b[39m \u001b[43mf\u001b[49m\u001b[43m(\u001b[49m\u001b[43mn\u001b[49m\u001b[43m,\u001b[49m\u001b[43m \u001b[49m\u001b[43mx\u001b[49m\u001b[43m)\u001b[49m\n\u001b[0;32m    190\u001b[0m dy \u001b[38;5;241m=\u001b[39m df(n, x)\n\u001b[0;32m    191\u001b[0m x \u001b[38;5;241m-\u001b[39m\u001b[38;5;241m=\u001b[39m y\u001b[38;5;241m/\u001b[39mdy\n",
      "File \u001b[1;32mD:\\Mark\\Python\\lib\\site-packages\\scipy\\special\\_orthogonal.py:551\u001b[0m, in \u001b[0;36mroots_genlaguerre.<locals>.<lambda>\u001b[1;34m(n, x)\u001b[0m\n\u001b[0;32m    549\u001b[0m an_func \u001b[38;5;241m=\u001b[39m \u001b[38;5;28;01mlambda\u001b[39;00m k: \u001b[38;5;241m2\u001b[39m \u001b[38;5;241m*\u001b[39m k \u001b[38;5;241m+\u001b[39m alpha \u001b[38;5;241m+\u001b[39m \u001b[38;5;241m1\u001b[39m\n\u001b[0;32m    550\u001b[0m bn_func \u001b[38;5;241m=\u001b[39m \u001b[38;5;28;01mlambda\u001b[39;00m k: \u001b[38;5;241m-\u001b[39mnp\u001b[38;5;241m.\u001b[39msqrt(k \u001b[38;5;241m*\u001b[39m (k \u001b[38;5;241m+\u001b[39m alpha))\n\u001b[1;32m--> 551\u001b[0m f \u001b[38;5;241m=\u001b[39m \u001b[38;5;28;01mlambda\u001b[39;00m n, x: \u001b[43mcephes\u001b[49m\u001b[38;5;241;43m.\u001b[39;49m\u001b[43meval_genlaguerre\u001b[49m\u001b[43m(\u001b[49m\u001b[43mn\u001b[49m\u001b[43m,\u001b[49m\u001b[43m \u001b[49m\u001b[43malpha\u001b[49m\u001b[43m,\u001b[49m\u001b[43m \u001b[49m\u001b[43mx\u001b[49m\u001b[43m)\u001b[49m\n\u001b[0;32m    552\u001b[0m df \u001b[38;5;241m=\u001b[39m \u001b[38;5;28;01mlambda\u001b[39;00m n, x: (n\u001b[38;5;241m*\u001b[39mcephes\u001b[38;5;241m.\u001b[39meval_genlaguerre(n, alpha, x)\n\u001b[0;32m    553\u001b[0m                  \u001b[38;5;241m-\u001b[39m (n \u001b[38;5;241m+\u001b[39m alpha)\u001b[38;5;241m*\u001b[39mcephes\u001b[38;5;241m.\u001b[39meval_genlaguerre(n\u001b[38;5;241m-\u001b[39m\u001b[38;5;241m1\u001b[39m, alpha, x))\u001b[38;5;241m/\u001b[39mx\n\u001b[0;32m    554\u001b[0m \u001b[38;5;28;01mreturn\u001b[39;00m _gen_roots_and_weights(m, mu0, an_func, bn_func, f, df, \u001b[38;5;28;01mFalse\u001b[39;00m, mu)\n",
      "\u001b[1;31mKeyboardInterrupt\u001b[0m: "
     ]
    }
   ],
   "source": [
    "optimizeDelp(20e-3, 500e-3, 1.0, 0.05, 0.0, 40, 601)"
   ]
  },
  {
   "cell_type": "code",
   "execution_count": 117,
   "id": "5795225a",
   "metadata": {},
   "outputs": [
    {
     "data": {
      "text/plain": [
       "1.529443463363265"
      ]
     },
     "execution_count": 117,
     "metadata": {},
     "output_type": "execute_result"
    }
   ],
   "source": [
    "optimizeDelp(20e-3, 500e-3, 0.5, 0.05, 0.0, 40, 601)"
   ]
  },
  {
   "cell_type": "code",
   "execution_count": 118,
   "id": "5ba228b1",
   "metadata": {},
   "outputs": [
    {
     "data": {
      "text/plain": [
       "1.4918399206170079"
      ]
     },
     "execution_count": 118,
     "metadata": {},
     "output_type": "execute_result"
    }
   ],
   "source": [
    "optimizeDelp(20e-3, 500e-3, 0.5, 0.05, 0.0, 30, 601)"
   ]
  },
  {
   "cell_type": "code",
   "execution_count": 97,
   "id": "afedb496",
   "metadata": {},
   "outputs": [
    {
     "data": {
      "image/png": "[encoded data removed]",
      "text/plain": [
       "<Figure size 432x288 with 1 Axes>"
      ]
     },
     "metadata": {
      "needs_background": "light"
     },
     "output_type": "display_data"
    }
   ],
   "source": [
    "pts = 5\n",
    "nbarfs = np.linspace(0, 40, pts)\n",
    "Ncut = 1201\n",
    "nbar0 = 0.0\n",
    "shifts = -expEHeat(nbar0, nbarfs, omega, Ncut)*(3.0/(m*c**2) + (alpha/(h*nu0))*(3.0*m*Omegarf**2/(2.0*e**2)))\n",
    "plt.plot(nbarfs,shifts*nu0*1.0e3, label=\"Ncut=1201\")\n",
    "plt.xlabel(\"Final nbar\")\n",
    "plt.ylabel(\"Shift (mHz)\")\n",
    "plt.title(\"Converged 2nd Order Doppler and DC Stark Shift \")\n",
    "plt.show()"
   ]
  },
  {
   "cell_type": "code",
   "execution_count": 207,
   "id": "ae924fa0",
   "metadata": {},
   "outputs": [],
   "source": [
    "Ncut = 1\n",
    "nbar0 = 0\n",
    "nbarf = 0\n",
    "delPrime = 0.12\n",
    "psi0 = psi(0.0, 1.0)\n",
    "t1 = np.pi/2.0\n",
    "t2 = 3.0*t1\n",
    "Omega0 = 1.0\n",
    "T = 1.0\n",
    "eta = 0.0\n",
    "\n",
    "pts = 50\n",
    "delds = np.linspace(-0.01, 0.01, pts)\n",
    "errSigPts = np.zeros(pts)\n",
    "for ii in range(pts):\n",
    "    errSigPts[ii] = RamseyErrSig(delds[ii], psi0, t1, T, t2, delPrime, Omega0, eta, nbar0, nbarf, Ncut)"
   ]
  },
  {
   "cell_type": "code",
   "execution_count": 208,
   "id": "a677181b",
   "metadata": {},
   "outputs": [
    {
     "data": {
      "image/png": "[encoded data removed]",
      "text/plain": [
       "<Figure size 432x288 with 1 Axes>"
      ]
     },
     "metadata": {
      "needs_background": "light"
     },
     "output_type": "display_data"
    }
   ],
   "source": [
    "plt.plot(delds*1e3, errSigPts)\n",
    "plt.xlabel(\"dark time detuning (mHz)\")\n",
    "plt.ylabel(\"err sig\")\n",
    "plt.ylim([-0.005, 0.005])\n",
    "plt.grid()"
   ]
  },
  {
   "cell_type": "code",
   "execution_count": 131,
   "id": "3ab1b209",
   "metadata": {},
   "outputs": [
    {
     "data": {
      "text/plain": [
       "-0.00012265130223493292"
      ]
     },
     "execution_count": 131,
     "metadata": {},
     "output_type": "execute_result"
    }
   ],
   "source": [
    "errSigPts[1]\n"
   ]
  },
  {
   "cell_type": "code",
   "execution_count": 134,
   "id": "0379bb2d",
   "metadata": {},
   "outputs": [
    {
     "name": "stdout",
     "output_type": "stream",
     "text": [
      "0.0\n",
      "0.001993228781863562\n",
      "10.0\n",
      "0.0019662294190616095\n",
      "20.0\n",
      "0.0019414614161726142\n",
      "30.0\n",
      "0.0019183924890165546\n",
      "40.0\n",
      "0.0018965941050121126\n"
     ]
    }
   ],
   "source": [
    "Ncut = 601\n",
    "pts = 5\n",
    "nbarfs = np.linspace(0, 40, pts)\n",
    "psi0 = psi(0.0, 1.0)\n",
    "delPrime = 0.07833 #0.270*2.0*np.pi #hz\n",
    "t1 = 20.0e-3\n",
    "t2 = 3.0*t1\n",
    "Omega0 = np.pi/(2.0*t1) #hz\n",
    "T = 500.0e-3\n",
    "eta = 0.05\n",
    "shifts1 = np.zeros(pts)\n",
    "shifts2 = np.zeros(pts)\n",
    "nbarfStars = nbarfs*(t1+T)/(t1+t2+T)\n",
    "nbar0s = nbarfs*t1/(t1+t2+T)\n",
    "\n",
    "tol = 1.0e-11\n",
    "x0 = -0.1\n",
    "x1 = 0.5\n",
    "guessTol = 0.1\n",
    "\n",
    "for ii in range(pts):\n",
    "    print(nbarfs[ii])\n",
    "    shifts1[ii] = sp.optimize.root_scalar(HRJumpThermErrSig2, args=(psi0, t1, T, t2, delPrime, Omega0, eta, 0.0, nbarfs[ii], Ncut), bracket=[x0,x1], xtol = tol).root\n",
    "    print(shifts1[ii])\n",
    "    x0 = shifts1[ii] - guessTol\n",
    "    x1 = shifts1[ii] + guessTol\n",
    "    #print(x0,x1)"
   ]
  },
  {
   "cell_type": "code",
   "execution_count": 93,
   "id": "268cc5b4",
   "metadata": {},
   "outputs": [
    {
     "name": "stdout",
     "output_type": "stream",
     "text": [
      "0.0\n",
      "-2.5208598905860598e-08\n",
      "10.0\n",
      "-3.823447851707956e-05\n",
      "20.0\n",
      "-7.317276495582165e-05\n",
      "30.0\n",
      "-0.00010562152463708326\n",
      "40.0\n",
      "-0.00013620988873290816\n"
     ]
    }
   ],
   "source": [
    "x0 = -0.1\n",
    "x1 = 0.5\n",
    "for ii in range(pts):\n",
    "    print(nbarfs[ii])\n",
    "    shifts2[ii] = sp.optimize.root_scalar(HRJumpThermErrSig, args=(psi0, t1, T, t2, delPrime, Omega0, eta, nbar0s[ii], nbarfs[ii], Ncut), bracket=[x0,x1], xtol = tol).root\n",
    "    print(shifts2[ii])\n",
    "    x0 = shifts2[ii] - guessTol\n",
    "    x1 = shifts2[ii] + guessTol\n",
    "    #print(x0,x1)"
   ]
  },
  {
   "cell_type": "code",
   "execution_count": 136,
   "id": "8464d0ef",
   "metadata": {},
   "outputs": [
    {
     "data": {
      "text/plain": [
       "<matplotlib.legend.Legend at 0x20123047850>"
      ]
     },
     "execution_count": 136,
     "metadata": {},
     "output_type": "execute_result"
    },
    {
     "data": {
      "image/png": "[encoded data removed]",
      "text/plain": [
       "<Figure size 432x288 with 1 Axes>"
      ]
     },
     "metadata": {
      "needs_background": "light"
     },
     "output_type": "display_data"
    }
   ],
   "source": [
    "plt.plot(nbarfs, shifts*nu0*1.0e3, label=\"dop and stark\")\n",
    "plt.xlabel(\"Final nbar\")\n",
    "plt.ylabel(\"Shift (mHz)\")\n",
    "plt.plot(nbarfs, -shifts1*1e3, label=\"HRS180 1+3\")\n",
    "plt.legend()\n",
    "#plt.plot(nbarfs, shifts2*1e3)"
   ]
  },
  {
   "cell_type": "code",
   "execution_count": 112,
   "id": "de0a6e31",
   "metadata": {},
   "outputs": [
    {
     "data": {
      "text/plain": [
       "Text(0.5, 0, 'final nbar')"
      ]
     },
     "execution_count": 112,
     "metadata": {},
     "output_type": "execute_result"
    },
    {
     "data": {
      "image/png": "[encoded data removed]",
      "text/plain": [
       "<Figure size 432x288 with 1 Axes>"
      ]
     },
     "metadata": {
      "needs_background": "light"
     },
     "output_type": "display_data"
    }
   ],
   "source": [
    "plt.plot(nbarfs, (shifts*nu0-shifts1)*1e3)\n",
    "plt.ylabel(\"residual shift (mHz)\")\n",
    "plt.xlabel(\"final nbar\")"
   ]
  },
  {
   "cell_type": "code",
   "execution_count": 88,
   "id": "a5953262",
   "metadata": {},
   "outputs": [
    {
     "data": {
      "text/plain": [
       "array([ 0.7091823 -2.87783617e-04j, -0.00105754+7.05023621e-01j])"
      ]
     },
     "execution_count": 88,
     "metadata": {},
     "output_type": "execute_result"
    }
   ],
   "source": [
    "psi0 = psi(1.0, 0.0)\n",
    "t = 30*1e-3\n",
    "Omega0 = np.pi/(2.0*t)\n",
    "delPrime = 0.1\n",
    "eta = 0.05\n",
    "nbar0 = 1.0\n",
    "nbarf = 1.0\n",
    "steps = 8\n",
    "Ncut = 600\n",
    "#psi3 = heatPulse(psi0, t, Omega0, delPrime, eta, nbar0, nbarf, steps, Ncut)\n",
    "psi1 = heatPulse2(psi0, t, Omega0, delPrime, eta, nbar0, nbarf, steps, Ncut)\n",
    "psi2 = thermPulse(psi0, t, Omega0, delPrime, eta, nbar0, Ncut)\n",
    "#psi1 = pulse(t, Omega0, delPrime, 0.0, 0.0)@psi0\n",
    "psi1"
   ]
  },
  {
   "cell_type": "code",
   "execution_count": 89,
   "id": "10f73983",
   "metadata": {},
   "outputs": [
    {
     "data": {
      "text/plain": [
       "array([ 0.70917992-2.87786203e-04j, -0.00105753+7.05021266e-01j])"
      ]
     },
     "execution_count": 89,
     "metadata": {},
     "output_type": "execute_result"
    }
   ],
   "source": [
    "psi2"
   ]
  },
  {
   "cell_type": "code",
   "execution_count": 74,
   "id": "cce1281f",
   "metadata": {},
   "outputs": [
    {
     "data": {
      "text/plain": [
       "array([ 0.70918128-2.87784022e-04j, -0.00105753+7.05022611e-01j])"
      ]
     },
     "execution_count": 74,
     "metadata": {},
     "output_type": "execute_result"
    }
   ],
   "source": [
    "psi3"
   ]
  },
  {
   "cell_type": "code",
   "execution_count": 26,
   "id": "9e741092",
   "metadata": {},
   "outputs": [
    {
     "data": {
      "text/plain": [
       "array([[ 9.99999742e-01-3.08281631e-04j, -5.37112563e-04+3.65302141e-04j],\n",
       "       [-5.37112563e-04+3.65302141e-04j, -3.67746168e-01+9.29925983e-01j]])"
      ]
     },
     "execution_count": 26,
     "metadata": {},
     "output_type": "execute_result"
    }
   ],
   "source": [
    "psi1"
   ]
  },
  {
   "cell_type": "code",
   "execution_count": 51,
   "id": "9f030cd9",
   "metadata": {},
   "outputs": [
    {
     "data": {
      "text/plain": [
       "0.08264462809917356"
      ]
     },
     "execution_count": 51,
     "metadata": {},
     "output_type": "execute_result"
    }
   ],
   "source": [
    "prob(1,10)"
   ]
  },
  {
   "cell_type": "code",
   "execution_count": 48,
   "id": "86a905f3",
   "metadata": {},
   "outputs": [
    {
     "data": {
      "text/plain": [
       "0.02"
      ]
     },
     "execution_count": 48,
     "metadata": {},
     "output_type": "execute_result"
    }
   ],
   "source": [
    "t"
   ]
  },
  {
   "cell_type": "code",
   "execution_count": 64,
   "id": "468d8903",
   "metadata": {},
   "outputs": [
    {
     "data": {
      "text/plain": [
       "range(0, 1)"
      ]
     },
     "execution_count": 64,
     "metadata": {},
     "output_type": "execute_result"
    }
   ],
   "source": [
    "range(1)"
   ]
  },
  {
   "cell_type": "code",
   "execution_count": 65,
   "id": "c651eede",
   "metadata": {},
   "outputs": [
    {
     "name": "stdout",
     "output_type": "stream",
     "text": [
      "0\n"
     ]
    }
   ],
   "source": [
    "for ii in range(1):\n",
    "    print(ii)"
   ]
  },
  {
   "cell_type": "code",
   "execution_count": 102,
   "id": "e10e6f84",
   "metadata": {},
   "outputs": [
    {
     "data": {
      "text/plain": [
       "14.706816768557362"
      ]
     },
     "execution_count": 102,
     "metadata": {},
     "output_type": "execute_result"
    }
   ],
   "source": [
    "shifts[4]*nu0/shifts1[4]"
   ]
  },
  {
   "cell_type": "code",
   "execution_count": 101,
   "id": "5b13deb5",
   "metadata": {},
   "outputs": [
    {
     "data": {
      "text/plain": [
       "-0.00012885325651177727"
      ]
     },
     "execution_count": 101,
     "metadata": {},
     "output_type": "execute_result"
    }
   ],
   "source": [
    "shifts1[4]"
   ]
  },
  {
   "cell_type": "code",
   "execution_count": 104,
   "id": "9ddc7a5e",
   "metadata": {},
   "outputs": [
    {
     "data": {
      "text/plain": [
       "0.2691788673149054"
      ]
     },
     "execution_count": 104,
     "metadata": {},
     "output_type": "execute_result"
    }
   ],
   "source": [
    "18.303*14.706816768557362*1e-3"
   ]
  },
  {
   "cell_type": "code",
   "execution_count": null,
   "id": "62ed58a2",
   "metadata": {},
   "outputs": [],
   "source": []
  }
 ],
 "metadata": {
  "kernelspec": {
   "display_name": "Python 3 (ipykernel)",
   "language": "python",
   "name": "python3"
  },
  "language_info": {
   "codemirror_mode": {
    "name": "ipython",
    "version": 3
   },
   "file_extension": ".py",
   "mimetype": "text/x-python",
   "name": "python",
   "nbconvert_exporter": "python",
   "pygments_lexer": "ipython3",
   "version": "3.10.5"
  }
 },
 "nbformat": 4,
 "nbformat_minor": 5
}
