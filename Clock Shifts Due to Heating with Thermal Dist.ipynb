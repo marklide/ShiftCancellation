{
 "cells": [
  {
   "cell_type": "code",
   "execution_count": 1,
   "id": "e25586ce",
   "metadata": {},
   "outputs": [],
   "source": [
    "from qutip import *\n",
    "import numpy as np\n",
    "import scipy as sp\n",
    "import math\n",
    "import matplotlib.pyplot as plt\n",
    "from scipy.special import genlaguerre as L"
   ]
  },
  {
   "cell_type": "code",
   "execution_count": 2,
   "id": "37f64413",
   "metadata": {},
   "outputs": [],
   "source": [
    "def psi(g,e):\n",
    "    return np.array([g, e])\n",
    "\n",
    "def pulse(t, Omega0, delta, phi0, phi1):\n",
    "    Omega = np.sqrt(Omega0**2 + delta**2)\n",
    "    \n",
    "    if Omega == 0.0:\n",
    "        U = np.array([[1.0 , 0.0],\n",
    "                      [0.0 , 1.0]])\n",
    "        \n",
    "    else:\n",
    "        U = np.array([[np.cos(Omega*t/2.0) -(1.0j*delta/Omega)*np.sin(Omega*t/2.0), (1.0j*Omega0/Omega)*np.sin(Omega*t/2.0)],\n",
    "                     [(1.0j*Omega0/Omega)*np.sin(Omega*t/2.0) , np.cos(Omega*t/2.0) + (1.0j*delta/Omega)*np.sin(Omega*t/2.0)]])\n",
    "    \n",
    "    V1 = np.array([[1.0 , 0.0],\n",
    "                   [0.0 , np.exp(-1.0j*phi1)]])\n",
    "    \n",
    "    V0 = np.array([[1.0 , 0.0],\n",
    "                   [0.0 , np.exp(1.0j*phi0)]])\n",
    "    \n",
    "    return np.exp(1.0j*delta*t/2.0)*V1@U@V0\n",
    "\n",
    "def rhoee(psi):\n",
    "    return (abs(psi[1]))**2.0\n",
    "\n",
    "def rhogg(psi):\n",
    "    return (abs(psi[0]))**2.0\n",
    "\n",
    "def phi(psi):\n",
    "    phi0 = math.atan2(np.real(psi[0]),np.imag(psi[0]))\n",
    "    phi1 = math.atan2(np.real(psi[1]),np.imag(psi[1]))\n",
    "    return (phi0-phi1)\n",
    "\n",
    "def blochVec(psi):\n",
    "    w = rhogg(psi) - rhoee(psi)  #pointed up is ground state\n",
    "    if abs(w)>1.0:\n",
    "        w = float(round(w))\n",
    "    x = np.sin(np.arccos(w))*np.cos(phi(psi))\n",
    "    y = np.sin(np.arccos(w))*np.sin(phi(psi))\n",
    "    return np.array([x,y,w])\n",
    "\n",
    "def prob(n,nbar):\n",
    "    return 1.0/(nbar+1)*(nbar/(nbar+1))**n\n",
    "\n",
    "def Omega(n,m,eta):\n",
    "    return np.exp(-eta**2/2.0) * eta**(np.abs(m)) * (math.factorial(n)/math.factorial(n+m))**(np.sign(m)/2) \\\n",
    "        * L(n,np.abs(m))(eta**2)"
   ]
  },
  {
   "cell_type": "code",
   "execution_count": 3,
   "id": "29b3ad19",
   "metadata": {},
   "outputs": [],
   "source": [
    "def hyperRamseyP(psi0, t1, T, t2, delta, delPrime, Omega01, Omega02):\n",
    "    #pulse(t, Omega0, delta, phi0, phi1):\n",
    "    pulse1 = pulse(t1, Omega01, delPrime, 0.0, 0.0)\n",
    "    pulse2 = pulse(t2, Omega02, delPrime, 0.0, 0.0)\n",
    "    freeEvo = pulse(T, 0.0, delta, 0.0, 0.0)\n",
    "    pi2PhaseInj = pulse(0.0, 0.0, 0.0, 0.0, np.pi/2.0) \n",
    "    \n",
    "    return pulse2@freeEvo@pi2PhaseInj@pulse1@psi0\n",
    "\n",
    "def hyperRamseyM(psi0, t1, T, t2, delta, delPrime, Omega01, Omega02):\n",
    "    #pulse(t, Omega0, delta, phi0, phi1):\n",
    "    pulse1 = pulse(t1, Omega01, delPrime, 0.0, 0.0)\n",
    "    pulse2 = pulse(t2, Omega02, delPrime, 0.0, 0.0)\n",
    "    freeEvo = pulse(T, 0.0, delta, 0.0, 0.0)\n",
    "    pi2PhaseInj = pulse(0.0, 0.0, 0.0, 0.0, -np.pi/2.0) \n",
    "    \n",
    "    return pulse2@freeEvo@pi2PhaseInj@pulse1@psi0\n",
    "\n",
    "def HRerrSig(psi0, t1, T, t2, delta, delPrime, Omega01, Omega02):\n",
    "    RhoeeP = rhoee(hyperRamseyP(psi0,t1,T,t2,delta,delPrime,Omega01,Omega02))\n",
    "    RhoeeM = rhoee(hyperRamseyM(psi0,t1,T,t2,delta,delPrime,Omega01,Omega02))\n",
    "    return RhoeeP - RhoeeM\n",
    "\n",
    "def HRThermP(psi0, t1, T, t2, delta, delPrime, Omega01, Omega02, nbar1, nbar2):\n",
    "    intState = psi(0.0+0.0j, 0.0+0.0j)\n",
    "    result = psi(0.0+0.0j, 0.0+0.0j)\n",
    "    Ncut = 200\n",
    "    eta = 0.01\n",
    "    \n",
    "    freeEvo = pulse(T, 0.0, delta, 0.0, 0.0)\n",
    "    pi2PhaseInj = pulse(0.0, 0.0, 0.0, 0.0, np.pi/2.0) \n",
    "    \n",
    "    for n in range(Ncut+1):\n",
    "        pulse1 = pulse(t1, Omega01*Omega(n,0,eta), delPrime, 0.0, 0.0)\n",
    "        intState += prob(n,nbar1)*pulse1@psi0\n",
    "\n",
    "    intState2 = freeEvo@pi2PhaseInj@intState\n",
    "    \n",
    "    for n in range(Ncut+1):\n",
    "        pulse2 = pulse(t2, Omega02*Omega(n,0,eta), delPrime, 0.0, 0.0)\n",
    "        result += prob(n,nbar2)*pulse2@intState2\n",
    "        \n",
    "    return result\n",
    "\n",
    "def HRThermM(psi0, t1, T, t2, delta, delPrime, Omega01, Omega02, nbar1, nbar2):\n",
    "    intState = psi(0.0+0.0j, 0.0+0.0j)\n",
    "    result = psi(0.0+0.0j, 0.0+0.0j)\n",
    "    Ncut = 200\n",
    "    eta = 0.01\n",
    "    \n",
    "    freeEvo = pulse(T, 0.0, delta, 0.0, 0.0)\n",
    "    pi2PhaseInj = pulse(0.0, 0.0, 0.0, 0.0, -np.pi/2.0) \n",
    "    \n",
    "    for n in range(Ncut+1):\n",
    "        pulse1 = pulse(t1, Omega01*Omega(n,0,eta), delPrime, 0.0, 0.0)\n",
    "        intState += prob(n,nbar1)*pulse1@psi0\n",
    "\n",
    "    intState2 = freeEvo@pi2PhaseInj@intState\n",
    "    \n",
    "    for n in range(Ncut+1):\n",
    "        pulse2 = pulse(t2, Omega02*Omega(n,0,eta), delPrime, 0.0, 0.0)\n",
    "        result += prob(n,nbar2)*pulse2@intState2\n",
    "        \n",
    "    return result\n",
    "\n",
    "def HRThermErrSig(psi0, t1, T, t2, delta, delPrime, Omega01, Omega02, nbar1, nbar2):\n",
    "    RhoeeP = rhoee(HRThermP(psi0,t1,T,t2,delta,delPrime,Omega01,Omega02,nbar1,nbar2))\n",
    "    RhoeeM = rhoee(HRThermM(psi0,t1,T,t2,delta,delPrime,Omega01,Omega02,nbar1,nbar2))\n",
    "    return RhoeeP - RhoeeM"
   ]
  },
  {
   "cell_type": "code",
   "execution_count": 4,
   "id": "9a3a7de5",
   "metadata": {},
   "outputs": [],
   "source": [
    "def hyperRamseyPhaseJumpM(psi0, t1, T, t2, delta, delPrime, Omega01, Omega02, Omega03):\n",
    "    #pulse(t, Omega0, delta, phi0, phi1):\n",
    "    pulse1 = pulse(t1, Omega01, delPrime, 0.0, 0.0)\n",
    "    pulse2 = pulse(2.0*t2/3.0, -Omega02, delPrime, 0.0, 0.0)\n",
    "    pulse3 = pulse(t2/3.0, Omega03, delPrime, 0.0, 0.0)\n",
    "    pi2PhaseInj = pulse(0.0, 0.0, 0.0, 0.0, -np.pi/2.0)\n",
    "    freeEvo = pulse(T, 0.0, delta, 0.0, 0.0)\n",
    "    \n",
    "    return pulse3@pulse2@freeEvo@pi2PhaseInj@pulse1@psi0\n",
    "\n",
    "def hyperRamseyPhaseJumpP(psi0, t1, T, t2, delta, delPrime, Omega01, Omega02, Omega03):\n",
    "    #pulse(t, Omega0, delta, phi0, phi1):\n",
    "    pulse1 = pulse(t1, Omega01, delPrime, 0.0, 0.0)\n",
    "    pulse2 = pulse(2.0*t2/3.0, -Omega02, delPrime, 0.0, 0.0)\n",
    "    pulse3 = pulse(t2/3.0, Omega03, delPrime, 0.0, 0.0)\n",
    "    pi2PhaseInj = pulse(0.0, 0.0, 0.0, 0.0, np.pi/2.0)\n",
    "    freeEvo = pulse(T, 0.0, delta, 0.0, 0.0)\n",
    "    \n",
    "    return pulse3@pulse2@freeEvo@pi2PhaseInj@pulse1@psi0\n",
    "\n",
    "def HRJumperrSig(psi0, t1, T, t2, delta, delPrime, Omega01, Omega02, Omega03):\n",
    "    RhoeeP = rhoee(hyperRamseyPhaseJumpP(psi0,t1,T,t2,delta,delPrime,Omega01,Omega02,Omega03))\n",
    "    RhoeeM = rhoee(hyperRamseyPhaseJumpM(psi0,t1,T,t2,delta,delPrime,Omega01,Omega02,Omega03))\n",
    "    return RhoeeP - RhoeeM\n",
    "\n",
    "def HRJumpThermP(psi0, t1, T, t2, delta, delPrime, Omega01, Omega02, Omega03, nbar1, nbar2, nbar3):\n",
    "    result = psi(0.0+0.0j,0.0+0.0j)\n",
    "    intState1 = psi(0.0+0.0j,0.0+0.0j)\n",
    "    intState3 = psi(0.0+0.0j,0.0+0.0j)\n",
    "    Ncut = 200\n",
    "    eta = 0.01\n",
    "    \n",
    "    freeEvo = pulse(T, 0.0, delta, 0.0, 0.0)\n",
    "    pi2PhaseInj = pulse(0.0, 0.0, 0.0, 0.0, np.pi/2.0) \n",
    "    \n",
    "    for n in range(Ncut+1):\n",
    "        pulse1 = pulse(t1, Omega01*Omega(n,0,eta), delPrime, 0.0, 0.0)\n",
    "        intState1 += prob(n,nbar1)*pulse1@psi0\n",
    "    \n",
    "    intState2 = freeEvo@pi2PhaseInj@intState1\n",
    "    \n",
    "    for n in range(Ncut+1):\n",
    "        pulse2 = pulse(2.0*t2/3.0, -Omega02*Omega(n,0,eta), delPrime, 0.0, 0.0)\n",
    "        intState3 += prob(n,nbar2)*pulse2@intState2\n",
    "            \n",
    "    for n in range(Ncut+1):\n",
    "        pulse3 = pulse(t2/3.0, Omega03*Omega(n,0,eta), delPrime, 0.0, 0.0)\n",
    "        result += prob(n,nbar3)*pulse3@intState3\n",
    "        \n",
    "    return result\n",
    "\n",
    "def HRJumpThermM(psi0, t1, T, t2, delta, delPrime, Omega01, Omega02, Omega03, nbar1, nbar2, nbar3):\n",
    "    result = psi(0.0+0.0j,0.0+0.0j)\n",
    "    intState1 = psi(0.0+0.0j,0.0+0.0j)\n",
    "    intState3 = psi(0.0+0.0j,0.0+0.0j)\n",
    "    Ncut = 200\n",
    "    eta = 0.01\n",
    "    \n",
    "    freeEvo = pulse(T, 0.0, delta, 0.0, 0.0)\n",
    "    pi2PhaseInj = pulse(0.0, 0.0, 0.0, 0.0, -np.pi/2.0) \n",
    "    \n",
    "    for n in range(Ncut+1):\n",
    "        pulse1 = pulse(t1, Omega01*Omega(n,0,eta), delPrime, 0.0, 0.0)\n",
    "        intState1 += prob(n,nbar1)*pulse1@psi0\n",
    "    \n",
    "    intState2 = freeEvo@pi2PhaseInj@intState1\n",
    "    \n",
    "    for n in range(Ncut+1):\n",
    "        pulse2 = pulse(2.0*t2/3.0, -Omega02*Omega(n,0,eta), delPrime, 0.0, 0.0)\n",
    "        intState3 += prob(n,nbar2)*pulse2@intState2\n",
    "            \n",
    "    for n in range(Ncut+1):\n",
    "        pulse3 = pulse(t2/3.0, Omega03*Omega(n,0,eta), delPrime, 0.0, 0.0)\n",
    "        result += prob(n,nbar3)*pulse3@intState3\n",
    "        \n",
    "    return result\n",
    "\n",
    "def HRThermJumperrSig(psi0, t1, T, t2, delta, delPrime, Omega01, Omega02, Omega03, nbar1, nbar2, nbar3):\n",
    "    RhoeeP = rhoee(HRJumpThermP(psi0,t1,T,t2,delta,delPrime,Omega01,Omega02,Omega03,nbar1,nbar2,nbar3))\n",
    "    RhoeeM = rhoee(HRJumpThermM(psi0,t1,T,t2,delta,delPrime,Omega01,Omega02,Omega03,nbar1,nbar2,nbar3))\n",
    "    return RhoeeP - RhoeeM"
   ]
  },
  {
   "cell_type": "code",
   "execution_count": 5,
   "id": "ed759306",
   "metadata": {},
   "outputs": [],
   "source": [
    "def hyperRamseyPhaseJump2M(psi0, t1, T, t2, delta, delPrime, Omega01, Omega02, Omega03):\n",
    "    pulse1 = pulse(t1/3.0, Omega01, delPrime, 0.0, 0.0)\n",
    "    pulse2 = pulse(2.0*t1/3.0, -Omega02, delPrime, 0.0, 0.0)\n",
    "    pulse3 = pulse(t2, Omega03, delPrime, 0.0, 0.0)\n",
    "    pi2PhaseInj = pulse(0.0, 0.0, 0.0, 0.0, -np.pi/2.0)\n",
    "    freeEvo = pulse(T, 0.0, delta, 0.0, 0.0)\n",
    "    \n",
    "    return pulse3@freeEvo@pi2PhaseInj@pulse2@pulse1@psi0\n",
    "\n",
    "def hyperRamseyPhaseJump2P(psi0, t1, T, t2, delta, delPrime, Omega01, Omega02, Omega03):\n",
    "    pulse1 = pulse(t1/3.0, Omega01, delPrime, 0.0, 0.0)\n",
    "    pulse2 = pulse(2.0*t1/3.0, -Omega02, delPrime, 0.0, 0.0)\n",
    "    pulse3 = pulse(t2, Omega03, delPrime, 0.0, 0.0)\n",
    "    pi2PhaseInj = pulse(0.0, 0.0, 0.0, 0.0, np.pi/2.0)\n",
    "    freeEvo = pulse(T, 0.0, delta, 0.0, 0.0)\n",
    "    \n",
    "    return pulse3@freeEvo@pi2PhaseInj@pulse2@pulse1@psi0\n",
    "\n",
    "def HRJump2errSig(psi0, t1, T, t2, delta, delPrime, Omega01, Omega02, Omega03):\n",
    "    RhoeeP = rhoee(hyperRamseyPhaseJump2P(psi0,t1,T,t2,delta,delPrime,Omega01,Omega02,Omega03))\n",
    "    RhoeeM = rhoee(hyperRamseyPhaseJump2M(psi0,t1,T,t2,delta,delPrime,Omega01,Omega02,Omega03))\n",
    "    return RhoeeP - RhoeeM"
   ]
  },
  {
   "cell_type": "code",
   "execution_count": 6,
   "id": "5d9a9b9c",
   "metadata": {},
   "outputs": [],
   "source": [
    "def HRvalidate_interval(psi0, t1, T, t2, Delta, Omega01, Omega02, x0, x1):\n",
    "    return HRerrSig(psi0, t1, T, t2, x0, x0+Delta, Omega01, Omega02) * HRerrSig(psi0, t1, T, t2, x1, x1+Delta, Omega01, Omega02) < 0\n",
    "\n",
    "def HRJumpvalidate_interval(psi0, t1, T, t2, Delta, Omega01, Omega02, Omega03, x0, x1):\n",
    "    return HRJumperrSig(psi0,t1,T,t2,x0,x0+Delta,Omega01,Omega02,Omega03)*HRJumperrSig(psi0,t1,T,t2,x1,x1+Delta,Omega01,Omega02,Omega03) < 0\n",
    "\n",
    "def HRThermJumpvalidate_interval(psi0, t1, T, t2, Delta, Omega01, Omega02, Omega03,nbar1,nbar2,nbar3, x0, x1):\n",
    "    return HRThermJumperrSig(psi0,t1,T,t2,x0,x0+Delta,Omega01,Omega02,Omega03,nbar1,nbar2,nbar3)*HRThermJumperrSig(psi0,t1,T,t2,x1,x1+Delta,Omega01,Omega02,Omega03,nbar1,nbar2,nbar3) < 0\n",
    "\n",
    "def HRJump2validate_interval(psi0, t1, T, t2, Delta, Omega01, Omega02, Omega03, x0, x1):\n",
    "    return HRJump2errSig(psi0,t1,T,t2,x0,x0+Delta,Omega01,Omega02,Omega03)*HRJump2errSig(psi0,t1,T,t2,x1,x1+Delta,Omega01,Omega02,Omega03) < 0\n",
    "\n",
    "def error_bound(a, b, err):\n",
    "    n = np.log((b - a) / err) / np.log(2)\n",
    "    return int(np.ceil(n))\n",
    "\n",
    "def HRfindRoot(psi0, t1, T, t2, Delta, Omega01, Omega02, tol, guess):\n",
    "    #x0 = guess - np.abs(guess)*0.025 - 0.015/Omega02\n",
    "    #x1 = guess + np.abs(guess)*0.025 + 0.015/Omega02\n",
    "    x0 = guess - 0.1\n",
    "    x1 = guess + 0.1\n",
    "    #print(x0,x1)\n",
    "    \n",
    "    if not HRvalidate_interval(psi0, t1, T, t2, Delta, Omega01, Omega02, x0, x1):\n",
    "        print(\"not valid interval\")\n",
    "        return\n",
    "    \n",
    "    n = error_bound(x0, x1, tol)\n",
    "    counter = 1\n",
    "    \n",
    "    while True:\n",
    "        root_approx = x0 + ((x1 - x0) / 2.0) \n",
    "        y = HRerrSig(psi0, t1, T, t2, root_approx, root_approx+Delta, Omega01, Omega02)\n",
    "        if -tol < y < tol:\n",
    "            #print(Delta)\n",
    "            return root_approx\n",
    "        if HRvalidate_interval(psi0, t1, T, t2, Delta, Omega01, Omega02, x0, root_approx):\n",
    "            x1 = root_approx\n",
    "        else:\n",
    "            x0 = root_approx\n",
    "        counter +=1\n",
    "        \n",
    "def HRJumpfindRoot(psi0, t1, T, t2, Delta, Omega01, Omega02, Omega03, tol, guess):\n",
    "    #x0 = -0.1*Delta/(Omega01*T) - 0.25*np.abs(2.0*Delta/(Omega01*T)) - 0.01\n",
    "    #x1 = -0.1*Delta/(Omega01*T) + 0.25*np.abs(2.0*Delta/(Omega01*T)) + 0.01\n",
    "    x0 = guess - 0.00005\n",
    "    x1 = guess + 0.00005\n",
    "    #print(x0,x1)\n",
    "    \n",
    "    if not HRJumpvalidate_interval(psi0, t1, T, t2, Delta, Omega01, Omega02, Omega03, x0, x1):\n",
    "        print(\"not valid interval\")\n",
    "        return\n",
    "    \n",
    "    n = error_bound(x0, x1, tol)\n",
    "    counter = 1\n",
    "    \n",
    "    while True:\n",
    "        root_approx = x0 + ((x1 - x0) / 2.0) \n",
    "        y = HRJumperrSig(psi0, t1, T, t2, root_approx, root_approx+Delta, Omega01, Omega02, Omega03)\n",
    "        if -tol < y < tol:\n",
    "            return root_approx\n",
    "        if HRJumpvalidate_interval(psi0, t1, T, t2, Delta, Omega01, Omega02, Omega03, x0, root_approx):\n",
    "            x1 = root_approx\n",
    "        else:\n",
    "            x0 = root_approx\n",
    "        counter +=1\n",
    "        \n",
    "def HRThermJumpfindRoot(psi0, t1, T, t2, Delta, Omega01, Omega02, Omega03, nbar1, nbar2, nbar3, tol, guess):\n",
    "    #x0 = -0.1*Delta/(Omega01*T) - 0.25*np.abs(2.0*Delta/(Omega01*T)) - 0.01\n",
    "    #x1 = -0.1*Delta/(Omega01*T) + 0.25*np.abs(2.0*Delta/(Omega01*T)) + 0.01\n",
    "    x0 = guess - 0.00005\n",
    "    x1 = guess + 0.00005\n",
    "    #print(x0,x1)\n",
    "    \n",
    "    if not HRThermJumpvalidate_interval(psi0, t1, T, t2, Delta, Omega01, Omega02, Omega03, nbar1, nbar2, nbar3, x0, x1):\n",
    "        print(\"not valid interval\")\n",
    "        return\n",
    "    \n",
    "    n = error_bound(x0, x1, tol)\n",
    "    counter = 1\n",
    "    \n",
    "    while True:\n",
    "        root_approx = x0 + ((x1 - x0) / 2.0) \n",
    "        y = HRThermJumperrSig(psi0, t1, T, t2, root_approx, root_approx+Delta, Omega01, Omega02, Omega03, nbar1, nbar2, nbar3)\n",
    "        if -tol < y < tol:\n",
    "            return root_approx\n",
    "        if HRThermJumpvalidate_interval(psi0, t1, T, t2, Delta, Omega01, Omega02, Omega03, nbar1, nbar2, nbar3, x0, root_approx):\n",
    "            x1 = root_approx\n",
    "        else:\n",
    "            x0 = root_approx\n",
    "        counter +=1\n",
    "        \n",
    "def HRJump2findRoot(psi0, t1, T, t2, Delta, Omega01, Omega02, Omega03, tol, guess):\n",
    "    #x0 = -0.1*Delta/(Omega03*T) - 1.25*np.abs(2.0*Delta/(Omega03*T)) - 0.01\n",
    "    #x1 = -0.1*Delta/(Omega03*T) + 1.25*np.abs(2.0*Delta/(Omega03*T)) + 0.01\n",
    "    x0 = guess - 0.000001\n",
    "    x1 = guess + 0.000001\n",
    "    #print(x0,x1)\n",
    "    \n",
    "    if not HRJump2validate_interval(psi0, t1, T, t2, Delta, Omega01, Omega02, Omega03, x0, x1):\n",
    "        print(\"not valid interval\")\n",
    "        return\n",
    "    \n",
    "    n = error_bound(x0, x1, tol)\n",
    "    counter = 1\n",
    "    \n",
    "    while True:\n",
    "        root_approx = x0 + ((x1 - x0) / 2.0) \n",
    "        y = HRJump2errSig(psi0, t1, T, t2, root_approx, root_approx+Delta, Omega01, Omega02, Omega03)\n",
    "        if -tol < y < tol:\n",
    "            return root_approx\n",
    "        if HRJump2validate_interval(psi0, t1, T, t2, Delta, Omega01, Omega02, Omega03, x0, root_approx):\n",
    "            x1 = root_approx\n",
    "        else:\n",
    "            x0 = root_approx\n",
    "        counter +=1"
   ]
  },
  {
   "cell_type": "code",
   "execution_count": 7,
   "id": "e54fb51e",
   "metadata": {},
   "outputs": [],
   "source": [
    "def HRHeatSensb(q, pulse1, pulse2, Delta):\n",
    "    psi0 = psi(0.0, 1.0)\n",
    "    t1 = 10.0e-3             #s\n",
    "    t2 = t1*(pulse2/pulse1)\n",
    "    Omega01 = pulse1/t1\n",
    "    Omega02 = Omega01*q\n",
    "    T = 10.0*t1\n",
    "    \n",
    "    tol = 1.0e-10\n",
    "    shift = 0.0\n",
    "\n",
    "    pts = 100\n",
    "    Deltas = np.linspace(0.0, Delta*Omega01, pts)\n",
    "    for ii in range(pts):\n",
    "        shift = HRfindRoot(psi0, t1, T, t2, Deltas[ii], Omega01, Omega02, tol, shift)\n",
    "        #print(shift)\n",
    "        #print(Deltas[ii])\n",
    "        \n",
    "    if not isinstance(shift, float):\n",
    "        return\n",
    "    else:\n",
    "        return shift\n",
    "    \n",
    "def HRJumpHeatSensb(q, Delta):\n",
    "    psi0 = psi(0.0, 1.0)\n",
    "    t1 = 10.0e-3\n",
    "    T = 10*t1\n",
    "    t2 = 3.0*t1\n",
    "    Omega01 = np.pi/(2.0*t1)\n",
    "    Omega02 = q*Omega01\n",
    "    Omega03 = q*Omega01\n",
    "    tol = 1.0e-10\n",
    "    shift = 0.0\n",
    "\n",
    "    pts = 100\n",
    "    Deltas = np.linspace(0.0, Delta*Omega01, pts)\n",
    "    for ii in range(pts):\n",
    "        shift = HRJumpfindRoot(psi0, t1, T, t2, Deltas[ii], Omega01, Omega02, Omega03, tol, shift)\n",
    "        #print(shift)\n",
    "        \n",
    "    if not isinstance(shift, float):\n",
    "        return\n",
    "    else:\n",
    "        return shift\n",
    "    \n",
    "def HRThermJumpHeatSensb(nbar2, Delta):\n",
    "    psi0 = psi(0.0, 1.0)\n",
    "    t1 = 10.0e-3\n",
    "    T = 10*t1\n",
    "    t2 = 3.0*t1\n",
    "    Omega01 = np.pi/(2.0*t1)\n",
    "    Omega02 = Omega01\n",
    "    Omega03 = Omega01\n",
    "    nbar1 = 0.0\n",
    "    nbar3 = nbar2\n",
    "    tol = 1.0e-10\n",
    "    shift = 0.0\n",
    "\n",
    "    pts = 100\n",
    "    Deltas = np.linspace(0.0, Delta*Omega01, pts)\n",
    "    for ii in range(pts):\n",
    "        shift = HRThermJumpfindRoot(psi0, t1, T, t2, Deltas[ii], Omega01, Omega02, Omega03, nbar1, nbar2, nbar3, tol, shift)\n",
    "        #print(shift)\n",
    "        \n",
    "    if not isinstance(shift, float):\n",
    "        return\n",
    "    else:\n",
    "        return shift\n",
    "    \n",
    "def HRJump2HeatSensb(q, Delta):\n",
    "    psi0 = psi(0.0, 1.0)\n",
    "    t1 = 3.0*10.0e-3\n",
    "    T = 100.0e-3\n",
    "    t2 = t1/3.0\n",
    "    Omega01 = 3.0*np.pi/(2.0*t1)\n",
    "    Omega02 = Omega01\n",
    "    Omega03 = q*Omega01\n",
    "    tol = 1.0e-10\n",
    "    shift = 0.0\n",
    "\n",
    "    pts = 100\n",
    "    Deltas = np.linspace(0.0, Delta*Omega01, pts)\n",
    "    for ii in range(pts):\n",
    "        shift = HRJump2findRoot(psi0, t1, T, t2, Deltas[ii], Omega01, Omega02, Omega03, tol, shift)\n",
    "       \n",
    "    if not isinstance(shift, float):\n",
    "        return\n",
    "    else:\n",
    "        return shift"
   ]
  },
  {
   "cell_type": "code",
   "execution_count": 8,
   "id": "50b51c30",
   "metadata": {
    "scrolled": false
   },
   "outputs": [],
   "source": [
    "pts = 51\n",
    "qPts = np.linspace(0.7, 1.0, pts)\n",
    "heatSensJ = np.zeros(pts,)\n",
    "heatSensJ2 = np.zeros(pts,)\n",
    "Delta = 0.00001\n",
    "\n",
    "for ii in range(pts):\n",
    "    heatSensJ[ii] = HRJumpHeatSensb(qPts[ii], Delta)\n",
    "    heatSensJ2[ii] = HRJump2HeatSensb(qPts[ii], Delta)\n",
    "    #print(qPts[ii])"
   ]
  },
  {
   "cell_type": "code",
   "execution_count": 9,
   "id": "4d247a20",
   "metadata": {},
   "outputs": [
    {
     "data": {
      "image/png": "[encoded data removed]",
      "text/plain": [
       "<Figure size 432x288 with 1 Axes>"
      ]
     },
     "metadata": {
      "needs_background": "light"
     },
     "output_type": "display_data"
    }
   ],
   "source": [
    "plt.plot(1-qPts, heatSensJ*100.0, label=\"HR Back\")\n",
    "plt.plot(1-qPts, heatSensJ2*100.0, label=\"HR Front\")\n",
    "plt.xlabel(\"1-q\")\n",
    "plt.ylabel(\"Clock Shift (mHz)\")\n",
    "plt.ylim([-.2e-2, .2e-2])\n",
    "plt.xlim([0.0, 0.3])\n",
    "plt.grid()\n",
    "plt.legend()\n",
    "plt.show()"
   ]
  },
  {
   "cell_type": "code",
   "execution_count": null,
   "id": "83a4943b",
   "metadata": {},
   "outputs": [],
   "source": [
    "nbarpts=np.zeros(pts,)\n",
    "heatSensJTherm = np.zeros(pts,)\n",
    "Delta = 0.00001\n",
    "for n in range(pts):\n",
    "    nbarpts[n] = n\n",
    "    heatSensJTherm[n] = HRThermJumpHeatSensb(n, Delta)"
   ]
  },
  {
   "cell_type": "markdown",
   "id": "f7d5b14b",
   "metadata": {},
   "source": [
    "I want to make these pulse sequence functions work for thermal distribuitions. Let me try to recreate the decoherence phenomenon at the end of the Rabi rate calculation script with pulses."
   ]
  },
  {
   "cell_type": "code",
   "execution_count": 14,
   "id": "2fb5ae71",
   "metadata": {},
   "outputs": [],
   "source": [
    "def prob(n,nbar):\n",
    "    return 1.0/(nbar+1)*(nbar/(nbar+1))**n\n",
    "\n",
    "def Omega(n,m,eta):\n",
    "    return np.exp(-eta**2/2.0) * eta**(np.abs(m)) * (math.factorial(n)/math.factorial(n+m))**(np.sign(m)/2) \\\n",
    "        * L(n,np.abs(m))(eta**2)"
   ]
  },
  {
   "cell_type": "code",
   "execution_count": 40,
   "id": "d89a796d",
   "metadata": {},
   "outputs": [],
   "source": [
    "nbar = 10.0\n",
    "Ncut = 200\n",
    "eta = 0.1\n",
    "ts = np.arange(0.0,50.0,0.2)\n",
    "rhoDD = [0.0]*np.size(ts)\n",
    "rhoDD2 = [0.0]*np.size(ts)\n",
    "rhoDD3 = [0.0]*np.size(ts)\n",
    "psi0 = psi(1.0,0.0)\n",
    "for ii in range(np.size(ts)):\n",
    "    for n in range(Ncut+1):\n",
    "        rhoDD[ii] += prob(n,nbar)*rhoee(pulse(ts[ii], 2.0*Omega(n,0,eta), 1.0-Omega(n,0,eta), 0.0, 0.0)@psi0) #wrong\n",
    "        rhoDD2[ii] += prob(n,nbar)*rhoee(pulse(ts[ii], 2.0*Omega(n,0,eta), 0.0, 0.0, 0.0)@psi0) #right\n",
    "        rhoDD3[ii] += prob(n,nbar)*(np.sin(Omega(n,0,eta)*ts[ii]))**2"
   ]
  },
  {
   "cell_type": "code",
   "execution_count": 53,
   "id": "907e477e",
   "metadata": {},
   "outputs": [
    {
     "data": {
      "text/plain": [
       "(0.44, 0.56)"
      ]
     },
     "execution_count": 53,
     "metadata": {},
     "output_type": "execute_result"
    },
    {
     "data": {
      "image/png": "[encoded data removed]",
      "text/plain": [
       "<Figure size 432x288 with 1 Axes>"
      ]
     },
     "metadata": {
      "needs_background": "light"
     },
     "output_type": "display_data"
    }
   ],
   "source": [
    "#plt.plot(ts,rhoDD)\n",
    "plt.plot(ts,rhoDD2)\n",
    "plt.plot(ts,rhoDD3)\n",
    "plt.xlim([45,50])\n",
    "plt.ylim([0.44,0.56])"
   ]
  },
  {
   "cell_type": "code",
   "execution_count": 160,
   "id": "b6903afe",
   "metadata": {},
   "outputs": [
    {
     "name": "stdout",
     "output_type": "stream",
     "text": [
      "[0.02395114+0.47862349j 0.87289389-0.09166331j]\n",
      "[0.02346806+0.47865555j 0.87308126-0.08981773j]\n",
      "[0.02298494+0.47868696j 0.87326482-0.08797177j]\n",
      "[0.02250178+0.47871772j 0.87344457-0.08612543j]\n",
      "[0.02201856+0.47874782j 0.87362051-0.08427874j]\n",
      "[0.0215353 +0.47877727j 0.87379264-0.08243169j]\n",
      "[0.021052  +0.47880607j 0.87396094-0.08058429j]\n",
      "[0.02056865+0.47883421j 0.87412544-0.07873654j]\n",
      "[0.02008526+0.4788617j  0.87428612-0.07688847j]\n",
      "[0.01960183+0.47888854j 0.87444298-0.07504007j]\n",
      "[0.01911836+0.47891472j 0.87459602-0.07319136j]\n",
      "[0.01863485+0.47894025j 0.87474525-0.07134233j]\n",
      "[0.0181513 +0.47896513j 0.87489066-0.06949301j]\n",
      "[0.01766771+0.47898935j 0.87503224-0.06764339j]\n",
      "[0.01718409+0.47901292j 0.87517001-0.06579348j]\n",
      "[0.01670043+0.47903583j 0.87530396-0.0639433j ]\n",
      "[0.01621674+0.47905809j 0.87543409-0.06209284j]\n",
      "[0.01573302+0.47907969j 0.8755604 -0.06024212j]\n",
      "[0.01524926+0.47910064j 0.87568288-0.05839115j]\n",
      "[0.01476547+0.47912094j 0.87580154-0.05653994j]\n",
      "[0.01428165+0.47914058j 0.87591638-0.05468848j]\n",
      "[0.0137978+0.47915957j 0.8760274-0.05283679j]\n",
      "[0.01331392+0.47917791j 0.87613459-0.05098488j]\n",
      "[0.01283002+0.47919559j 0.87623795-0.04913275j]\n",
      "[0.01234609+0.47921261j 0.8763375 -0.04728042j]\n",
      "[0.01186213+0.47922898j 0.87643321-0.04542788j]\n",
      "[0.01137815+0.4792447j  0.87652511-0.04357516j]\n",
      "[0.01089414+0.47925976j 0.87661317-0.04172225j]\n",
      "[0.01041012+0.47927417j 0.87669741-0.03986916j]\n",
      "[0.00992607+0.47928792j 0.87677783-0.03801591j]\n",
      "[0.009442  +0.47930102j 0.87685441-0.03616249j]\n",
      "[0.00895791+0.47931346j 0.87692717-0.03430892j]\n",
      "[0.0084738+0.47932525j 0.8769961-0.03245521j]\n",
      "[0.00798968+0.47933638j 0.8770612 -0.03060136j]\n",
      "[0.00750554+0.47934686j 0.87712248-0.02874738j]\n",
      "[0.00702138+0.47935669j 0.87717992-0.02689328j]\n",
      "[0.00653721+0.47936585j 0.87723354-0.02503906j]\n",
      "[0.00605303+0.47937437j 0.87728333-0.02318474j]\n",
      "[0.00556883+0.47938223j 0.87732929-0.02133032j]\n",
      "[0.00508462+0.47938943j 0.87737142-0.01947581j]\n",
      "[0.00460041+0.47939598j 0.87740972-0.01762122j]\n",
      "[0.00411618+0.47940188j 0.87744419-0.01576656j]\n",
      "[0.00363194+0.47940712j 0.87747484-0.01391182j]\n",
      "[0.0031477 +0.4794117j  0.87750165-0.01205703j]\n",
      "[0.00266345+0.47941563j 0.87752463-0.01020219j]\n",
      "[0.00217919+0.47941891j 0.87754378-0.00834731j]\n",
      "[0.00169493+0.47942153j 0.8775591 -0.00649239j]\n",
      "[0.00121067+0.47942349j 0.87757059-0.00463744j]\n",
      "[7.26401771e-04+0.4794248j  8.77578253e-01-0.00278247j]\n",
      "[2.42134090e-04+0.47942546j 8.77582083e-01-0.00092749j]\n",
      "[-2.42134090e-04+0.47942546j  8.77582083e-01+0.00092749j]\n",
      "[-7.26401771e-04+0.4794248j   8.77578253e-01+0.00278247j]\n",
      "[-0.00121067+0.47942349j  0.87757059+0.00463744j]\n",
      "[-0.00169493+0.47942153j  0.8775591 +0.00649239j]\n",
      "[-0.00217919+0.47941891j  0.87754378+0.00834731j]\n",
      "[-0.00266345+0.47941563j  0.87752463+0.01020219j]\n",
      "[-0.0031477 +0.4794117j   0.87750165+0.01205703j]\n",
      "[-0.00363194+0.47940712j  0.87747484+0.01391182j]\n",
      "[-0.00411618+0.47940188j  0.87744419+0.01576656j]\n",
      "[-0.00460041+0.47939598j  0.87740972+0.01762122j]\n",
      "[-0.00508462+0.47938943j  0.87737142+0.01947581j]\n",
      "[-0.00556883+0.47938223j  0.87732929+0.02133032j]\n",
      "[-0.00605303+0.47937437j  0.87728333+0.02318474j]\n",
      "[-0.00653721+0.47936585j  0.87723354+0.02503906j]\n",
      "[-0.00702138+0.47935669j  0.87717992+0.02689328j]\n",
      "[-0.00750554+0.47934686j  0.87712248+0.02874738j]\n",
      "[-0.00798968+0.47933638j  0.8770612 +0.03060136j]\n",
      "[-0.0084738+0.47932525j  0.8769961+0.03245521j]\n",
      "[-0.00895791+0.47931346j  0.87692717+0.03430892j]\n",
      "[-0.009442  +0.47930102j  0.87685441+0.03616249j]\n",
      "[-0.00992607+0.47928792j  0.87677783+0.03801591j]\n",
      "[-0.01041012+0.47927417j  0.87669741+0.03986916j]\n",
      "[-0.01089414+0.47925976j  0.87661317+0.04172225j]\n",
      "[-0.01137815+0.4792447j   0.87652511+0.04357516j]\n",
      "[-0.01186213+0.47922898j  0.87643321+0.04542788j]\n",
      "[-0.01234609+0.47921261j  0.8763375 +0.04728042j]\n",
      "[-0.01283002+0.47919559j  0.87623795+0.04913275j]\n",
      "[-0.01331392+0.47917791j  0.87613459+0.05098488j]\n",
      "[-0.0137978+0.47915957j  0.8760274+0.05283679j]\n",
      "[-0.01428165+0.47914058j  0.87591638+0.05468848j]\n",
      "[-0.01476547+0.47912094j  0.87580154+0.05653994j]\n",
      "[-0.01524926+0.47910064j  0.87568288+0.05839115j]\n",
      "[-0.01573302+0.47907969j  0.8755604 +0.06024212j]\n",
      "[-0.01621674+0.47905809j  0.87543409+0.06209284j]\n",
      "[-0.01670043+0.47903583j  0.87530396+0.0639433j ]\n",
      "[-0.01718409+0.47901292j  0.87517001+0.06579348j]\n",
      "[-0.01766771+0.47898935j  0.87503224+0.06764339j]\n",
      "[-0.0181513 +0.47896513j  0.87489066+0.06949301j]\n",
      "[-0.01863485+0.47894025j  0.87474525+0.07134233j]\n",
      "[-0.01911836+0.47891472j  0.87459602+0.07319136j]\n",
      "[-0.01960183+0.47888854j  0.87444298+0.07504007j]\n",
      "[-0.02008526+0.4788617j   0.87428612+0.07688847j]\n",
      "[-0.02056865+0.47883421j  0.87412544+0.07873654j]\n",
      "[-0.021052  +0.47880607j  0.87396094+0.08058429j]\n",
      "[-0.0215353 +0.47877727j  0.87379264+0.08243169j]\n",
      "[-0.02201856+0.47874782j  0.87362051+0.08427874j]\n",
      "[-0.02250178+0.47871772j  0.87344457+0.08612543j]\n",
      "[-0.02298494+0.47868696j  0.87326482+0.08797177j]\n",
      "[-0.02346806+0.47865555j  0.87308126+0.08981773j]\n",
      "[-0.02395114+0.47862349j  0.87289389+0.09166331j]\n"
     ]
    }
   ],
   "source": [
    "t1 = 1.0\n",
    "t2 = 3.0\n",
    "T = 10.0\n",
    "psi0 = psi(0.,1.0)\n",
    "pts = 100\n",
    "deltas = np.linspace(-0.1,0.1, pts)\n",
    "rhoee1s = np.zeros(pts)\n",
    "rhoee2s = np.zeros(pts)\n",
    "Omega01 =1.0\n",
    "Omega02 =1.0\n",
    "nbar1 = 0.0\n",
    "nbar2 = 0.0\n",
    "\n",
    "for ii in range(pts):\n",
    "    rhoee1s[ii] = rhoee(HRThermP(psi0, t1, T, t2, deltas[ii], deltas[ii], Omega01, Omega02, nbar1, nbar2))\n",
    "    rhoee2s[ii] = rhoee(hyperRamseyP(psi0, t1, T, t2, deltas[ii], deltas[ii], Omega01, Omega02))"
   ]
  },
  {
   "cell_type": "code",
   "execution_count": 161,
   "id": "aebde35c",
   "metadata": {},
   "outputs": [
    {
     "data": {
      "text/plain": [
       "[<matplotlib.lines.Line2D at 0x2751606bbe0>]"
      ]
     },
     "execution_count": 161,
     "metadata": {},
     "output_type": "execute_result"
    },
    {
     "data": {
      "image/png": "[encoded data removed]",
      "text/plain": [
       "<Figure size 432x288 with 1 Axes>"
      ]
     },
     "metadata": {
      "needs_background": "light"
     },
     "output_type": "display_data"
    }
   ],
   "source": [
    "plt.plot(deltas, rhoee1s)\n",
    "plt.plot(deltas, rhoee2s)"
   ]
  },
  {
   "cell_type": "code",
   "execution_count": 159,
   "id": "cde2e990",
   "metadata": {},
   "outputs": [
    {
     "name": "stdout",
     "output_type": "stream",
     "text": [
      "[-0.01476547+0.47912094j  0.87580154+0.05653994j]\n"
     ]
    },
    {
     "data": {
      "text/plain": [
       "array([ 0.65073895+0.64621113j, -0.3935597 -0.063724j  ])"
      ]
     },
     "execution_count": 159,
     "metadata": {},
     "output_type": "execute_result"
    }
   ],
   "source": [
    "HRThermP(psi0, t1, T, t2, deltas[80], deltas[80], Omega01, Omega02, nbar1, nbar2)"
   ]
  },
  {
   "cell_type": "code",
   "execution_count": 153,
   "id": "09f5aa5e",
   "metadata": {},
   "outputs": [
    {
     "data": {
      "text/plain": [
       "array([-0.01476547+0.47912094j,  0.55227416-0.68206918j])"
      ]
     },
     "execution_count": 153,
     "metadata": {},
     "output_type": "execute_result"
    }
   ],
   "source": [
    "pulse(T, 0.0, deltas[80], 0.0, 0.0)@pulse(0.0, 0.0, 0.0, 0.0, np.pi/2.0)@pulse(t1, Omega01, deltas[80], 0.0, 0.0)@psi0"
   ]
  },
  {
   "cell_type": "code",
   "execution_count": 155,
   "id": "1cdc9ff3",
   "metadata": {},
   "outputs": [
    {
     "data": {
      "text/plain": [
       "array([ 0.65073895+0.64621113j, -0.3935597 -0.063724j  ])"
      ]
     },
     "execution_count": 155,
     "metadata": {},
     "output_type": "execute_result"
    }
   ],
   "source": [
    "hyperRamseyP(psi0,t1,T,t2,deltas[80],deltas[80],Omega01,Omega02)"
   ]
  },
  {
   "cell_type": "code",
   "execution_count": 170,
   "id": "7bffbcce",
   "metadata": {},
   "outputs": [],
   "source": [
    "t1 = 1.0\n",
    "t2 = 3.0\n",
    "T = 10.0\n",
    "psi0 = psi(0.,1.0)\n",
    "pts = 100\n",
    "deltas = np.linspace(-0.1,0.1, pts)\n",
    "rhoee1s = np.zeros(pts)\n",
    "rhoee2s = np.zeros(pts)\n",
    "Omega01 =1.0\n",
    "Omega02 =1.0\n",
    "Omega03 =1.0\n",
    "nbar1 = 0.0\n",
    "nbar2 = 0.0\n",
    "nbar3 = 0.0\n",
    "\n",
    "for ii in range(pts):\n",
    "    rhoee1s[ii] = rhoee(HRJumpThermP(psi0, t1, T, t2, deltas[ii], deltas[ii], Omega01, Omega02, Omega03, nbar1, nbar2, nbar3))\n",
    "    rhoee2s[ii] = rhoee(hyperRamseyPhaseJumpP(psi0, t1, T, t2, deltas[ii], deltas[ii], Omega01, Omega02, Omega03))"
   ]
  },
  {
   "cell_type": "code",
   "execution_count": 173,
   "id": "5a3bdc4d",
   "metadata": {},
   "outputs": [
    {
     "data": {
      "text/plain": [
       "[<matplotlib.lines.Line2D at 0x27517978250>]"
      ]
     },
     "execution_count": 173,
     "metadata": {},
     "output_type": "execute_result"
    },
    {
     "data": {
      "image/png": "[encoded data removed]",
      "text/plain": [
       "<Figure size 432x288 with 1 Axes>"
      ]
     },
     "metadata": {
      "needs_background": "light"
     },
     "output_type": "display_data"
    }
   ],
   "source": [
    "plt.plot(deltas, rhoee1s)\n",
    "plt.plot(deltas, rhoee2s)"
   ]
  },
  {
   "cell_type": "code",
   "execution_count": 9,
   "id": "ce24bdd0",
   "metadata": {},
   "outputs": [
    {
     "name": "stderr",
     "output_type": "stream",
     "text": [
      "D:\\Mark\\Python\\lib\\site-packages\\scipy\\special\\_orthogonal.py:651: RuntimeWarning: invalid value encountered in double_scalars\n",
      "  hn = _gam(n + alpha + 1) / _gam(n + 1)\n",
      "D:\\Mark\\Python\\lib\\site-packages\\scipy\\special\\_orthogonal.py:140: RuntimeWarning: invalid value encountered in multiply\n",
      "  np.poly1d.__init__(self, poly.coeffs * float(kn))\n",
      "D:\\Mark\\Python\\lib\\site-packages\\scipy\\special\\_orthogonal.py:196: RuntimeWarning: overflow encountered in true_divide\n",
      "  w = 1.0 / (fm * dy)\n",
      "D:\\Mark\\Python\\lib\\site-packages\\scipy\\special\\_orthogonal.py:202: RuntimeWarning: invalid value encountered in multiply\n",
      "  w *= mu0 / w.sum()\n",
      "D:\\Mark\\Python\\lib\\site-packages\\scipy\\special\\_orthogonal.py:127: RuntimeWarning: invalid value encountered in double_scalars\n",
      "  equiv_weights = [weights[k] / wfunc(roots[k]) for\n",
      "D:\\Mark\\Python\\lib\\site-packages\\scipy\\special\\_orthogonal.py:196: RuntimeWarning: divide by zero encountered in true_divide\n",
      "  w = 1.0 / (fm * dy)\n"
     ]
    },
    {
     "data": {
      "text/plain": [
       "0.0"
      ]
     },
     "execution_count": 9,
     "metadata": {},
     "output_type": "execute_result"
    }
   ],
   "source": [
    "HRThermJumpHeatSensb(0.0, 0.00001)"
   ]
  },
  {
   "cell_type": "code",
   "execution_count": null,
   "id": "baad4fec",
   "metadata": {},
   "outputs": [],
   "source": []
  }
 ],
 "metadata": {
  "kernelspec": {
   "display_name": "Python 3 (ipykernel)",
   "language": "python",
   "name": "python3"
  },
  "language_info": {
   "codemirror_mode": {
    "name": "ipython",
    "version": 3
   },
   "file_extension": ".py",
   "mimetype": "text/x-python",
   "name": "python",
   "nbconvert_exporter": "python",
   "pygments_lexer": "ipython3",
   "version": "3.10.5"
  }
 },
 "nbformat": 4,
 "nbformat_minor": 5
}
