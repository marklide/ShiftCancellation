{
 "cells": [
  {
   "cell_type": "code",
   "execution_count": 4,
   "id": "8960224d",
   "metadata": {},
   "outputs": [],
   "source": [
    "from qutip import *\n",
    "import numpy as np\n",
    "import scipy as sp\n",
    "import math\n",
    "import matplotlib.pyplot as plt\n",
    "from scipy.special import genlaguerre as L"
   ]
  },
  {
   "cell_type": "code",
   "execution_count": 5,
   "id": "1cc465e6",
   "metadata": {},
   "outputs": [],
   "source": [
    "hbar = sp.constants.hbar\n",
    "h = sp.constants.h\n",
    "c = sp.constants.c\n",
    "e = sp.constants.e\n",
    "eVtoJ = 1.602176634e-19\n",
    "amutokg = 1.66053906660e-27\n",
    "\n",
    "omega = 2.0*np.pi*778e3 #Lange\n",
    "Omegarf = 2.0*np.pi*13e6 #Lange\n",
    "m = 170.936331517*amutokg\n",
    "alpha = 5.89e-40 #J m^2 V^-2 E2 transition (Lange)\n",
    "nu0 = 688358979309307.82 #Hz E2 transition (Huntemann)"
   ]
  },
  {
   "cell_type": "code",
   "execution_count": 75,
   "id": "04627cae",
   "metadata": {},
   "outputs": [],
   "source": [
    "def psi(g,e):\n",
    "    return np.array([g, e])\n",
    "\n",
    "def pulse(t, Omega0, delta, phi0, phi1):\n",
    "    Omega = np.sqrt(Omega0**2 + delta**2)\n",
    "    \n",
    "    if Omega == 0.0:\n",
    "        U = np.array([[1.0 , 0.0],\n",
    "                      [0.0 , 1.0]])\n",
    "        \n",
    "    else:\n",
    "        U = np.array([[np.cos(Omega*t/2.0) -(1.0j*delta/Omega)*np.sin(Omega*t/2.0), (1.0j*Omega0/Omega)*np.sin(Omega*t/2.0)],\n",
    "                     [(1.0j*Omega0/Omega)*np.sin(Omega*t/2.0) , np.cos(Omega*t/2.0) + (1.0j*delta/Omega)*np.sin(Omega*t/2.0)]])\n",
    "    \n",
    "    V1 = np.array([[1.0 , 0.0],\n",
    "                   [0.0 , np.exp(-1.0j*phi1)]])\n",
    "    \n",
    "    V0 = np.array([[1.0 , 0.0],\n",
    "                   [0.0 , np.exp(1.0j*phi0)]])\n",
    "    \n",
    "    return np.exp(1.0j*delta*t/2.0)*V1@U@V0\n",
    "\n",
    "def prob(n,nbar):\n",
    "    return 1.0/(nbar+1)*(nbar/(nbar+1))**n    #returns prob of being in state n given nbar\n",
    "\n",
    "def dopAndStark(n):       #for 1D!! to make 3d, multiply this by 3                        \n",
    "    return -2.0*np.pi*nu0*hbar*omega*(n+0.5)/(m*c**2)*(1.0 + alpha*m**2*Omegarf**2*c**2/(h*nu0*e**2*2)) \n",
    "\n",
    "def Omega(n,m,eta):\n",
    "    return np.exp(-eta**2/2.0) * eta**(np.abs(m)) * (math.factorial(n)/math.factorial(n+m))**(np.sign(m)/2.0) \\\n",
    "        * L(n,np.abs(m))(eta**2)              #returns unitless rabi rate of transition n -> n+m given Lamb-Dicke Parameter"
   ]
  },
  {
   "cell_type": "code",
   "execution_count": 138,
   "id": "1fe2cfcb",
   "metadata": {},
   "outputs": [],
   "source": [
    "def thermPulse(psi0, t, Omega0, delPrime, eta): #1-dimensional\n",
    "    Ncut = shape(psi0)[0]\n",
    "    state = np.zeros([Ncut,2],dtype=np.complex_)\n",
    "    for n in range(Ncut):\n",
    "        #state[n] = pulse(t, Omega0*Omega(n,0,eta), delPrime+dopAndStark(n), 0.0, 0.0)@psi0[n]\n",
    "        state[n] = pulse(t, Omega0*Omega(n,0,eta), delPrime, 0.0, 0.0)@psi0[n]\n",
    "    return state\n",
    "\n",
    "def rhoee(psi, nbar):\n",
    "    result = 0.0\n",
    "    Ncut = shape(psi0)[0]\n",
    "    for n in range(Ncut):\n",
    "        #print(prob(n,nbar))\n",
    "        #print((abs(psi0[n][1]))**2.0)\n",
    "        result += prob(n,nbar)*(abs(psi[n][1]))**2.0\n",
    "    return result"
   ]
  },
  {
   "cell_type": "code",
   "execution_count": 143,
   "id": "7136ff81",
   "metadata": {},
   "outputs": [],
   "source": [
    "#def RamseyErrSig(deld, psi0, t1, T, t2, delPrime, Omega0, eta, nbar0, nbarf, Ncut, delExc):\n",
    "#    delp1 = delPrime\n",
    "#    delp2 = delPrime + dopAndStark(nbarf) - dopAndStark(nbar0)\n",
    "#    phi = 0.5*(dopAndStark(nbarf)+dopAndStark(nbar0))*T + delExc*T\n",
    "#    freeEvo = pulse(T, 0.0, deld, 0.0, phi)\n",
    "#    pi2PhaseInjP = pulse(0.0, 0.0, 0.0, 0.0, np.pi/2.0)\n",
    "#    pi2PhaseInjM = pulse(0.0, 0.0, 0.0, 0.0, -np.pi/2.0)\n",
    "#    intState = thermPulse(psi0, t1, Omega0, delp1, eta, nbar0, Ncut)\n",
    "#    resultP = thermPulse(freeEvo@pi2PhaseInjP@intState, t2, Omega0, delp2, eta, nbarf, Ncut)\n",
    "#    resultM = thermPulse(freeEvo@pi2PhaseInjM@intState, t2, Omega0, delp2, eta, nbarf, Ncut)\n",
    "#    return rhoee(resultP) - rhoee(resultM)\n",
    "\n",
    "def ramsey(deld, psi0, t1, T, t2, delPrime, Omega0, eta, nbardot):\n",
    "    Ncut = shape(psi0)[0]\n",
    "    state = thermPulse(psi0, t1, Omega0, delPrime, eta)\n",
    "    for n in range(Ncut):\n",
    "        phi = 0.5*(dopAndStark(n)+dopAndStark(n+nbardot*T))*T\n",
    "        state[n] = pulse(T, 0.0, deld, 0.0, phi)@state[n]\n",
    "    return thermPulse(state, t2, Omega0, delPrime, eta)\n",
    "\n",
    "def RamseyErrSig(deld, psi0, t1, T, t2, delPrime, Omega0, eta, nbarf):\n",
    "    Ncut = shape(psi0)[0]\n",
    "    nbardot = nbarf/(t1+T+t2)\n",
    "    state = thermPulse(psi0, t1, Omega0, delPrime, eta)\n",
    "    stateP = np.zeros([Ncut,2],dtype=np.complex_)\n",
    "    stateM = np.zeros([Ncut,2],dtype=np.complex_)\n",
    "    for n in range(Ncut):\n",
    "        #phi =0.0\n",
    "        phi = 0.5*(dopAndStark(n)+dopAndStark(n+nbardot*T))*T\n",
    "        stateP[n] = pulse(T, 0.0, deld, 0.0, phi+np.pi/2.0)@state[n]\n",
    "        stateM[n] = pulse(T, 0.0, deld, 0.0, phi-np.pi/2.0)@state[n]\n",
    "    stateP = thermPulse(stateP, t2, Omega0, delPrime, eta)\n",
    "    stateM = thermPulse(stateM, t2, Omega0, delPrime, eta)\n",
    "    return rhoee(stateP,nbarf) - rhoee(stateM,nbarf)\n",
    "\n",
    "def HRErrSig(deld, psi0, t1, T, Delta, Omega0, eta, nbarf):\n",
    "    delPrime = deld-Delta\n",
    "    Ncut = shape(psi0)[0]\n",
    "    t3 = 2.0*t1\n",
    "    t4 = t1\n",
    "    nbardot = nbarf/(t1+T+t3+t4)\n",
    "    state = thermPulse(psi0, t1, Omega0, delPrime, eta)\n",
    "    stateP = np.zeros([Ncut,2],dtype=np.complex_)\n",
    "    stateM = np.zeros([Ncut,2],dtype=np.complex_)\n",
    "    for n in range(Ncut):\n",
    "        phi =0.0\n",
    "        #phi = 0.5*(dopAndStark(n)+dopAndStark(n+nbardot*T))*T\n",
    "        stateP[n] = pulse(T, 0.0, deld, 0.0, phi+np.pi/2.0)@state[n]\n",
    "        stateM[n] = pulse(T, 0.0, deld, 0.0, phi-np.pi/2.0)@state[n]\n",
    "    stateP = thermPulse(thermPulse(stateP, t3, -Omega0, delPrime, eta), t4, Omega0, delPrime, eta)\n",
    "    stateM = thermPulse(thermPulse(stateM, t3, -Omega0, delPrime, eta), t4, Omega0, delPrime, eta)\n",
    "    return rhoee(stateP,nbarf) - rhoee(stateM,nbarf)"
   ]
  },
  {
   "cell_type": "code",
   "execution_count": 56,
   "id": "61889f4a",
   "metadata": {},
   "outputs": [],
   "source": [
    "Ncut = 101\n",
    "psi0 = np.zeros([Ncut,2],dtype=np.complex_)\n",
    "for n in range(Ncut):\n",
    "    psi0[n] = psi(1.0+0.0j,0.0+0.0j)"
   ]
  },
  {
   "cell_type": "code",
   "execution_count": 80,
   "id": "234eda29",
   "metadata": {},
   "outputs": [],
   "source": [
    "tpts = 200\n",
    "ts = np.linspace(0,320e-3, tpts)\n",
    "Omega0 = np.pi/(2.0*20e-3)\n",
    "delPrime = 0.0*2.0*np.pi\n",
    "eta = 0.05\n",
    "rhoee1s = np.zeros(tpts)\n",
    "rhoee2s = np.zeros(tpts)\n",
    "nbar = 10.0\n",
    "nbars = np.linspace(10.0, 15.0, tpts)\n",
    "\n",
    "for ii in range(tpts):\n",
    "    state = thermPulse(psi0, ts[ii], Omega0, delPrime, eta)\n",
    "    rhoee1s[ii] = rhoee(state, nbar)\n",
    "    rhoee2s[ii] = rhoee(state, nbars[ii])"
   ]
  },
  {
   "cell_type": "code",
   "execution_count": 82,
   "id": "417e3865",
   "metadata": {},
   "outputs": [
    {
     "data": {
      "text/plain": [
       "[<matplotlib.lines.Line2D at 0x1db0f5b6d40>]"
      ]
     },
     "execution_count": 82,
     "metadata": {},
     "output_type": "execute_result"
    },
    {
     "data": {
      "image/png": "[encoded data removed]",
      "text/plain": [
       "<Figure size 432x288 with 1 Axes>"
      ]
     },
     "metadata": {
      "needs_background": "light"
     },
     "output_type": "display_data"
    }
   ],
   "source": [
    "plt.plot(ts*Omega0/np.pi, rhoee1s)\n",
    "plt.plot(ts*Omega0/np.pi, rhoee2s)"
   ]
  },
  {
   "cell_type": "code",
   "execution_count": 98,
   "id": "964277e0",
   "metadata": {},
   "outputs": [],
   "source": [
    "Ncut = 101\n",
    "psi0 = np.zeros([Ncut,2],dtype=np.complex_)\n",
    "for n in range(Ncut):\n",
    "    psi0[n] = psi(1.0+0.0j,0.0+0.0j)\n",
    "    \n",
    "t1 = 20.0e-3\n",
    "t2 = t1\n",
    "T = 500e-3\n",
    "Omega0 = np.pi/(2.0*t1)\n",
    "delpts = 10\n",
    "delds = np.linspace(-0.01*2.0*np.pi, 0.01*2.0*np.pi, delpts)\n",
    "delPrime = 0.01*2.0*np.pi\n",
    "nbardot = 100.0\n",
    "nbarf = nbardot*(t1+t2+T)\n",
    "eta = 0.05\n",
    "errSigPts = np.zeros(delpts)\n",
    "\n",
    "for ii in range(delpts):\n",
    "    errSigPts[ii] = RamseyErrSig(delds[ii], psi0, t1, T, t2, delPrime, Omega0, eta, nbarf)"
   ]
  },
  {
   "cell_type": "code",
   "execution_count": 99,
   "id": "6b29e778",
   "metadata": {},
   "outputs": [
    {
     "data": {
      "image/png": "[encoded data removed]",
      "text/plain": [
       "<Figure size 432x288 with 1 Axes>"
      ]
     },
     "metadata": {
      "needs_background": "light"
     },
     "output_type": "display_data"
    }
   ],
   "source": [
    "plt.plot(delds/(2.0*np.pi)*1e3, errSigPts)\n",
    "plt.grid()\n",
    "plt.xlabel(\"Dark Time Detuning (mHz)\")\n",
    "plt.ylabel(\"Error Signal\")\n",
    "plt.show()"
   ]
  },
  {
   "cell_type": "code",
   "execution_count": 123,
   "id": "8d8d8086",
   "metadata": {},
   "outputs": [
    {
     "name": "stdout",
     "output_type": "stream",
     "text": [
      "-0.06283185307179587\n",
      "0.0005092958022696374\n",
      "-0.04886921905584123\n",
      "0.0003961189621217569\n",
      "-0.0349065850398866\n",
      "0.00028294211837316506\n",
      "-0.020943951023931956\n",
      "0.0001697652720527021\n",
      "-0.006981317007977321\n",
      "5.658842418890398e-05\n",
      "0.006981317007977314\n",
      "-5.658842418902821e-05\n",
      "0.020943951023931956\n",
      "-0.00016976527205272182\n",
      "0.034906585039886584\n",
      "-0.00028294211837315254\n",
      "0.048869219055841226\n",
      "-0.00039611896212173785\n",
      "0.06283185307179587\n",
      "-0.0005092958022696477\n"
     ]
    }
   ],
   "source": [
    "Ncut = 101\n",
    "psi0 = np.zeros([Ncut,2],dtype=np.complex_)\n",
    "for n in range(Ncut):\n",
    "    psi0[n] = psi(1.0+0.0j,0.0+0.0j)\n",
    "    \n",
    "t1 = 20.0e-3\n",
    "t2 = t1\n",
    "T = 500e-3\n",
    "Omega0 = np.pi/(2.0*t1)\n",
    "nbarf = 0.0\n",
    "eta = 0.0\n",
    "\n",
    "pts = 10\n",
    "delPrimes = np.linspace(-0.01*2.0*np.pi, 0.01*2.0*np.pi, pts)\n",
    "shifts = np.zeros(pts)\n",
    "shift1s = np.zeros(pts)\n",
    "\n",
    "tol = 1.0e-11\n",
    "x0 = -0.1\n",
    "x1 = 0.1\n",
    "guessTol = 0.1\n",
    "\n",
    "for ii in range(pts):\n",
    "    print(delPrimes[ii])\n",
    "    shifts[ii] = (1.0/(2.0*np.pi))*sp.optimize.root_scalar(RamseyErrSig, args=(psi0, t1, T, t2, delPrimes[ii], Omega0, eta, nbarf), bracket=[x0,x1], xtol = tol).root\n",
    "    shift1s[ii] = (1.0/(2.0*np.pi))*sp.optimize.root_scalar(RamseyErrSig, args=(psi0, t1, T, 3.0*t2, delPrimes[ii], Omega0, eta, nbarf), bracket=[x0,x1], xtol = tol).root\n",
    "    print(shifts[ii])\n",
    "    x0 = shifts[ii]*(2.0*np.pi) - guessTol\n",
    "    x1 = shifts[ii]*(2.0*np.pi) + guessTol\n",
    "    #print(x0,x1)"
   ]
  },
  {
   "cell_type": "code",
   "execution_count": 125,
   "id": "dfcedcee",
   "metadata": {},
   "outputs": [
    {
     "data": {
      "image/png": "[encoded data removed]",
      "text/plain": [
       "<Figure size 432x288 with 1 Axes>"
      ]
     },
     "metadata": {
      "needs_background": "light"
     },
     "output_type": "display_data"
    }
   ],
   "source": [
    "#Notice that the slope matches the correct one, 2/(Omega0*T)\n",
    "#Also, if you comment out the RS curve, you'll see that the HRS one is cubic as expected\n",
    "plt.plot(delPrimes/(2.0*np.pi)*1e3, shifts*1e3, label=\"RS\")\n",
    "plt.plot(delPrimes/(2.0*np.pi)*1e3, shift1s*1e3, label=\"HRS\")\n",
    "plt.xlabel(\"Pulse Detuning (mHz)\")\n",
    "plt.ylabel(\"Clock Shift (mHz)\")\n",
    "plt.grid()\n",
    "plt.show()"
   ]
  },
  {
   "cell_type": "code",
   "execution_count": 133,
   "id": "56f1fcfa",
   "metadata": {},
   "outputs": [
    {
     "name": "stdout",
     "output_type": "stream",
     "text": [
      "0.0\n",
      "10.0\n",
      "20.0\n",
      "30.0\n",
      "40.0\n"
     ]
    }
   ],
   "source": [
    "Ncut = 201\n",
    "psi0 = np.zeros([Ncut,2],dtype=np.complex_)\n",
    "for n in range(Ncut):\n",
    "    psi0[n] = psi(1.0+0.0j,0.0+0.0j)\n",
    "    \n",
    "t1 = 20.0e-3\n",
    "t2 = t1\n",
    "T = 500e-3\n",
    "Omega0 = np.pi/(2.0*t1)\n",
    "nbarf = 40.0\n",
    "eta = 0.05\n",
    "delPrime = 0.0*2.0*np.pi\n",
    "\n",
    "pts = 5\n",
    "nbarfs = np.linspace(0.0, 40.0, pts)\n",
    "shifts = np.zeros(pts)\n",
    "shifts1 = np.zeros(pts)\n",
    "\n",
    "tol = 1.0e-11\n",
    "x0 = -0.1\n",
    "x1 = 0.1\n",
    "guessTol = 0.1\n",
    "\n",
    "for ii in range(pts):\n",
    "    print(nbarfs[ii])\n",
    "    #shifts[ii] = (1.0/(2.0*np.pi))*sp.optimize.root_scalar(RamseyErrSig, args=(psi0, t1, T, t2, delPrime, Omega0, eta, nbarfs[ii]), bracket=[x0,x1], xtol = tol).root\n",
    "    shifts1[ii] = (1.0/(2.0*np.pi))*sp.optimize.root_scalar(RamseyErrSig, args=(psi0, t1, T, t2*3.0, delPrime, Omega0, eta, nbarfs[ii]), bracket=[x0,x1], xtol = tol).root\n",
    "    #print(shifts[ii])\n",
    "    x0 = shifts[ii]*(2.0*np.pi) - guessTol\n",
    "    x1 = shifts[ii]*(2.0*np.pi) + guessTol\n",
    "    #print(x0,x1)"
   ]
  },
  {
   "cell_type": "code",
   "execution_count": 137,
   "id": "dd7f4522",
   "metadata": {},
   "outputs": [
    {
     "data": {
      "image/png": "[encoded data removed]",
      "text/plain": [
       "<Figure size 432x288 with 1 Axes>"
      ]
     },
     "metadata": {
      "needs_background": "light"
     },
     "output_type": "display_data"
    }
   ],
   "source": [
    "#plt.plot(nbarfs, shifts*1e3, label=\"RS\")\n",
    "plt.plot(nbarfs, shifts1*1e3, label=\"HRS\")\n",
    "plt.plot(nbarfs, 1e3*np.array([-7.26022535e-05, -8.41610515e-04, -1.62399530e-03, -2.42310390e-03,-3.24313556e-03]))\n",
    "plt.xlabel(\"Final nbar\")\n",
    "plt.ylabel(\"Clock Shift (mHz)\")\n",
    "plt.show()"
   ]
  },
  {
   "cell_type": "code",
   "execution_count": 135,
   "id": "bd681419",
   "metadata": {},
   "outputs": [
    {
     "data": {
      "text/plain": [
       "array([-1.54066767e-05, -4.46262271e-04, -8.30204457e-04, -1.14790990e-03,\n",
       "       -1.40647534e-03])"
      ]
     },
     "execution_count": 135,
     "metadata": {},
     "output_type": "execute_result"
    }
   ],
   "source": [
    "shifts1"
   ]
  },
  {
   "cell_type": "markdown",
   "id": "d866a19a",
   "metadata": {},
   "source": [
    "Next to do: \n",
    "Compare this curve to the old function. \n",
    "See if this method holds up to chopping the pulses (it absolutely will)\n",
    "Introduce heating during the pulses."
   ]
  },
  {
   "cell_type": "code",
   "execution_count": 144,
   "id": "6b3bb9b1",
   "metadata": {},
   "outputs": [
    {
     "name": "stdout",
     "output_type": "stream",
     "text": [
      "0.0\n",
      "0.0\n",
      "10.0\n",
      "0.0001486234215435426\n",
      "20.0\n",
      "0.001175835323342803\n",
      "30.0\n",
      "0.003897369701245053\n",
      "40.0\n",
      "0.009015663904264287\n"
     ]
    }
   ],
   "source": [
    "Ncut = 270\n",
    "psi0 = np.zeros([Ncut,2],dtype=np.complex_)\n",
    "for n in range(Ncut):\n",
    "    psi0[n] = psi(1.0+0.0j,0.0+0.0j)\n",
    "\n",
    "Omega0 = 10.0*2.0*np.pi #Hz\n",
    "t1 = np.pi/(2.0*Omega0)\n",
    "T = np.pi*2.0/Omega0\n",
    "\n",
    "nbarf = 20.0+30*0.2\n",
    "eta = 0.1\n",
    "\n",
    "pts = 5\n",
    "#nbarfs = np.linspace(0.0, 40.0, pts)\n",
    "Deltas = np.linspace(0.0, 0.1*Omega0, 5)\n",
    "shifts = np.zeros(pts)\n",
    "shifts1 = np.zeros(pts)\n",
    "\n",
    "tol = 1.0e-11\n",
    "x0 = -0.1\n",
    "x1 = 0.1\n",
    "guessTol = 0.1\n",
    "\n",
    "for ii in range(pts):\n",
    "    print(nbarfs[ii])\n",
    "    shifts[ii] = (1.0/(2.0*np.pi))*sp.optimize.root_scalar(HRErrSig, args=(psi0, t1, T, Deltas[ii], Omega0, eta, nbarf), bracket=[x0,x1], xtol = tol).root\n",
    "    print(shifts[ii])\n",
    "    x0 = shifts[ii]*(2.0*np.pi) - guessTol\n",
    "    x1 = shifts[ii]*(2.0*np.pi) + guessTol\n",
    "    #print(x0,x1)"
   ]
  },
  {
   "cell_type": "code",
   "execution_count": 147,
   "id": "88afc9d4",
   "metadata": {},
   "outputs": [
    {
     "data": {
      "text/plain": [
       "[<matplotlib.lines.Line2D at 0x1db1085b160>]"
      ]
     },
     "execution_count": 147,
     "metadata": {},
     "output_type": "execute_result"
    },
    {
     "data": {
      "image/png": "[encoded data removed]",
      "text/plain": [
       "<Figure size 432x288 with 1 Axes>"
      ]
     },
     "metadata": {
      "needs_background": "light"
     },
     "output_type": "display_data"
    }
   ],
   "source": [
    "plt.plot(-Deltas/Omega0, shifts*(2.0*np.pi)/Omega0)"
   ]
  },
  {
   "cell_type": "code",
   "execution_count": 141,
   "id": "529915a0",
   "metadata": {},
   "outputs": [
    {
     "data": {
      "text/plain": [
       "0.2"
      ]
     },
     "execution_count": 141,
     "metadata": {},
     "output_type": "execute_result"
    }
   ],
   "source": [
    "t1*4+T"
   ]
  },
  {
   "cell_type": "code",
   "execution_count": 146,
   "id": "3c2992dc",
   "metadata": {},
   "outputs": [
    {
     "data": {
      "text/plain": [
       "0.0005944936861741704"
      ]
     },
     "execution_count": 146,
     "metadata": {},
     "output_type": "execute_result"
    }
   ],
   "source": [
    "2.0*np.pi*(shifts[1]-shifts[0])/(Deltas[1]-Deltas[0])"
   ]
  },
  {
   "cell_type": "code",
   "execution_count": 148,
   "id": "917440c6",
   "metadata": {},
   "outputs": [],
   "source": [
    "Ncut = 201\n",
    "psi0 = np.zeros([Ncut,2],dtype=np.complex_)\n",
    "t = 20e-3\n",
    "Omega0 = np.pi/(2.0*t)\n",
    "eta = 0.05\n",
    "delPrime = 0.0\n",
    "for n in range(Ncut):\n",
    "    psi0[n] = psi(1.0+0.0j,0.0+0.0j)\n",
    "psi1 = thermPulse(psi0, t, Omega0, delPrime, eta)\n",
    "psi2 = thermPulse(thermPulse(psi0, t/2.0, Omega0, delPrime, eta), t/2.0, Omega0, delPrime, eta)"
   ]
  },
  {
   "cell_type": "code",
   "execution_count": 150,
   "id": "28f10550",
   "metadata": {},
   "outputs": [
    {
     "data": {
      "text/plain": [
       "0.49510701829026804"
      ]
     },
     "execution_count": 150,
     "metadata": {},
     "output_type": "execute_result"
    }
   ],
   "source": [
    "rhoee(psi1,2.0)"
   ]
  },
  {
   "cell_type": "code",
   "execution_count": 151,
   "id": "af8aea3e",
   "metadata": {},
   "outputs": [
    {
     "data": {
      "text/plain": [
       "0.4951070182902681"
      ]
     },
     "execution_count": 151,
     "metadata": {},
     "output_type": "execute_result"
    }
   ],
   "source": [
    "rhoee(psi2,2.0)"
   ]
  },
  {
   "cell_type": "code",
   "execution_count": null,
   "id": "36c7a8c1",
   "metadata": {},
   "outputs": [],
   "source": []
  }
 ],
 "metadata": {
  "kernelspec": {
   "display_name": "Python 3 (ipykernel)",
   "language": "python",
   "name": "python3"
  },
  "language_info": {
   "codemirror_mode": {
    "name": "ipython",
    "version": 3
   },
   "file_extension": ".py",
   "mimetype": "text/x-python",
   "name": "python",
   "nbconvert_exporter": "python",
   "pygments_lexer": "ipython3",
   "version": "3.10.5"
  }
 },
 "nbformat": 4,
 "nbformat_minor": 5
}
