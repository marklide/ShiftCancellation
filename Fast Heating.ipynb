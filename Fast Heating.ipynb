{
 "cells": [
  {
   "cell_type": "code",
   "execution_count": 31,
   "id": "193aed84",
   "metadata": {},
   "outputs": [],
   "source": [
    "import numpy as np\n",
    "import scipy as sp\n",
    "import math\n",
    "import matplotlib.pyplot as plt\n",
    "from scipy.special import genlaguerre as L\n",
    "from scipy.integrate import solve_ivp as solve\n",
    "from scipy.integrate import odeint as odeint\n",
    "from scipy.integrate import complex_ode as ode\n",
    "import time\n",
    "from numba import jit"
   ]
  },
  {
   "cell_type": "code",
   "execution_count": 13,
   "id": "9167e956",
   "metadata": {},
   "outputs": [],
   "source": [
    "def prob(n,nbar):\n",
    "    return 1.0/(nbar+1)*(nbar/(nbar+1))**n    #returns prob of being in state n given nbar\n",
    "\n",
    "def groundRho(Ncut, nbar):\n",
    "    rho = np.array([0.0+0.0j]*3*(Ncut+1))\n",
    "    for n in range(Ncut):\n",
    "        rho[3*n] = prob(n,nbar)\n",
    "    return rho\n",
    "\n",
    "def nbar(rho):\n",
    "    Ncut = rho.shape[0]//3\n",
    "    nbar = 0.0\n",
    "    for n in range(Ncut):\n",
    "        nbar += n*(rho[n*3].real + rho[n*3+1].real)\n",
    "    return nbar\n",
    "\n",
    "def rhogg(rho):\n",
    "    rhogg = 0.0\n",
    "    Ncut = rho.shape[0]//3\n",
    "    for n in range(Ncut):\n",
    "        rhogg += rho[(3*n)].real\n",
    "    return rhogg\n",
    "\n",
    "def rhoee(rho):\n",
    "    rhoee = 0.0\n",
    "    Ncut = rho.shape[0]//3\n",
    "    for n in range(Ncut):\n",
    "        rhoee += rho[(3*n)+1].real\n",
    "    return rhoee"
   ]
  },
  {
   "cell_type": "code",
   "execution_count": 11,
   "id": "6ebf02f7",
   "metadata": {},
   "outputs": [],
   "source": [
    "def heatEqns(t, rho, nbardot):\n",
    "    Ncut = rho.shape[0]//3 - 1\n",
    "    rhoDot = [0.0+0.0j]*((Ncut+1)*3)\n",
    "    for ii in range(3):\n",
    "        rhoDot[0+ii] = nbardot*(-rho[0+ii]+rho[3*1+ii])\n",
    "        rhoDot[3*Ncut+ii] = nbardot*(-Ncut*rho[3*Ncut+ii]+Ncut*rho[3*(Ncut-1)+ii])\n",
    "        #Note*** the above line is true in the limit that rho[Ncut+1,ii]=rho[Ncut,ii] (fair assumption for large Ncut I think)\n",
    "        for n in range(1,Ncut-1):\n",
    "            rhoDot[3*n+ii] = nbardot*(-(2.0*n+1.0)*rho[3*n+ii] + (n+1.0)*rho[3*(n+1)+ii] + n*rho[3*(n-1)+ii])\n",
    "    return rhoDot\n",
    "\n",
    "def heat(rho0, t, nbardot):\n",
    "    rho = solve(heatEqns, [0.0,t], rho0, args=[nbardot]).y[:,-1]\n",
    "    return rho\n",
    "\n",
    "def fastHeat(rho0, t, nbardot, Nstop):\n",
    "    #Nstop = 100\n",
    "    Ncut = rho0.shape[0]//3 - 1\n",
    "    rho = np.array([0.0+0.0j]*3*(Ncut+1))\n",
    "    rho[:3*Nstop] = solve(heatEqns, [0.0,t], rho0[:3*Nstop], args=[nbardot]).y[:,-1]\n",
    "    rho[3*Nstop:] = rho0[3*Nstop:]\n",
    "    return rho"
   ]
  },
  {
   "cell_type": "code",
   "execution_count": 42,
   "id": "08267934",
   "metadata": {},
   "outputs": [],
   "source": [
    "def heatEqns(t, rho, nbardot):\n",
    "    Ncut = rho.shape[0]//3 - 1\n",
    "    rhoDot = [0.0+0.0j]*((Ncut+1)*3)\n",
    "    for ii in range(3):\n",
    "        rhoDot[0+ii] = nbardot*(-rho[0+ii]+rho[3*1+ii])\n",
    "        rhoDot[3*Ncut+ii] = nbardot*(-Ncut*rho[3*Ncut+ii]+Ncut*rho[3*(Ncut-1)+ii])\n",
    "        #Note*** the above line is true in the limit that rho[Ncut+1,ii]=rho[Ncut,ii] (fair assumption for large Ncut I think)\n",
    "        for n in range(1,Ncut-1):\n",
    "            rhoDot[3*n+ii] = nbardot*(-(2.0*n+1.0)*rho[3*n+ii] + (n+1.0)*rho[3*(n+1)+ii] + n*rho[3*(n-1)+ii])\n",
    "    return rhoDot\n",
    "\n",
    "def heatb(rho0, t, nbardot):\n",
    "    ts = np.linspace(0.0,t,10)\n",
    "    rho = ode(heatEqns, rho0, ts, (nbardot,)).y[:,-1]\n",
    "    return rho\n",
    "\n",
    "def fastHeatb(rho0, t, nbardot, Nstop):\n",
    "    #Nstop = 100\n",
    "    Ncut = rho0.shape[0]//3 - 1\n",
    "    rho = np.array([0.0+0.0j]*3*(Ncut+1))\n",
    "    rho[:3*Nstop] = solve(heatEqns, [0.0,t], rho0[:3*Nstop], t_eval=[t], args=[nbardot]).y[:,-1]\n",
    "    rho[3*Nstop:] = rho0[3*Nstop:]\n",
    "    return rho"
   ]
  },
  {
   "cell_type": "code",
   "execution_count": 44,
   "id": "d47c6c61",
   "metadata": {},
   "outputs": [
    {
     "name": "stdout",
     "output_type": "stream",
     "text": [
      "1.0368945598602295\n",
      "1.031006097793579\n"
     ]
    }
   ],
   "source": [
    "rho0 = groundRho(1000, 0.0)\n",
    "start = time.time()\n",
    "Nbar = nbar(fastHeatb(rho0, 1.0, 1.0, 1000))\n",
    "end = time.time()\n",
    "print(end-start)\n",
    "\n",
    "start = time.time()\n",
    "Nbar = nbar(fastHeat(rho0, 1.0, 1.0, 1000))\n",
    "end = time.time()\n",
    "print(end-start)"
   ]
  },
  {
   "cell_type": "code",
   "execution_count": 34,
   "id": "18c0329c",
   "metadata": {},
   "outputs": [
    {
     "ename": "TypeError",
     "evalue": "complex_ode.__init__() takes from 2 to 3 positional arguments but 5 were given",
     "output_type": "error",
     "traceback": [
      "\u001b[1;31m---------------------------------------------------------------------------\u001b[0m",
      "\u001b[1;31mTypeError\u001b[0m                                 Traceback (most recent call last)",
      "Input \u001b[1;32mIn [34]\u001b[0m, in \u001b[0;36m<cell line: 1>\u001b[1;34m()\u001b[0m\n\u001b[1;32m----> 1\u001b[0m \u001b[43mheatb\u001b[49m\u001b[43m(\u001b[49m\u001b[43mrho0\u001b[49m\u001b[43m,\u001b[49m\u001b[43m \u001b[49m\u001b[38;5;241;43m1.0\u001b[39;49m\u001b[43m,\u001b[49m\u001b[43m \u001b[49m\u001b[38;5;241;43m1.0\u001b[39;49m\u001b[43m)\u001b[49m\n",
      "Input \u001b[1;32mIn [33]\u001b[0m, in \u001b[0;36mheatb\u001b[1;34m(rho0, t, nbardot)\u001b[0m\n\u001b[0;32m     12\u001b[0m \u001b[38;5;28;01mdef\u001b[39;00m \u001b[38;5;21mheatb\u001b[39m(rho0, t, nbardot):\n\u001b[0;32m     13\u001b[0m     ts \u001b[38;5;241m=\u001b[39m np\u001b[38;5;241m.\u001b[39mlinspace(\u001b[38;5;241m0.0\u001b[39m,t,\u001b[38;5;241m10\u001b[39m)\n\u001b[1;32m---> 14\u001b[0m     rho \u001b[38;5;241m=\u001b[39m \u001b[43mode\u001b[49m\u001b[43m(\u001b[49m\u001b[43mheatEqns\u001b[49m\u001b[43m,\u001b[49m\u001b[43m \u001b[49m\u001b[43mrho0\u001b[49m\u001b[43m,\u001b[49m\u001b[43m \u001b[49m\u001b[43mts\u001b[49m\u001b[43m,\u001b[49m\u001b[43m \u001b[49m\u001b[43m(\u001b[49m\u001b[43mnbardot\u001b[49m\u001b[43m,\u001b[49m\u001b[43m)\u001b[49m\u001b[43m)\u001b[49m\u001b[38;5;241m.\u001b[39my[:,\u001b[38;5;241m-\u001b[39m\u001b[38;5;241m1\u001b[39m]\n\u001b[0;32m     15\u001b[0m     \u001b[38;5;28;01mreturn\u001b[39;00m rho\n",
      "\u001b[1;31mTypeError\u001b[0m: complex_ode.__init__() takes from 2 to 3 positional arguments but 5 were given"
     ]
    }
   ],
   "source": [
    "heatb(rho0, 1.0, 1.0)"
   ]
  },
  {
   "cell_type": "code",
   "execution_count": 39,
   "id": "a6440a18",
   "metadata": {},
   "outputs": [
    {
     "data": {
      "text/plain": [
       "[1.0]"
      ]
     },
     "execution_count": 39,
     "metadata": {},
     "output_type": "execute_result"
    }
   ],
   "source": [
    "([1.0])"
   ]
  },
  {
   "cell_type": "code",
   "execution_count": 41,
   "id": "87b286e5",
   "metadata": {},
   "outputs": [
    {
     "data": {
      "text/plain": [
       "array([1.])"
      ]
     },
     "execution_count": 41,
     "metadata": {},
     "output_type": "execute_result"
    }
   ],
   "source": [
    "np.array([1.0])"
   ]
  },
  {
   "cell_type": "code",
   "execution_count": null,
   "id": "46feadf4",
   "metadata": {},
   "outputs": [],
   "source": []
  }
 ],
 "metadata": {
  "kernelspec": {
   "display_name": "Python 3 (ipykernel)",
   "language": "python",
   "name": "python3"
  },
  "language_info": {
   "codemirror_mode": {
    "name": "ipython",
    "version": 3
   },
   "file_extension": ".py",
   "mimetype": "text/x-python",
   "name": "python",
   "nbconvert_exporter": "python",
   "pygments_lexer": "ipython3",
   "version": "3.10.5"
  }
 },
 "nbformat": 4,
 "nbformat_minor": 5
}
