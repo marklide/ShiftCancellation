{
 "cells": [
  {
   "cell_type": "code",
   "execution_count": 13,
   "id": "fa96b032",
   "metadata": {},
   "outputs": [
    {
     "name": "stdout",
     "output_type": "stream",
     "text": [
      "Final state vector:\n",
      " Quantum object: dims = [[2], [2]], shape = (2, 2), type = oper, isherm = True\n",
      "Qobj data =\n",
      "[[ 0.79437536  0.17511969]\n",
      " [-0.17511969  0.20562464]]\n",
      "Expectation values:\n",
      " []\n"
     ]
    }
   ],
   "source": [
    "import numpy as np\n",
    "import matplotlib.pyplot as plt\n",
    "from qutip import *\n",
    "\n",
    "# Define the basis states of the two-level atom\n",
    "zero = basis(2, 0)\n",
    "one = basis(2, 1)\n",
    "\n",
    "# Define the Pauli matrices\n",
    "sigmax = sigmax()\n",
    "sigmay = sigmay()\n",
    "sigmaz = sigmaz()\n",
    "\n",
    "# Define the parameters of the Ramsey sequence\n",
    "omega = 2*np.pi*0.5  # Rabi frequency\n",
    "delta = 0           # Detuning frequency\n",
    "t1 = np.pi/(2*omega) # Time between the pi/2 pulse and measurement\n",
    "\n",
    "# Define the time steps for the simulation\n",
    "tlist = np.linspace(0, 3*t1, 500)\n",
    "\n",
    "# Define the initial state of the atom as the ground state\n",
    "psi0 = zero\n",
    "\n",
    "# Define the pulse sequence\n",
    "U1 = (-1j*omega/2*sigmax*t1).expm()\n",
    "\n",
    "# Define the measurement operators\n",
    "sx = ket2dm((zero + one)/np.sqrt(2))\n",
    "sy = ket2dm((zero + 1j*one)/np.sqrt(2))\n",
    "sz = ket2dm(zero) - ket2dm(one)\n",
    "\n",
    "# Simulate the evolution of the system\n",
    "result = mesolve(U1, psi0, tlist, [sx, sy, sz])\n",
    "\n",
    "# Print the final state vector and the expectation values\n",
    "print(\"Final state vector:\\n\", result.states[-1])\n",
    "print(\"Expectation values:\\n\", result.expect)"
   ]
  },
  {
   "cell_type": "code",
   "execution_count": null,
   "id": "04dbbeed",
   "metadata": {},
   "outputs": [],
   "source": []
  }
 ],
 "metadata": {
  "kernelspec": {
   "display_name": "Python 3 (ipykernel)",
   "language": "python",
   "name": "python3"
  },
  "language_info": {
   "codemirror_mode": {
    "name": "ipython",
    "version": 3
   },
   "file_extension": ".py",
   "mimetype": "text/x-python",
   "name": "python",
   "nbconvert_exporter": "python",
   "pygments_lexer": "ipython3",
   "version": "3.10.5"
  }
 },
 "nbformat": 4,
 "nbformat_minor": 5
}
