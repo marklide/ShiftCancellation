{
 "cells": [
  {
   "cell_type": "code",
   "execution_count": 13,
   "id": "b229ecbc",
   "metadata": {},
   "outputs": [],
   "source": [
    "import numpy as np\n",
    "import scipy as sp\n",
    "import math\n",
    "import matplotlib.pyplot as plt\n",
    "from scipy.special import genlaguerre"
   ]
  },
  {
   "cell_type": "code",
   "execution_count": 19,
   "id": "66e213e9",
   "metadata": {},
   "outputs": [],
   "source": [
    "nt = 2\n",
    "basis = np.identity(nt**2)\n",
    "basisM = [np.split(row, nt) for row in basis]\n",
    "s0 = np.identity(nt)\n",
    "vec0 = s0.ravel()\n",
    "\n",
    "P1 = np.array([[1, 0], [0, 0]])\n",
    "P2 = np.array([[0, 0], [0, 1]])\n",
    "P21 = np.array([[0, 0], [1, 0]])\n",
    "P12 = np.array([[0, 1], [0, 0]])"
   ]
  },
  {
   "cell_type": "code",
   "execution_count": 20,
   "id": "a94ce149",
   "metadata": {},
   "outputs": [
    {
     "ename": "AttributeError",
     "evalue": "'list' object has no attribute 'dot'",
     "output_type": "error",
     "traceback": [
      "\u001b[1;31m---------------------------------------------------------------------------\u001b[0m",
      "\u001b[1;31mAttributeError\u001b[0m                            Traceback (most recent call last)",
      "Input \u001b[1;32mIn [20]\u001b[0m, in \u001b[0;36m<cell line: 10>\u001b[1;34m()\u001b[0m\n\u001b[0;32m     10\u001b[0m \u001b[38;5;28;01mfor\u001b[39;00m i \u001b[38;5;129;01min\u001b[39;00m \u001b[38;5;28mrange\u001b[39m(nt\u001b[38;5;241m*\u001b[39m\u001b[38;5;241m*\u001b[39m\u001b[38;5;241m2\u001b[39m):\n\u001b[0;32m     11\u001b[0m     \u001b[38;5;28;01mfor\u001b[39;00m j \u001b[38;5;129;01min\u001b[39;00m \u001b[38;5;28mrange\u001b[39m(nt\u001b[38;5;241m*\u001b[39m\u001b[38;5;241m*\u001b[39m\u001b[38;5;241m2\u001b[39m):\n\u001b[1;32m---> 12\u001b[0m         term1 \u001b[38;5;241m=\u001b[39m np\u001b[38;5;241m.\u001b[39mdot(np\u001b[38;5;241m.\u001b[39mtranspose(basisM[i]), \u001b[38;5;241m1\u001b[39mj \u001b[38;5;241m*\u001b[39m Htot\u001b[38;5;241m.\u001b[39mdot(basisM[j]) \u001b[38;5;241m-\u001b[39m \u001b[38;5;241m1\u001b[39mj \u001b[38;5;241m*\u001b[39m \u001b[43mbasisM\u001b[49m\u001b[43m[\u001b[49m\u001b[43mj\u001b[49m\u001b[43m]\u001b[49m\u001b[38;5;241;43m.\u001b[39;49m\u001b[43mdot\u001b[49m(Htot))\n\u001b[0;32m     13\u001b[0m         term2 \u001b[38;5;241m=\u001b[39m g \u001b[38;5;241m/\u001b[39m \u001b[38;5;241m2\u001b[39m \u001b[38;5;241m*\u001b[39m np\u001b[38;5;241m.\u001b[39mdot(P1, basisM[j]) \u001b[38;5;241m+\u001b[39m g \u001b[38;5;241m/\u001b[39m \u001b[38;5;241m2\u001b[39m \u001b[38;5;241m*\u001b[39m np\u001b[38;5;241m.\u001b[39mdot(basisM[j], P1)\n\u001b[0;32m     14\u001b[0m         term3 \u001b[38;5;241m=\u001b[39m \u001b[38;5;241m-\u001b[39mg \u001b[38;5;241m*\u001b[39m np\u001b[38;5;241m.\u001b[39mdot(P21, basisM[j])\u001b[38;5;241m.\u001b[39mdot(P12)\n",
      "\u001b[1;31mAttributeError\u001b[0m: 'list' object has no attribute 'dot'"
     ]
    }
   ],
   "source": [
    "d = 1.0  # Replace with your desired value of d\n",
    "R = 1.0  # Replace with your desired value of R\n",
    "phi = 0.0  # Replace with your desired value of phi\n",
    "\n",
    "H0 = -d*P1\n",
    "V = R/2.*np.exp(1.j*phi)*P12 +R/2.*np.exp(-1.j*phi)*P21\n",
    "Htot = H0 + V\n",
    "\n",
    "liuv = np.zeros((nt**2, nt**2), dtype=complex)\n",
    "for i in range(nt**2):\n",
    "    for j in range(nt**2):\n",
    "        term1 = np.dot(np.transpose(basisM[i]), 1j * Htot.dot(basisM[j]) - 1j * basisM[j].dot(Htot))\n",
    "        term2 = g / 2 * np.dot(P1, basisM[j]) + g / 2 * np.dot(basisM[j], P1)\n",
    "        term3 = -g * np.dot(P21, basisM[j]).dot(P12)\n",
    "        liuv[i, j] = -np.trace(term1 + term2 + term3)"
   ]
  },
  {
   "cell_type": "code",
   "execution_count": 14,
   "id": "fb0245c8",
   "metadata": {},
   "outputs": [],
   "source": [
    "b = 1.0  # Replace with your desired value of b\n",
    "N = 10  # Number of Laguerre polynomials to compute\n",
    "\n",
    "LT = [genlaguerre(iv - 1, b**2) for iv in range(1, N + 1)]"
   ]
  },
  {
   "cell_type": "code",
   "execution_count": 15,
   "id": "3d155654",
   "metadata": {},
   "outputs": [],
   "source": [
    "nv = 450 + 1    #(*Number of vibrational quanta+1*)\n",
    "nn1 = 20        # (*initial average phonon number*)\n",
    "st = 10         # (*step in phonon numbers*)"
   ]
  },
  {
   "cell_type": "code",
   "execution_count": 16,
   "id": "7a1a4d7b",
   "metadata": {},
   "outputs": [
    {
     "name": "stderr",
     "output_type": "stream",
     "text": [
      "D:\\Mark\\Python\\lib\\site-packages\\scipy\\special\\_orthogonal.py:651: RuntimeWarning: invalid value encountered in double_scalars\n",
      "  hn = _gam(n + alpha + 1) / _gam(n + 1)\n",
      "D:\\Mark\\Python\\lib\\site-packages\\scipy\\special\\_orthogonal.py:140: RuntimeWarning: invalid value encountered in multiply\n",
      "  np.poly1d.__init__(self, poly.coeffs * float(kn))\n",
      "D:\\Mark\\Python\\lib\\site-packages\\scipy\\special\\_orthogonal.py:196: RuntimeWarning: overflow encountered in true_divide\n",
      "  w = 1.0 / (fm * dy)\n",
      "D:\\Mark\\Python\\lib\\site-packages\\scipy\\special\\_orthogonal.py:202: RuntimeWarning: invalid value encountered in multiply\n",
      "  w *= mu0 / w.sum()\n",
      "D:\\Mark\\Python\\lib\\site-packages\\scipy\\special\\_orthogonal.py:127: RuntimeWarning: invalid value encountered in double_scalars\n",
      "  equiv_weights = [weights[k] / wfunc(roots[k]) for\n",
      "D:\\Mark\\Python\\lib\\site-packages\\scipy\\special\\_orthogonal.py:196: RuntimeWarning: divide by zero encountered in true_divide\n",
      "  w = 1.0 / (fm * dy)\n",
      "D:\\Mark\\Python\\lib\\site-packages\\scipy\\special\\_orthogonal.py:553: RuntimeWarning: overflow encountered in multiply\n",
      "  - (n + alpha)*cephes.eval_genlaguerre(n-1, alpha, x))/x\n",
      "D:\\Mark\\Python\\lib\\site-packages\\scipy\\special\\_orthogonal.py:195: RuntimeWarning: invalid value encountered in true_divide\n",
      "  dy /= np.abs(dy).max()\n",
      "D:\\Mark\\Python\\lib\\site-packages\\scipy\\special\\_orthogonal.py:194: RuntimeWarning: invalid value encountered in true_divide\n",
      "  fm /= np.abs(fm).max()\n"
     ]
    },
    {
     "ename": "NameError",
     "evalue": "name 'liuv' is not defined",
     "output_type": "error",
     "traceback": [
      "\u001b[1;31m---------------------------------------------------------------------------\u001b[0m",
      "\u001b[1;31mNameError\u001b[0m                                 Traceback (most recent call last)",
      "Input \u001b[1;32mIn [16]\u001b[0m, in \u001b[0;36m<cell line: 15>\u001b[1;34m()\u001b[0m\n\u001b[0;32m     17\u001b[0m \u001b[38;5;28;01mfor\u001b[39;00m jv \u001b[38;5;129;01min\u001b[39;00m \u001b[38;5;28mrange\u001b[39m(\u001b[38;5;241m1\u001b[39m, nv \u001b[38;5;241m*\u001b[39m st \u001b[38;5;241m+\u001b[39m \u001b[38;5;241m1\u001b[39m):\n\u001b[0;32m     18\u001b[0m     \u001b[38;5;28;01mif\u001b[39;00m iv \u001b[38;5;241m==\u001b[39m jv:\n\u001b[1;32m---> 19\u001b[0m         term1 \u001b[38;5;241m=\u001b[39m (\u001b[43mliuv\u001b[49m \u001b[38;5;241m*\u001b[39m LT[iv \u001b[38;5;241m-\u001b[39m \u001b[38;5;241m1\u001b[39m])\u001b[38;5;241m.\u001b[39mreal \u001b[38;5;241m-\u001b[39m nu \u001b[38;5;241m*\u001b[39m (\u001b[38;5;241m2\u001b[39m \u001b[38;5;241m*\u001b[39m (iv \u001b[38;5;241m-\u001b[39m \u001b[38;5;241m1\u001b[39m) \u001b[38;5;241m/\u001b[39m st\u001b[38;5;241m*\u001b[39m\u001b[38;5;241m*\u001b[39m\u001b[38;5;241m2\u001b[39m \u001b[38;5;241m+\u001b[39m \u001b[38;5;241m1\u001b[39m \u001b[38;5;241m/\u001b[39m st) \u001b[38;5;241m*\u001b[39m np\u001b[38;5;241m.\u001b[39midentity(nt\u001b[38;5;241m*\u001b[39m\u001b[38;5;241m*\u001b[39m\u001b[38;5;241m2\u001b[39m)\n\u001b[0;32m     20\u001b[0m         row\u001b[38;5;241m.\u001b[39mappend(term1)\n\u001b[0;32m     21\u001b[0m     \u001b[38;5;28;01melif\u001b[39;00m jv \u001b[38;5;241m==\u001b[39m iv \u001b[38;5;241m-\u001b[39m st:\n",
      "\u001b[1;31mNameError\u001b[0m: name 'liuv' is not defined"
     ]
    }
   ],
   "source": [
    "import numpy as np\n",
    "from scipy.special import genlaguerre\n",
    "\n",
    "# Define parameters\n",
    "nu = 1.0  # Replace with your desired value of nu\n",
    "\n",
    "# Generate the Laguerre polynomials\n",
    "N = nv * st\n",
    "LT = [genlaguerre(iv - 1, b**2) for iv in range(1, N + 1)]\n",
    "\n",
    "# Initialize L as an empty list\n",
    "L = []\n",
    "\n",
    "# Create the block matrix L\n",
    "for iv in range(1, nv * st + 1):\n",
    "    row = []\n",
    "    for jv in range(1, nv * st + 1):\n",
    "        if iv == jv:\n",
    "            term1 = (liuv * LT[iv - 1]).real - nu * (2 * (iv - 1) / st**2 + 1 / st) * np.identity(nt**2)\n",
    "            row.append(term1)\n",
    "        elif jv == iv - st:\n",
    "            term2 = nu * (iv - 1) / st**2 * np.identity(nt**2)\n",
    "            row.append(term2)\n",
    "        elif jv == iv + st:\n",
    "            term3 = nu * ((iv - 1) / st**2 + 1 / st) * np.identity(nt**2)\n",
    "            row.append(term3)\n",
    "        else:\n",
    "            row.append(np.zeros((nt**2, nt**2), dtype=complex))\n",
    "    L.append(row)\n",
    "\n",
    "# Combine the submatrices into a block matrix\n",
    "L = np.block(L)\n"
   ]
  },
  {
   "cell_type": "code",
   "execution_count": null,
   "id": "88382d12",
   "metadata": {},
   "outputs": [],
   "source": [
    "L"
   ]
  },
  {
   "cell_type": "code",
   "execution_count": null,
   "id": "6e17ca5b",
   "metadata": {},
   "outputs": [],
   "source": [
    "import numpy as np\n",
    "\n",
    "# Define parameter values\n",
    "t = np.pi / 2\n",
    "g = 0.0\n",
    "nu = 100.0 / 2\n",
    "R = 1.0\n",
    "phi = 0.0\n",
    "d = 0.0\n",
    "b = 0.1\n",
    "\n",
    "# Substitute parameter values and calculate eigenvalues\n",
    "L_substituted = L.copy()  # Make a copy of L to avoid modifying the original matrix\n",
    "L_substituted = L_substituted.subs({t: np.pi / 2, g: 0.0, nu: 100.0 / 2, R: 1, phi: 0, d: 0, b: 0.1})\n",
    "vals = np.linalg.eigvals(L_substituted)\n",
    "\n",
    "# Optionally, you can apply 'np.real' and 'np.imag' to extract the real and imaginary parts of the eigenvalues.\n",
    "\n",
    "# Timing code\n",
    "import time\n",
    "start_time = time.time()\n",
    "\n",
    "# Eigenvalues calculation\n",
    "real_part = np.real(vals)\n",
    "imaginary_part = np.imag(vals)\n",
    "\n",
    "elapsed_time = time.time() - start_time\n",
    "print(\"Eigenvalues (real part):\")\n",
    "print(real_part)\n",
    "print(\"Eigenvalues (imaginary part):\")\n",
    "print(imaginary_part)\n",
    "print(\"Time elapsed:\", elapsed_time, \"seconds\")\n"
   ]
  }
 ],
 "metadata": {
  "kernelspec": {
   "display_name": "Python 3 (ipykernel)",
   "language": "python",
   "name": "python3"
  },
  "language_info": {
   "codemirror_mode": {
    "name": "ipython",
    "version": 3
   },
   "file_extension": ".py",
   "mimetype": "text/x-python",
   "name": "python",
   "nbconvert_exporter": "python",
   "pygments_lexer": "ipython3",
   "version": "3.10.5"
  }
 },
 "nbformat": 4,
 "nbformat_minor": 5
}
