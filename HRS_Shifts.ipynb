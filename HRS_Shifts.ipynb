{
 "cells": [
  {
   "cell_type": "code",
   "execution_count": 1,
   "id": "fddd5fec",
   "metadata": {},
   "outputs": [],
   "source": [
    "from qutip import *\n",
    "import numpy as np\n",
    "import scipy as sp\n",
    "import math\n",
    "import matplotlib.pyplot as plt\n",
    "from scipy.special import genlaguerre as L"
   ]
  },
  {
   "cell_type": "code",
   "execution_count": 6,
   "id": "34c8ec8d",
   "metadata": {},
   "outputs": [],
   "source": [
    "def psi(g,e):\n",
    "    return np.array([g, e])\n",
    "\n",
    "def pulse(t, Omega0, delta, phi0, phi1):\n",
    "    Omega = np.sqrt(Omega0**2 + delta**2)\n",
    "    \n",
    "    if Omega == 0.0:\n",
    "        U = np.array([[1.0 , 0.0],\n",
    "                      [0.0 , 1.0]])\n",
    "        \n",
    "    else:\n",
    "        U = np.array([[np.cos(Omega*t/2.0) -(1.0j*delta/Omega)*np.sin(Omega*t/2.0), (1.0j*Omega0/Omega)*np.sin(Omega*t/2.0)],\n",
    "                     [(1.0j*Omega0/Omega)*np.sin(Omega*t/2.0) , np.cos(Omega*t/2.0) + (1.0j*delta/Omega)*np.sin(Omega*t/2.0)]])\n",
    "    \n",
    "    V1 = np.array([[1.0 , 0.0],\n",
    "                   [0.0 , np.exp(-1.0j*phi1)]])\n",
    "    \n",
    "    V0 = np.array([[1.0 , 0.0],\n",
    "                   [0.0 , np.exp(1.0j*phi0)]])\n",
    "    \n",
    "    return np.exp(1.0j*delta*t/2.0)*V1@U@V0\n",
    "\n",
    "def thermPulse(psi0, t, Omega0, delPrime, eta, nbar, Ncut): #1-dimensional\n",
    "    result = psi(0.0+0.0j,0.0+0.0j)\n",
    "    for n in range(Ncut):\n",
    "        result += prob(n,nbar)*pulse(t, Omega0*Omega(n,0,eta), delPrime, 0.0, 0.0)@psi0\n",
    "    return result\n",
    "\n",
    "def therm3DPulse(psi0, t, Omega0, delPrime, nbars, Omegas, Ncut):\n",
    "    nbarx = nbars[0]\n",
    "    nbary = nbars[1]\n",
    "    nbarz = nbars[2]\n",
    "    #Ncut = 100\n",
    "    result = psi(0.0+0.0j,0.0+0.0j)\n",
    "    for nx in range(Ncut):\n",
    "        Probx = prob(nx,nbarx)\n",
    "        for ny in range(Ncut):\n",
    "            Probxy = Probx*prob(ny,nbary)\n",
    "            for nz in range(Ncut):\n",
    "                result += Probxy*prob(nz,nbarz)*pulse(t, Omega0*Omegas[nx,ny,nz], delPrime, 0.0, 0.0)@psi0\n",
    "    return result\n",
    "\n",
    "def rhoee(psi):\n",
    "    return (abs(psi[1]))**2.0\n",
    "\n",
    "def rhogg(psi):\n",
    "    return (abs(psi[0]))**2.0\n",
    "\n",
    "def prob(n,nbar):\n",
    "    return 1.0/(nbar+1)*(nbar/(nbar+1))**n    #returns prob of being in state n given nbar\n",
    "\n",
    "def Omega(n,m,eta):\n",
    "    return np.exp(-eta**2/2.0) * eta**(np.abs(m)) * (math.factorial(n)/math.factorial(n+m))**(np.sign(m)/2.0) \\\n",
    "        * L(n,np.abs(m))(eta**2)              #returns unitless rabi rate of transition n -> n+m given Lamb-Dicke Parameter"
   ]
  },
  {
   "cell_type": "code",
   "execution_count": 3,
   "id": "3847f654",
   "metadata": {},
   "outputs": [],
   "source": [
    "def HRJumpThermErrSig(deld, psi0, t1, T, t2, Delta, Omega0, eta, nbar0, nbarf, Ncut):\n",
    "    delPrime = deld - Delta\n",
    "    freeEvo = pulse(T, 0.0, deld, 0.0, 0.0)\n",
    "    pi2PhaseInjP = pulse(0.0, 0.0, 0.0, 0.0, np.pi/2.0)\n",
    "    pi2PhaseInjM = pulse(0.0, 0.0, 0.0, 0.0, -np.pi/2.0)\n",
    "    #def thermPulse(psi0, t, Omega0, delPrime, eta, nbar, Ncut): #1-dimensional\n",
    "    intState = thermPulse(psi0, t1, Omega0, delPrime, eta, nbar0, Ncut)\n",
    "    resultP = thermPulse(thermPulse(freeEvo@pi2PhaseInjP@intState, 2.0*t2/3.0, -Omega0, delPrime, eta, nbarf, Ncut), t2/3.0, Omega0, delPrime, eta, nbarf, Ncut)\n",
    "    resultM = thermPulse(thermPulse(freeEvo@pi2PhaseInjM@intState, 2.0*t2/3.0, -Omega0, delPrime, eta, nbarf, Ncut), t2/3.0, Omega0, delPrime, eta, nbarf, Ncut)\n",
    "    return rhoee(resultP) - rhoee(resultM)\n",
    "\n",
    "def HRJumpThermErrSigFront(deld, psi0, t1, T, t2, Delta, Omega0, eta, nbar0, nbarf, Ncut):\n",
    "    delPrime = deld - Delta\n",
    "    freeEvo = pulse(T, 0.0, deld, 0.0, 0.0)\n",
    "    pi2PhaseInjP = pulse(0.0, 0.0, 0.0, 0.0, np.pi/2.0)\n",
    "    pi2PhaseInjM = pulse(0.0, 0.0, 0.0, 0.0, -np.pi/2.0)\n",
    "    #def thermPulse(psi0, t, Omega0, delPrime, eta, nbar, Ncut): #1-dimensional\n",
    "    intState = thermPulse(thermPulse(psi0, t1/3.0, Omega0, delPrime, eta, nbar0, Ncut), 2.0*t1/3.0, -Omega0, delPrime, eta, nbar0, Ncut)\n",
    "    resultP = thermPulse(freeEvo@pi2PhaseInjP@intState, t2, Omega0, delPrime, eta, nbarf, Ncut)\n",
    "    resultM = thermPulse(freeEvo@pi2PhaseInjM@intState, t2, Omega0, delPrime, eta, nbarf, Ncut)\n",
    "    return rhoee(resultP) - rhoee(resultM)"
   ]
  },
  {
   "cell_type": "code",
   "execution_count": 11,
   "id": "0834f4d6",
   "metadata": {},
   "outputs": [
    {
     "name": "stdout",
     "output_type": "stream",
     "text": [
      "201\n",
      "10.0\n",
      "20.0\n",
      "30.0\n",
      "40.0\n",
      "50.0\n",
      "60.0\n",
      "70.0\n",
      "80.0\n",
      "90.0\n",
      "100.0\n",
      "110.0\n",
      "120.0\n",
      "130.0\n",
      "140.0\n",
      "150.0\n",
      "401\n",
      "10.0\n"
     ]
    },
    {
     "name": "stderr",
     "output_type": "stream",
     "text": [
      "D:\\Mark\\Python\\lib\\site-packages\\scipy\\special\\_orthogonal.py:553: RuntimeWarning: overflow encountered in multiply\n",
      "  - (n + alpha)*cephes.eval_genlaguerre(n-1, alpha, x))/x\n",
      "D:\\Mark\\Python\\lib\\site-packages\\scipy\\special\\_orthogonal.py:195: RuntimeWarning: invalid value encountered in true_divide\n",
      "  dy /= np.abs(dy).max()\n"
     ]
    },
    {
     "name": "stdout",
     "output_type": "stream",
     "text": [
      "20.0\n",
      "30.0\n",
      "40.0\n",
      "50.0\n",
      "60.0\n",
      "70.0\n",
      "80.0\n",
      "90.0\n",
      "100.0\n",
      "110.0\n",
      "120.0\n",
      "130.0\n",
      "140.0\n",
      "150.0\n",
      "601\n",
      "10.0\n",
      "20.0\n",
      "30.0\n",
      "40.0\n",
      "50.0\n",
      "60.0\n",
      "70.0\n",
      "80.0\n",
      "90.0\n",
      "100.0\n",
      "110.0\n",
      "120.0\n",
      "130.0\n",
      "140.0\n",
      "150.0\n",
      "801\n",
      "10.0\n",
      "20.0\n",
      "30.0\n",
      "40.0\n",
      "50.0\n",
      "60.0\n",
      "70.0\n",
      "80.0\n",
      "90.0\n",
      "100.0\n",
      "110.0\n",
      "120.0\n",
      "130.0\n",
      "140.0\n",
      "150.0\n",
      "901\n",
      "10.0\n",
      "20.0\n",
      "30.0\n",
      "40.0\n",
      "50.0\n",
      "60.0\n",
      "70.0\n",
      "80.0\n",
      "90.0\n",
      "100.0\n",
      "110.0\n",
      "120.0\n",
      "130.0\n",
      "140.0\n",
      "150.0\n"
     ]
    }
   ],
   "source": [
    "pts = 15\n",
    "Ncuts = np.array([201,401,601,801,901])\n",
    "psi0 = psi(0.0, 1.0)\n",
    "Delta = 1.0 #*(2.0*np.pi) #hz\n",
    "Omega0 = 157.0 #*(2.0*np.pi) #hz\n",
    "nbar0 = 10.0 \n",
    "t1 = np.pi/(2.0*Omega0)\n",
    "t2 = 3.0*np.pi/(2.0*Omega0)\n",
    "T = 50.0e-3\n",
    "eta = 0.05\n",
    "nbarfs = np.linspace(10, 150, pts)\n",
    "shifts1 = np.zeros([np.size(Ncuts), pts])\n",
    "shifts2 = np.zeros(pts)\n",
    "\n",
    "tol = 1.0e-11\n",
    "x0 = -0.1\n",
    "x1 = 0.5\n",
    "guessTol = 5.0\n",
    "for ii in range(np.size(Ncuts)):\n",
    "    print(Ncuts[ii])\n",
    "    x0 = -0.1\n",
    "    x1 = 0.5\n",
    "    for jj in range(pts):\n",
    "        print(nbarfs[jj])\n",
    "        shifts1[ii][jj] = sp.optimize.root_scalar(HRJumpThermErrSig, args=(psi0, t1, T, t2, Delta, Omega0, eta, nbar0, nbarfs[jj], Ncuts[ii]), bracket=[x0,x1], xtol = tol).root\n",
    "        #print(shifts1[ii])\n",
    "        x0 = shifts1[ii][jj] - guessTol\n",
    "        x1 = shifts1[ii][jj] + guessTol\n",
    "        #print(x0,x1)"
   ]
  },
  {
   "cell_type": "code",
   "execution_count": 13,
   "id": "1ebe6b15",
   "metadata": {},
   "outputs": [
    {
     "data": {
      "text/plain": [
       "[<matplotlib.lines.Line2D at 0x224b06da3b0>]"
      ]
     },
     "execution_count": 13,
     "metadata": {},
     "output_type": "execute_result"
    },
    {
     "data": {
      "image/png": "[encoded data removed]",
      "text/plain": [
       "<Figure size 432x288 with 1 Axes>"
      ]
     },
     "metadata": {
      "needs_background": "light"
     },
     "output_type": "display_data"
    }
   ],
   "source": [
    "plt.plot(nbarfs, shifts1[0,:], label=\"Ncut=201\" )\n",
    "plt.plot(nbarfs, shifts1[1,:], label=\"Ncut=401\" )\n",
    "plt.plot(nbarfs, shifts1[2,:], label=\"Ncut=601\" )\n",
    "plt.plot(nbarfs, shifts1[3,:], label=\"Ncut=801\" )\n",
    "plt.plot(nbarfs, shifts1[4,:], label=\"Ncut=901\" )"
   ]
  },
  {
   "cell_type": "code",
   "execution_count": 14,
   "id": "a05ae62c",
   "metadata": {},
   "outputs": [
    {
     "data": {
      "text/plain": [
       "[<matplotlib.lines.Line2D at 0x224b0834e80>]"
      ]
     },
     "execution_count": 14,
     "metadata": {},
     "output_type": "execute_result"
    },
    {
     "data": {
      "image/png": "[encoded data removed]",
      "text/plain": [
       "<Figure size 432x288 with 1 Axes>"
      ]
     },
     "metadata": {
      "needs_background": "light"
     },
     "output_type": "display_data"
    }
   ],
   "source": [
    "plt.plot(nbarfs, shifts1[4,:]*1e3, label=\"Ncut=901\" )"
   ]
  },
  {
   "cell_type": "code",
   "execution_count": 32,
   "id": "a047f2fc",
   "metadata": {},
   "outputs": [],
   "source": [
    "%store -r shifts\n",
    "%store -r nbarPts\n",
    "%store -r nu0"
   ]
  },
  {
   "cell_type": "code",
   "execution_count": 35,
   "id": "43d615ef",
   "metadata": {},
   "outputs": [
    {
     "data": {
      "text/plain": [
       "[<matplotlib.lines.Line2D at 0x224b46f0310>]"
      ]
     },
     "execution_count": 35,
     "metadata": {},
     "output_type": "execute_result"
    },
    {
     "data": {
      "image/png": "[encoded data removed]",
      "text/plain": [
       "<Figure size 432x288 with 1 Axes>"
      ]
     },
     "metadata": {
      "needs_background": "light"
     },
     "output_type": "display_data"
    }
   ],
   "source": [
    "plt.plot(nbarPts,shifts*nu0*1.0e3, label=\"Ncut=1201\")\n",
    "plt.plot(nbarfs, -shifts1[4,:]*1e3, label=\"Ncut=901\" )"
   ]
  },
  {
   "cell_type": "code",
   "execution_count": 36,
   "id": "0a5c7d1c",
   "metadata": {},
   "outputs": [
    {
     "data": {
      "image/png": "[encoded data removed]",
      "text/plain": [
       "<Figure size 432x288 with 1 Axes>"
      ]
     },
     "metadata": {
      "needs_background": "light"
     },
     "output_type": "display_data"
    }
   ],
   "source": [
    "plt.plot(nbarfs, (shifts*nu0+shifts1[4,:])*1.0e3)\n",
    "plt.title(\"HRSJump Cancelation\")\n",
    "plt.show()"
   ]
  },
  {
   "cell_type": "code",
   "execution_count": 30,
   "id": "6b2474f0",
   "metadata": {},
   "outputs": [
    {
     "data": {
      "text/plain": [
       "array([ 0.02652321,  1.60716795,  3.07498735,  4.45812469,  5.77860698,\n",
       "        7.05322366,  8.29410718,  9.50885924, 10.70050694, 11.86778403,\n",
       "       13.0059567 , 14.10804228, 15.16611318, 16.17242613, 17.12024083])"
      ]
     },
     "execution_count": 30,
     "metadata": {},
     "output_type": "execute_result"
    }
   ],
   "source": [
    "shifts1[4,:]*1e3"
   ]
  },
  {
   "cell_type": "code",
   "execution_count": 31,
   "id": "b5f31611",
   "metadata": {},
   "outputs": [
    {
     "data": {
      "text/plain": [
       "0.122097983"
      ]
     },
     "execution_count": 31,
     "metadata": {},
     "output_type": "execute_result"
    }
   ],
   "source": [
    "(17.12024083-0.02652321)/140"
   ]
  },
  {
   "cell_type": "code",
   "execution_count": 37,
   "id": "277f9019",
   "metadata": {},
   "outputs": [
    {
     "name": "stdout",
     "output_type": "stream",
     "text": [
      "201\n",
      "10.0\n",
      "20.0\n",
      "30.0\n",
      "40.0\n",
      "50.0\n",
      "60.0\n",
      "70.0\n",
      "80.0\n",
      "90.0\n",
      "100.0\n",
      "110.0\n",
      "120.0\n",
      "130.0\n",
      "140.0\n",
      "150.0\n",
      "401\n",
      "10.0\n",
      "20.0\n",
      "30.0\n",
      "40.0\n",
      "50.0\n",
      "60.0\n",
      "70.0\n",
      "80.0\n",
      "90.0\n",
      "100.0\n",
      "110.0\n",
      "120.0\n",
      "130.0\n",
      "140.0\n",
      "150.0\n",
      "601\n",
      "10.0\n",
      "20.0\n",
      "30.0\n",
      "40.0\n",
      "50.0\n",
      "60.0\n",
      "70.0\n",
      "80.0\n",
      "90.0\n",
      "100.0\n",
      "110.0\n",
      "120.0\n",
      "130.0\n",
      "140.0\n",
      "150.0\n",
      "801\n",
      "10.0\n",
      "20.0\n",
      "30.0\n",
      "40.0\n",
      "50.0\n",
      "60.0\n",
      "70.0\n",
      "80.0\n",
      "90.0\n",
      "100.0\n",
      "110.0\n",
      "120.0\n",
      "130.0\n",
      "140.0\n",
      "150.0\n",
      "901\n",
      "10.0\n",
      "20.0\n",
      "30.0\n",
      "40.0\n",
      "50.0\n",
      "60.0\n",
      "70.0\n",
      "80.0\n",
      "90.0\n",
      "100.0\n",
      "110.0\n",
      "120.0\n",
      "130.0\n",
      "140.0\n",
      "150.0\n"
     ]
    }
   ],
   "source": [
    "pts = 15\n",
    "Ncuts = np.array([201,401,601,801,901])\n",
    "psi0 = psi(0.0, 1.0)\n",
    "Delta = 1.0 #*(2.0*np.pi) #hz\n",
    "Omega0 = 157.0 #*(2.0*np.pi) #hz\n",
    "nbar0 = 10.0 \n",
    "t1 = 3.0*np.pi/(2.0*Omega0)\n",
    "t2 = np.pi/(2.0*Omega0)\n",
    "T = 50.0e-3\n",
    "eta = 0.05\n",
    "nbarfs = np.linspace(10, 150, pts)\n",
    "shifts1 = np.zeros([np.size(Ncuts), pts])\n",
    "shifts2 = np.zeros(pts)\n",
    "\n",
    "tol = 1.0e-11\n",
    "x0 = -0.1\n",
    "x1 = 0.5\n",
    "guessTol = 5.0\n",
    "for ii in range(np.size(Ncuts)):\n",
    "    print(Ncuts[ii])\n",
    "    x0 = -0.1\n",
    "    x1 = 0.5\n",
    "    for jj in range(pts):\n",
    "        print(nbarfs[jj])\n",
    "        shifts1[ii][jj] = sp.optimize.root_scalar(HRJumpThermErrSigFront, args=(psi0, t1, T, t2, Delta, Omega0, eta, nbar0, nbarfs[jj], Ncuts[ii]), bracket=[x0,x1], xtol = tol).root\n",
    "        #print(shifts1[ii])\n",
    "        x0 = shifts1[ii][jj] - guessTol\n",
    "        x1 = shifts1[ii][jj] + guessTol\n",
    "        #print(x0,x1)"
   ]
  },
  {
   "cell_type": "code",
   "execution_count": 40,
   "id": "cea6e3fc",
   "metadata": {},
   "outputs": [
    {
     "data": {
      "image/png": "[encoded data removed]",
      "text/plain": [
       "<Figure size 432x288 with 1 Axes>"
      ]
     },
     "metadata": {
      "needs_background": "light"
     },
     "output_type": "display_data"
    }
   ],
   "source": [
    "plt.plot(nbarfs, shifts1[0,:]*1e3, label=\"Ncut=201\" )\n",
    "plt.plot(nbarfs, shifts1[1,:]*1e3, label=\"Ncut=401\" )\n",
    "plt.plot(nbarfs, shifts1[2,:]*1e3, label=\"Ncut=601\" )\n",
    "plt.plot(nbarfs, shifts1[3,:]*1e3, label=\"Ncut=801\" )\n",
    "plt.plot(nbarfs, shifts1[4,:]*1e3, label=\"Ncut=901\" )\n",
    "plt.legend()\n",
    "plt.xlabel(\"Final nbar\")\n",
    "plt.ylabel(\"Clock Shift (mHz)\")\n",
    "plt.title(\"HRS Jump Front\")\n",
    "plt.show()"
   ]
  },
  {
   "cell_type": "code",
   "execution_count": 42,
   "id": "97e0ed00",
   "metadata": {},
   "outputs": [
    {
     "data": {
      "text/plain": [
       "1.0325384689639618"
      ]
     },
     "execution_count": 42,
     "metadata": {},
     "output_type": "execute_result"
    }
   ],
   "source": [
    "1.5e-18*nu0*1e3"
   ]
  },
  {
   "cell_type": "code",
   "execution_count": null,
   "id": "0ea78b2b",
   "metadata": {},
   "outputs": [],
   "source": []
  }
 ],
 "metadata": {
  "kernelspec": {
   "display_name": "Python 3 (ipykernel)",
   "language": "python",
   "name": "python3"
  },
  "language_info": {
   "codemirror_mode": {
    "name": "ipython",
    "version": 3
   },
   "file_extension": ".py",
   "mimetype": "text/x-python",
   "name": "python",
   "nbconvert_exporter": "python",
   "pygments_lexer": "ipython3",
   "version": "3.10.5"
  }
 },
 "nbformat": 4,
 "nbformat_minor": 5
}
