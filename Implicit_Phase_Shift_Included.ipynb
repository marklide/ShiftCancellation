{
 "cells": [
  {
   "cell_type": "code",
   "execution_count": 2,
   "id": "a7f5f1ae",
   "metadata": {},
   "outputs": [],
   "source": [
    "from qutip import *\n",
    "import numpy as np\n",
    "import scipy as sp\n",
    "import math\n",
    "import matplotlib.pyplot as plt\n",
    "from scipy.special import genlaguerre as L"
   ]
  },
  {
   "cell_type": "code",
   "execution_count": 3,
   "id": "bdd8040c",
   "metadata": {},
   "outputs": [],
   "source": [
    "hbar = sp.constants.hbar\n",
    "h = sp.constants.h\n",
    "c = sp.constants.c\n",
    "e = sp.constants.e\n",
    "eVtoJ = 1.602176634e-19\n",
    "amutokg = 1.66053906660e-27"
   ]
  },
  {
   "cell_type": "code",
   "execution_count": 10,
   "id": "c89980c8",
   "metadata": {},
   "outputs": [],
   "source": [
    "def rhoee(psi):\n",
    "    return (abs(psi[1]))**2.0\n",
    "\n",
    "def rhogg(psi):\n",
    "    return (abs(psi[0]))**2.0\n",
    "\n",
    "def phi(psi):\n",
    "    phi0 = math.atan2(np.real(psi[0]),np.imag(psi[0]))\n",
    "    phi1 = math.atan2(np.real(psi[1]),np.imag(psi[1]))\n",
    "    return (phi0-phi1)\n",
    "\n",
    "def blochVec(psi):\n",
    "    w = rhogg(psi) - rhoee(psi)  #pointed up is ground state\n",
    "    if abs(w)>1.0:\n",
    "        w = float(round(w))\n",
    "    x = np.sin(np.arccos(w))*np.cos(phi(psi))\n",
    "    y = np.sin(np.arccos(w))*np.sin(phi(psi))\n",
    "    return np.array([x,y,w])"
   ]
  },
  {
   "cell_type": "code",
   "execution_count": 28,
   "id": "cec79bdc",
   "metadata": {},
   "outputs": [],
   "source": [
    "def psi(g,e):\n",
    "    return np.array([g, e])\n",
    "\n",
    "def pulse(t, Omega0, delta, phi0, phi1):\n",
    "    Omega = np.sqrt(Omega0**2 + delta**2)\n",
    "    \n",
    "    if Omega == 0.0:\n",
    "        U = np.array([[1.0 , 0.0],\n",
    "                      [0.0 , 1.0]])\n",
    "        \n",
    "    else:\n",
    "        U = np.array([[np.cos(Omega*t/2.0) -(1.0j*delta/Omega)*np.sin(Omega*t/2.0), (1.0j*Omega0/Omega)*np.sin(Omega*t/2.0)],\n",
    "                     [(1.0j*Omega0/Omega)*np.sin(Omega*t/2.0) , np.cos(Omega*t/2.0) + (1.0j*delta/Omega)*np.sin(Omega*t/2.0)]])\n",
    "    \n",
    "    V1 = np.array([[1.0 , 0.0],\n",
    "                   [0.0 , np.exp(-1.0j*phi1)]])\n",
    "    \n",
    "    V0 = np.array([[1.0 , 0.0],\n",
    "                   [0.0 , np.exp(1.0j*phi0)]])\n",
    "    \n",
    "    return np.exp(1.0j*delta*t/2.0)*V1@U@V0\n",
    "\n",
    "def thermPulse(psi0, t, Omega0, delPrime, eta, nbar, Ncut): #1-dimensional\n",
    "    result = psi(0.0+0.0j,0.0+0.0j)\n",
    "    for n in range(Ncut):\n",
    "        result += prob(n,nbar)*pulse(t, Omega0*Omega(n,0,eta), delPrime, 0.0, 0.0)@psi0\n",
    "    return result\n",
    "\n",
    "def therm3DPulse(psi0, t, Omega0, delPrime, nbars, Omegas, Ncut):\n",
    "    nbarx = nbars[0]\n",
    "    nbary = nbars[1]\n",
    "    nbarz = nbars[2]\n",
    "    #Ncut = 100\n",
    "    result = psi(0.0+0.0j,0.0+0.0j)\n",
    "    for nx in range(Ncut):\n",
    "        Probx = prob(nx,nbarx)\n",
    "        for ny in range(Ncut):\n",
    "            Probxy = Probx*prob(ny,nbary)\n",
    "            for nz in range(Ncut):\n",
    "                result += Probxy*prob(nz,nbarz)*pulse(t, Omega0*Omegas[nx,ny,nz], delPrime, 0.0, 0.0)@psi0\n",
    "    return result\n",
    "\n",
    "def rhoee(psi):\n",
    "    return (abs(psi[1]))**2.0\n",
    "\n",
    "def rhogg(psi):\n",
    "    return (abs(psi[0]))**2.0\n",
    "\n",
    "def prob(n,nbar):\n",
    "    return 1.0/(nbar+1)*(nbar/(nbar+1))**n    #returns prob of being in state n given nbar\n",
    "\n",
    "def Omega(n,m,eta):\n",
    "    return np.exp(-eta**2/2.0) * eta**(np.abs(m)) * (math.factorial(n)/math.factorial(n+m))**(np.sign(m)/2.0) \\\n",
    "        * L(n,np.abs(m))(eta**2)              #returns unitless rabi rate of transition n -> n+m given Lamb-Dicke Parameter"
   ]
  },
  {
   "cell_type": "code",
   "execution_count": 6,
   "id": "932ec18c",
   "metadata": {},
   "outputs": [],
   "source": [
    "def prob(n,nbar):\n",
    "    return 1.0/(nbar+1)*(nbar/(nbar+1))**n\n",
    "\n",
    "def expE(nbar, omega, Ncut):\n",
    "    expE = 0.0\n",
    "    #Ncut = 1001\n",
    "    for n in range(Ncut):\n",
    "        expE += prob(n,nbar)*hbar*omega*(0.5+n)\n",
    "    return expE\n",
    "\n",
    "def expEHeat(nbar0, nbarf, omega, Ncut):\n",
    "    return expE((nbar0+nbarf)/2.0, omega, Ncut)\n",
    "\n",
    "def dopAndStark(nbar): #gives instantaneous doppler and stark shift in angular frequency units\n",
    "    Ncut = 1201\n",
    "    omega = 2.0*np.pi*778e3 #Lange\n",
    "    Omegarf = 2.0*np.pi*13e6 #Lange\n",
    "    m = 170.936331517*amutokg\n",
    "    alpha = 5.89e-40 #J m^2 V^-2 E2 transition (Lange)\n",
    "    nu0 = 688358979309307.82 #Hz E2 transition (Huntemann)\n",
    "    return -2.0*np.pi*nu0*expE(nbar, omega, Ncut)*(3.0/(m*c**2) + (alpha/(h*nu0))*(3.0*m*Omegarf**2/(2.0*e**2)))\n",
    "\n",
    "def excMic():\n",
    "    beta= 0.018\n",
    "    theta = 0.0\n",
    "    Omegarf = 2.0*np.pi*13e6 #Lange\n",
    "    m = 170.936331517*amutokg\n",
    "    alpha = 5.89e-40 #J m^2 V^-2 E2 transition (Lange)\n",
    "    nu0 = 688358979309307.82 #Hz E2 transition (Huntemann)\n",
    "    dop = -0.25*(beta*Omegarf/(2.0*np.pi*nu0*np.cos(theta)))**2\n",
    "    stark = -(alpha/(h*nu0))*(beta*m*Omegarf**2*c/(4*np.pi*nu0*e*np.cos(theta)))**2\n",
    "    return 2.0*np.pi*(dop + stark)*nu0"
   ]
  },
  {
   "cell_type": "code",
   "execution_count": 13,
   "id": "738358eb",
   "metadata": {},
   "outputs": [],
   "source": [
    "def MHRSthermPulse(psi0, t, Omega0, delPrime, phi0, phi1, eta, nbar, Ncut): #1-dimensional\n",
    "    result = psi(0.0+0.0j,0.0+0.0j)\n",
    "    for n in range(Ncut):\n",
    "        result += prob(n,nbar)*pulse(t, Omega0*Omega(n,0,eta), delPrime, phi0, phi1)@psi0\n",
    "    return result\n",
    "\n",
    "def HRAThermp(deld, psi0, t, T, delPrime, Omega0, eta, nbar0, nbarf, Ncut):\n",
    "    delp1 = delPrime \n",
    "    delp2 = delPrime + dopAndStark(nbarf) - dopAndStark(nbar0)\n",
    "    phi = 0.5*(dopAndStark(nbarf)+dopAndStark(nbar0))*T\n",
    "    freeEvo = pulse(T, 0.0, deld, 0.0, phi)\n",
    "    state1 = MHRSthermPulse(psi0, t, Omega0, delp1, np.pi/2.0, -np.pi/2.0, eta, nbar0, Ncut)\n",
    "    state2 = freeEvo@state1\n",
    "    state3 = MHRSthermPulse(state2, 2.0*t, Omega0, delp2, np.pi, -np.pi, eta, nbarf, Ncut)\n",
    "    state4 = MHRSthermPulse(state3, t, Omega0, delp2, 0.0, 0.0, eta, nbarf, Ncut)\n",
    "    return state4\n",
    "\n",
    "def HRAThermn(deld, psi0, t, T, delPrime, Omega0, eta, nbar0, nbarf, Ncut):\n",
    "    delp1 = delPrime\n",
    "    delp2 = delPrime + dopAndStark(nbarf) - dopAndStark(nbar0)\n",
    "    phi = 0.5*(dopAndStark(nbarf)+dopAndStark(nbar0))*T\n",
    "    freeEvo = pulse(T, 0.0, deld, 0.0, phi)\n",
    "    state1 = MHRSthermPulse(psi0, t, Omega0, delp1, -np.pi/2.0, np.pi/2.0, eta, nbar0, Ncut)\n",
    "    state2 = freeEvo@state1\n",
    "    state3 = MHRSthermPulse(state2, 2.0*t, Omega0, delp2, np.pi, -np.pi, eta, nbarf, Ncut)\n",
    "    state4 = MHRSthermPulse(state3, t, Omega0, delp2, 0.0, 0.0, eta, nbarf, Ncut)\n",
    "    return state4\n",
    "    \n",
    "def HRBThermp(deld, psi0, t, T, delPrime, Omega0, eta, nbar0, nbarf, Ncut):\n",
    "    delp1 = delPrime\n",
    "    delp2 = delPrime + dopAndStark(nbarf) - dopAndStark(nbar0)\n",
    "    phi = 0.5*(dopAndStark(nbarf)+dopAndStark(nbar0))*T\n",
    "    freeEvo = pulse(T, 0.0, deld, 0.0, phi)\n",
    "    state1 = MHRSthermPulse(psi0, t, Omega0, delp1, 0.0, 0.0, eta, nbar0, Ncut)\n",
    "    state2 = freeEvo@state1\n",
    "    state3 = MHRSthermPulse(state2, 2.0*t, Omega0, delp2, np.pi, -np.pi/2.0, eta, nbarf, Ncut)\n",
    "    state4 = MHRSthermPulse(state3, t, Omega0, delp2, 0.0, -np.pi/2.0, eta, nbarf, Ncut)\n",
    "    return state4\n",
    "\n",
    "def HRBThermn(deld, psi0, t, T, delPrime, Omega0, eta, nbar0, nbarf, Ncut):\n",
    "    delp1 = delPrime\n",
    "    delp2 = delPrime + dopAndStark(nbarf) - dopAndStark(nbar0)\n",
    "    phi = 0.5*(dopAndStark(nbarf)+dopAndStark(nbar0))*T\n",
    "    freeEvo = pulse(T, 0.0, deld, 0.0, phi)\n",
    "    state1 = MHRSthermPulse(psi0, t, Omega0, delp1, 0.0, 0.0, eta, nbar0, Ncut)\n",
    "    state2 = freeEvo@state1\n",
    "    state3 = MHRSthermPulse(state2, 2.0*t, Omega0, delp2, np.pi, -3.0*np.pi/2.0, eta, nbarf, Ncut)\n",
    "    state4 = MHRSthermPulse(state3, t, Omega0, delp2, 0.0, np.pi/2.0, eta, nbarf, Ncut)\n",
    "    return state4\n",
    "\n",
    "def MHRThermES1(deld, psi0, t, T, delPrime, Omega0, eta, nbar0, nbarf, Ncut):\n",
    "    return rhoee(HRAThermp(deld, psi0, t, T, delPrime, Omega0, eta, nbar0, nbarf, Ncut)) - rhoee(HRBThermn(deld, psi0, t, T, delPrime, Omega0, eta, nbar0, nbarf, Ncut))\n",
    "def MHRThermES2(deld, psi0, t, T, delPrime, Omega0, eta, nbar0, nbarf, Ncut):\n",
    "    return rhoee(HRBThermp(deld, psi0, t, T, delPrime, Omega0, eta, nbar0, nbarf, Ncut)) - rhoee(HRAThermn(deld, psi0, t, T, delPrime, Omega0, eta, nbar0, nbarf, Ncut))"
   ]
  },
  {
   "cell_type": "code",
   "execution_count": 80,
   "id": "ea368dd3",
   "metadata": {},
   "outputs": [],
   "source": [
    "def RamseyErrSig(deld, psi0, t1, T, t2, delPrime, Omega0, eta, nbar0, nbarf, Ncut, delExc):\n",
    "    delp1 = delPrime\n",
    "    delp2 = delPrime + dopAndStark(nbarf) - dopAndStark(nbar0)\n",
    "    phi = 0.5*(dopAndStark(nbarf)+dopAndStark(nbar0))*T + delExc*T\n",
    "    freeEvo = pulse(T, 0.0, deld, 0.0, phi)\n",
    "    pi2PhaseInjP = pulse(0.0, 0.0, 0.0, 0.0, np.pi/2.0)\n",
    "    pi2PhaseInjM = pulse(0.0, 0.0, 0.0, 0.0, -np.pi/2.0)\n",
    "    intState = thermPulse(psi0, t1, Omega0, delp1, eta, nbar0, Ncut)\n",
    "    resultP = thermPulse(freeEvo@pi2PhaseInjP@intState, t2, Omega0, delp2, eta, nbarf, Ncut)\n",
    "    resultM = thermPulse(freeEvo@pi2PhaseInjM@intState, t2, Omega0, delp2, eta, nbarf, Ncut)\n",
    "    return rhoee(resultP) - rhoee(resultM)\n",
    "\n",
    "def HRJumpThermErrSig(deld, psi0, t1, T, t2, delPrime, Omega0, eta, nbar0, nbarf, Ncut, delExc):\n",
    "    delp1 = delPrime\n",
    "    delp2 = delPrime + dopAndStark(nbarf) - dopAndStark(nbar0) #- 0.3*2*np.pi*1e-3\n",
    "    phi = 0.5*(dopAndStark(nbarf)+dopAndStark(nbar0))*T + delExc*T\n",
    "    freeEvo = pulse(T, 0.0, deld, 0.0, phi)\n",
    "    pi2PhaseInjP = pulse(0.0, 0.0, 0.0, 0.0, np.pi/2.0)\n",
    "    pi2PhaseInjM = pulse(0.0, 0.0, 0.0, 0.0, -np.pi/2.0)\n",
    "    #def thermPulse(psi0, t, Omega0, delPrime, eta, nbar, Ncut): #1-dimensional\n",
    "    intState = thermPulse(psi0, t1, Omega0, delp1, eta, nbar0, Ncut)\n",
    "    resultP = thermPulse(thermPulse(freeEvo@pi2PhaseInjP@intState, 2.0*t2/3.0, -Omega0, delp2, eta, nbarf, Ncut), t2/3.0, Omega0, delp2, eta, nbarf, Ncut)\n",
    "    resultM = thermPulse(thermPulse(freeEvo@pi2PhaseInjM@intState, 2.0*t2/3.0, -Omega0, delp2, eta, nbarf, Ncut), t2/3.0, Omega0, delp2, eta, nbarf, Ncut)\n",
    "    return rhoee(resultP) - rhoee(resultM)\n",
    "\n",
    "def HRJumpThermErrSigFront(deld, psi0, t1, T, t2, delPrime, Omega0, eta, nbar0, nbarf, Ncut, delExc):\n",
    "    delp1 = delPrime\n",
    "    delp2 = delPrime + dopAndStark(nbarf) - dopAndStark(nbar0) #-0.4*2.0*np.pi*1e-3\n",
    "    phi = 0.5*(dopAndStark(nbarf)+dopAndStark(nbar0))*T + delExc*T\n",
    "    freeEvo = pulse(T, 0.0, deld, 0.0, phi)\n",
    "    pi2PhaseInjP = pulse(0.0, 0.0, 0.0, 0.0, np.pi/2.0)\n",
    "    pi2PhaseInjM = pulse(0.0, 0.0, 0.0, 0.0, -np.pi/2.0)\n",
    "    #def thermPulse(psi0, t, Omega0, delPrime, eta, nbar, Ncut): #1-dimensional\n",
    "    intState = thermPulse(thermPulse(psi0, t1/3.0, Omega0, delp1, eta, nbar0, Ncut), 2.0*t1/3.0, -Omega0, delp1, eta, nbar0, Ncut)\n",
    "    resultP = thermPulse(freeEvo@pi2PhaseInjP@intState, t2, Omega0, delp2, eta, nbarf, Ncut)\n",
    "    resultM = thermPulse(freeEvo@pi2PhaseInjM@intState, t2, Omega0, delp2, eta, nbarf, Ncut)\n",
    "    return rhoee(resultP) - rhoee(resultM)"
   ]
  },
  {
   "cell_type": "code",
   "execution_count": 101,
   "id": "fea5fd32",
   "metadata": {},
   "outputs": [
    {
     "name": "stdout",
     "output_type": "stream",
     "text": [
      "0.0\n",
      "-0.0019771358180248238\n",
      "10.0\n",
      "-0.0020385422699570367\n",
      "20.0\n",
      "-0.0021470954829159476\n",
      "30.0\n",
      "-0.002297535774176407\n",
      "40.0\n",
      "-0.002485540648573562\n"
     ]
    }
   ],
   "source": [
    "Ncut = 401\n",
    "psi0 = psi(1.0, 0.0)\n",
    "t1 = 60.0e-3\n",
    "t2 = 20e-3\n",
    "T = 500.0e-3\n",
    "q = 1.0\n",
    "Omega0 = q*np.pi/(2.0*t2)\n",
    "delPrime = +1450e-3*2.0*np.pi\n",
    "nbar0 = 0.0\n",
    "eta = 0.05\n",
    "delExc = 0.0 #excMic()#-0.01e-3*2.0*np.pi\n",
    "\n",
    "pts = 5\n",
    "nbarfs = np.linspace(0, 40, pts)\n",
    "nbarfStars = nbarfs*(t1+T)/(t1+t2+T)\n",
    "nbar0s = nbarfs*t1/(t1+t2+T)\n",
    "shifts1 = np.zeros(pts)\n",
    "\n",
    "tol = 1.0e-11\n",
    "x0 = -0.1\n",
    "x1 = 0.1\n",
    "guessTol = 0.1\n",
    "\n",
    "for ii in range(pts):\n",
    "    print(nbarfs[ii])\n",
    "    shifts1[ii] = (1.0/(2.0*np.pi))*sp.optimize.root_scalar(HRJumpThermErrSigFront, args=(psi0, t1, T, t2, delPrime, Omega0, eta, nbar0s[ii], nbarfs[ii], Ncut, delExc), bracket=[x0,x1], xtol = tol).root\n",
    "    print(shifts1[ii])\n",
    "    x0 = shifts1[ii]*(2.0*np.pi) - guessTol\n",
    "    x1 = shifts1[ii]*(2.0*np.pi) + guessTol\n",
    "    #print(x0,x1)"
   ]
  },
  {
   "cell_type": "code",
   "execution_count": 102,
   "id": "ac5dcf4d",
   "metadata": {},
   "outputs": [
    {
     "data": {
      "image/png": "[encoded data removed]",
      "text/plain": [
       "<Figure size 432x288 with 1 Axes>"
      ]
     },
     "metadata": {
      "needs_background": "light"
     },
     "output_type": "display_data"
    }
   ],
   "source": [
    "#plt.plot(nbarfs, 1e3*np.array([-7.26022535e-05, -8.41610515e-04, -1.62399530e-03, -2.42310390e-03,-3.24313556e-03]), label=r\"$\\delta_p= 0 mHz$\")\n",
    "#plt.plot(nbarfs, 1e3*np.array([-4.29337525e-05, -2.26224345e-04, -3.26708160e-04, -3.30159122e-04,-2.19061842e-04]), label=r\"$\\delta_p= +15 mHz$\")\n",
    "#plt.plot(nbarfs, 1e3*np.array([-3.30621195e-05, -2.11174313e-05,  1.05693770e-04,  3.67454795e-04,7.88918419e-04]), label=r\"$\\delta_p= +20 mHz$\")\n",
    "#plt.plot(nbarfs, 1e3*np.array([-7.26022535e-05, -8.35073994e-04, -1.59662748e-03, -2.35735735e-03,-3.11733063e-03]), label=r\"$\\delta_p= 0 mHz$\")\n",
    "#plt.plot(nbarfs, 1e3*np.array([ 5.90687124e-06,  3.18196609e-05, -5.96595513e-06, -9.22178723e-05,-2.16252138e-04]), label=r\"$\\delta_p= -230 mHz$\")\n",
    "#plt.plot(nbarfs, 1e3*np.array([ 1.65921690e-05,  7.73264841e-05,  7.15563125e-05,  1.51778411e-05,-8.06604853e-05]), label=r\"$\\delta_{excess}= 0 mHz$\")\n",
    "#plt.plot(nbarfs, 1e3*np.array([-9.05651295e-05, -2.98308166e-05, -3.56009842e-05, -9.19794595e-05,-1.87817786e-04]), label=r\"$\\delta_{excess}= -0.0109 mHz$\")\n",
    "#plt.plot(nbarfs, 1e3*np.array([-1.15678651e-04, -5.49443379e-05, -6.07145095e-05, -1.17092981e-04,-2.12931307e-04]), label=r\"$\\delta_p^{1st}= -0.1 mHz$\")\n",
    "\n",
    "#plt.plot(nbarfs, 1e3*np.array([ 1.65921690e-05,  7.73264841e-05,  7.15563125e-05,  1.51778411e-05, -8.06604853e-05]), label=r\"$\\delta_p= -240 mHz$\")\n",
    "#plt.plot(nbarfs, 1e3*np.array([2.82045845e-05, 1.23829405e-04, 1.50144033e-04, 1.23708438e-04, 5.61351836e-05]), label=r\"$\\delta_p= -250 mHz$\")\n",
    "#plt.plot(nbarfs, 1e3*np.array([-3.81623798e-05,  4.69878769e-05,  6.36696107e-05,  2.82436977e-05,-4.78165046e-05]), label=r\"$\\delta_p^{1st}= +0.25 mHz$\")\n",
    "#plt.plot(nbarfs, 1e3*shifts1, label=r\"$\\delta_p^{2nd}= -0.3 mHz$\")\n",
    "#plt.plot(nbarfs, 1e3*np.array([ 1.65921690e-05,  7.73264841e-05,  7.15563125e-05,  1.51778411e-05,-8.06604853e-05]), label=r\"$\\delta_p= -240 mHz$\")\n",
    "#plt.plot(nbarfs, 1e3*np.array([-3.82653929e-05, -4.01456145e-04, -7.69563591e-04, -1.14147548e-03,-1.51632171e-03]), label=\"Low Heating Est\")\n",
    "#plt.plot(nbarfs, 1e3*np.array([-3.82653929e-05, -4.61705409e-04, -8.91105698e-04, -1.32497138e-03,-1.76225437e-03]), label=\"High Heating Est\")\n",
    "\n",
    "#plt.plot(nbarfs, 1e3*np.array([-4.62200301e-05, -5.31624616e-04, -1.01644462e-03, -1.50074028e-03,-1.98455428e-03]), label=r\"$\\delta_p = 0 mHz$\")\n",
    "#plt.plot(nbarfs, 1e3*np.array([-4.55657933e-05, -4.96434214e-04, -9.49563402e-04, -1.40433745e-03,-1.86032424e-03]), label=r\"$\\delta_p = -100 mHz$\")\n",
    "#plt.plot(nbarfs, 1e3*np.array([ 3.52471334e-05, -2.71321201e-04, -5.91455341e-04, -9.21859562e-04,-1.26023464e-03]), label=r\"$\\delta_p = -500 mHz$\")\n",
    "#plt.plot(nbarfs, 1e3*np.array([5.97888688e-04, 5.06380458e-04, 3.87348010e-04, 2.47292396e-04, 9.06624451e-05]), label=r\"$\\delta_p = -1000 mHz$\")\n",
    "#plt.plot(nbarfs, 1e3*np.array([0.0020867 , 0.00227818, 0.00242804, 0.00254572, 0.00263746]), label=r\"$\\delta_p = -1500 mHz$\")\n",
    "#plt.plot(nbarfs, 1e3*shifts1, label=r\"$\\delta_p = -1250 mHz$\")\n",
    "\n",
    "#plt.plot(nbarfs, 1e3*np.array([-4.62200301e-05, -4.85215266e-04, -9.24785638e-04, -1.36485037e-03,-1.80533968e-03]), label=r\"$\\delta_p = 0 mHz$\")\n",
    "#plt.plot(nbarfs, 1e3*np.array([-4.68742669e-05, -4.51486843e-04, -8.59949372e-04, -1.27181891e-03, -1.68672824e-03]), label=r\"$\\delta_p = +100 mHz$\")\n",
    "#plt.plot(nbarfs, 1e3*np.array([-0.00129341, -0.00130406, -0.00135601, -0.00144471, -0.00156638]), label=r\"$\\delta_p = +1250 mHz$\")\n",
    "#plt.plot(nbarfs, 1e3*np.array([-0.00178792, -0.00174756, -0.00175336, -0.00180019, -0.00188387]), label=r\"$\\delta_p = +1400 mHz$\")\n",
    "\n",
    "plt.plot(nbarfs, 1e3*np.array([-0.00197714, -0.00192096, -0.00190948, -0.00193791, -0.00200223]), label=\"Low Heating Est\")\n",
    "plt.plot(nbarfs, 1e3*shifts1, label=\"High Heating Est\")\n",
    "\n",
    "plt.xlabel(\"final nbar\")\n",
    "plt.ylabel(\"clock shift (mHz)\")\n",
    "plt.grid()\n",
    "plt.legend()\n",
    "plt.show()"
   ]
  },
  {
   "cell_type": "code",
   "execution_count": 103,
   "id": "a1a5fcbc",
   "metadata": {},
   "outputs": [
    {
     "data": {
      "text/plain": [
       "array([-0.00197714, -0.00203854, -0.0021471 , -0.00229754, -0.00248554])"
      ]
     },
     "execution_count": 103,
     "metadata": {},
     "output_type": "execute_result"
    }
   ],
   "source": [
    "shifts1"
   ]
  },
  {
   "cell_type": "code",
   "execution_count": 51,
   "id": "32009ab2",
   "metadata": {},
   "outputs": [
    {
     "data": {
      "text/plain": [
       "[<matplotlib.lines.Line2D at 0x1de7d493a90>]"
      ]
     },
     "execution_count": 51,
     "metadata": {},
     "output_type": "execute_result"
    },
    {
     "data": {
      "image/png": "[encoded data removed]",
      "text/plain": [
       "<Figure size 432x288 with 1 Axes>"
      ]
     },
     "metadata": {
      "needs_background": "light"
     },
     "output_type": "display_data"
    }
   ],
   "source": [
    "err = (np.array([-4.62200301e-05, -4.81438698e-04, -9.16181706e-04, -1.35049496e-03,-1.78441133e-03])-shifts1)/shifts1*100\n",
    "plt.plot(nbarfs, err)"
   ]
  },
  {
   "cell_type": "code",
   "execution_count": 458,
   "id": "27ad7aa2",
   "metadata": {},
   "outputs": [
    {
     "name": "stdout",
     "output_type": "stream",
     "text": [
      "0.0\n",
      "-5.588622750520059e-05\n",
      "10.0\n",
      "5.05681005315803e-05\n",
      "20.0\n",
      "8.030340474999787e-05\n",
      "30.0\n",
      "4.183053493466968e-05\n",
      "40.0\n",
      "-5.785492857427382e-05\n"
     ]
    }
   ],
   "source": [
    "Ncut = 401\n",
    "psi0 = psi(1.0, 0.0)\n",
    "t1 = 60.0e-3\n",
    "t2 = 20.0e-3\n",
    "T = 500.0e-3\n",
    "q = 1.0\n",
    "Omega0 = q*np.pi/(2.0*t2)\n",
    "delPrime = +235e-3*2.0*np.pi\n",
    "nbar0 = 0.0\n",
    "eta = 0.05\n",
    "delExc = 0.0 #excMic()#-0.1e-3*2.0*np.pi\n",
    "\n",
    "pts = 5\n",
    "nbarfs = np.linspace(0, 40, pts)\n",
    "shifts1 = np.zeros(pts)\n",
    "\n",
    "tol = 1.0e-11\n",
    "x0 = -0.1\n",
    "x1 = 0.1\n",
    "guessTol = 0.1\n",
    "\n",
    "for ii in range(pts):\n",
    "    print(nbarfs[ii])\n",
    "    shifts1[ii] = (1.0/(2.0*np.pi))*sp.optimize.root_scalar(HRJumpThermErrSigFront, args=(psi0, t1, T, t2, delPrime, Omega0, eta, nbar0, nbarfs[ii], Ncut, delExc), bracket=[x0,x1], xtol = tol).root\n",
    "    print(shifts1[ii])\n",
    "    x0 = shifts1[ii] - guessTol\n",
    "    x1 = shifts1[ii] + guessTol\n",
    "    #print(x0,x1)"
   ]
  },
  {
   "cell_type": "code",
   "execution_count": 459,
   "id": "34644689",
   "metadata": {},
   "outputs": [
    {
     "data": {
      "image/png": "[encoded data removed]",
      "text/plain": [
       "<Figure size 432x288 with 1 Axes>"
      ]
     },
     "metadata": {
      "needs_background": "light"
     },
     "output_type": "display_data"
    }
   ],
   "source": [
    "#plt.plot(nbarfs, 1e3*np.array([-4.62200301e-05, -4.85215266e-04, -9.24785638e-04, -1.36485037e-03,-1.80533968e-03]), label=r\"$\\delta_p = 0 mHz$\")\n",
    "#plt.plot(nbarfs, 1e3*np.array([-5.03307211e-05, -2.73292313e-04, -5.17405524e-04, -7.80313997e-04,-1.06007897e-03]), label=r\"$\\delta_p = 100 mHz$\")\n",
    "#plt.plot(nbarfs, 1e3*np.array([-7.90897739e-05, -8.60454565e-05, -1.34725415e-04, -2.20498351e-04,-3.39557026e-04]), label=r\"$\\delta_p = 200 mHz$\")\n",
    "#plt.plot(nbarfs, 1e3*np.array([-9.62004899e-05, -3.83638909e-05, -2.84220658e-05, -6.10614373e-05,-1.31914401e-04]), label=r\"$\\delta_{excess} = 230 mHz$\")\n",
    "\n",
    "#plt.plot(nbarfs, 1e3*np.array([-1.10395656e-04, -9.36732211e-06,  3.96530073e-05,  4.24336793e-05,3.71582601e-06]), label=r\"$q = 1.0 $\")\n",
    "#plt.plot(nbarfs, 1e3*np.array([-0.00012938, -0.00018083, -0.00026748, -0.00038573, -0.00053259]), label=r\"$q = 0.9 $\")\n",
    "#plt.plot(nbarfs, 1e3*np.array([-1.78614113e-04, -7.75857784e-05, -2.85654490e-05, -2.57847770e-05,-6.45026303e-05]), label=r\"$\\delta_{excess} = -0.068 mHz$\")\n",
    "#plt.plot(nbarfs, 1e3*np.array([-1.10395656e-04, -9.36732211e-06,  3.96530073e-05,  4.24336793e-05,3.71582601e-06]), label=r\"$\\delta_{excess} = 0.0 mHz$\")\n",
    "#plt.plot(nbarfs, 1e3*shifts1, label=r\"$\\delta_p^{2nd} = -0.5 mHz$\")\n",
    "\n",
    "#plt.plot(nbarfs, 1e3*np.array([-1.73409091e-04, -1.47141552e-05,  6.22867983e-05,  6.66546661e-05,5.83680584e-06]), label=r\"$\\delta_p = +250 mHz$\")\n",
    "#plt.plot(nbarfs, 1e3*np.array([-1.61796678e-04, -3.70239330e-05,  9.28528316e-06, -1.41652990e-05,-1.00221679e-04]), label=r\"$\\delta_p = +240 mHz$\")\n",
    "#plt.plot(nbarfs, 1e3*np.array([-1.51111376e-04, -6.02618589e-05, -4.46452741e-05, -9.59150815e-05,-2.07210657e-04]), label=r\"$\\delta_p = +230 mHz$\")\n",
    "\n",
    "plt.plot(nbarfs, 1e3*np.array([-1.56340538e-04, -4.85292799e-05, -1.75662700e-05, -5.49263698e-05, -1.53602265e-04]), label=r\"$\\delta_p^{2nd} = 0 mHz$\")\n",
    "plt.plot(nbarfs, 1e3*np.array([-3.07726472e-05,  7.53424481e-05,  1.04770828e-04,  6.60197632e-05, -3.39180926e-05]), label=r\"$\\delta_p^{2nd} = -0.5 mHz$\")\n",
    "plt.plot(nbarfs, 1e3*shifts1, label=r\"$\\delta_p^{2nd} = -0.4 mHz$\")\n",
    "\n",
    "plt.xlabel(\"final nbar\")\n",
    "plt.ylabel(\"clock shift (mHz)\")\n",
    "plt.grid()\n",
    "plt.legend()\n",
    "plt.show()"
   ]
  },
  {
   "cell_type": "code",
   "execution_count": 460,
   "id": "a21c8c9e",
   "metadata": {},
   "outputs": [
    {
     "data": {
      "text/plain": [
       "array([-5.58862275e-05,  5.05681005e-05,  8.03034047e-05,  4.18305349e-05,\n",
       "       -5.78549286e-05])"
      ]
     },
     "execution_count": 460,
     "metadata": {},
     "output_type": "execute_result"
    }
   ],
   "source": [
    "shifts1"
   ]
  },
  {
   "cell_type": "code",
   "execution_count": 342,
   "id": "57fb162d",
   "metadata": {},
   "outputs": [
    {
     "data": {
      "text/plain": [
       "-0.9999933366314155"
      ]
     },
     "execution_count": 342,
     "metadata": {},
     "output_type": "execute_result"
    }
   ],
   "source": [
    "1e4*(-0.00073871+1.10395656e-04)/(2*np.pi)"
   ]
  },
  {
   "cell_type": "code",
   "execution_count": 345,
   "id": "51c83ce3",
   "metadata": {},
   "outputs": [
    {
     "data": {
      "text/plain": [
       "0.08948666731021002"
      ]
     },
     "execution_count": 345,
     "metadata": {},
     "output_type": "execute_result"
    }
   ],
   "source": [
    "1.3e-19*nu0*1e3"
   ]
  },
  {
   "cell_type": "code",
   "execution_count": 424,
   "id": "7e9388fc",
   "metadata": {},
   "outputs": [
    {
     "data": {
      "text/plain": [
       "-0.010857304536317832"
      ]
     },
     "execution_count": 424,
     "metadata": {},
     "output_type": "execute_result"
    }
   ],
   "source": [
    "excMic()/(2*np.pi)*1e3"
   ]
  },
  {
   "cell_type": "code",
   "execution_count": 507,
   "id": "84f5b074",
   "metadata": {},
   "outputs": [
    {
     "name": "stdout",
     "output_type": "stream",
     "text": [
      "0.0\n",
      "-7.26022534843704e-05\n",
      "10.0\n",
      "0.009288209012849113\n",
      "20.0\n",
      "0.010373629658652104\n",
      "30.0\n",
      "0.003972713523235112\n",
      "40.0\n",
      "-0.009099917056732227\n"
     ]
    }
   ],
   "source": [
    "Ncut = 401\n",
    "psi0 = psi(1.0, 0.0)\n",
    "t = 20.0e-3\n",
    "T = 500.0e-3\n",
    "q = 1.0\n",
    "Omega0 = q*np.pi/(2.0*t1)\n",
    "delPrime = -1000e-3*2.0*np.pi\n",
    "nbar0 = 0.0\n",
    "eta = 0.05\n",
    "delExc = 0.0 #excMic()#-0.1e-3*2.0*np.pi\n",
    "\n",
    "pts = 5\n",
    "nbarfs = np.linspace(0, 40, pts)\n",
    "shifts1 = np.zeros(pts)\n",
    "\n",
    "tol = 1.0e-11\n",
    "x0 = -0.1\n",
    "x1 = 0.1\n",
    "guessTol = 0.1\n",
    "\n",
    "for ii in range(pts):\n",
    "    print(nbarfs[ii])\n",
    "    #MHRThermES1(deld, psi0, t, T, delPrime, Omega0, eta, nbar0, nbarf, Ncut):\n",
    "    shifts1[ii] = (1.0/(2.0*np.pi))*sp.optimize.root_scalar(MHRThermES1, args=(psi0, t, T,  delPrime, Omega0, eta, nbar0, nbarfs[ii], Ncut), bracket=[x0,x1], xtol = tol).root\n",
    "    print(shifts1[ii])\n",
    "    x0 = shifts1[ii] - guessTol\n",
    "    x1 = shifts1[ii] + guessTol\n",
    "    #print(x0,x1)"
   ]
  },
  {
   "cell_type": "code",
   "execution_count": 508,
   "id": "4f351f50",
   "metadata": {},
   "outputs": [
    {
     "data": {
      "image/png": "[encoded data removed]",
      "text/plain": [
       "<Figure size 432x288 with 1 Axes>"
      ]
     },
     "metadata": {
      "needs_background": "light"
     },
     "output_type": "display_data"
    }
   ],
   "source": [
    "plt.plot(nbarfs, 1e3*np.array([-7.26022535e-05, -5.78011445e-03, -2.03741319e-02, -4.30492965e-02,-7.29506135e-02]), label=r\"$\\delta_p = 0 mHz$\")\n",
    "plt.plot(nbarfs, 1e3*np.array([-7.26022535e-05, -1.52152115e-03, -1.16601874e-02, -2.96813245e-02,-5.47359404e-02]), label=r\"$\\delta_p = -300 mHz$\")\n",
    "plt.plot(nbarfs, 1e3*shifts1, label=r\"$\\delta_p = -1000 mHz$\")\n",
    "\n",
    "plt.xlabel(\"final nbar\")\n",
    "plt.ylabel(\"clock shift (mHz)\")\n",
    "plt.grid()\n",
    "plt.legend()\n",
    "plt.show()"
   ]
  },
  {
   "cell_type": "code",
   "execution_count": 509,
   "id": "444fa0ec",
   "metadata": {},
   "outputs": [
    {
     "data": {
      "text/plain": [
       "array([-7.26022535e-05,  9.28820901e-03,  1.03736297e-02,  3.97271352e-03,\n",
       "       -9.09991706e-03])"
      ]
     },
     "execution_count": 509,
     "metadata": {},
     "output_type": "execute_result"
    }
   ],
   "source": [
    "shifts1"
   ]
  },
  {
   "cell_type": "code",
   "execution_count": 8,
   "id": "f21cb4bf",
   "metadata": {},
   "outputs": [
    {
     "data": {
      "text/plain": [
       "-0.06821845633816648"
      ]
     },
     "execution_count": 8,
     "metadata": {},
     "output_type": "execute_result"
    }
   ],
   "source": [
    "excMic()/(2*np.pi)*1e3"
   ]
  },
  {
   "cell_type": "code",
   "execution_count": 24,
   "id": "9b17dec1",
   "metadata": {},
   "outputs": [
    {
     "data": {
      "text/plain": [
       "-7.605164665417463e-05"
      ]
     },
     "execution_count": 24,
     "metadata": {},
     "output_type": "execute_result"
    }
   ],
   "source": [
    "Ncut = 401\n",
    "psi0 = psi(1.0, 0.0)\n",
    "t1 = 20.0e-3\n",
    "t2 = 3.0*t1\n",
    "T = 500.0e-3\n",
    "q = 1.0\n",
    "Omega0 = q*np.pi/(2.0*t1)\n",
    "delPrime = -230e-3*2.0*np.pi\n",
    "nbar0 = 0.0\n",
    "nbarf = 0.0\n",
    "eta = 0.05\n",
    "delExc = 1e-5*(2.0*np.pi)#excMic()#-0.01e-3*2.0*np.pi    #in angular frequency units!\n",
    "tol = 1.0e-11\n",
    "x0 = -0.1\n",
    "x1 = 0.1\n",
    "guessTol = 0.1\n",
    "\n",
    "(1.0/(2.0*np.pi))*sp.optimize.root_scalar(RamseyErrSig, args=(psi0, t1, T, t2, delPrime, Omega0, eta, nbar0, nbarf, Ncut, delExc), bracket=[x0,x1], xtol = tol).root"
   ]
  },
  {
   "cell_type": "code",
   "execution_count": 89,
   "id": "5a0e1a6b",
   "metadata": {},
   "outputs": [
    {
     "data": {
      "text/plain": [
       "0.0"
      ]
     },
     "execution_count": 89,
     "metadata": {},
     "output_type": "execute_result"
    }
   ],
   "source": [
    "nbar0"
   ]
  },
  {
   "cell_type": "code",
   "execution_count": 104,
   "id": "aac11a7d",
   "metadata": {},
   "outputs": [
    {
     "data": {
      "text/plain": [
       "-23.52313012884458"
      ]
     },
     "execution_count": 104,
     "metadata": {},
     "output_type": "execute_result"
    }
   ],
   "source": [
    "dopAndStark(40)*1e3"
   ]
  },
  {
   "cell_type": "code",
   "execution_count": 7,
   "id": "a9e1fad1",
   "metadata": {},
   "outputs": [
    {
     "data": {
      "text/plain": [
       "-0.002753062988498654"
      ]
     },
     "execution_count": 7,
     "metadata": {},
     "output_type": "execute_result"
    }
   ],
   "source": [
    "omega = 2.0*np.pi*778e3 #Lange\n",
    "Omegarf = 2.0*np.pi*13e6 #Lange\n",
    "m = 170.936331517*amutokg\n",
    "alpha = 5.89e-40 #J m^2 V^-2 E2 transition (Lange)\n",
    "nu0 = 688358979309307.82 #Hz E2 transition (Huntemann)\n",
    "-2.0*np.pi*nu0*expE(10.0, omega, 401)*(3.0/(m*c**2))"
   ]
  },
  {
   "cell_type": "code",
   "execution_count": 10,
   "id": "0322ba6e",
   "metadata": {},
   "outputs": [
    {
     "data": {
      "text/plain": [
       "-6.098589292688097"
      ]
     },
     "execution_count": 10,
     "metadata": {},
     "output_type": "execute_result"
    }
   ],
   "source": [
    "1e3*dopAndStark(10)"
   ]
  },
  {
   "cell_type": "code",
   "execution_count": null,
   "id": "2d3799d4",
   "metadata": {},
   "outputs": [],
   "source": []
  }
 ],
 "metadata": {
  "kernelspec": {
   "display_name": "Python 3 (ipykernel)",
   "language": "python",
   "name": "python3"
  },
  "language_info": {
   "codemirror_mode": {
    "name": "ipython",
    "version": 3
   },
   "file_extension": ".py",
   "mimetype": "text/x-python",
   "name": "python",
   "nbconvert_exporter": "python",
   "pygments_lexer": "ipython3",
   "version": "3.10.5"
  }
 },
 "nbformat": 4,
 "nbformat_minor": 5
}
