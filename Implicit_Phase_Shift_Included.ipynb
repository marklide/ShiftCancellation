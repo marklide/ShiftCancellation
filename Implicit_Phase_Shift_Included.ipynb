{
 "cells": [
  {
   "cell_type": "code",
   "execution_count": 4,
   "id": "d225db75",
   "metadata": {},
   "outputs": [],
   "source": [
    "from qutip import *\n",
    "import numpy as np\n",
    "import scipy as sp\n",
    "import math\n",
    "import matplotlib.pyplot as plt\n",
    "from scipy.special import genlaguerre as L"
   ]
  },
  {
   "cell_type": "code",
   "execution_count": 5,
   "id": "c0ecdaf0",
   "metadata": {},
   "outputs": [],
   "source": [
    "hbar = sp.constants.hbar\n",
    "h = sp.constants.h\n",
    "c = sp.constants.c\n",
    "e = sp.constants.e\n",
    "eVtoJ = 1.602176634e-19\n",
    "amutokg = 1.66053906660e-27"
   ]
  },
  {
   "cell_type": "code",
   "execution_count": 6,
   "id": "ab46af3a",
   "metadata": {},
   "outputs": [],
   "source": [
    "def psi(g,e):\n",
    "    return np.array([g, e])\n",
    "\n",
    "def pulse(t, Omega0, delta, phi0, phi1):\n",
    "    Omega = np.sqrt(Omega0**2 + delta**2)\n",
    "    \n",
    "    if Omega == 0.0:\n",
    "        U = np.array([[1.0 , 0.0],\n",
    "                      [0.0 , 1.0]])\n",
    "        \n",
    "    else:\n",
    "        U = np.array([[np.cos(Omega*t/2.0) -(1.0j*delta/Omega)*np.sin(Omega*t/2.0), (1.0j*Omega0/Omega)*np.sin(Omega*t/2.0)],\n",
    "                     [(1.0j*Omega0/Omega)*np.sin(Omega*t/2.0) , np.cos(Omega*t/2.0) + (1.0j*delta/Omega)*np.sin(Omega*t/2.0)]])\n",
    "    \n",
    "    V1 = np.array([[1.0 , 0.0],\n",
    "                   [0.0 , np.exp(-1.0j*phi1)]])\n",
    "    \n",
    "    V0 = np.array([[1.0 , 0.0],\n",
    "                   [0.0 , np.exp(1.0j*phi0)]])\n",
    "    \n",
    "    return np.exp(1.0j*delta*t/2.0)*V1@U@V0\n",
    "\n",
    "def thermPulse(psi0, t, Omega0, delPrime, eta, nbar, Ncut): #1-dimensional\n",
    "    result = psi(0.0+0.0j,0.0+0.0j)\n",
    "    for n in range(Ncut):\n",
    "        result += prob(n,nbar)*pulse(t, Omega0*Omega(n,0,eta), delPrime, 0.0, 0.0)@psi0\n",
    "    return result\n",
    "\n",
    "def therm3DPulse(psi0, t, Omega0, delPrime, nbars, Omegas, Ncut):\n",
    "    nbarx = nbars[0]\n",
    "    nbary = nbars[1]\n",
    "    nbarz = nbars[2]\n",
    "    #Ncut = 100\n",
    "    result = psi(0.0+0.0j,0.0+0.0j)\n",
    "    for nx in range(Ncut):\n",
    "        Probx = prob(nx,nbarx)\n",
    "        for ny in range(Ncut):\n",
    "            Probxy = Probx*prob(ny,nbary)\n",
    "            for nz in range(Ncut):\n",
    "                result += Probxy*prob(nz,nbarz)*pulse(t, Omega0*Omegas[nx,ny,nz], delPrime, 0.0, 0.0)@psi0\n",
    "    return result\n",
    "\n",
    "def rhoee(psi):\n",
    "    return (abs(psi[1]))**2.0\n",
    "\n",
    "def rhogg(psi):\n",
    "    return (abs(psi[0]))**2.0\n",
    "\n",
    "def prob(n,nbar):\n",
    "    return 1.0/(nbar+1)*(nbar/(nbar+1))**n    #returns prob of being in state n given nbar\n",
    "\n",
    "def Omega(n,m,eta):\n",
    "    return np.exp(-eta**2/2.0) * eta**(np.abs(m)) * (math.factorial(n)/math.factorial(n+m))**(np.sign(m)/2.0) \\\n",
    "        * L(n,np.abs(m))(eta**2)              #returns unitless rabi rate of transition n -> n+m given Lamb-Dicke Parameter"
   ]
  },
  {
   "cell_type": "code",
   "execution_count": 7,
   "id": "8713bc6f",
   "metadata": {},
   "outputs": [],
   "source": [
    "def prob(n,nbar):\n",
    "    return 1.0/(nbar+1)*(nbar/(nbar+1))**n\n",
    "\n",
    "def expE(nbar, omega, Ncut):\n",
    "    expE = 0.0\n",
    "    #Ncut = 1001\n",
    "    for n in range(Ncut):\n",
    "        expE += prob(n,nbar)*hbar*omega*(0.5+n)\n",
    "    return expE\n",
    "\n",
    "def expEHeat(nbar0, nbarf, omega, Ncut):\n",
    "    return expE((nbar0+nbarf)/2.0, omega, Ncut)\n",
    "\n",
    "def dopAndStark(nbar):\n",
    "    Ncut = 1201\n",
    "    nbar0 = 0.0\n",
    "    omega = 2.0*np.pi*778e3 #Lange\n",
    "    Omegarf = 2.0*np.pi*13e6 #Lange\n",
    "    m = 170.936331517*amutokg\n",
    "    alpha = 5.89e-40 #J m^2 V^-2 E2 transition (Lange)\n",
    "    nu0 = 688358979309307.82 #Hz E2 transition (Huntemann)\n",
    "    return -nu0*expEHeat(nbar0, nbar, omega, Ncut)*(3.0/(m*c**2) + (alpha/(h*nu0))*(3.0*m*Omegarf**2/(2.0*e**2)))"
   ]
  },
  {
   "cell_type": "code",
   "execution_count": 8,
   "id": "bb4efacc",
   "metadata": {},
   "outputs": [],
   "source": [
    "def RamseyErrSig(deld, psi0, t1, T, t2, delPrime, Omega0, eta, nbar0, nbarf, Ncut):\n",
    "    delp1 = delPrime + dopAndStark(nbar0)\n",
    "    delp2 = delPrime + dopAndStark(nbarf)\n",
    "    phi = 0.5*(dopAndStark(nbarf)-dopAndStark(nbar0))*T\n",
    "    freeEvo = pulse(T, 0.0, deld, 0.0, phi)\n",
    "    pi2PhaseInjP = pulse(0.0, 0.0, 0.0, 0.0, np.pi/2.0)\n",
    "    pi2PhaseInjM = pulse(0.0, 0.0, 0.0, 0.0, -np.pi/2.0)\n",
    "    intState = thermPulse(psi0, t1, Omega0, delp1, eta, nbar0, Ncut)\n",
    "    resultP = thermPulse(freeEvo@pi2PhaseInjP@intState, t2, Omega0, delp2, eta, nbarf, Ncut)\n",
    "    resultM = thermPulse(freeEvo@pi2PhaseInjM@intState, t2, Omega0, delp2, eta, nbarf, Ncut)\n",
    "    return rhoee(resultP) - rhoee(resultM)"
   ]
  },
  {
   "cell_type": "code",
   "execution_count": 14,
   "id": "eb1c5f5e",
   "metadata": {},
   "outputs": [
    {
     "name": "stdout",
     "output_type": "stream",
     "text": [
      "-0.01\n",
      "-0.008947368421052631\n",
      "-0.007894736842105263\n",
      "-0.006842105263157895\n",
      "-0.005789473684210527\n",
      "-0.004736842105263158\n",
      "-0.00368421052631579\n",
      "-0.0026315789473684214\n",
      "-0.001578947368421053\n",
      "-0.0005263157894736855\n",
      "0.0005263157894736838\n",
      "0.001578947368421053\n",
      "0.0026315789473684206\n",
      "0.003684210526315788\n",
      "0.004736842105263157\n",
      "0.005789473684210527\n",
      "0.006842105263157894\n",
      "0.007894736842105262\n",
      "0.00894736842105263\n",
      "0.01\n"
     ]
    }
   ],
   "source": [
    "Ncut = 401\n",
    "nbar0 = 0\n",
    "nbarf = 5\n",
    "delPrime = 0.0\n",
    "psi0 = psi(1.0, 0.0)\n",
    "t1 = 20.0e-3\n",
    "t2 = t1\n",
    "Omega0 = np.pi/(2.0*t1)\n",
    "T = 500.0e-3\n",
    "eta = 0.05\n",
    "\n",
    "pts = 20\n",
    "delds = np.linspace(-0.01, 0.01, pts)\n",
    "errSigPts = np.zeros(pts)\n",
    "for ii in range(pts):\n",
    "    print(delds[ii])\n",
    "    errSigPts[ii] = RamseyErrSig(delds[ii], psi0, t1, T, t2, delPrime, Omega0, eta, nbar0, nbarf, Ncut)"
   ]
  },
  {
   "cell_type": "code",
   "execution_count": 15,
   "id": "28f54887",
   "metadata": {},
   "outputs": [
    {
     "data": {
      "image/png": "[encoded data removed]",
      "text/plain": [
       "<Figure size 432x288 with 1 Axes>"
      ]
     },
     "metadata": {
      "needs_background": "light"
     },
     "output_type": "display_data"
    }
   ],
   "source": [
    "plt.plot(delds*1e3, errSigPts)\n",
    "plt.xlabel(\"dark time detuning (mHz)\")\n",
    "plt.ylabel(\"err sig\")\n",
    "#plt.ylim([-0.005, 0.005])\n",
    "plt.grid()"
   ]
  },
  {
   "cell_type": "code",
   "execution_count": 16,
   "id": "75b4e93b",
   "metadata": {},
   "outputs": [
    {
     "name": "stdout",
     "output_type": "stream",
     "text": [
      "0.0\n",
      "2.3522915568520243e-06\n",
      "10.0\n",
      "-0.0002171612191001576\n",
      "20.0\n",
      "-0.00043696078356797067\n",
      "30.0\n",
      "-0.0006570061816149263\n",
      "40.0\n",
      "-0.0008772626619425384\n"
     ]
    }
   ],
   "source": [
    "Ncut = 401\n",
    "psi0 = psi(1.0, 0.0)\n",
    "t1 = 20.0e-3\n",
    "t2 = t1\n",
    "T = 500e-3\n",
    "Omega0 = np.pi/(2.0*t1)\n",
    "delPrime = 0.0*2.0*np.pi\n",
    "nbar0 = 0.0\n",
    "eta = 0.05\n",
    "\n",
    "pts = 5\n",
    "nbarfs = np.linspace(0, 40, pts)\n",
    "shifts1 = np.zeros(pts)\n",
    "\n",
    "tol = 1.0e-11\n",
    "x0 = -0.1\n",
    "x1 = 0.1\n",
    "guessTol = 0.1\n",
    "\n",
    "for ii in range(pts):\n",
    "    print(nbarfs[ii])\n",
    "    shifts1[ii] = sp.optimize.root_scalar(RamseyErrSig, args=(psi0, t1, T, t2, delPrime, Omega0, eta, nbar0, nbarfs[ii], Ncut), bracket=[x0,x1], xtol = tol).root\n",
    "    print(shifts1[ii])\n",
    "    x0 = shifts1[ii] - guessTol\n",
    "    x1 = shifts1[ii] + guessTol\n",
    "    #print(x0,x1)"
   ]
  },
  {
   "cell_type": "code",
   "execution_count": 17,
   "id": "7dbe3f5c",
   "metadata": {},
   "outputs": [
    {
     "data": {
      "image/png": "[encoded data removed]",
      "text/plain": [
       "<Figure size 432x288 with 1 Axes>"
      ]
     },
     "metadata": {
      "needs_background": "light"
     },
     "output_type": "display_data"
    }
   ],
   "source": [
    "plt.plot(nbarfs, shifts1*1e3)\n",
    "plt.xlabel(\"final nbar\")\n",
    "plt.ylabel(\"clock shift (mHz)\")\n",
    "plt.show()"
   ]
  },
  {
   "cell_type": "code",
   "execution_count": null,
   "id": "e6b501b8",
   "metadata": {},
   "outputs": [],
   "source": []
  }
 ],
 "metadata": {
  "kernelspec": {
   "display_name": "Python 3 (ipykernel)",
   "language": "python",
   "name": "python3"
  },
  "language_info": {
   "codemirror_mode": {
    "name": "ipython",
    "version": 3
   },
   "file_extension": ".py",
   "mimetype": "text/x-python",
   "name": "python",
   "nbconvert_exporter": "python",
   "pygments_lexer": "ipython3",
   "version": "3.10.5"
  }
 },
 "nbformat": 4,
 "nbformat_minor": 5
}
