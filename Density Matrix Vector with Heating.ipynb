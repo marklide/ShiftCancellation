{
 "cells": [
  {
   "cell_type": "code",
   "execution_count": 2,
   "id": "3b1a14a4",
   "metadata": {},
   "outputs": [],
   "source": [
    "#from qutip import *\n",
    "import numpy as np\n",
    "import scipy as sp\n",
    "import math\n",
    "import matplotlib.pyplot as plt\n",
    "from scipy.special import genlaguerre as L\n",
    "from scipy.integrate import solve_ivp as solve\n",
    "from scipy.integrate import odeint\n",
    "import time"
   ]
  },
  {
   "cell_type": "code",
   "execution_count": 15,
   "id": "c27e48d9",
   "metadata": {},
   "outputs": [],
   "source": [
    "hbar = sp.constants.hbar\n",
    "h = sp.constants.h\n",
    "c = sp.constants.c\n",
    "e = sp.constants.e\n",
    "eVtoJ = 1.602176634e-19\n",
    "amutokg = 1.66053906660e-27\n",
    "\n",
    "omega = 2.0*np.pi*778e3 #Lange\n",
    "Omegarf = 2.0*np.pi*13e6 #Lange\n",
    "m = 170.936331517*amutokg\n",
    "beta = 0.0\n",
    "alpha = 5.89e-40 #J m^2 V^-2 E2 transition (Lange)\n",
    "nu0 = 688358979309307.82 #Hz E2 transition (Huntemann)"
   ]
  },
  {
   "cell_type": "code",
   "execution_count": 4,
   "id": "1e939331",
   "metadata": {},
   "outputs": [
    {
     "name": "stderr",
     "output_type": "stream",
     "text": [
      "D:\\Mark\\Python\\lib\\site-packages\\scipy\\special\\_orthogonal.py:651: RuntimeWarning: invalid value encountered in double_scalars\n",
      "  hn = _gam(n + alpha + 1) / _gam(n + 1)\n",
      "D:\\Mark\\Python\\lib\\site-packages\\scipy\\special\\_orthogonal.py:140: RuntimeWarning: invalid value encountered in multiply\n",
      "  np.poly1d.__init__(self, poly.coeffs * float(kn))\n",
      "D:\\Mark\\Python\\lib\\site-packages\\scipy\\special\\_orthogonal.py:196: RuntimeWarning: overflow encountered in true_divide\n",
      "  w = 1.0 / (fm * dy)\n",
      "D:\\Mark\\Python\\lib\\site-packages\\scipy\\special\\_orthogonal.py:202: RuntimeWarning: invalid value encountered in multiply\n",
      "  w *= mu0 / w.sum()\n",
      "D:\\Mark\\Python\\lib\\site-packages\\scipy\\special\\_orthogonal.py:127: RuntimeWarning: invalid value encountered in double_scalars\n",
      "  equiv_weights = [weights[k] / wfunc(roots[k]) for\n",
      "D:\\Mark\\Python\\lib\\site-packages\\scipy\\special\\_orthogonal.py:196: RuntimeWarning: divide by zero encountered in true_divide\n",
      "  w = 1.0 / (fm * dy)\n",
      "D:\\Mark\\Python\\lib\\site-packages\\scipy\\special\\_orthogonal.py:553: RuntimeWarning: overflow encountered in multiply\n",
      "  - (n + alpha)*cephes.eval_genlaguerre(n-1, alpha, x))/x\n",
      "D:\\Mark\\Python\\lib\\site-packages\\scipy\\special\\_orthogonal.py:195: RuntimeWarning: invalid value encountered in true_divide\n",
      "  dy /= np.abs(dy).max()\n"
     ]
    }
   ],
   "source": [
    "def prob(n,nbar):\n",
    "    return 1.0/(nbar+1)*(nbar/(nbar+1))**n    #returns prob of being in state n given nbar\n",
    "\n",
    "def dopAndStark(n):       #for 1D!! to make 3d, multiply this by 3                        \n",
    "    return -2.0*np.pi*nu0*hbar*omega*(n+0.5)/(m*c**2)*(1.0 + alpha*m**2*Omegarf**2*c**2/(h*nu0*e**2*2)) \n",
    "\n",
    "def Omega(n,m,eta):\n",
    "    return np.abs(np.exp(-eta**2/2.0) * eta**(np.abs(m)) * (math.factorial(n)/math.factorial(n+m))**(np.sign(m)/2.0) \\\n",
    "        * L(n,np.abs(m))(eta**2))             #returns unitless rabi rate of transition n -> n+m given Lamb-Dicke Parameter\n",
    "\n",
    "def fastOmega(n,m,eta):\n",
    "    return 1.0 - eta**2.0*n\n",
    "\n",
    "eta = 0.05\n",
    "omegas = np.zeros(2000)\n",
    "for ii in range(np.size(omegas)):\n",
    "    omegas[ii] = Omega(ii,0,eta)"
   ]
  },
  {
   "cell_type": "code",
   "execution_count": 5,
   "id": "536653d9",
   "metadata": {},
   "outputs": [],
   "source": [
    "#takes rho as a 3 element vector and converts it to a 2x2 matrix by calculating the conj. of rhoge\n",
    "def subpulse(rho0, t, Omega0, delta):\n",
    "    rho = np.array([[rho0[0], rho0[2]],[np.conj(rho0[2]), rho0[1]]])\n",
    "    Omega = np.sqrt(Omega0**2 + delta**2)\n",
    "    if Omega == 0.0:\n",
    "        U = np.array([[1.0 , 0.0],\n",
    "                      [0.0 , 1.0]])\n",
    "    else:\n",
    "        U = np.array([[np.cos(Omega*t/2.0) -(1.0j*delta/Omega)*np.sin(Omega*t/2.0), (1.0j*Omega0/Omega)*np.sin(Omega*t/2.0)],\n",
    "                     [(1.0j*Omega0/Omega)*np.sin(Omega*t/2.0) , np.cos(Omega*t/2.0) + (1.0j*delta/Omega)*np.sin(Omega*t/2.0)]])\n",
    "    rho = U@rho@np.conj(U)\n",
    "    return np.array([rho[0,0], rho[1,1], rho[0,1]])\n",
    "\n",
    "def pulse(rho0, t, Omega0, delta):\n",
    "    Ncut = rho0.size//3 - 1\n",
    "    rho = np.array([0.0+0.0j]*3*(Ncut+1))\n",
    "    for n in range(Ncut):\n",
    "        rho[3*n:3*(n+1)] = subpulse(rho0[3*n:3*(n+1)], t, Omega0*omegas[n], delta)\n",
    "    return rho"
   ]
  },
  {
   "cell_type": "code",
   "execution_count": 6,
   "id": "200e651b",
   "metadata": {},
   "outputs": [],
   "source": [
    "def heatEqns(t, rho, nbardot):\n",
    "    Ncut = rho.shape[0]//3 - 1\n",
    "    rhoDot = [0.0+0.0j]*((Ncut+1)*3)\n",
    "    for ii in range(3):\n",
    "        rhoDot[0+ii] = nbardot*(-rho[0+ii]+rho[3*1+ii])\n",
    "        rhoDot[3*Ncut+ii] = nbardot*(-Ncut*rho[3*Ncut+ii]+Ncut*rho[3*(Ncut-1)+ii])\n",
    "        #Note*** the above line is true in the limit that rho[Ncut+1,ii]=rho[Ncut,ii] (fair assumption for large Ncut I think)\n",
    "        for n in range(1,Ncut-1):\n",
    "            rhoDot[3*n+ii] = nbardot*(-(2.0*n+1.0)*rho[3*n+ii] + (n+1.0)*rho[3*(n+1)+ii] + n*rho[3*(n-1)+ii])\n",
    "    return rhoDot\n",
    "\n",
    "def heat(rho0, t, nbardot):\n",
    "    rho = solve(heatEqns, [0.0,t], rho0, args=[nbardot]).y[:,-1]\n",
    "    return rho\n",
    "\n",
    "def fastHeat(rho0, t, nbardot, Nstop):\n",
    "    #Nstop = 100\n",
    "    Ncut = rho0.shape[0]//3 - 1\n",
    "    rho = np.array([0.0+0.0j]*3*(Ncut+1))\n",
    "    rho[:3*Nstop] = solve(heatEqns, [0.0,t], rho0[:3*Nstop], args=[nbardot]).y[:,-1]\n",
    "    rho[3*Nstop:] = rho0[3*Nstop:]\n",
    "    return rho"
   ]
  },
  {
   "cell_type": "code",
   "execution_count": 7,
   "id": "e3fc1037",
   "metadata": {},
   "outputs": [],
   "source": [
    "def subFreeEvo(rho0, phi):\n",
    "    return np.array([rho0[0], rho0[1], rho0[2]*np.exp(-1.0j*phi)])\n",
    "\n",
    "def freeEvo(rho0, phi):\n",
    "    Ncut = rho0.size//3 - 1\n",
    "    rho = np.array([0.0+0.0j]*3*(Ncut+1))\n",
    "    for n in range(Ncut):\n",
    "        rho[3*n:3*(n+1)] = subFreeEvo(rho0[3*n:3*(n+1)], phi)\n",
    "    return rho"
   ]
  },
  {
   "cell_type": "code",
   "execution_count": 8,
   "id": "b56985db",
   "metadata": {},
   "outputs": [],
   "source": [
    "def groundRho(Ncut, nbar):\n",
    "    rho = np.array([0.0+0.0j]*3*(Ncut+1))\n",
    "    for n in range(Ncut):\n",
    "        rho[3*n] = prob(n,nbar)\n",
    "    return rho\n",
    "\n",
    "def nbar(rho):\n",
    "    Ncut = rho.shape[0]//3\n",
    "    nbar = 0.0\n",
    "    for n in range(Ncut):\n",
    "        nbar += n*(rho[n*3].real + rho[n*3+1].real)\n",
    "    return nbar\n",
    "\n",
    "def rhogg(rho):\n",
    "    rhogg = 0.0\n",
    "    Ncut = rho.shape[0]//3\n",
    "    for n in range(Ncut):\n",
    "        rhogg += rho[(3*n)].real\n",
    "    return rhogg\n",
    "\n",
    "def rhoee(rho):\n",
    "    rhoee = 0.0\n",
    "    Ncut = rho.shape[0]//3\n",
    "    for n in range(Ncut):\n",
    "        rhoee += rho[(3*n)+1].real\n",
    "    return rhoee"
   ]
  },
  {
   "cell_type": "code",
   "execution_count": 29,
   "id": "87bee0a8",
   "metadata": {},
   "outputs": [],
   "source": [
    "def ramsey(rho0, t1, T, t2, deld, delPrime, Omega0):\n",
    "    intState = freeEvo(pulse(rho0, t1, Omega0, delPrime), deld*T)\n",
    "    result = pulse(intState, t2, Omega0, delPrime)\n",
    "    return result\n",
    "\n",
    "def RamseyErrSig(deld, rho0, t1, T, t2, delPrime, Omega0):\n",
    "    intState = freeEvo(pulse(rho0, t1, Omega0, delPrime), deld*T)\n",
    "    resultP = pulse(freeEvo(intState, np.pi/2.0), t2, Omega0, delPrime)\n",
    "    resultM = pulse(freeEvo(intState, -np.pi/2.0), t2, Omega0, delPrime)                   \n",
    "    return rhoee(resultP) - rhoee(resultM)\n",
    "\n",
    "def HRSJumpErrSig(deld, rho0, t1, T, t2, delPrime, Omega0):\n",
    "    intState = freeEvo(pulse(rho0, t1, Omega0, delPrime), deld*T)\n",
    "    resultP = pulse(pulse(freeEvo(intState,np.pi/2.0),2.0*t2/3.0,-Omega0,delPrime),t2/3.0,Omega0,delPrime)\n",
    "    resultM = pulse(pulse(freeEvo(intState,-np.pi/2.0),2.0*t2/3.0,-Omega0,delPrime),t2/3.0,Omega0,delPrime)\n",
    "    return rhoee(resultP) - rhoee(resultM)\n",
    "\n",
    "def heatRSErrSig(deld, rho0, t1, T, t2, delPrime, Omega0, nbardot):\n",
    "    Nstop1 = 100\n",
    "    ni = nbar(rho0)\n",
    "    nDarkTimeAvg = ni+nbardot*(2.0*t1+T)/2.0 #avg nbar during the dark time, gives us the phase accum\n",
    "    intState = freeEvo(fastHeat(pulse(rho0, t1, Omega0, delPrime+dopAndStark(ni)), t1, nbardot, Nstop1), (deld+dopAndStark(nDarkTimeAvg))*T)\n",
    "    Nstop2 = 350\n",
    "    instState = fastHeat(intState, T, nbardot, Nstop2)\n",
    "    n = nbardot*(t1+T)\n",
    "    resultP = pulse(freeEvo(intState, np.pi/2.0), t2, Omega0, delPrime+dopAndStark(n))\n",
    "    resultM = pulse(freeEvo(intState, -np.pi/2.0), t2, Omega0, delPrime+dopAndStark(n))\n",
    "    return rhoee(resultP) - rhoee(resultM)"
   ]
  },
  {
   "cell_type": "code",
   "execution_count": 33,
   "id": "79fc8c67",
   "metadata": {},
   "outputs": [
    {
     "name": "stdout",
     "output_type": "stream",
     "text": [
      "nbarf =  0.0\n",
      "time =  1.1320626735687256\n",
      "shift =  5.003978330588518e-06\n",
      "bracket =  -0.0009685590768758012 0.0010314409231241988\n",
      "nbarf =  7.5\n",
      "time =  204.28036785125732\n",
      "shift =  -1.7650254988335132e-06\n",
      "bracket =  -0.001011089982281068 0.000988910017718932\n",
      "nbarf =  15.0\n",
      "time =  452.693071603775\n",
      "shift =  -8.647220094343838e-06\n",
      "bracket =  -0.0010543320862447293 0.0009456679137552707\n",
      "nbarf =  22.5\n",
      "time =  689.2560920715332\n",
      "shift =  -1.56453416164386e-05\n",
      "bracket =  -0.0010983025805702124 0.0009016974194297877\n",
      "nbarf =  30.0\n",
      "time =  911.2118360996246\n",
      "shift =  -2.276417644144634e-05\n",
      "bracket =  -0.0011430315389469392 0.0008569684610530607\n"
     ]
    }
   ],
   "source": [
    "pts = 5\n",
    "nbarfs = np.linspace(0,30,pts)\n",
    "shifts = np.zeros(pts)\n",
    "rho0 = groundRho(1000,0.0)\n",
    "t1 = 20.0e-3\n",
    "t2 = 3.0*t1\n",
    "T = 200.0e-3\n",
    "delPrime = 10.0e-3*2.0*np.pi\n",
    "Omega0 = np.pi/(2.0*t1)\n",
    "\n",
    "tol = 1.0e-6\n",
    "x0 = -0.001\n",
    "x1 = 0.001\n",
    "guessTol = 0.001\n",
    "\n",
    "for ii in range(pts):\n",
    "    print(\"nbarf = \", nbarfs[ii])\n",
    "    nbardot = nbarfs[ii]/(t1+T+t2)\n",
    "    start = time.time()\n",
    "    shifts[ii] = sp.optimize.root_scalar(heatRSErrSig, args=(rho0, t1, T, t2, delPrime, Omega0, nbardot), bracket=[x0,x1], xtol = tol).root\n",
    "    end = time.time()\n",
    "    print(\"time = \", end-start)\n",
    "    print(\"shift = \", shifts[ii]/(2.0*np.pi))\n",
    "    x0 = shifts[ii] - guessTol\n",
    "    x1 = shifts[ii] + guessTol\n",
    "    print(\"bracket = \", x0,x1)"
   ]
  },
  {
   "cell_type": "code",
   "execution_count": 32,
   "id": "4c49e1c3",
   "metadata": {},
   "outputs": [
    {
     "data": {
      "text/plain": [
       "array([ 3.14409231e-05, -1.10899823e-05, -5.43320862e-05, -9.83025806e-05,\n",
       "       -1.43031539e-04])"
      ]
     },
     "execution_count": 32,
     "metadata": {},
     "output_type": "execute_result"
    },
    {
     "data": {
      "image/png": "[encoded data removed]",
      "text/plain": [
       "<Figure size 432x288 with 1 Axes>"
      ]
     },
     "metadata": {
      "needs_background": "light"
     },
     "output_type": "display_data"
    }
   ],
   "source": [
    "shifts1 = np.array([-6.20680991e-06, -7.99737963e-05, -1.54891781e-04, -2.30985123e-04,\n",
    "       -3.08277711e-04])\n",
    "shifts2 = np.array([-3.05706389e-06, -7.37004742e-05, -1.45450904e-04, -2.18331994e-04,\n",
    "       -2.92368253e-04])\n",
    "plt.plot(nbarfs, 1e3*shifts1/(2.0*np.pi))\n",
    "plt.plot(nbarfs, 1e3*shifts2/(2.0*np.pi))\n",
    "plt.plot(nbarfs, 1e3*shifts/(2.0*np.pi))\n",
    "\n",
    "plt.xlabel(\"Final nbar\")\n",
    "plt.ylabel(\"Clock Shift *2pi (mHz)\")\n",
    "shifts"
   ]
  },
  {
   "cell_type": "code",
   "execution_count": 146,
   "id": "329d746a",
   "metadata": {},
   "outputs": [
    {
     "name": "stdout",
     "output_type": "stream",
     "text": [
      "97.36489152908325\n"
     ]
    }
   ],
   "source": [
    "rho0 = groundRho(1000,0.0)\n",
    "t1 = 20.0e-3\n",
    "t2 = 3.0*t1\n",
    "T = 200.0e-3\n",
    "delPrime = 0.0\n",
    "deld = 0.001*2.0*np.pi\n",
    "Omega0 = np.pi/(2.0*t1)\n",
    "nbardot = 100.0\n",
    "\n",
    "hbar = sp.constants.hbar\n",
    "h = sp.constants.h\n",
    "c = sp.constants.c\n",
    "e = sp.constants.e\n",
    "eVtoJ = 1.602176634e-19\n",
    "amutokg = 1.66053906660e-27\n",
    "\n",
    "omega = 2.0*np.pi*778e3 #Lange\n",
    "Omegarf = 2.0*np.pi*13e6 #Lange\n",
    "m = 170.936331517*amutokg\n",
    "beta = 0.0\n",
    "alpha = 5.89e-40 #J m^2 V^-2 E2 transition (Lange)\n",
    "nu0 = 688358979309307.82 #Hz E2 transition (Huntemann)\n",
    "\n",
    "start = time.time()\n",
    "rho = heatRSErrSig(deld, rho0, t1, T, t2, delPrime, Omega0, nbardot)\n",
    "end = time.time()\n",
    "print(end-start)"
   ]
  },
  {
   "cell_type": "code",
   "execution_count": 11,
   "id": "7eee5c55",
   "metadata": {},
   "outputs": [
    {
     "name": "stdout",
     "output_type": "stream",
     "text": [
      "0.2127974033355713\n"
     ]
    }
   ],
   "source": [
    "rho0 = groundRho(1000,0.0)\n",
    "t1 = 20.0e-3\n",
    "t2 = 3.0*t1\n",
    "T = 200.0e-3\n",
    "delPrime = 0.0\n",
    "deld = 0.001*2.0*np.pi\n",
    "Omega0 = np.pi/(2.0*t1)\n",
    "nbardot = 100.0\n",
    "\n",
    "hbar = sp.constants.hbar\n",
    "h = sp.constants.h\n",
    "c = sp.constants.c\n",
    "e = sp.constants.e\n",
    "eVtoJ = 1.602176634e-19\n",
    "amutokg = 1.66053906660e-27\n",
    "\n",
    "omega = 2.0*np.pi*778e3 #Lange\n",
    "Omegarf = 2.0*np.pi*13e6 #Lange\n",
    "m = 170.936331517*amutokg\n",
    "beta = 0.0\n",
    "alpha = 5.89e-40 #J m^2 V^-2 E2 transition (Lange)\n",
    "nu0 = 688358979309307.82 #Hz E2 transition (Huntemann)\n",
    "\n",
    "start = time.time()\n",
    "rho = RamseyErrSig(deld, rho0, t1, T, t2, delPrime, Omega0)\n",
    "end = time.time()\n",
    "print(end-start)"
   ]
  },
  {
   "cell_type": "code",
   "execution_count": 87,
   "id": "5f8e67cf",
   "metadata": {},
   "outputs": [
    {
     "name": "stdout",
     "output_type": "stream",
     "text": [
      "0.9831652641296387\n"
     ]
    }
   ],
   "source": [
    "rho0 = groundRho(1000, 0.0)\n",
    "start = time.time()\n",
    "Nbar = nbar(fastHeat(rho0, 1.0, 1.0, Nstops[ii]))\n",
    "end = time.time()\n",
    "print(end-start)"
   ]
  },
  {
   "cell_type": "code",
   "execution_count": 136,
   "id": "f080cfd5",
   "metadata": {
    "scrolled": true
   },
   "outputs": [
    {
     "name": "stdout",
     "output_type": "stream",
     "text": [
      "0.04690670967102051\n",
      "0.6652235984802246\n",
      "1.983659029006958\n",
      "3.8427534103393555\n",
      "6.496585845947266\n",
      "9.967365741729736\n",
      "13.90882682800293\n",
      "18.573313236236572\n",
      "26.80643391609192\n",
      "35.51911187171936\n",
      "43.187761545181274\n",
      "54.35204219818115\n",
      "63.88924765586853\n",
      "74.56935906410217\n",
      "87.18542981147766\n",
      "99.41947841644287\n",
      "114.7118661403656\n",
      "125.03819584846497\n",
      "143.4250967502594\n",
      "160.12489438056946\n",
      "174.5672104358673\n"
     ]
    }
   ],
   "source": [
    "#Nstops = np.array([20, 50, 75, 100, 200, 300, 400, 600, 800, 900])\n",
    "Nstops = np.linspace(10, 510, 21)\n",
    "pts = np.size(Nstops)\n",
    "times = np.zeros(pts)\n",
    "errs = np.zeros(pts)\n",
    "rho0 = groundRho(1000, 2.0)\n",
    "for ii in range(pts):\n",
    "    start = time.time()\n",
    "    Nbar = nbar(fastHeat(rho0, 200.0e-3, 100.0, int(Nstops[ii])))\n",
    "    end = time.time()\n",
    "    times[ii] = end-start\n",
    "    print(times[ii])\n",
    "    errs[ii] = 100*(Nbar-22.0)/22.0"
   ]
  },
  {
   "cell_type": "code",
   "execution_count": 138,
   "id": "b8662ec3",
   "metadata": {},
   "outputs": [
    {
     "data": {
      "text/plain": [
       "array([-9.60801684e+01, -7.37184996e+01, -3.96055057e+01, -1.83025475e+01,\n",
       "       -7.79095337e+00, -3.15161625e+00, -1.23186142e+00, -4.70014428e-01,\n",
       "       -1.76335403e-01, -6.52344590e-02, -2.44361233e-02, -8.63928689e-03,\n",
       "       -3.26129363e-03, -1.57276575e-03, -8.51464869e-04, -2.48475292e-04,\n",
       "       -4.31005313e-04, -1.92180118e-04, -2.99642522e-04, -3.29657480e-04,\n",
       "       -6.80499795e-04])"
      ]
     },
     "execution_count": 138,
     "metadata": {},
     "output_type": "execute_result"
    },
    {
     "data": {
      "image/png": "[encoded data removed]",
      "text/plain": [
       "<Figure size 432x288 with 1 Axes>"
      ]
     },
     "metadata": {
      "needs_background": "light"
     },
     "output_type": "display_data"
    }
   ],
   "source": [
    "plt.plot(Nstops, errs)\n",
    "plt.ylim([-0.01, 0.01])\n",
    "errs"
   ]
  },
  {
   "cell_type": "code",
   "execution_count": 140,
   "id": "ba22a27a",
   "metadata": {},
   "outputs": [
    {
     "data": {
      "text/plain": [
       "[<matplotlib.lines.Line2D at 0x215b9ee62c0>]"
      ]
     },
     "execution_count": 140,
     "metadata": {},
     "output_type": "execute_result"
    },
    {
     "data": {
      "image/png": "[encoded data removed]",
      "text/plain": [
       "<Figure size 432x288 with 1 Axes>"
      ]
     },
     "metadata": {
      "needs_background": "light"
     },
     "output_type": "display_data"
    }
   ],
   "source": [
    "plt.plot(Nstops, times)"
   ]
  },
  {
   "cell_type": "code",
   "execution_count": 20,
   "id": "d875ec5e",
   "metadata": {},
   "outputs": [
    {
     "name": "stdout",
     "output_type": "stream",
     "text": [
      "-0.1 0.1\n",
      "0.0\n",
      "-0.1 0.1\n",
      "1.0859438753743622e-05\n",
      "-0.09998914056124626 0.10001085943875375\n",
      "2.171832692104969e-05\n",
      "-0.09997828167307896 0.10002171832692106\n",
      "3.257321792482504e-05\n",
      "-0.09996742678207518 0.10003257321792483\n",
      "4.342211277721941e-05\n",
      "-0.09995657788722279 0.10004342211277722\n",
      "5.426301270944345e-05\n",
      "-0.09994573698729056 0.10005426301270945\n",
      "6.509391898365524e-05\n",
      "-0.09993490608101635 0.10006509391898366\n",
      "7.591283289971884e-05\n",
      "-0.09992408716710029 0.10007591283289972\n",
      "8.67177558047244e-05\n",
      "-0.09991328224419528 0.10008671775580473\n",
      "9.750668910063487e-05\n",
      "-0.09990249331089937 0.10009750668910064\n",
      "0.00010827763425050319\n",
      "-0.0998917223657495 0.10010827763425051\n",
      "0.00011902859278847822\n",
      "-0.09988097140721153 0.10011902859278848\n",
      "0.00012975756632521707\n",
      "-0.09987024243367479 0.10012975756632522\n",
      "0.00014046255655777995\n",
      "-0.09985953744344223 0.10014046255655779\n",
      "0.0001511415652757364\n",
      "-0.09984885843472427 0.10015114156527574\n",
      "0.00016179259437033855\n",
      "-0.09983820740562967 0.10016179259437034\n",
      "0.00017241364584109908\n",
      "-0.0998275863541589 0.1001724136458411\n",
      "0.00018300272180368782\n",
      "-0.09981699727819632 0.1001830027218037\n",
      "0.00019355782449924364\n",
      "-0.09980644217550076 0.10019355782449925\n",
      "0.00020407695629942602\n",
      "-0.09979592304370058 0.10020407695629943\n",
      "0.0002145581197176838\n",
      "-0.09978544188028232 0.10021455811971769\n",
      "0.0002249993174121695\n",
      "-0.09977500068258784 0.10022499931741218\n",
      "0.00023539855219810446\n",
      "-0.0997646014478019 0.10023539855219811\n",
      "0.00024575382705532833\n",
      "-0.09975424617294468 0.10024575382705533\n",
      "0.00025606314513119954\n",
      "-0.0997439368548688 0.1002560631451312\n",
      "0.00026632450975275224\n",
      "-0.09973367549024725 0.10026632450975276\n",
      "0.0002765359244349258\n",
      "-0.09972346407556508 0.10027653592443493\n",
      "0.0002866953928850613\n",
      "-0.09971330460711494 0.10028669539288507\n",
      "0.0002968009190125326\n",
      "-0.09970319908098747 0.10029680091901254\n",
      "0.0003068505069366151\n",
      "time=  10.30091667175293\n"
     ]
    }
   ],
   "source": [
    "t1 = 20e-3\n",
    "t2 = 3.0*t1\n",
    "Omega0 = np.pi/(2.0*t1) #hz\n",
    "T = 200e-3\n",
    "rho0 = groundRho(1000, 0.0)\n",
    "#rho0 = heat(groundRho(1000, 0.0), 1.0, 1.0)\n",
    "\n",
    "pts = 30\n",
    "delPrimes = np.linspace(0, 0.1*2.0*np.pi, pts)\n",
    "deltas = np.zeros(pts)\n",
    "guessTol = 0.1\n",
    "x0 = -0.1\n",
    "x1 = 0.1\n",
    "\n",
    "start = time.time()\n",
    "for ii in range(pts):\n",
    "    print(x0,x1)\n",
    "    deltas[ii] = sp.optimize.root_scalar(RamseyErrSig, args=(rho0, t1, T, t2, delPrimes[ii], Omega0), bracket=[x0,x1], xtol = 1e-5).root\n",
    "    x0 = deltas[ii] - guessTol\n",
    "    x1 = deltas[ii] + guessTol\n",
    "    print(deltas[ii])\n",
    "\n",
    "end = time.time()\n",
    "print(\"time= \",end-start)"
   ]
  },
  {
   "cell_type": "code",
   "execution_count": 21,
   "id": "8f9b282c",
   "metadata": {},
   "outputs": [
    {
     "data": {
      "image/png": "[encoded data removed]",
      "text/plain": [
       "<Figure size 432x288 with 1 Axes>"
      ]
     },
     "metadata": {
      "needs_background": "light"
     },
     "output_type": "display_data"
    }
   ],
   "source": [
    "plt.plot(delPrimes*1e3/(2.0*np.pi), deltas*1e3/(2.0*np.pi))\n",
    "plt.xlabel(r\"$\\delta_p/(2\\pi)*t_1$ (pulse detuning)\" )\n",
    "plt.ylabel(r\"$\\delta T$ (clock shift)\")\n",
    "plt.show()"
   ]
  },
  {
   "cell_type": "code",
   "execution_count": 40,
   "id": "3e8de007",
   "metadata": {},
   "outputs": [
    {
     "name": "stdout",
     "output_type": "stream",
     "text": [
      "5.000095956640908\n",
      "126.15862822532654\n"
     ]
    }
   ],
   "source": [
    "start = time.time()\n",
    "print(nbar(heat(groundRho(1000,0.0), 0.05, 100.0)))\n",
    "end = time.time()\n",
    "print(end-start)"
   ]
  },
  {
   "cell_type": "code",
   "execution_count": 60,
   "id": "06c0902f",
   "metadata": {},
   "outputs": [
    {
     "name": "stdout",
     "output_type": "stream",
     "text": [
      "1.0000000000000007\n",
      "0.9870343208312988\n"
     ]
    }
   ],
   "source": [
    "start = time.time()\n",
    "print(nbar(heat(groundRho(1000,0.0), 1.0, 1.0)))\n",
    "end = time.time()\n",
    "print(end-start)"
   ]
  },
  {
   "cell_type": "code",
   "execution_count": 66,
   "id": "acbd6310",
   "metadata": {},
   "outputs": [
    {
     "name": "stdout",
     "output_type": "stream",
     "text": [
      "0.9999793117474755\n",
      "0.10674786567687988\n"
     ]
    }
   ],
   "source": [
    "start = time.time()\n",
    "print(nbar(fastHeat(groundRho(2000,0.0), 1.0, 1.0)))\n",
    "end = time.time()\n",
    "print(end-start)"
   ]
  }
 ],
 "metadata": {
  "kernelspec": {
   "display_name": "Python 3 (ipykernel)",
   "language": "python",
   "name": "python3"
  },
  "language_info": {
   "codemirror_mode": {
    "name": "ipython",
    "version": 3
   },
   "file_extension": ".py",
   "mimetype": "text/x-python",
   "name": "python",
   "nbconvert_exporter": "python",
   "pygments_lexer": "ipython3",
   "version": "3.10.5"
  }
 },
 "nbformat": 4,
 "nbformat_minor": 5
}
