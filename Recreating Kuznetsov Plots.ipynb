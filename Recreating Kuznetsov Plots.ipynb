{
 "cells": [
  {
   "cell_type": "code",
   "execution_count": 1,
   "id": "3b1a14a4",
   "metadata": {},
   "outputs": [],
   "source": [
    "#from qutip import *\n",
    "import numpy as np\n",
    "import scipy as sp\n",
    "import math\n",
    "import matplotlib.pyplot as plt\n",
    "from scipy.special import genlaguerre as L\n",
    "from scipy.integrate import solve_ivp as solve\n",
    "from scipy.integrate import odeint\n",
    "import time"
   ]
  },
  {
   "cell_type": "code",
   "execution_count": 2,
   "id": "c27e48d9",
   "metadata": {},
   "outputs": [],
   "source": [
    "hbar = sp.constants.hbar\n",
    "h = sp.constants.h\n",
    "c = sp.constants.c\n",
    "e = sp.constants.e\n",
    "eVtoJ = 1.602176634e-19\n",
    "amutokg = 1.66053906660e-27\n",
    "\n",
    "omega = 2.0*np.pi*778e3 #Lange\n",
    "Omegarf = 2.0*np.pi*13e6 #Lange\n",
    "m = 170.936331517*amutokg\n",
    "beta = 0.0\n",
    "alpha = 5.89e-40 #J m^2 V^-2 E2 transition (Lange)\n",
    "nu0 = 688358979309307.82 #Hz E2 transition (Huntemann)"
   ]
  },
  {
   "cell_type": "code",
   "execution_count": 3,
   "id": "1e939331",
   "metadata": {},
   "outputs": [
    {
     "name": "stderr",
     "output_type": "stream",
     "text": [
      "D:\\Mark\\Python\\lib\\site-packages\\scipy\\special\\_orthogonal.py:651: RuntimeWarning: invalid value encountered in double_scalars\n",
      "  hn = _gam(n + alpha + 1) / _gam(n + 1)\n",
      "D:\\Mark\\Python\\lib\\site-packages\\scipy\\special\\_orthogonal.py:140: RuntimeWarning: invalid value encountered in multiply\n",
      "  np.poly1d.__init__(self, poly.coeffs * float(kn))\n",
      "D:\\Mark\\Python\\lib\\site-packages\\scipy\\special\\_orthogonal.py:196: RuntimeWarning: overflow encountered in true_divide\n",
      "  w = 1.0 / (fm * dy)\n",
      "D:\\Mark\\Python\\lib\\site-packages\\scipy\\special\\_orthogonal.py:202: RuntimeWarning: invalid value encountered in multiply\n",
      "  w *= mu0 / w.sum()\n",
      "D:\\Mark\\Python\\lib\\site-packages\\scipy\\special\\_orthogonal.py:127: RuntimeWarning: invalid value encountered in double_scalars\n",
      "  equiv_weights = [weights[k] / wfunc(roots[k]) for\n",
      "D:\\Mark\\Python\\lib\\site-packages\\scipy\\special\\_orthogonal.py:196: RuntimeWarning: divide by zero encountered in true_divide\n",
      "  w = 1.0 / (fm * dy)\n",
      "D:\\Mark\\Python\\lib\\site-packages\\scipy\\special\\_orthogonal.py:553: RuntimeWarning: overflow encountered in multiply\n",
      "  - (n + alpha)*cephes.eval_genlaguerre(n-1, alpha, x))/x\n",
      "D:\\Mark\\Python\\lib\\site-packages\\scipy\\special\\_orthogonal.py:195: RuntimeWarning: invalid value encountered in true_divide\n",
      "  dy /= np.abs(dy).max()\n"
     ]
    }
   ],
   "source": [
    "def prob(n,nbar):\n",
    "    return 1.0/(nbar+1)*(nbar/(nbar+1))**n    #returns prob of being in state n given nbar\n",
    "\n",
    "def dopAndStark(n):       #for 1D!! to make 3d, multiply this by 3                        \n",
    "    return 0.0#-2.0*np.pi*nu0*hbar*omega*(n+0.5)/(m*c**2)*(1.0 + alpha*m**2*Omegarf**2*c**2/(h*nu0*e**2*2)) \n",
    "\n",
    "def Omega(n,m,eta):\n",
    "    return np.abs(np.exp(-eta**2/2.0) * eta**(np.abs(m)) * (math.factorial(n)/math.factorial(n+m))**(np.sign(m)/2.0) \\\n",
    "        * L(n,np.abs(m))(eta**2))             #returns unitless rabi rate of transition n -> n+m given Lamb-Dicke Parameter\n",
    "\n",
    "def fastOmega(n,m,eta):\n",
    "    return 1.0 - eta**2.0*n\n",
    "\n",
    "eta = 0.1\n",
    "omegas = np.zeros(500)\n",
    "for ii in range(np.size(omegas)):\n",
    "    omegas[ii] = Omega(ii,0,eta)"
   ]
  },
  {
   "cell_type": "code",
   "execution_count": 8,
   "id": "6dd1c543",
   "metadata": {},
   "outputs": [
    {
     "data": {
      "text/plain": [
       "0.0987654320987654"
      ]
     },
     "execution_count": 8,
     "metadata": {},
     "output_type": "execute_result"
    }
   ],
   "source": [
    "prob(3,2)"
   ]
  },
  {
   "cell_type": "code",
   "execution_count": 6,
   "id": "536653d9",
   "metadata": {},
   "outputs": [],
   "source": [
    "#takes rho as a 3 element vector and converts it to a 2x2 matrix by calculating the conj. of rhoge\n",
    "def subpulse(rho0, t, Omega0, delta):\n",
    "    rho = np.array([[rho0[0], rho0[2]],[np.conj(rho0[2]), rho0[1]]])\n",
    "    Omega = np.sqrt(Omega0**2 + delta**2)\n",
    "    if Omega == 0.0:\n",
    "        U = np.array([[1.0 , 0.0],\n",
    "                      [0.0 , 1.0]])\n",
    "    else:\n",
    "        U = np.array([[np.cos(Omega*t/2.0) -(1.0j*delta/Omega)*np.sin(Omega*t/2.0), (1.0j*Omega0/Omega)*np.sin(Omega*t/2.0)],\n",
    "                     [(1.0j*Omega0/Omega)*np.sin(Omega*t/2.0) , np.cos(Omega*t/2.0) + (1.0j*delta/Omega)*np.sin(Omega*t/2.0)]])\n",
    "    rho = U@rho@np.conj(U)\n",
    "    return np.array([rho[0,0], rho[1,1], rho[0,1]])\n",
    "\n",
    "def pulse(rho0, t, Omega0, delta):\n",
    "    Ncut = rho0.size//3 - 1\n",
    "    rho = np.array([0.0+0.0j]*3*(Ncut+1))\n",
    "    for n in range(Ncut):\n",
    "        rho[3*n:3*(n+1)] = subpulse(rho0[3*n:3*(n+1)], t, Omega0*omegas[n], delta)\n",
    "    return rho"
   ]
  },
  {
   "cell_type": "code",
   "execution_count": 7,
   "id": "200e651b",
   "metadata": {},
   "outputs": [],
   "source": [
    "def heatEqns(t, rho, nbardot):\n",
    "    Ncut = rho.shape[0]//3 - 1\n",
    "    rhoDot = [0.0+0.0j]*((Ncut+1)*3)\n",
    "    for ii in range(3):\n",
    "        rhoDot[0+ii] = nbardot*(-rho[0+ii]+rho[3*1+ii])\n",
    "        rhoDot[3*Ncut+ii] = nbardot*(-Ncut*rho[3*Ncut+ii]+Ncut*rho[3*(Ncut-1)+ii])\n",
    "        #Note*** the above line is true in the limit that rho[Ncut+1,ii]=rho[Ncut,ii] (fair assumption for large Ncut I think)\n",
    "        for n in range(1,Ncut-1):\n",
    "            rhoDot[3*n+ii] = nbardot*(-(2.0*n+1.0)*rho[3*n+ii] + (n+1.0)*rho[3*(n+1)+ii] + n*rho[3*(n-1)+ii])\n",
    "    return rhoDot\n",
    "\n",
    "def heat(rho0, t, nbardot):\n",
    "    rho = solve(heatEqns, [0.0,t], rho0, args=[nbardot]).y[:,-1]\n",
    "    return rho\n",
    "\n",
    "def fastHeat(rho0, t, nbardot, Nstop):\n",
    "    #Nstop = 100\n",
    "    Ncut = rho0.shape[0]//3 - 1\n",
    "    rho = np.array([0.0+0.0j]*3*(Ncut+1))\n",
    "    rho[:3*Nstop] = solve(heatEqns, [0.0,t], rho0[:3*Nstop], args=[nbardot]).y[:,-1]\n",
    "    rho[3*Nstop:] = rho0[3*Nstop:]\n",
    "    return rho"
   ]
  },
  {
   "cell_type": "code",
   "execution_count": 8,
   "id": "e3fc1037",
   "metadata": {},
   "outputs": [],
   "source": [
    "def subFreeEvo(rho0, phi):\n",
    "    return np.array([rho0[0], rho0[1], rho0[2]*np.exp(-1.0j*phi)])\n",
    "\n",
    "def freeEvo(rho0, phi):\n",
    "    Ncut = rho0.size//3 - 1\n",
    "    rho = np.array([0.0+0.0j]*3*(Ncut+1))\n",
    "    for n in range(Ncut):\n",
    "        rho[3*n:3*(n+1)] = subFreeEvo(rho0[3*n:3*(n+1)], phi)\n",
    "    return rho"
   ]
  },
  {
   "cell_type": "code",
   "execution_count": 9,
   "id": "b56985db",
   "metadata": {},
   "outputs": [],
   "source": [
    "def groundRho(Ncut, nbar):\n",
    "    rho = np.array([0.0+0.0j]*3*(Ncut+1))\n",
    "    for n in range(Ncut):\n",
    "        rho[3*n] = prob(n,nbar)\n",
    "    return rho\n",
    "\n",
    "def nbar(rho):\n",
    "    Ncut = rho.shape[0]//3\n",
    "    nbar = 0.0\n",
    "    for n in range(Ncut):\n",
    "        nbar += n*(rho[n*3].real + rho[n*3+1].real)\n",
    "    return nbar\n",
    "\n",
    "def rhogg(rho):\n",
    "    rhogg = 0.0\n",
    "    Ncut = rho.shape[0]//3\n",
    "    for n in range(Ncut):\n",
    "        rhogg += rho[(3*n)].real\n",
    "    return rhogg\n",
    "\n",
    "def rhoee(rho):\n",
    "    rhoee = 0.0\n",
    "    Ncut = rho.shape[0]//3\n",
    "    for n in range(Ncut):\n",
    "        rhoee += rho[(3*n)+1].real\n",
    "    return rhoee"
   ]
  },
  {
   "cell_type": "code",
   "execution_count": 10,
   "id": "87bee0a8",
   "metadata": {},
   "outputs": [],
   "source": [
    "def ramsey(rho0, t1, T, t2, deld, delPrime, Omega0):\n",
    "    intState = freeEvo(pulse(rho0, t1, Omega0, delPrime), deld*T)\n",
    "    result = pulse(intState, t2, Omega0, delPrime)\n",
    "    return result\n",
    "\n",
    "def heatRamsey(rho0, t1, T, t2, deld, Delta, Omega0, nbardot):\n",
    "    delPrime = deld - Delta\n",
    "    Nstop1 = 100\n",
    "    ni = nbar(rho0)\n",
    "    nDarkTimeAvg = ni+nbardot*(2.0*t1+T)/2.0 #avg nbar during the dark time, gives us the phase accum\n",
    "    intState = freeEvo(fastHeat(pulse(rho0, t1, Omega0, delPrime+dopAndStark(ni)), t1, nbardot, Nstop1), (deld+dopAndStark(nDarkTimeAvg))*T)\n",
    "    Nstop2 = 350\n",
    "    instState = fastHeat(intState, T, nbardot, Nstop2)\n",
    "    n = nbardot*(t1+T)\n",
    "    result = pulse(intState, t2, Omega0, delPrime+dopAndStark(n))\n",
    "    return result\n",
    "\n",
    "def RamseyErrSig(deld, rho0, t1, T, t2, delPrime, Omega0):\n",
    "    intState = freeEvo(pulse(rho0, t1, Omega0, delPrime), deld*T)\n",
    "    resultP = pulse(freeEvo(intState, np.pi/2.0), t2, Omega0, delPrime)\n",
    "    resultM = pulse(freeEvo(intState, -np.pi/2.0), t2, Omega0, delPrime)                   \n",
    "    return rhoee(resultP) - rhoee(resultM)\n",
    "\n",
    "def HRSJumpErrSig(deld, rho0, t1, T, t2, delPrime, Omega0):\n",
    "    intState = freeEvo(pulse(rho0, t1, Omega0, delPrime), deld*T)\n",
    "    resultP = pulse(pulse(freeEvo(intState,np.pi/2.0),2.0*t2/3.0,-Omega0,delPrime),t2/3.0,Omega0,delPrime)\n",
    "    resultM = pulse(pulse(freeEvo(intState,-np.pi/2.0),2.0*t2/3.0,-Omega0,delPrime),t2/3.0,Omega0,delPrime)\n",
    "    return rhoee(resultP) - rhoee(resultM)\n",
    "\n",
    "def heatRSErrSigLSEE(deld, rho0, t1, T, t2, Delta, Omega0, nbardot):\n",
    "    delPrime = deld - Delta\n",
    "    #Nstop1 = 100\n",
    "    ni = nbar(rho0)\n",
    "    nDarkTimeAvg = ni+nbardot*(2.0*t1+T)/2.0 #avg nbar during the dark time, gives us the phase accum\n",
    "    intState = freeEvo(heat(pulse(rho0, t1, Omega0, delPrime+dopAndStark(ni)), t1, nbardot), (deld+dopAndStark(nDarkTimeAvg))*T)\n",
    "    #Nstop2 = 350\n",
    "    instState = heat(intState, T, nbardot)\n",
    "    n = nbardot*(t1+T)\n",
    "    resultP = pulse(pulse(freeEvo(intState, np.pi/2.0), 2.*t2/3., -Omega0, delPrime+dopAndStark(n)), t2/3., Omega0, delPrime+dopAndStark(n))\n",
    "    resultM = pulse(pulse(freeEvo(intState, -np.pi/2.0), 2.*t2/3., -Omega0, delPrime+dopAndStark(n)), t2/3., Omega0, delPrime+dopAndStark(n))\n",
    "    return rhoee(resultP) - rhoee(resultM)\n",
    "\n",
    "def heatHRSErrSigLSEE(deld, rho0, t1, T, t2, Delta, Omega0, nbardot):\n",
    "    delPrime = deld - Delta\n",
    "    intState = heat(pulse(rho0, t1/3., Omega0, delPrime), t1/3., nbardot)\n",
    "    intState = heat(freeEvo(heat(pulse(intState, 2.*t1/3.0, -Omega0, delPrime), 2.*t2/3., nbardot), deld*T), T, nbardot)\n",
    "    resultP = pulse(freeEvo(intState,np.pi/2.), t2, Omega0, delPrime)\n",
    "    resultM = pulse(freeEvo(intState,-np.pi/2.), t2, Omega0, delPrime)\n",
    "    return rhoee(resultP) - rhoee(resultM)"
   ]
  },
  {
   "cell_type": "code",
   "execution_count": 65,
   "id": "79fc8c67",
   "metadata": {},
   "outputs": [
    {
     "name": "stdout",
     "output_type": "stream",
     "text": [
      "Delta =  0.0\n",
      "time =  31.065525770187378\n",
      "shift =  0.0\n",
      "bracket =  -0.1 0.1\n",
      "Delta =  0.15707963267948966\n",
      "time =  51.424996852874756\n",
      "shift =  4.3329539106776464e-05\n",
      "bracket =  -0.09995667046089322 0.10004332953910679\n",
      "Delta =  0.3141592653589793\n",
      "time =  51.91006326675415\n",
      "shift =  9.207834979265931e-05\n",
      "bracket =  -0.09990792165020734 0.10009207834979267\n",
      "Delta =  0.47123889803846897\n",
      "time =  52.30112552642822\n",
      "shift =  0.00015166175506483985\n",
      "bracket =  -0.09984833824493516 0.10015166175506485\n",
      "Delta =  0.6283185307179586\n",
      "time =  53.8185179233551\n",
      "shift =  0.00022748718919999043\n",
      "bracket =  -0.09977251281080002 0.10022748718919999\n"
     ]
    }
   ],
   "source": [
    "Omega0 = 10.0*2.0*np.pi\n",
    "nbardot = 3.0*Omega0/(2.0*np.pi)\n",
    "t1 = np.pi/(2.0*Omega0)\n",
    "T = 4.0*t1\n",
    "t2 = 3.0*t1\n",
    "Ncut = 270\n",
    "nbar0 = 20.0\n",
    "rho0 = groundRho(Ncut, nbar0)\n",
    "\n",
    "pts = 5\n",
    "Deltas = np.linspace(0.0, 0.01*Omega0, pts)\n",
    "shifts = np.zeros(pts)\n",
    "#Delta = 0.1/(2.0*np.pi)\n",
    "\n",
    "tol = 1.0e-6\n",
    "x0 = -0.1\n",
    "x1 = 0.1\n",
    "guessTol = 0.1\n",
    "\n",
    "for ii in range(pts):\n",
    "    print(\"Delta = \", Deltas[ii])\n",
    "    start = time.time()\n",
    "    shifts[ii] = sp.optimize.root_scalar(heatRSErrSigLSEE, args=(rho0, t1, T, t2, Deltas[ii], Omega0, nbardot), bracket=[x0,x1], xtol = tol).root\n",
    "    end = time.time()\n",
    "    print(\"time = \", end-start)\n",
    "    print(\"shift = \", shifts[ii])\n",
    "    x0 = shifts[ii] - guessTol\n",
    "    x1 = shifts[ii] + guessTol\n",
    "    print(\"bracket = \", x0,x1)"
   ]
  },
  {
   "cell_type": "code",
   "execution_count": 67,
   "id": "8d592e97",
   "metadata": {},
   "outputs": [
    {
     "data": {
      "text/plain": [
       "[<matplotlib.lines.Line2D at 0x1b838343df0>]"
      ]
     },
     "execution_count": 67,
     "metadata": {},
     "output_type": "execute_result"
    },
    {
     "data": {
      "image/png": "[encoded data removed]",
      "text/plain": [
       "<Figure size 432x288 with 1 Axes>"
      ]
     },
     "metadata": {
      "needs_background": "light"
     },
     "output_type": "display_data"
    }
   ],
   "source": [
    "plt.plot(-Deltas/Omega0, shifts/Omega0)"
   ]
  },
  {
   "cell_type": "code",
   "execution_count": 11,
   "id": "9fe9eca2",
   "metadata": {},
   "outputs": [
    {
     "name": "stdout",
     "output_type": "stream",
     "text": [
      "Delta =  0.0\n",
      "time =  35.42776346206665\n",
      "shift =  0.0\n",
      "bracket =  -0.1 0.1\n",
      "Delta =  0.15707963267948966\n",
      "time =  57.15853977203369\n",
      "shift =  -0.0009897662539953775\n",
      "bracket =  -0.10098976625399539 0.09901023374600462\n",
      "Delta =  0.3141592653589793\n",
      "time =  58.816526889801025\n",
      "shift =  -0.001973832885925891\n",
      "bracket =  -0.1019738328859259 0.09802616711407411\n",
      "Delta =  0.47123889803846897\n",
      "time =  58.41828513145447\n",
      "shift =  -0.0029465046759127914\n",
      "bracket =  -0.10294650467591279 0.09705349532408722\n",
      "Delta =  0.6283185307179586\n",
      "time =  58.24189901351929\n",
      "shift =  -0.0039020950476803804\n",
      "bracket =  -0.10390209504768039 0.09609790495231962\n"
     ]
    }
   ],
   "source": [
    "Omega0 = 10.0*2.0*np.pi\n",
    "nbardot = 3.0*Omega0/(2.0*np.pi)\n",
    "t1 = 3.0*np.pi/(2.0*Omega0)\n",
    "T = 4.0*t1/3.0\n",
    "t2 = t1/3.0\n",
    "Ncut = 270\n",
    "nbar0 = 20.0\n",
    "rho0 = groundRho(Ncut, nbar0)\n",
    "\n",
    "pts = 5\n",
    "Deltas = np.linspace(0.0, 0.01*Omega0, pts)\n",
    "shifts = np.zeros(pts)\n",
    "#Delta = 0.1/(2.0*np.pi)\n",
    "\n",
    "tol = 1.0e-6\n",
    "x0 = -0.1\n",
    "x1 = 0.1\n",
    "guessTol = 0.1\n",
    "\n",
    "for ii in range(pts):\n",
    "    print(\"Delta = \", Deltas[ii])\n",
    "    start = time.time()\n",
    "    shifts[ii] = sp.optimize.root_scalar(heatHRSErrSigLSEE, args=(rho0, t1, T, t2, Deltas[ii], Omega0, nbardot), bracket=[x0,x1], xtol = tol).root\n",
    "    end = time.time()\n",
    "    print(\"time = \", end-start)\n",
    "    print(\"shift = \", shifts[ii])\n",
    "    x0 = shifts[ii] - guessTol\n",
    "    x1 = shifts[ii] + guessTol\n",
    "    print(\"bracket = \", x0,x1)"
   ]
  },
  {
   "cell_type": "code",
   "execution_count": 20,
   "id": "a3a05542",
   "metadata": {},
   "outputs": [
    {
     "data": {
      "text/plain": [
       "22.688448218251594"
      ]
     },
     "execution_count": 20,
     "metadata": {},
     "output_type": "execute_result"
    }
   ],
   "source": [
    "nbar(heatRamsey(rho0, t1, T, t2, 8.055196534194968e-10, Delta, Omega0, nbardot))"
   ]
  },
  {
   "cell_type": "code",
   "execution_count": 16,
   "id": "5b235326",
   "metadata": {},
   "outputs": [
    {
     "data": {
      "text/plain": [
       "271"
      ]
     },
     "execution_count": 16,
     "metadata": {},
     "output_type": "execute_result"
    }
   ],
   "source": [
    "groundRho(270, 40).shape[0]//3"
   ]
  },
  {
   "cell_type": "code",
   "execution_count": 27,
   "id": "59f47bc7",
   "metadata": {},
   "outputs": [
    {
     "data": {
      "text/plain": [
       "-0.00415694324109902"
      ]
     },
     "execution_count": 27,
     "metadata": {},
     "output_type": "execute_result"
    }
   ],
   "source": [
    "-0.02611884469525285/(2.0*np.pi)"
   ]
  },
  {
   "cell_type": "code",
   "execution_count": 38,
   "id": "def68a17",
   "metadata": {},
   "outputs": [
    {
     "data": {
      "text/plain": [
       "7.524724356330698e-05"
      ]
     },
     "execution_count": 38,
     "metadata": {},
     "output_type": "execute_result"
    }
   ],
   "source": [
    " 0.004727923751627341/Omega0"
   ]
  },
  {
   "cell_type": "code",
   "execution_count": 45,
   "id": "ea584980",
   "metadata": {},
   "outputs": [
    {
     "data": {
      "text/plain": [
       "6.283185307179586"
      ]
     },
     "execution_count": 45,
     "metadata": {},
     "output_type": "execute_result"
    }
   ],
   "source": [
    "0.1*Omega0"
   ]
  },
  {
   "cell_type": "code",
   "execution_count": 9,
   "id": "17197e7b",
   "metadata": {},
   "outputs": [
    {
     "data": {
      "text/plain": [
       "[<matplotlib.lines.Line2D at 0x1b82fcc6aa0>]"
      ]
     },
     "execution_count": 9,
     "metadata": {},
     "output_type": "execute_result"
    },
    {
     "data": {
      "image/png": "[encoded data removed]",
      "text/plain": [
       "<Figure size 432x288 with 1 Axes>"
      ]
     },
     "metadata": {
      "needs_background": "light"
     },
     "output_type": "display_data"
    }
   ],
   "source": [
    "plt.plot(omegas)"
   ]
  },
  {
   "cell_type": "code",
   "execution_count": 7,
   "id": "e697bb6c",
   "metadata": {},
   "outputs": [
    {
     "data": {
      "text/plain": [
       "500"
      ]
     },
     "execution_count": 7,
     "metadata": {},
     "output_type": "execute_result"
    }
   ],
   "source": [
    "np.size(omegas)"
   ]
  },
  {
   "cell_type": "code",
   "execution_count": 20,
   "id": "b9293573",
   "metadata": {},
   "outputs": [],
   "source": [
    "ns = np.linspace(0,1000,1001)\n",
    "tot = 0.\n",
    "probs = np.zeros(1001)\n",
    "for ii in range(1001):\n",
    "    probs[ii] = prob(ii,10.)\n",
    "    tot += probs[ii]"
   ]
  },
  {
   "cell_type": "code",
   "execution_count": 21,
   "id": "606c5603",
   "metadata": {},
   "outputs": [
    {
     "data": {
      "text/plain": [
       "-6.661338147750939e-16"
      ]
     },
     "execution_count": 21,
     "metadata": {},
     "output_type": "execute_result"
    }
   ],
   "source": [
    "tot-1"
   ]
  },
  {
   "cell_type": "code",
   "execution_count": 45,
   "id": "4e40cee4",
   "metadata": {},
   "outputs": [],
   "source": [
    "ns = np.arange(0,270,10)\n",
    "nbar = 58.\n",
    "tot2 = 0.\n",
    "probs2 = np.zeros(np.size(ns))\n",
    "for ii in range(np.size(ns)):\n",
    "    probs2[ii] = prob(ns[ii],nbar)\n",
    "    tot2 += probs2[ii]"
   ]
  },
  {
   "cell_type": "code",
   "execution_count": 46,
   "id": "3f6e9ee9",
   "metadata": {},
   "outputs": [
    {
     "data": {
      "text/plain": [
       "1.0679845495498126"
      ]
     },
     "execution_count": 46,
     "metadata": {},
     "output_type": "execute_result"
    }
   ],
   "source": [
    "10.*tot2"
   ]
  },
  {
   "cell_type": "code",
   "execution_count": 37,
   "id": "1141ad6f",
   "metadata": {},
   "outputs": [
    {
     "data": {
      "text/plain": [
       "array([  0,  10,  20,  30,  40,  50,  60,  70,  80,  90, 100, 110, 120,\n",
       "       130, 140, 150, 160, 170, 180, 190, 200, 210, 220, 230, 240, 250,\n",
       "       260])"
      ]
     },
     "execution_count": 37,
     "metadata": {},
     "output_type": "execute_result"
    }
   ],
   "source": [
    "ns = np.arange(0,270,10)\n",
    "ns"
   ]
  },
  {
   "cell_type": "code",
   "execution_count": 31,
   "id": "91bf03fc",
   "metadata": {},
   "outputs": [
    {
     "data": {
      "text/plain": [
       "[<matplotlib.lines.Line2D at 0x1b82fda50f0>]"
      ]
     },
     "execution_count": 31,
     "metadata": {},
     "output_type": "execute_result"
    },
    {
     "data": {
      "image/png": "[encoded data removed]",
      "text/plain": [
       "<Figure size 432x288 with 1 Axes>"
      ]
     },
     "metadata": {
      "needs_background": "light"
     },
     "output_type": "display_data"
    }
   ],
   "source": [
    "plt.plot(probs2)"
   ]
  },
  {
   "cell_type": "code",
   "execution_count": null,
   "id": "f6f777e2",
   "metadata": {},
   "outputs": [],
   "source": []
  }
 ],
 "metadata": {
  "kernelspec": {
   "display_name": "Python 3 (ipykernel)",
   "language": "python",
   "name": "python3"
  },
  "language_info": {
   "codemirror_mode": {
    "name": "ipython",
    "version": 3
   },
   "file_extension": ".py",
   "mimetype": "text/x-python",
   "name": "python",
   "nbconvert_exporter": "python",
   "pygments_lexer": "ipython3",
   "version": "3.10.5"
  }
 },
 "nbformat": 4,
 "nbformat_minor": 5
}
