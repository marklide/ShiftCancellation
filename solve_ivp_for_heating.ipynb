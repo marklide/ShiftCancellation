{
 "cells": [
  {
   "cell_type": "code",
   "execution_count": 13,
   "id": "687a94a3",
   "metadata": {},
   "outputs": [],
   "source": [
    "from qutip import *\n",
    "import numpy as np\n",
    "import scipy as sp\n",
    "import math\n",
    "import matplotlib.pyplot as plt\n",
    "from scipy.special import genlaguerre as L\n",
    "from scipy.integrate import solve_ivp as solve\n",
    "from scipy.integrate import odeint\n",
    "import time"
   ]
  },
  {
   "cell_type": "markdown",
   "id": "d3c6833e",
   "metadata": {},
   "source": [
    "To save time and space anytime rho appears without a specific mention of an element of rho (like rhogg), rho will be defined as rho = [rhogg, rhoee, rhoeg]. As such, when we have multiple harmonic osc states, rho[n] = [rhogg, rhoee, rhoeg] and rho = [rho[0], rho[1] ...]\n",
    "\n",
    "Update: we need rho to be 1D to be compatible with the integrater. So now rhoggn = rho[3n], rhoeen = rho[3n+1], and rhogen = rho[3n+2]"
   ]
  },
  {
   "cell_type": "code",
   "execution_count": 241,
   "id": "369b6036",
   "metadata": {},
   "outputs": [],
   "source": [
    "def prob(n,nbar):\n",
    "    return 1.0/(nbar+1)*(nbar/(nbar+1))**n    #returns prob of being in state n given nbar\n",
    "\n",
    "def dopAndStark(n):       #for 1D!! to make 3d, multiply this by 3                        \n",
    "    return -2.0*np.pi*nu0*hbar*omega*(n+0.5)/(m*c**2)*(1.0 + alpha*m**2*Omegarf**2*c**2/(h*nu0*e**2*2)) \n",
    "\n",
    "def Omega(n,m,eta):\n",
    "    return np.exp(-eta**2/2.0) * eta**(np.abs(m)) * (math.factorial(n)/math.factorial(n+m))**(np.sign(m)/2.0) \\\n",
    "        * L(n,np.abs(m))(eta**2)              #returns unitless rabi rate of transition n -> n+m given Lamb-Dicke Parameter\n",
    "\n",
    "def fastOmega(n,m,eta):\n",
    "    return 1.0 - eta**2.0*n\n",
    "\n",
    "eta = 0.05\n",
    "omegas = np.zeros(2000)\n",
    "for ii in range(np.size(omegas)):\n",
    "    omegas[ii] = Omega(ii,0,eta)"
   ]
  },
  {
   "cell_type": "code",
   "execution_count": 168,
   "id": "b3e457e4",
   "metadata": {},
   "outputs": [],
   "source": [
    "#def groundRho(Ncut):\n",
    "#    rho = np.array([[0.0+0.0j]*3]*(Ncut+1))\n",
    "#    rho[0][0] = 1.0+0.0j\n",
    "#    rho = np.reshape(rho, (Ncut+1)*3)\n",
    "#    return rho\n",
    "\n",
    "def groundRho(Ncut, nbar):\n",
    "    rho = np.array([0.0+0.0j]*3*(Ncut+1))\n",
    "    for n in range(Ncut):\n",
    "        rho[3*n] = prob(n,nbar)\n",
    "    return rho\n",
    "\n",
    "def heatSys(t, rho, nbardot):\n",
    "    Ncut = rho.shape[0]//3 - 1\n",
    "    rhoDot = [0.0+0.0j]*((Ncut+1)*3)\n",
    "    for ii in range(3):\n",
    "        rhoDot[0+ii] = nbardot*(-rho[0+ii]+rho[3*1+ii])\n",
    "        rhoDot[3*Ncut+ii] = nbardot*(-Ncut*rho[3*Ncut+ii]+Ncut*rho[3*(Ncut-1)+ii])\n",
    "        #Note*** the above line is true in the limit that rho[Ncut+1,ii]=rho[Ncut,ii] (fair assumption for large Ncut I think)\n",
    "        for n in range(1,Ncut-1):\n",
    "            rhoDot[3*n+ii] = nbardot*(-(2.0*n+1.0)*rho[3*n+ii] + (n+1.0)*rho[3*(n+1)+ii] + n*rho[3*(n-1)+ii])\n",
    "    return rhoDot\n",
    "\n",
    "def subFreeEvo(rho0, phi):\n",
    "    return np.array([rho0[0], rho0[1], rho0[2]*np.exp(-1.0j*phi)])\n",
    "\n",
    "def freeEvo(rho0, phi):\n",
    "    Ncut = rho0.size//3 - 1\n",
    "    rho = np.array([0.0+0.0j]*3*(Ncut+1))\n",
    "    for n in range(Ncut):\n",
    "        rho[3*n:3*(n+1)] = subFreeEvo(rho0[3*n:3*(n+1)], phi)\n",
    "    return rho\n",
    "\n",
    "def nbar(rho):\n",
    "    Ncut = rho.shape[0]//3\n",
    "    nbar = 0.0\n",
    "    for n in range(Ncut):\n",
    "        nbar += n*(rho[n*3].real + rho[n*3+1].real)\n",
    "    return nbar\n",
    "\n",
    "def rhogg(rho):\n",
    "    rhogg = 0.0\n",
    "    Ncut = rho.shape[0]//3\n",
    "    for n in range(Ncut):\n",
    "        rhogg += rho[(3*n)].real\n",
    "    return rhogg\n",
    "\n",
    "def rhoee(rho):\n",
    "    rhoee = 0.0\n",
    "    Ncut = rho.shape[0]//3\n",
    "    for n in range(Ncut):\n",
    "        rhoee += rho[(3*n)+1].real\n",
    "    return rhoee"
   ]
  },
  {
   "cell_type": "code",
   "execution_count": 29,
   "id": "7189e4af",
   "metadata": {},
   "outputs": [],
   "source": [
    "def heat(rho, t, nbardot):\n",
    "    rho = solve(heatSys, [0.0,t], rho, args=[nbardot]).y[:,-1]\n",
    "    return rho\n",
    "\n",
    "def ramsey(rho0, T, deld, delPrime, Omega0):\n",
    "    #T = dark-time, deld = dark-time detuning, delPrime=pulse detuning\n",
    "    rho = solve(bloch, [0.0, np.pi/(2.0*Omega0)], rho0, args=(Omega0, delPrime)).y[:,-1]\n",
    "    rho = freeEvo(T, rho, deld)\n",
    "    rho = solve(bloch, [0.0, np.pi/(2.0*Omega0)], rho, args=(Omega0, delPrime)).y[:,-1]\n",
    "    return rho"
   ]
  },
  {
   "cell_type": "code",
   "execution_count": 244,
   "id": "da669bf9",
   "metadata": {},
   "outputs": [],
   "source": [
    "#takes rho as a 3 element vector and converts it to a 2x2 matrix by calculating the conj. of rhoge\n",
    "def subpulse(rho0, t, Omega0, delta):\n",
    "    rho = np.array([[rho0[0], rho0[2]],[np.conj(rho0[2]), rho0[1]]])\n",
    "    Omega = np.sqrt(Omega0**2 + delta**2)\n",
    "    if Omega == 0.0:\n",
    "        U = np.array([[1.0 , 0.0],\n",
    "                      [0.0 , 1.0]])\n",
    "    else:\n",
    "        U = np.array([[np.cos(Omega*t/2.0) -(1.0j*delta/Omega)*np.sin(Omega*t/2.0), (1.0j*Omega0/Omega)*np.sin(Omega*t/2.0)],\n",
    "                     [(1.0j*Omega0/Omega)*np.sin(Omega*t/2.0) , np.cos(Omega*t/2.0) + (1.0j*delta/Omega)*np.sin(Omega*t/2.0)]])\n",
    "    rho = U@rho@np.conj(U)\n",
    "    return np.array([rho[0,0], rho[1,1], rho[0,1]])\n",
    "\n",
    "def pulse(rho0, t, Omega0, delta):\n",
    "    Ncut = rho0.size//3 - 1\n",
    "    rho = np.array([0.0+0.0j]*3*(Ncut+1))\n",
    "    for n in range(Ncut):\n",
    "        rho[3*n:3*(n+1)] = subpulse(rho0[3*n:3*(n+1)], t, Omega0*omegas[n], delta)\n",
    "    return rho"
   ]
  },
  {
   "cell_type": "code",
   "execution_count": 123,
   "id": "e8877e53",
   "metadata": {},
   "outputs": [],
   "source": [
    "rho0 = groundRho(3, 0.0)\n",
    "Omega0 = np.pi/2.0\n",
    "pts = 100\n",
    "ts = np.linspace(0,10, pts)\n",
    "delPrime = 1.0\n",
    "eta = 0.0\n",
    "rhoees = np.zeros(pts)\n",
    "\n",
    "for ii in range(pts):\n",
    "    rhoees[ii] = rhoee(pulse(rho0, ts[ii], Omega0, delPrime))"
   ]
  },
  {
   "cell_type": "code",
   "execution_count": 124,
   "id": "416d48b7",
   "metadata": {},
   "outputs": [
    {
     "data": {
      "text/plain": [
       "[<matplotlib.lines.Line2D at 0x1346c311a50>]"
      ]
     },
     "execution_count": 124,
     "metadata": {},
     "output_type": "execute_result"
    },
    {
     "data": {
      "image/png": "[encoded data removed]",
      "text/plain": [
       "<Figure size 432x288 with 1 Axes>"
      ]
     },
     "metadata": {
      "needs_background": "light"
     },
     "output_type": "display_data"
    }
   ],
   "source": [
    "plt.plot(ts, rhoees)"
   ]
  },
  {
   "cell_type": "code",
   "execution_count": 242,
   "id": "e68c1477",
   "metadata": {},
   "outputs": [],
   "source": [
    "def ramsey(rho0, t1, T, t2, deld, delPrime, Omega0):\n",
    "    intState = freeEvo(pulse(rho0, t1, Omega0, delPrime), deld*T)\n",
    "    result = pulse(intState, t2, Omega0, delPrime)\n",
    "    return result\n",
    "\n",
    "def RamseyErrSig(deld, rho0, t1, T, t2, delPrime, Omega0):\n",
    "    intState = freeEvo(pulse(rho0, t1, Omega0, delPrime), deld*T)\n",
    "    resultP = pulse(freeEvo(intState, np.pi/2.0), t2, Omega0, delPrime)\n",
    "    resultM = pulse(freeEvo(intState, -np.pi/2.0), t2, Omega0, delPrime)                   \n",
    "    return rhoee(resultP) - rhoee(resultM)\n",
    "\n",
    "def HRSJumpErrSig(deld, rho0, t1, T, t2, delPrime, Omega0):\n",
    "    intState = freeEvo(pulse(rho0, t1, Omega0, delPrime), deld*T)\n",
    "    resultP = pulse(pulse(freeEvo(intState,np.pi/2.0),2.0*t2/3.0,-Omega0,delPrime),t2/3.0,Omega0,delPrime)\n",
    "    resultM = pulse(pulse(freeEvo(intState,-np.pi/2.0),2.0*t2/3.0,-Omega0,delPrime),t2/3.0,Omega0,delPrime)\n",
    "    return rhoee(resultP) - rhoee(resultM)\n",
    "\n",
    "def HRSErrSig(deld, rho0, t1, T, t2, delPrime, Omega0):\n",
    "    intState = freeEvo(pulse(rho0, t1, Omega0, delPrime), deld*T)\n",
    "    resultP = pulse(freeEvo(intState,np.pi/2.0),t2,Omega0,delPrime)\n",
    "    resultM = pulse(freeEvo(intState,-np.pi/2.0),t2,Omega0,delPrime)\n",
    "    return rhoee(resultP) - rhoee(resultM)"
   ]
  },
  {
   "cell_type": "code",
   "execution_count": 233,
   "id": "c7379139",
   "metadata": {},
   "outputs": [],
   "source": [
    "rho0 = groundRho(10, 0.0)\n",
    "pts = 1000\n",
    "deltas = np.linspace(-5.5, 5.5, pts)\n",
    "rhoees = np.zeros(pts)\n",
    "t1 = np.pi/2.0\n",
    "t2 = 3.0*t1\n",
    "T = 20.0\n",
    "Omega0 = 1.0\n",
    "for ii in range(pts):\n",
    "    rhoees[ii] = rhoee(ramsey(rho0, t1, T, t2, deltas[ii], deltas[ii], Omega0, 0.0))"
   ]
  },
  {
   "cell_type": "code",
   "execution_count": 235,
   "id": "23e0dfae",
   "metadata": {},
   "outputs": [
    {
     "data": {
      "text/plain": [
       "[<matplotlib.lines.Line2D at 0x1346fc69d80>]"
      ]
     },
     "execution_count": 235,
     "metadata": {},
     "output_type": "execute_result"
    },
    {
     "data": {
      "image/png": "[encoded data removed]",
      "text/plain": [
       "<Figure size 432x288 with 1 Axes>"
      ]
     },
     "metadata": {
      "needs_background": "light"
     },
     "output_type": "display_data"
    }
   ],
   "source": [
    "plt.plot(deltas, rhoees)\n",
    "#deltas"
   ]
  },
  {
   "cell_type": "code",
   "execution_count": 217,
   "id": "425b485c",
   "metadata": {},
   "outputs": [],
   "source": [
    "pts = 101\n",
    "deld = 0.0\n",
    "rho0 = groundRho(10, 0.0)\n",
    "t1 = np.pi/2.0\n",
    "T = 1.0\n",
    "t2 = 3.0*np.pi/2.0\n",
    "delPrime = np.linspace(-5.0, 5.0, pts)\n",
    "Omega0 = 1.0\n",
    "eta = 0.0\n",
    "sigPts = np.zeros(pts)\n",
    "for ii in range(pts):\n",
    "    sigPts[ii] = HRSErrSig(deld, rho0, t1, T, t2, delPrime[ii], Omega0, eta)"
   ]
  },
  {
   "cell_type": "code",
   "execution_count": 218,
   "id": "4466d1ec",
   "metadata": {},
   "outputs": [
    {
     "data": {
      "image/png": "[encoded data removed]",
      "text/plain": [
       "<Figure size 432x288 with 1 Axes>"
      ]
     },
     "metadata": {
      "needs_background": "light"
     },
     "output_type": "display_data"
    }
   ],
   "source": [
    "plt.plot(delPrime, sigPts)\n",
    "plt.grid()"
   ]
  },
  {
   "cell_type": "code",
   "execution_count": 249,
   "id": "8ccdc296",
   "metadata": {},
   "outputs": [
    {
     "name": "stdout",
     "output_type": "stream",
     "text": [
      "-0.1 0.0\n",
      "0.0\n",
      "-0.2 0.2\n",
      "0.0007933246299610006\n",
      "-0.199206675370039 0.20079332462996102\n",
      "-0.0010137716613243131\n",
      "-0.20101377166132434 0.19898622833867569\n",
      "-0.007688890996483192\n",
      "-0.20768889099648322 0.1923111090035168\n",
      "-0.020938238248567335\n",
      "-0.22093823824856734 0.17906176175143268\n",
      "-0.041829242449860034\n",
      "-0.24182924244986004 0.15817075755013998\n",
      "-0.07084613232593563\n",
      "-0.27084613232593563 0.1291538676740644\n",
      "-0.1080217616903335\n",
      "-0.3080217616903335 0.0919782383096665\n",
      "-0.1530886971095081\n",
      "-0.3530886971095081 0.04691130289049192\n",
      "-0.20561277163890393\n",
      "-0.40561277163890397 -0.005612771638903918\n",
      "-0.2650941712830835\n",
      "-0.4650941712830835 -0.06509417128308348\n",
      "-0.3310356101691794\n",
      "-0.5310356101691793 -0.13103561016917936\n",
      "-0.4029836685020592\n",
      "-0.6029836685020592 -0.20298366850205918\n",
      "-0.4805505829805994\n",
      "-0.6805505829805993 -0.2805505829805994\n",
      "-0.5634220513543552\n",
      "-0.7634220513543553 -0.3634220513543552\n",
      "-0.6513512420208917\n",
      "-0.8513512420208917 -0.45135124202089166\n",
      "-0.7441050869392007\n",
      "-0.9441050869392007 -0.5441050869392008\n",
      "-0.8390800709856541\n",
      "-1.039080070985654 -0.6390800709856541\n",
      "-0.9453563019791882\n",
      "-1.1453563019791881 -0.7453563019791882\n",
      "-1.052587763477957\n",
      "-1.252587763477957 -0.8525877634779571\n",
      "-1.1649499619690287\n",
      "-1.3649499619690286 -0.9649499619690287\n",
      "-1.2824095301493357\n",
      "-1.4824095301493356 -1.0824095301493357\n",
      "-1.4050566092334213\n",
      "-1.6050566092334213 -1.2050566092334214\n",
      "-1.532983689174035\n",
      "-1.732983689174035 -1.332983689174035\n",
      "-1.6662445857695658\n",
      "-1.8662445857695658 -1.4662445857695658\n",
      "-1.8048182620640083\n",
      "-2.0048182620640085 -1.6048182620640083\n",
      "-1.9485722043768505\n",
      "-2.1485722043768507 -1.7485722043768506\n",
      "-2.0972281990098787\n",
      "-2.297228199009879 -1.8972281990098787\n",
      "-2.2503365545007497\n",
      "-2.45033655450075 -2.0503365545007495\n",
      "-2.407266362637815\n",
      "time=  13.292419195175171\n"
     ]
    }
   ],
   "source": [
    "t1 = np.pi/2.0\n",
    "t2 = 3.0*t1\n",
    "Omega0 = np.pi/(2.0*t1) #hz\n",
    "T = 1.0\n",
    "eta = 0.0\n",
    "rho0 = groundRho(1000, 0.0)\n",
    "rho0 = heat(groundRho(1000, 0.0), 1.0, 1.0)\n",
    "\n",
    "pts = 30\n",
    "delPrimes = np.linspace(0, 1.5, pts)\n",
    "delta1s = np.zeros(pts)\n",
    "guessTol = 0.2\n",
    "x0 = -0.1\n",
    "x1 = 0.0\n",
    "\n",
    "start = time.time()\n",
    "for ii in range(pts):\n",
    "    print(x0,x1)\n",
    "    delta1s[ii] = sp.optimize.root_scalar(HRSErrSig, args=(rho0, t1, T, t2, delPrimes[ii], Omega0), bracket=[x0,x1], xtol = 1e-5).root\n",
    "    x0 = delta1s[ii] - guessTol\n",
    "    x1 = delta1s[ii] + guessTol\n",
    "    print(delta1s[ii])\n",
    "\n",
    "end = time.time()\n",
    "print(\"time= \",end-start)"
   ]
  },
  {
   "cell_type": "code",
   "execution_count": 252,
   "id": "2bc68005",
   "metadata": {},
   "outputs": [
    {
     "data": {
      "text/plain": [
       "[<matplotlib.lines.Line2D at 0x13470413a00>]"
      ]
     },
     "execution_count": 252,
     "metadata": {},
     "output_type": "execute_result"
    },
    {
     "data": {
      "image/png": "[encoded data removed]",
      "text/plain": [
       "<Figure size 432x288 with 1 Axes>"
      ]
     },
     "metadata": {
      "needs_background": "light"
     },
     "output_type": "display_data"
    }
   ],
   "source": [
    "plt.plot(delPrimes, (deltas-delta1s))#/deltas)\n",
    "#plt.plot(delPrimes, delta1s)"
   ]
  },
  {
   "cell_type": "code",
   "execution_count": 179,
   "id": "967f2819",
   "metadata": {},
   "outputs": [],
   "source": [
    "pts = 101\n",
    "deld = 0.0\n",
    "rho0 = groundRho(10, 0.0)\n",
    "t1 = np.pi/2.0\n",
    "T = 1.0\n",
    "t2 = np.pi/2.0\n",
    "delPrime = np.linspace(-5.0, 5.0, pts)\n",
    "Omega0 = 1.0\n",
    "eta = 0.0\n",
    "sigPts = np.zeros(pts)\n",
    "for ii in range(pts):\n",
    "    sigPts[ii] = RamseyErrSig(deld, rho0, t1, T, t2, delPrime[ii]+1.0, Omega0)"
   ]
  },
  {
   "cell_type": "code",
   "execution_count": 180,
   "id": "97ab2d6e",
   "metadata": {},
   "outputs": [
    {
     "data": {
      "image/png": "[encoded data removed]",
      "text/plain": [
       "<Figure size 432x288 with 1 Axes>"
      ]
     },
     "metadata": {
      "needs_background": "light"
     },
     "output_type": "display_data"
    }
   ],
   "source": [
    "plt.plot(delPrime, sigPts)\n",
    "plt.grid()"
   ]
  },
  {
   "cell_type": "code",
   "execution_count": 150,
   "id": "b3f46f4b",
   "metadata": {},
   "outputs": [],
   "source": [
    "pts = 101\n",
    "deld = 0.0\n",
    "rho0 = groundRho(10, 0.0)\n",
    "t1 = np.pi/2.0\n",
    "T = 1.0\n",
    "t2 = np.pi/2.0\n",
    "delPrime = np.linspace(-10.0, 10.0, pts)\n",
    "Omega0 = 1.0\n",
    "eta = 0.0\n",
    "sigPts = np.zeros(pts)\n",
    "for ii in range(pts):\n",
    "    sigPts[ii] = rhogg(ramsey(rho0, t1, T, t2, deld, delPrime[ii]-2.5, Omega0))"
   ]
  },
  {
   "cell_type": "code",
   "execution_count": 151,
   "id": "6a97210b",
   "metadata": {},
   "outputs": [
    {
     "data": {
      "text/plain": [
       "[<matplotlib.lines.Line2D at 0x1346c72b7f0>]"
      ]
     },
     "execution_count": 151,
     "metadata": {},
     "output_type": "execute_result"
    },
    {
     "data": {
      "image/png": "[encoded data removed]",
      "text/plain": [
       "<Figure size 432x288 with 1 Axes>"
      ]
     },
     "metadata": {
      "needs_background": "light"
     },
     "output_type": "display_data"
    }
   ],
   "source": [
    "plt.plot(delPrime, sigPts)"
   ]
  },
  {
   "cell_type": "code",
   "execution_count": null,
   "id": "1ed7d09d",
   "metadata": {},
   "outputs": [],
   "source": [
    "# def fastSubPulse(rho, t, Omega0, delta):\n",
    "#     Omega = np.sqrt(Omega0**2 + delta**2)\n",
    "#     if Omega == 0.0:\n",
    "#         U = np.array([[1.0 , 0.0],\n",
    "#                       [0.0 , 1.0]])\n",
    "#     else:\n",
    "#         phi = Omega*t/2.0\n",
    "#         U112 = np.cos(phi)**2 + (delta*np.sin(phi)/Omega)**2\n",
    "#         U11U12 = delta*Omega0*(np.sin(phi)/Omega)**2 + 1.0j*Omega0*np.cos(phi)*np.sin(phi)/Omega\n",
    "#         U122 = -(Omega0*np.sin(phi)/Omega)**2\n",
    "#         return np.array([U112*rho[0] -2.0*np.real(U11U12*rho[2]) - U122*rho[2],\n",
    "#                         -U122*rho[0]-2.0j*np.imag(U11U12*rho[2]) + U112*rho[1],\n",
    "#                         U11U12*(rho[1]-rho[0]) - U122*np.conj(rho[2]) + rho[2]*(np.cos(phi)**2 - (delta*np.sin(phi)/Omega)**2\n",
    "#                                                                                -2.0j*delta*np.cos(phi)*np.sin(phi)/Omega)\n",
    "#                         ])\n",
    "    \n",
    "# def fastPulse(rho, t, Omega0, delta, eta):\n",
    "#     Ncut = rho.size//3 - 1\n",
    "#     for n in range(Ncut):\n",
    "#         rho[3*n:3*(n+1)] = fastSubPulse(rho[3*n:3*(n+1)] , t, Omega0*Omega(n,0,eta), delta)\n",
    "#     return rho"
   ]
  },
  {
   "cell_type": "code",
   "execution_count": 45,
   "id": "38c173d4",
   "metadata": {},
   "outputs": [
    {
     "name": "stdout",
     "output_type": "stream",
     "text": [
      "time=  0.03191542625427246\n"
     ]
    }
   ],
   "source": [
    "rho0 = groundRho(1000, 0.0)\n",
    "start = time.time()\n",
    "rho = pulse(groundRho(1000, 0.0), 1.0, np.pi/2.0, 0.0, 0.0)\n",
    "end = time.time()\n",
    "print(\"time= \",end-start)"
   ]
  },
  {
   "cell_type": "code",
   "execution_count": 48,
   "id": "62d8a88d",
   "metadata": {},
   "outputs": [
    {
     "name": "stdout",
     "output_type": "stream",
     "text": [
      "nbar= 0.0\n",
      "time=  0.9873306751251221\n",
      "nbar= 1.0000000000000007\n"
     ]
    }
   ],
   "source": [
    "print(\"nbar=\",nbar(rho0))\n",
    "start = time.time()\n",
    "rho = heat(rho0, 1.0, 1.0)\n",
    "end = time.time()\n",
    "print(\"time= \",end-start)\n",
    "print(\"nbar=\", nbar(rho))"
   ]
  },
  {
   "cell_type": "code",
   "execution_count": 54,
   "id": "d0c82756",
   "metadata": {},
   "outputs": [
    {
     "name": "stdout",
     "output_type": "stream",
     "text": [
      "time=  1.1409461498260498\n",
      "nbar= 1.0000000000000004\n",
      "rhoee= 0.5000000000000002\n"
     ]
    }
   ],
   "source": [
    "#rho0 = groundRho(1000, 0.0)\n",
    "start = time.time()\n",
    "rho = pulse(groundRho(1000, 0.0), 1.0, np.pi/2.0, 0.0, 0.0)\n",
    "rho = heat(rho, 1.0, 1.0)\n",
    "end = time.time()\n",
    "print(\"time= \",end-start)\n",
    "print(\"nbar=\", nbar(rho))\n",
    "print(\"rhoee=\", rhoee(rho))"
   ]
  },
  {
   "cell_type": "code",
   "execution_count": 90,
   "id": "8ba73dd9",
   "metadata": {},
   "outputs": [
    {
     "name": "stdout",
     "output_type": "stream",
     "text": [
      "0\n",
      "1\n",
      "2\n",
      "3\n",
      "4\n"
     ]
    }
   ],
   "source": [
    "for n in range(5):\n",
    "    print(n)"
   ]
  },
  {
   "cell_type": "code",
   "execution_count": null,
   "id": "efb278a8",
   "metadata": {},
   "outputs": [],
   "source": []
  }
 ],
 "metadata": {
  "kernelspec": {
   "display_name": "Python 3 (ipykernel)",
   "language": "python",
   "name": "python3"
  },
  "language_info": {
   "codemirror_mode": {
    "name": "ipython",
    "version": 3
   },
   "file_extension": ".py",
   "mimetype": "text/x-python",
   "name": "python",
   "nbconvert_exporter": "python",
   "pygments_lexer": "ipython3",
   "version": "3.10.5"
  }
 },
 "nbformat": 4,
 "nbformat_minor": 5
}
