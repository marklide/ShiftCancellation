{
 "cells": [
  {
   "cell_type": "code",
   "execution_count": 8,
   "id": "daf120a4",
   "metadata": {},
   "outputs": [],
   "source": [
    "from qutip import *\n",
    "import numpy as np\n",
    "import scipy as sp\n",
    "import math\n",
    "import matplotlib.pyplot as plt\n",
    "from scipy.special import genlaguerre as L"
   ]
  },
  {
   "cell_type": "code",
   "execution_count": 9,
   "id": "81a8bb29",
   "metadata": {},
   "outputs": [],
   "source": [
    "def psi(g,e):\n",
    "    return np.array([g, e])\n",
    "\n",
    "def pulse(t, Omega0, delta, phi0, phi1):\n",
    "    Omega = np.sqrt(Omega0**2 + delta**2)\n",
    "    \n",
    "    if Omega == 0.0:\n",
    "        U = np.array([[1.0 , 0.0],\n",
    "                      [0.0 , 1.0]])\n",
    "        \n",
    "    else:\n",
    "        U = np.array([[np.cos(Omega*t/2.0) -(1.0j*delta/Omega)*np.sin(Omega*t/2.0), (1.0j*Omega0/Omega)*np.sin(Omega*t/2.0)],\n",
    "                     [(1.0j*Omega0/Omega)*np.sin(Omega*t/2.0) , np.cos(Omega*t/2.0) + (1.0j*delta/Omega)*np.sin(Omega*t/2.0)]])\n",
    "    \n",
    "    V1 = np.array([[1.0 , 0.0],\n",
    "                   [0.0 , np.exp(-1.0j*phi1)]])\n",
    "    \n",
    "    V0 = np.array([[1.0 , 0.0],\n",
    "                   [0.0 , np.exp(1.0j*phi0)]])\n",
    "    \n",
    "    return np.exp(1.0j*delta*t/2.0)*V1@U@V0\n",
    "\n",
    "def rhoee(psi):\n",
    "    return (abs(psi[1]))**2.0\n",
    "\n",
    "def rhogg(psi):\n",
    "    return (abs(psi[0]))**2.0\n",
    "\n",
    "def phi(psi):\n",
    "    phi0 = math.atan2(np.real(psi[0]),np.imag(psi[0]))\n",
    "    phi1 = math.atan2(np.real(psi[1]),np.imag(psi[1]))\n",
    "    return (phi0-phi1)\n",
    "\n",
    "def blochVec(psi):\n",
    "    w = rhogg(psi) - rhoee(psi)  #pointed up is ground state\n",
    "    if abs(w)>1.0:\n",
    "        w = float(round(w))\n",
    "    x = np.sin(np.arccos(w))*np.cos(phi(psi))\n",
    "    y = np.sin(np.arccos(w))*np.sin(phi(psi))\n",
    "    return np.array([x,y,w])\n",
    "\n",
    "def Omega(n,m,eta):\n",
    "    return np.exp(-eta**2/2.0) * eta**(np.abs(m)) * (math.factorial(n)/math.factorial(n+m))**(np.sign(m)/2.0) \\\n",
    "        * L(n,np.abs(m))(eta**2)              #returns unitless rabi rate of transition n -> n+m given Lamb-Dicke Parameter"
   ]
  },
  {
   "cell_type": "code",
   "execution_count": 50,
   "id": "16a51177",
   "metadata": {},
   "outputs": [],
   "source": [
    "def ramsey(deld, psi0, t1, T, t2, delPrime, Omega0):\n",
    "    #delPrime = deld - Delta\n",
    "    freeEvo = pulse(T, 0.0, deld, 0.0, 0.0)\n",
    "    pi2Pulse1 = pulse(t1, Omega0, delPrime, 0.0, 0.0)\n",
    "    pi2Pulse2 = pulse(t2, Omega0, delPrime, 0.0, 0.0)\n",
    "    return pi2Pulse2@freeEvo@pi2Pulse1@psi0\n",
    "\n",
    "def ramseyP(deld, psi0, t1, T, t2, Delta, Omega0, eta, nbar0, nbarf):\n",
    "    delPrime = deld - Delta\n",
    "    freeEvo = pulse(T, 0.0, deld, 0.0, 0.0)\n",
    "    pi2PhaseInjP = pulse(0.0, 0.0, 0.0, 0.0, np.pi/2.0)\n",
    "    pi2Pulse1 = pulse(t1, Omega0*Omega(nbar0,0,eta), delPrime, 0.0, 0.0)\n",
    "    pi2Pulse2 = pulse(t2, Omega0*Omega(nbarf,0,eta), delPrime, 0.0, 0.0)\n",
    "    return pi2Pulse2@pi2PhaseInjP@freeEvo@pi2Pulse1@psi0\n",
    "\n",
    "def ramseyM(deld, psi0, t1, T, t2, Delta, Omega0, eta, nbar0, nbarf):\n",
    "    delPrime = deld - Delta\n",
    "    freeEvo = pulse(T, 0.0, deld, 0.0, 0.0)\n",
    "    pi2PhaseInjP = pulse(0.0, 0.0, 0.0, 0.0, -np.pi/2.0)\n",
    "    pi2Pulse1 = pulse(t1, Omega0*Omega(nbar0,0,eta), delPrime, 0.0, 0.0)\n",
    "    pi2Pulse2 = pulse(t2, Omega0*Omega(nbarf,0,eta), delPrime, 0.0, 0.0)\n",
    "    return pi2Pulse2@pi2PhaseInjP@freeEvo@pi2Pulse1@psi0\n",
    "\n",
    "def RamseyErrSig(deld, psi0, t1, T, t2, Delta, Omega0, eta, nbar0, nbarf):\n",
    "    return rhoee(ramseyM(deld, psi0, t1, T, t2, Delta, Omega0, eta, nbar0, nbarf)) - rhoee(ramseyP(deld, psi0, t1, T, t2, Delta, Omega0, eta, nbar0, nbarf))"
   ]
  },
  {
   "cell_type": "code",
   "execution_count": 48,
   "id": "70e8f8be",
   "metadata": {},
   "outputs": [],
   "source": [
    "psi0 = psi(0.0, 1.0)\n",
    "Delta = 20.0 #*(2.0*np.pi)  #hz\n",
    "Omega0 = 50.0 #*(2.0*np.pi) #hz\n",
    "nbarf = 10 \n",
    "nbar0 = 10\n",
    "t1 = np.pi/(2.0*Omega0)\n",
    "T = 20.0/Omega0\n",
    "t2 = 3.0*np.pi/(2.0*Omega0)\n",
    "eta = 0.00\n",
    "\n",
    "pts = 100\n",
    "delds = np.linspace(-20.0, 20.0, pts)\n",
    "errSigPts1 = np.zeros(pts,)\n",
    "errSigPts2 = np.zeros(pts,)\n",
    "RhoeeM = np.zeros(pts,)\n",
    "RhoeeP = np.zeros(pts,)\n",
    "dif = np.zeros(pts,)\n",
    "for ii in range(pts):\n",
    "    #print(ii)\n",
    "    #HRJumpThermErrSig(deld, psi0, t1, T, t2, Delta, Omega0, eta, nbar0, nbardot, Ncut):\n",
    "    errSigPts1[ii] = RamseyErrSig(delds[ii], psi0, t1, T, t2, Delta, Omega0, eta, nbar0, nbarf)\n",
    "    \n",
    "x0 = -1.0\n",
    "x1 = 1.0\n",
    "tol = 1e-7\n",
    "shift = sp.optimize.root_scalar(RamseyErrSig, args=(psi0, t1, T, t2, Delta, Omega0, eta, nbar0, nbarf), bracket=[x0,x1], xtol = tol).root"
   ]
  },
  {
   "cell_type": "code",
   "execution_count": 49,
   "id": "1fdd43c7",
   "metadata": {},
   "outputs": [
    {
     "data": {
      "text/plain": [
       "0.34977119455851674"
      ]
     },
     "execution_count": 49,
     "metadata": {},
     "output_type": "execute_result"
    },
    {
     "data": {
      "image/png": "[encoded data removed]",
      "text/plain": [
       "<Figure size 432x288 with 1 Axes>"
      ]
     },
     "metadata": {
      "needs_background": "light"
     },
     "output_type": "display_data"
    }
   ],
   "source": [
    "plt.plot(delds, errSigPts1)\n",
    "plt.plot([shift],[0.0],marker='x',markersize=10)\n",
    "shift"
   ]
  },
  {
   "cell_type": "code",
   "execution_count": 35,
   "id": "4e45ef7e",
   "metadata": {},
   "outputs": [
    {
     "data": {
      "text/plain": [
       "1.0"
      ]
     },
     "execution_count": 35,
     "metadata": {},
     "output_type": "execute_result"
    }
   ],
   "source": [
    "Omega(11,0,0.0)"
   ]
  },
  {
   "cell_type": "code",
   "execution_count": 96,
   "id": "8015fb09",
   "metadata": {},
   "outputs": [],
   "source": [
    "psi0 = psi(1.0, 0.0)\n",
    "lightshift = 0.5\n",
    "Omega0 = 1.0\n",
    "t1 = np.pi/(2.0*Omega0)\n",
    "T = 1.0\n",
    "t2 = np.pi/(2.0*Omega0)\n",
    "pts = 1000\n",
    "delds = np.linspace(-5.0, 5.0, pts)\n",
    "rhos = np.zeros(pts)\n",
    "for ii in range(pts):\n",
    "    rhos[ii] = rhoee(ramsey(delds[ii], psi0, t1, T, t2, lightshift+delds[ii], Omega0))"
   ]
  },
  {
   "cell_type": "code",
   "execution_count": 98,
   "id": "228b47fe",
   "metadata": {},
   "outputs": [
    {
     "data": {
      "text/plain": [
       "Text(0.5, 0, 'Pulse ')"
      ]
     },
     "execution_count": 98,
     "metadata": {},
     "output_type": "execute_result"
    },
    {
     "data": {
      "image/png": "[encoded data removed]",
      "text/plain": [
       "<Figure size 432x288 with 1 Axes>"
      ]
     },
     "metadata": {
      "needs_background": "light"
     },
     "output_type": "display_data"
    }
   ],
   "source": [
    "plt.plot(delds, rhos)\n",
    "plt.plot([-0.5],[1.0],marker=\"x\")\n",
    "plt.xlabel(\"Pulse \")"
   ]
  },
  {
   "cell_type": "code",
   "execution_count": null,
   "id": "12310d0c",
   "metadata": {},
   "outputs": [],
   "source": []
  }
 ],
 "metadata": {
  "kernelspec": {
   "display_name": "Python 3 (ipykernel)",
   "language": "python",
   "name": "python3"
  },
  "language_info": {
   "codemirror_mode": {
    "name": "ipython",
    "version": 3
   },
   "file_extension": ".py",
   "mimetype": "text/x-python",
   "name": "python",
   "nbconvert_exporter": "python",
   "pygments_lexer": "ipython3",
   "version": "3.10.5"
  }
 },
 "nbformat": 4,
 "nbformat_minor": 5
}
