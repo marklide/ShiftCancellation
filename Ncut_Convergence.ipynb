{
 "cells": [
  {
   "cell_type": "code",
   "execution_count": 1,
   "id": "fd4bdd87",
   "metadata": {},
   "outputs": [],
   "source": [
    "from qutip import *\n",
    "import numpy as np\n",
    "import scipy as sp\n",
    "import math\n",
    "import matplotlib.pyplot as plt\n",
    "from scipy.special import genlaguerre as L"
   ]
  },
  {
   "cell_type": "code",
   "execution_count": 2,
   "id": "b908a1c1",
   "metadata": {},
   "outputs": [],
   "source": [
    "def psi(g,e):\n",
    "    return np.array([g, e])\n",
    "\n",
    "def pulse(t, Omega0, delta, phi0, phi1):\n",
    "    Omega = np.sqrt(Omega0**2 + delta**2)\n",
    "    \n",
    "    if Omega == 0.0:\n",
    "        U = np.array([[1.0 , 0.0],\n",
    "                      [0.0 , 1.0]])\n",
    "        \n",
    "    else:\n",
    "        U = np.array([[np.cos(Omega*t/2.0) -(1.0j*delta/Omega)*np.sin(Omega*t/2.0), (1.0j*Omega0/Omega)*np.sin(Omega*t/2.0)],\n",
    "                     [(1.0j*Omega0/Omega)*np.sin(Omega*t/2.0) , np.cos(Omega*t/2.0) + (1.0j*delta/Omega)*np.sin(Omega*t/2.0)]])\n",
    "    \n",
    "    V1 = np.array([[1.0 , 0.0],\n",
    "                   [0.0 , np.exp(-1.0j*phi1)]])\n",
    "    \n",
    "    V0 = np.array([[1.0 , 0.0],\n",
    "                   [0.0 , np.exp(1.0j*phi0)]])\n",
    "    \n",
    "    return np.exp(1.0j*delta*t/2.0)*V1@U@V0\n",
    "\n",
    "def thermPulse(psi0, t, Omega0, delPrime, eta, nbar, Ncut): #1-dimensional\n",
    "    result = psi(0.0+0.0j,0.0+0.0j)\n",
    "    for n in range(Ncut):\n",
    "        result += prob(n,nbar)*pulse(t, Omega0*Omega(n,0,eta), delPrime, 0.0, 0.0)@psi0\n",
    "    return result\n",
    "\n",
    "def therm3DPulse(psi0, t, Omega0, delPrime, nbars, Omegas, Ncut):\n",
    "    nbarx = nbars[0]\n",
    "    nbary = nbars[1]\n",
    "    nbarz = nbars[2]\n",
    "    #Ncut = 100\n",
    "    result = psi(0.0+0.0j,0.0+0.0j)\n",
    "    for nx in range(Ncut):\n",
    "        Probx = prob(nx,nbarx)\n",
    "        for ny in range(Ncut):\n",
    "            Probxy = Probx*prob(ny,nbary)\n",
    "            for nz in range(Ncut):\n",
    "                result += Probxy*prob(nz,nbarz)*pulse(t, Omega0*Omegas[nx,ny,nz], delPrime, 0.0, 0.0)@psi0\n",
    "    return result\n",
    "\n",
    "def rhoee(psi):\n",
    "    return (abs(psi[1]))**2.0\n",
    "\n",
    "def rhogg(psi):\n",
    "    return (abs(psi[0]))**2.0\n",
    "\n",
    "def prob(n,nbar):\n",
    "    return 1.0/(nbar+1)*(nbar/(nbar+1))**n    #returns prob of being in state n given nbar\n",
    "\n",
    "def Omega(n,m,eta):\n",
    "    return np.exp(-eta**2/2.0) * eta**(np.abs(m)) * (math.factorial(n)/math.factorial(n+m))**(np.sign(m)/2.0) \\\n",
    "        * L(n,np.abs(m))(eta**2)              #returns unitless rabi rate of transition n -> n+m given Lamb-Dicke Parameter"
   ]
  },
  {
   "cell_type": "code",
   "execution_count": 3,
   "id": "44ffaaf3",
   "metadata": {},
   "outputs": [],
   "source": [
    "def HRerrSig(psi0, t1, T, t2, delta, delPrime, Omega01, Omega02):\n",
    "    pulse1 = pulse(t1, Omega01, delPrime, 0.0, 0.0)\n",
    "    pulse2 = pulse(t2, Omega02, delPrime, 0.0, 0.0)\n",
    "    freeEvo = pulse(T, 0.0, delta, 0.0, 0.0)\n",
    "    pi2PhaseInjP = pulse(0.0, 0.0, 0.0, 0.0, np.pi/2.0)\n",
    "    pi2PhaseInjM = pulse(0.0, 0.0, 0.0, 0.0, -np.pi/2.0)\n",
    "    \n",
    "    return rhoee(pulse2@freeEvo@pi2PhaseInjP@pulse1@psi0) - rhoee(pulse2@freeEvo@pi2PhaseInjM@pulse1@psi0)"
   ]
  },
  {
   "cell_type": "markdown",
   "id": "c0a49f1b",
   "metadata": {},
   "source": [
    "$\\delta_d = $ dark time detuning and $\\Delta$ = light shift estimate error (LSEE)"
   ]
  },
  {
   "cell_type": "code",
   "execution_count": 4,
   "id": "dca8b548",
   "metadata": {},
   "outputs": [],
   "source": [
    "def HRJumperrSig(deld, psi0, t1, T, t2, Delta, Omega01, Omega02, Omega03):\n",
    "    delPrime = deld - Delta\n",
    "    pulse1 = pulse(t1, Omega01, delPrime, 0.0, 0.0)\n",
    "    pulse2 = pulse(2.0*t2/3.0, -Omega02, delPrime, 0.0, 0.0)\n",
    "    pulse3 = pulse(t2/3.0, Omega03, delPrime, 0.0, 0.0)\n",
    "    pi2PhaseInjP = pulse(0.0, 0.0, 0.0, 0.0, np.pi/2.0)\n",
    "    pi2PhaseInjM = pulse(0.0, 0.0, 0.0, 0.0, -np.pi/2.0)\n",
    "    freeEvo = pulse(T, 0.0, deld, 0.0, 0.0)\n",
    "    return rhoee(pulse3@pulse2@pi2PhaseInjP@freeEvo@pulse1@psi0) - rhoee(pulse3@pulse2@pi2PhaseInjM@freeEvo@pulse1@psi0)\n",
    "\n",
    "def HRJumpThermErrSig3D(deld, psi0, t1, T, t2, Delta, Omega0s, nbars, Omegas, Ncut):\n",
    "    Omega01 = Omegas[0]\n",
    "    Omega02 = Omegas[1]\n",
    "    Omega03 = Omegas[2]\n",
    "    nbarx = nbars[0]\n",
    "    nbary = nbars[1]\n",
    "    nbarz = nbars[2]\n",
    "    delPrime = deld - Delta\n",
    "    freeEvo = pulse(T, 0.0, deld, 0.0, 0.0)\n",
    "    pi2PhaseInjP = pulse(0.0, 0.0, 0.0, 0.0, np.pi/2.0)\n",
    "    pi2PhaseInjM = pulse(0.0, 0.0, 0.0, 0.0, -np.pi/2.0)\n",
    "    intState = freeEvo@therm3DPulse(psi0, t1, Omega01, delPrime, nbars, Omegas, Ncut)\n",
    "    resultP = therm3DPulse(therm3DPulse(pi2PhaseInjP@intState, 2.0*t2/3.0, -Omega02, delPrime, nbars, Omegas, Ncut), t2/3.0, Omega03, delPrime, nbars, Omegas, Ncut)\n",
    "    resultM = therm3DPulse(therm3DPulse(pi2PhaseInjM@intState, 2.0*t2/3.0, -Omega02, delPrime, nbars, Omegas, Ncut), t2/3.0, Omega03, delPrime, nbars, Omegas, Ncut)\n",
    "    return rhoee(resultP) - rhoee(resultM)\n",
    "\n",
    "def HRJumpThermErrSig(deld, psi0, t1, T, t2, Delta, Omega0, eta, nbar0, nbarf, Ncut):\n",
    "    #nbar = nbar0 + nbardot*T\n",
    "    delPrime = deld - Delta\n",
    "    freeEvo = pulse(T, 0.0, deld, 0.0, 0.0)\n",
    "    pi2PhaseInjP = pulse(0.0, 0.0, 0.0, 0.0, np.pi/2.0)\n",
    "    pi2PhaseInjM = pulse(0.0, 0.0, 0.0, 0.0, -np.pi/2.0)\n",
    "    #def thermPulse(psi0, t, Omega0, delPrime, eta, nbar, Ncut): #1-dimensional\n",
    "    intState = thermPulse(psi0, t1, Omega0, delPrime, eta, nbar0, Ncut)\n",
    "    resultP = thermPulse(thermPulse(freeEvo@pi2PhaseInjP@intState, 2.0*t2/3.0, -Omega0, delPrime, eta, nbarf, Ncut), t2/3.0, Omega0, delPrime, eta, nbarf, Ncut)\n",
    "    resultM = thermPulse(thermPulse(freeEvo@pi2PhaseInjM@intState, 2.0*t2/3.0, -Omega0, delPrime, eta, nbarf, Ncut), t2/3.0, Omega0, delPrime, eta, nbarf, Ncut)\n",
    "    return rhoee(resultP) - rhoee(resultM)\n",
    "\n",
    "def RamseyErrSig(deld, psi0, t1, T, t2, Delta, Omega0, eta, nbar0, nbarf, Ncut):\n",
    "    #nbar = nbar0 + nbardot*T\n",
    "    delPrime = deld - Delta\n",
    "    freeEvo = pulse(T, 0.0, deld, 0.0, 0.0)\n",
    "    pi2PhaseInjP = pulse(0.0, 0.0, 0.0, 0.0, np.pi/2.0)\n",
    "    pi2PhaseInjM = pulse(0.0, 0.0, 0.0, 0.0, -np.pi/2.0)\n",
    "    intState = thermPulse(psi0, t1, Omega0, delPrime, eta, nbar0, Ncut)\n",
    "    resultP = thermPulse(freeEvo@pi2PhaseInjP@intState, t2, Omega0, delPrime, eta, nbarf, Ncut)\n",
    "    resultM = thermPulse(freeEvo@pi2PhaseInjM@intState, t2, Omega0, delPrime, eta, nbarf, Ncut)\n",
    "    return rhoee(resultP) - rhoee(resultM)"
   ]
  },
  {
   "cell_type": "code",
   "execution_count": 5,
   "id": "14214688",
   "metadata": {},
   "outputs": [
    {
     "name": "stdout",
     "output_type": "stream",
     "text": [
      "701\n",
      "10.0\n"
     ]
    },
    {
     "name": "stderr",
     "output_type": "stream",
     "text": [
      "D:\\Mark\\Python\\lib\\site-packages\\scipy\\special\\_orthogonal.py:651: RuntimeWarning: invalid value encountered in double_scalars\n",
      "  hn = _gam(n + alpha + 1) / _gam(n + 1)\n",
      "D:\\Mark\\Python\\lib\\site-packages\\scipy\\special\\_orthogonal.py:140: RuntimeWarning: invalid value encountered in multiply\n",
      "  np.poly1d.__init__(self, poly.coeffs * float(kn))\n",
      "D:\\Mark\\Python\\lib\\site-packages\\scipy\\special\\_orthogonal.py:196: RuntimeWarning: overflow encountered in true_divide\n",
      "  w = 1.0 / (fm * dy)\n",
      "D:\\Mark\\Python\\lib\\site-packages\\scipy\\special\\_orthogonal.py:202: RuntimeWarning: invalid value encountered in multiply\n",
      "  w *= mu0 / w.sum()\n",
      "D:\\Mark\\Python\\lib\\site-packages\\scipy\\special\\_orthogonal.py:127: RuntimeWarning: invalid value encountered in double_scalars\n",
      "  equiv_weights = [weights[k] / wfunc(roots[k]) for\n",
      "D:\\Mark\\Python\\lib\\site-packages\\scipy\\special\\_orthogonal.py:196: RuntimeWarning: divide by zero encountered in true_divide\n",
      "  w = 1.0 / (fm * dy)\n",
      "D:\\Mark\\Python\\lib\\site-packages\\scipy\\special\\_orthogonal.py:553: RuntimeWarning: overflow encountered in multiply\n",
      "  - (n + alpha)*cephes.eval_genlaguerre(n-1, alpha, x))/x\n",
      "D:\\Mark\\Python\\lib\\site-packages\\scipy\\special\\_orthogonal.py:195: RuntimeWarning: invalid value encountered in true_divide\n",
      "  dy /= np.abs(dy).max()\n"
     ]
    },
    {
     "name": "stdout",
     "output_type": "stream",
     "text": [
      "20.0\n",
      "30.0\n",
      "40.0\n",
      "50.0\n",
      "60.0\n",
      "70.0\n",
      "80.0\n",
      "90.0\n",
      "100.0\n",
      "110.0\n",
      "120.0\n",
      "130.0\n",
      "140.0\n",
      "150.0\n",
      "801\n",
      "10.0\n",
      "20.0\n",
      "30.0\n",
      "40.0\n",
      "50.0\n",
      "60.0\n",
      "70.0\n",
      "80.0\n",
      "90.0\n",
      "100.0\n",
      "110.0\n",
      "120.0\n",
      "130.0\n",
      "140.0\n",
      "150.0\n",
      "901\n",
      "10.0\n",
      "20.0\n",
      "30.0\n",
      "40.0\n",
      "50.0\n",
      "60.0\n",
      "70.0\n",
      "80.0\n",
      "90.0\n",
      "100.0\n",
      "110.0\n",
      "120.0\n",
      "130.0\n",
      "140.0\n",
      "150.0\n"
     ]
    }
   ],
   "source": [
    "pts = 15\n",
    "Ncuts = np.array([701, 801, 901])\n",
    "psi0 = psi(0.0, 1.0)\n",
    "Delta = 1.0 #*(2.0*np.pi) #hz\n",
    "Omega0 = 50.0 #*(2.0*np.pi) #hz\n",
    "nbar0 = 10.0 \n",
    "t1 = np.pi/(2.0*Omega0)\n",
    "T = 20.0/Omega0\n",
    "#t2 = 3.0*np.pi/(2.0*Omega0)\n",
    "eta = 0.05\n",
    "nbarfs = np.linspace(10, 150, pts)\n",
    "shifts1 = np.zeros([np.size(Ncuts), pts])\n",
    "shifts2 = np.zeros(pts)\n",
    "tol = 1.0e-11\n",
    "guessTol = 5.0\n",
    "for ii in range(np.size(Ncuts)):\n",
    "    print(Ncuts[ii])\n",
    "    x0 = -0.1\n",
    "    x1 = 0.5\n",
    "    for jj in range(pts):\n",
    "        print(nbarfs[jj])\n",
    "        shifts1[ii][jj] = sp.optimize.root_scalar(RamseyErrSig, args=(psi0, t1, T, 3.0*np.pi/(2.0*Omega0), Delta, Omega0, eta, nbar0, nbarfs[jj], Ncuts[ii]), bracket=[x0,x1], xtol = tol).root\n",
    "        #print(shifts1[ii])\n",
    "        x0 = shifts1[ii][jj] - guessTol\n",
    "        x1 = shifts1[ii][jj]\n",
    "        #print(x0,x1)"
   ]
  },
  {
   "cell_type": "code",
   "execution_count": 7,
   "id": "7749e815",
   "metadata": {},
   "outputs": [
    {
     "name": "stdout",
     "output_type": "stream",
     "text": [
      "201\n",
      "10.0\n",
      "20.0\n",
      "30.0\n",
      "40.0\n",
      "50.0\n",
      "60.0\n",
      "70.0\n",
      "80.0\n",
      "90.0\n",
      "100.0\n",
      "110.0\n",
      "120.0\n",
      "130.0\n",
      "140.0\n",
      "150.0\n",
      "401\n",
      "10.0\n",
      "20.0\n",
      "30.0\n",
      "40.0\n",
      "50.0\n",
      "60.0\n",
      "70.0\n",
      "80.0\n",
      "90.0\n",
      "100.0\n",
      "110.0\n",
      "120.0\n",
      "130.0\n",
      "140.0\n",
      "150.0\n",
      "601\n",
      "10.0\n",
      "20.0\n",
      "30.0\n",
      "40.0\n",
      "50.0\n",
      "60.0\n",
      "70.0\n",
      "80.0\n",
      "90.0\n",
      "100.0\n",
      "110.0\n",
      "120.0\n",
      "130.0\n",
      "140.0\n",
      "150.0\n"
     ]
    }
   ],
   "source": [
    "pts = 15\n",
    "Ncuts = np.array([801])\n",
    "psi0 = psi(0.0, 1.0)\n",
    "Delta = 1.0 #*(2.0*np.pi) #hz\n",
    "Omega0 = 50.0 #*(2.0*np.pi) #hz\n",
    "nbar0 = 10.0 \n",
    "t1 = np.pi/(2.0*Omega0)\n",
    "T = 20.0/Omega0\n",
    "#t2 = 3.0*np.pi/(2.0*Omega0)\n",
    "eta = 0.05\n",
    "nbarfs = np.linspace(10, 150, pts)\n",
    "shifts2 = np.zeros([np.size(Ncuts), pts])\n",
    "tol = 1.0e-11\n",
    "guessTol = 5.0\n",
    "for ii in range(np.size(Ncuts)):\n",
    "    print(Ncuts[ii])\n",
    "    x0 = -0.1\n",
    "    x1 = 0.5\n",
    "    for jj in range(pts):\n",
    "        print(nbarfs[jj])\n",
    "        shifts2[ii][jj] = sp.optimize.root_scalar(RamseyErrSig, args=(psi0, t1, T, 3.0*np.pi/(2.0*Omega0), Delta, Omega0, eta, nbar0, nbarfs[jj], Ncuts[ii]), bracket=[x0,x1], xtol = tol).root\n",
    "        #print(shifts1[ii])\n",
    "        x0 = shifts2[ii][jj] - guessTol\n",
    "        x1 = shifts2[ii][jj]\n",
    "        #print(x0,x1)"
   ]
  },
  {
   "cell_type": "code",
   "execution_count": 146,
   "id": "3f15b25c",
   "metadata": {},
   "outputs": [],
   "source": [
    "tol = 1.0e-11\n",
    "x0 = -3.0\n",
    "x1 = 0.1\n",
    "guessTol = 5.0\n",
    "pt2s = 15\n",
    "nbarf2s = np.linspace(10, 150, pt2s)\n",
    "shifts2 = np.zeros(pt2s)\n",
    "\n",
    "for ii in range(pt2s):\n",
    "    #print(ii)\n",
    "    #print(nbarf2s[ii])\n",
    "    shifts2[ii] = sp.optimize.root_scalar(RamseyErrSig, args=(psi0, t1, T, 7.0*np.pi/(2.0*Omega0), Delta, Omega0, eta, nbar0, nbarf2s[ii], Ncut), bracket=[x0,x1], xtol = tol).root\n",
    "    #print(shifts2[ii])\n",
    "    x0 = shifts2[ii]  - guessTol\n",
    "    x1 = shifts2[ii]  #+ guessTol/10.0\n",
    "    #print(x0,x1)"
   ]
  },
  {
   "cell_type": "markdown",
   "id": "4a005df7",
   "metadata": {},
   "source": [
    "Comparing $3\\pi/2$ Ramsey style pulse sequence to $7\\pi/2$ to see if they are similar."
   ]
  },
  {
   "cell_type": "code",
   "execution_count": 11,
   "id": "49c70b18",
   "metadata": {},
   "outputs": [
    {
     "data": {
      "image/png": "[encoded data removed]",
      "text/plain": [
       "<Figure size 432x288 with 1 Axes>"
      ]
     },
     "metadata": {
      "needs_background": "light"
     },
     "output_type": "display_data"
    }
   ],
   "source": [
    "plt.plot(nbarfs,shifts2[0,:], label=\"Ncut=201\")\n",
    "plt.plot(nbarfs,shifts2[1,:], label=\"Ncut=401\")\n",
    "plt.plot(nbarfs,shifts2[2,:], label='Ncut=601')\n",
    "plt.plot(nbarfs,shifts1[0,:], label=\"Ncut=701\")\n",
    "plt.plot(nbarfs,shifts1[1,:], label=\"Ncut=801\")\n",
    "plt.plot(nbarfs,shifts1[2,:], label='Ncut=901')\n",
    "plt.title(r\"Ramsey Style ($3\\pi/2$)\")\n",
    "plt.xlabel(r'Final $\\bar{n}$')\n",
    "plt.ylabel(\"Shift (Hz)\")\n",
    "plt.legend()\n",
    "plt.xlim([0,150])\n",
    "#plt.ylim([-0.5,0])\n",
    "plt.show()"
   ]
  },
  {
   "cell_type": "code",
   "execution_count": 17,
   "id": "4974390c",
   "metadata": {},
   "outputs": [
    {
     "data": {
      "text/plain": [
       "Text(0, 0.5, 'Error (%)')"
      ]
     },
     "execution_count": 17,
     "metadata": {},
     "output_type": "execute_result"
    },
    {
     "data": {
      "image/png": "[encoded data removed]",
      "text/plain": [
       "<Figure size 432x288 with 1 Axes>"
      ]
     },
     "metadata": {
      "needs_background": "light"
     },
     "output_type": "display_data"
    }
   ],
   "source": [
    "err1 = (shifts2[2,:] - shifts1[2,:])/shifts1[2,:]*100.0\n",
    "err2 = (shifts1[0,:] - shifts1[2,:])/shifts1[2,:]*100.0\n",
    "err3 = (shifts1[1,:] - shifts1[2,:])/shifts1[2,:]*100.0\n",
    "plt.plot(nbarfs, err1) #Ncut = 601\n",
    "plt.plot(nbarfs, err2) #Ncut = 701\n",
    "plt.plot(nbarfs, err3) #Ncut = 801\n",
    "\n",
    "\n",
    "plt.xlabel(r'Final $\\bar{n}$')\n",
    "plt.ylabel(\"Error (%)\")"
   ]
  },
  {
   "cell_type": "code",
   "execution_count": 147,
   "id": "c7dd6024",
   "metadata": {},
   "outputs": [
    {
     "data": {
      "image/png": "[encoded data removed]",
      "text/plain": [
       "<Figure size 432x288 with 1 Axes>"
      ]
     },
     "metadata": {
      "needs_background": "light"
     },
     "output_type": "display_data"
    }
   ],
   "source": [
    "plt.plot(nbarf2s,shifts2)\n",
    "plt.title(r\"Ramsey Style ($7\\pi/2$)\")\n",
    "plt.xlabel(r'Final $\\bar{n}$')\n",
    "plt.ylabel(\"Shift (Hz)\")\n",
    "plt.show()"
   ]
  },
  {
   "cell_type": "code",
   "execution_count": 148,
   "id": "f4c75488",
   "metadata": {},
   "outputs": [],
   "source": [
    "pts = 40\n",
    "Ncut = 201\n",
    "psi0 = psi(0.0, 1.0)\n",
    "Deltas = np.linspace(-20.0, 20.0, pts) #hz\n",
    "Omega0 = 50.0 #*(2.0*np.pi) #hz\n",
    "t1 = np.pi/(2.0*Omega0)\n",
    "T = 20.0/Omega0\n",
    "t2 = 3.0*np.pi/(2.0*Omega0)\n",
    "eta = 0.05\n",
    "nbar0 = 10.0\n",
    "nbarf = 20.0\n",
    "shifts = np.zeros(pts)\n",
    "\n",
    "x0 = -2.0\n",
    "x1 = 0.2\n",
    "xtol = 1e-10\n",
    "guessTol = 1.0\n",
    "\n",
    "\n",
    "for ii in range(pts):\n",
    "    #print(ii)\n",
    "    shifts[ii] = sp.optimize.root_scalar(RamseyErrSig, args=(psi0, t1, T, t2, Deltas[ii], Omega0, eta, nbar0, nbarf, Ncut), bracket=[x0,x1], xtol = tol).root\n",
    "    #print(shifts[ii])\n",
    "    x0 = shifts[ii] - guessTol\n",
    "    x1 = shifts[ii] + guessTol\n",
    "    #print(x0, x1)"
   ]
  },
  {
   "cell_type": "markdown",
   "id": "244b4011",
   "metadata": {},
   "source": [
    "Below is plotted the clock shift as a function of the LSEE given an initial nbar = 10 and nbardot = 5/sec (for a $3\\pi/2$ Ramsey style interogation)."
   ]
  },
  {
   "cell_type": "code",
   "execution_count": 149,
   "id": "00a8e2a6",
   "metadata": {},
   "outputs": [
    {
     "data": {
      "image/png": "[encoded data removed]",
      "text/plain": [
       "<Figure size 432x288 with 1 Axes>"
      ]
     },
     "metadata": {
      "needs_background": "light"
     },
     "output_type": "display_data"
    }
   ],
   "source": [
    "plt.plot(Deltas, shifts)\n",
    "plt.xlabel(\"LSEE (Hz)\")\n",
    "plt.ylabel(\"Clock Shift\")\n",
    "plt.show()"
   ]
  },
  {
   "cell_type": "code",
   "execution_count": null,
   "id": "91afc13b",
   "metadata": {},
   "outputs": [],
   "source": []
  }
 ],
 "metadata": {
  "kernelspec": {
   "display_name": "Python 3 (ipykernel)",
   "language": "python",
   "name": "python3"
  },
  "language_info": {
   "codemirror_mode": {
    "name": "ipython",
    "version": 3
   },
   "file_extension": ".py",
   "mimetype": "text/x-python",
   "name": "python",
   "nbconvert_exporter": "python",
   "pygments_lexer": "ipython3",
   "version": "3.10.5"
  }
 },
 "nbformat": 4,
 "nbformat_minor": 5
}
