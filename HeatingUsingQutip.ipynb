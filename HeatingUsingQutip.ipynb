{
 "cells": [
  {
   "cell_type": "code",
   "execution_count": 1,
   "id": "5aa21aea",
   "metadata": {},
   "outputs": [
    {
     "name": "stderr",
     "output_type": "stream",
     "text": [
      "D:\\Mark\\Python\\lib\\site-packages\\qutip\\__init__.py:65: UserWarning: The new version of Cython, (>= 3.0.0) is not supported.\n",
      "  warnings.warn(\n"
     ]
    }
   ],
   "source": [
    "from qutip import *\n",
    "import numpy as np\n",
    "import scipy as sp\n",
    "import math\n",
    "import matplotlib.pyplot as plt\n",
    "from scipy.special import genlaguerre as L\n",
    "import winsound"
   ]
  },
  {
   "cell_type": "code",
   "execution_count": 2,
   "id": "08e501f2",
   "metadata": {},
   "outputs": [
    {
     "name": "stderr",
     "output_type": "stream",
     "text": [
      "D:\\Mark\\Python\\lib\\site-packages\\scipy\\special\\_orthogonal.py:651: RuntimeWarning: invalid value encountered in double_scalars\n",
      "  hn = _gam(n + alpha + 1) / _gam(n + 1)\n",
      "D:\\Mark\\Python\\lib\\site-packages\\scipy\\special\\_orthogonal.py:140: RuntimeWarning: invalid value encountered in multiply\n",
      "  np.poly1d.__init__(self, poly.coeffs * float(kn))\n",
      "D:\\Mark\\Python\\lib\\site-packages\\scipy\\special\\_orthogonal.py:196: RuntimeWarning: overflow encountered in true_divide\n",
      "  w = 1.0 / (fm * dy)\n",
      "D:\\Mark\\Python\\lib\\site-packages\\scipy\\special\\_orthogonal.py:202: RuntimeWarning: invalid value encountered in multiply\n",
      "  w *= mu0 / w.sum()\n",
      "D:\\Mark\\Python\\lib\\site-packages\\scipy\\special\\_orthogonal.py:127: RuntimeWarning: invalid value encountered in double_scalars\n",
      "  equiv_weights = [weights[k] / wfunc(roots[k]) for\n",
      "D:\\Mark\\Python\\lib\\site-packages\\scipy\\special\\_orthogonal.py:196: RuntimeWarning: divide by zero encountered in true_divide\n",
      "  w = 1.0 / (fm * dy)\n",
      "D:\\Mark\\Python\\lib\\site-packages\\scipy\\special\\_orthogonal.py:553: RuntimeWarning: overflow encountered in multiply\n",
      "  - (n + alpha)*cephes.eval_genlaguerre(n-1, alpha, x))/x\n",
      "D:\\Mark\\Python\\lib\\site-packages\\scipy\\special\\_orthogonal.py:195: RuntimeWarning: invalid value encountered in true_divide\n",
      "  dy /= np.abs(dy).max()\n"
     ]
    }
   ],
   "source": [
    "hbar = 1.0#sp.constants.hbar\n",
    "\n",
    "def Omega(n,m,eta):\n",
    "    return np.abs(np.exp(-eta**2/2.0) * eta**(np.abs(m)) * (math.factorial(n)/math.factorial(n+m))**(np.sign(m)/2.0) \\\n",
    "        * L(n,np.abs(m))(eta**2))             #returns unitless rabi rate of transition n -> n+m given Lamb-Dicke Parameter\n",
    "\n",
    "eta = 0.1\n",
    "omegas = np.zeros(500)\n",
    "for ii in range(np.size(omegas)):\n",
    "    omegas[ii] = Omega(ii,0,eta)"
   ]
  },
  {
   "cell_type": "code",
   "execution_count": 23,
   "id": "2f0cc03f",
   "metadata": {},
   "outputs": [],
   "source": [
    "OmegaObj = Qobj(np.diag(omegas))"
   ]
  },
  {
   "cell_type": "code",
   "execution_count": 32,
   "id": "e1341151",
   "metadata": {},
   "outputs": [
    {
     "data": {
      "text/plain": [
       "1.9999999998376377"
      ]
     },
     "execution_count": 32,
     "metadata": {},
     "output_type": "execute_result"
    }
   ],
   "source": [
    "Ncut = 300\n",
    "nbar0 = 0\n",
    "delta = 0.0\n",
    "omegaVib = 2.0*np.pi*1.0e6\n",
    "Omega = 2.0*np.pi*10.0\n",
    "\n",
    "a = tensor(qeye(2), destroy(Ncut))\n",
    "sm = tensor(destroy(2), qeye(Ncut))\n",
    "\n",
    "H0 = -hbar*delta*sm*sm.dag() + hbar*omegaVib*(a.dag()*a + 0.5)\n",
    "V = hbar*Omega*(sm + sm.dag())\n",
    "\n",
    "K = 100.\n",
    "Nbar = 2.\n",
    "\n",
    "c1 = np.sqrt(K*(Nbar+1.0))*a\n",
    "c2 = np.sqrt(K*(Nbar))*a.dag()\n",
    "\n",
    "liouv = liouvillian(H0-V, [c1,c2])\n",
    "\n",
    "rho0 = tensor(fock_dm(2,0), thermal_dm(Ncut, Nbar))\n",
    "#expect(tensor(qeye(2),num(Ncut)), rho0)\n",
    "expect(a.dag()*a, rho0)"
   ]
  },
  {
   "cell_type": "code",
   "execution_count": 35,
   "id": "c591373a",
   "metadata": {},
   "outputs": [],
   "source": [
    "times = np.linspace(0.0, 0.1, 50)\n",
    "\n",
    "N = to_super(a*a.dag())\n",
    "rhoee = to_super(sm*sm.dag())\n",
    "\n",
    "result = mesolve(liouv, rho0, times, [], [a.dag()*a, sm.dag()*sm])#, options=Options(nsteps=10000))\n",
    "#mesolve(liouvillian, initial density matrix, times, relaxation operators, expectation value operators)\n",
    "winsound.Beep(frequency, duration)"
   ]
  },
  {
   "cell_type": "code",
   "execution_count": 36,
   "id": "e336fb2e",
   "metadata": {},
   "outputs": [
    {
     "data": {
      "image/png": "[encoded data removed]",
      "text/plain": [
       "<Figure size 432x288 with 1 Axes>"
      ]
     },
     "metadata": {
      "needs_background": "light"
     },
     "output_type": "display_data"
    }
   ],
   "source": [
    "plt.plot(times, result.expect[0], label=\"N\")\n",
    "plt.plot(times, result.expect[1], label=\"rhoee\")\n",
    "plt.legend()\n",
    "plt.show()"
   ]
  },
  {
   "cell_type": "code",
   "execution_count": 12,
   "id": "cf134334",
   "metadata": {},
   "outputs": [
    {
     "data": {
      "text/plain": [
       "array([1., 1., 1., 1., 1., 1., 1., 1., 1., 1., 1., 1., 1., 1., 1., 1., 1.,\n",
       "       1., 1., 1., 1., 1., 1., 1., 1.])"
      ]
     },
     "execution_count": 12,
     "metadata": {},
     "output_type": "execute_result"
    }
   ],
   "source": [
    "result.expect[0]"
   ]
  },
  {
   "cell_type": "code",
   "execution_count": 99,
   "id": "63be88b6",
   "metadata": {},
   "outputs": [],
   "source": [
    "Ncut = 10\n",
    "nbar0 = 0\n",
    "delta = 0.0\n",
    "omegaVib = 2.0*np.pi*1.0e6\n",
    "Omega = 2.0*np.pi*10.0\n",
    "\n",
    "a = tensor(qeye(2), destroy(Ncut))\n",
    "sm = tensor(destroy(2), qeye(Ncut))\n",
    "aDag = a.dag()\n",
    "smDag = sm.dag()\n",
    "\n",
    "N = a*aDag\n",
    "N = to_super(N)\n",
    "\n",
    "rhoee = sm*smDag\n",
    "rhoee = to_super(rhoee)\n",
    "\n",
    "#a = to_super(a)\n",
    "#aDag = to_super(aDag)\n",
    "sm = to_super(sm)\n",
    "smDag = to_super(smDag)\n",
    "\n",
    "#H0 = -hbar*delta*sm*sm.dag() + hbar*omegaVib*(a*a.dag() + 0.5)\n",
    "#V = hbar*Omega*(sm + sm.dag())\n",
    "\n",
    "H0 = -hbar*delta*rhoee + hbar*omegaVib*(N + 0.5)\n",
    "V = hbar*Omega*(sm + smDag)\n",
    "\n",
    "psi0 = tensor(fock_dm(2,1), thermal_dm(Ncut, nbar0))"
   ]
  },
  {
   "cell_type": "code",
   "execution_count": 100,
   "id": "6ac1e125",
   "metadata": {},
   "outputs": [],
   "source": [
    "times = np.linspace(0.0, np.pi/Omega, 200)\n",
    "#result = mesolve(H0+V, psi0, times, [], [sm*sm.dag(), a*a.dag()])\n",
    "result = mesolve(H0+V, psi0, times, [], [tensor(destroy(2), qeye(Ncut))*tensor(destroy(2), qeye(Ncut)), a*aDag])"
   ]
  },
  {
   "cell_type": "code",
   "execution_count": 101,
   "id": "6a249a2d",
   "metadata": {},
   "outputs": [
    {
     "data": {
      "image/png": "[encoded data removed]",
      "text/plain": [
       "<Figure size 432x288 with 1 Axes>"
      ]
     },
     "metadata": {
      "needs_background": "light"
     },
     "output_type": "display_data"
    }
   ],
   "source": [
    "plt.plot(times*1e3, result.expect[0])\n",
    "plt.show()"
   ]
  },
  {
   "cell_type": "code",
   "execution_count": 27,
   "id": "cbaa58cb",
   "metadata": {},
   "outputs": [],
   "source": [
    "Omega = 2.0*np.pi*10.0\n",
    "hbar = 1.0#sp.constants.hbar\n",
    "delta = 0.0#Omega/2.0\n",
    "\n",
    "H = -hbar*delta*destroy(2)*destroy(2).dag() + hbar*Omega*(destroy(2) + destroy(2).dag())\n",
    "psi0 = fock(2,0)\n",
    "times = np.linspace(0, 5.0*np.pi/Omega, 200)\n",
    "result = sesolve(H,psi0,times,[destroy(2).dag()*destroy(2)])"
   ]
  },
  {
   "cell_type": "code",
   "execution_count": 28,
   "id": "9464fb4f",
   "metadata": {},
   "outputs": [
    {
     "data": {
      "text/plain": [
       "[<matplotlib.lines.Line2D at 0x208aa364460>]"
      ]
     },
     "execution_count": 28,
     "metadata": {},
     "output_type": "execute_result"
    },
    {
     "data": {
      "image/png": "[encoded data removed]",
      "text/plain": [
       "<Figure size 432x288 with 1 Axes>"
      ]
     },
     "metadata": {
      "needs_background": "light"
     },
     "output_type": "display_data"
    }
   ],
   "source": [
    "plt.plot(times, result.expect[0])"
   ]
  },
  {
   "cell_type": "code",
   "execution_count": 12,
   "id": "08bf4108",
   "metadata": {},
   "outputs": [
    {
     "data": {
      "text/plain": [
       "Result object with sesolve data.\n",
       "--------------------------------\n",
       "expect = True\n",
       "num_expect = 1, num_collapse = 0"
      ]
     },
     "execution_count": 12,
     "metadata": {},
     "output_type": "execute_result"
    }
   ],
   "source": [
    "result"
   ]
  },
  {
   "cell_type": "code",
   "execution_count": null,
   "id": "ba769fa5",
   "metadata": {},
   "outputs": [],
   "source": []
  }
 ],
 "metadata": {
  "kernelspec": {
   "display_name": "Python 3 (ipykernel)",
   "language": "python",
   "name": "python3"
  },
  "language_info": {
   "codemirror_mode": {
    "name": "ipython",
    "version": 3
   },
   "file_extension": ".py",
   "mimetype": "text/x-python",
   "name": "python",
   "nbconvert_exporter": "python",
   "pygments_lexer": "ipython3",
   "version": "3.10.5"
  }
 },
 "nbformat": 4,
 "nbformat_minor": 5
}
