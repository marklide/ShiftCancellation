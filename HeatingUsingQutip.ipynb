{
 "cells": [
  {
   "cell_type": "code",
   "execution_count": 1,
   "id": "5aa21aea",
   "metadata": {},
   "outputs": [
    {
     "name": "stderr",
     "output_type": "stream",
     "text": [
      "D:\\Mark\\Python\\lib\\site-packages\\qutip\\__init__.py:65: UserWarning: The new version of Cython, (>= 3.0.0) is not supported.\n",
      "  warnings.warn(\n"
     ]
    }
   ],
   "source": [
    "from qutip import *\n",
    "import numpy as np\n",
    "import scipy as sp\n",
    "import math\n",
    "import matplotlib.pyplot as plt\n",
    "from scipy.special import genlaguerre as L"
   ]
  },
  {
   "cell_type": "code",
   "execution_count": 22,
   "id": "08e501f2",
   "metadata": {},
   "outputs": [
    {
     "name": "stderr",
     "output_type": "stream",
     "text": [
      "D:\\Mark\\Python\\lib\\site-packages\\scipy\\special\\_orthogonal.py:651: RuntimeWarning: invalid value encountered in double_scalars\n",
      "  hn = _gam(n + alpha + 1) / _gam(n + 1)\n",
      "D:\\Mark\\Python\\lib\\site-packages\\scipy\\special\\_orthogonal.py:140: RuntimeWarning: invalid value encountered in multiply\n",
      "  np.poly1d.__init__(self, poly.coeffs * float(kn))\n",
      "D:\\Mark\\Python\\lib\\site-packages\\scipy\\special\\_orthogonal.py:196: RuntimeWarning: overflow encountered in true_divide\n",
      "  w = 1.0 / (fm * dy)\n",
      "D:\\Mark\\Python\\lib\\site-packages\\scipy\\special\\_orthogonal.py:202: RuntimeWarning: invalid value encountered in multiply\n",
      "  w *= mu0 / w.sum()\n",
      "D:\\Mark\\Python\\lib\\site-packages\\scipy\\special\\_orthogonal.py:127: RuntimeWarning: invalid value encountered in double_scalars\n",
      "  equiv_weights = [weights[k] / wfunc(roots[k]) for\n",
      "D:\\Mark\\Python\\lib\\site-packages\\scipy\\special\\_orthogonal.py:196: RuntimeWarning: divide by zero encountered in true_divide\n",
      "  w = 1.0 / (fm * dy)\n",
      "D:\\Mark\\Python\\lib\\site-packages\\scipy\\special\\_orthogonal.py:553: RuntimeWarning: overflow encountered in multiply\n",
      "  - (n + alpha)*cephes.eval_genlaguerre(n-1, alpha, x))/x\n",
      "D:\\Mark\\Python\\lib\\site-packages\\scipy\\special\\_orthogonal.py:195: RuntimeWarning: invalid value encountered in true_divide\n",
      "  dy /= np.abs(dy).max()\n"
     ]
    }
   ],
   "source": [
    "hbar = 1.0#sp.constants.hbar\n",
    "\n",
    "def Omega(n,m,eta):\n",
    "    return np.abs(np.exp(-eta**2/2.0) * eta**(np.abs(m)) * (math.factorial(n)/math.factorial(n+m))**(np.sign(m)/2.0) \\\n",
    "        * L(n,np.abs(m))(eta**2))             #returns unitless rabi rate of transition n -> n+m given Lamb-Dicke Parameter\n",
    "\n",
    "eta = 0.1\n",
    "omegas = np.zeros(500)\n",
    "for ii in range(np.size(omegas)):\n",
    "    omegas[ii] = Omega(ii,0,eta)"
   ]
  },
  {
   "cell_type": "code",
   "execution_count": 23,
   "id": "2f0cc03f",
   "metadata": {},
   "outputs": [],
   "source": [
    "OmegaObj = Qobj(np.diag(omegas))"
   ]
  },
  {
   "cell_type": "code",
   "execution_count": 33,
   "id": "e1341151",
   "metadata": {},
   "outputs": [
    {
     "data": {
      "text/plain": [
       "0.0"
      ]
     },
     "execution_count": 33,
     "metadata": {},
     "output_type": "execute_result"
    }
   ],
   "source": [
    "Ncut = 300\n",
    "nbar0 = 0\n",
    "delta = 0.0\n",
    "omegaVib = 2.0*np.pi*1.0e6\n",
    "Omega = 2.0*np.pi*10.0\n",
    "\n",
    "a = tensor(qeye(2), destroy(Ncut))\n",
    "sm = tensor(destroy(2), qeye(Ncut))\n",
    "\n",
    "H0 = -hbar*delta*sm*sm.dag() + hbar*omegaVib*(a.dag()*a + 0.5)\n",
    "V = hbar*Omega*(sm + sm.dag())\n",
    "\n",
    "K = 1.0e-4\n",
    "Nbar = 1e7\n",
    "\n",
    "c1 = np.sqrt(K*(Nbar+1.0))*a\n",
    "c2 = np.sqrt(K*(Nbar))*a.dag()\n",
    "\n",
    "liouv = liouvillian(H0-V, [c1,c2])\n",
    "\n",
    "rho0 = tensor(fock_dm(2,0), thermal_dm(Ncut, 0))\n",
    "expect(tensor(qeye(2),num(Ncut)), rho0)\n",
    "expect(a.dag()*a, rho0)"
   ]
  },
  {
   "cell_type": "code",
   "execution_count": 35,
   "id": "c591373a",
   "metadata": {},
   "outputs": [
    {
     "ename": "KeyboardInterrupt",
     "evalue": "",
     "output_type": "error",
     "traceback": [
      "\u001b[1;31m---------------------------------------------------------------------------\u001b[0m",
      "\u001b[1;31mKeyboardInterrupt\u001b[0m                         Traceback (most recent call last)",
      "Input \u001b[1;32mIn [35]\u001b[0m, in \u001b[0;36m<cell line: 6>\u001b[1;34m()\u001b[0m\n\u001b[0;32m      3\u001b[0m N \u001b[38;5;241m=\u001b[39m to_super(a\u001b[38;5;241m*\u001b[39ma\u001b[38;5;241m.\u001b[39mdag())\n\u001b[0;32m      4\u001b[0m rhoee \u001b[38;5;241m=\u001b[39m to_super(sm\u001b[38;5;241m*\u001b[39msm\u001b[38;5;241m.\u001b[39mdag())\n\u001b[1;32m----> 6\u001b[0m result \u001b[38;5;241m=\u001b[39m \u001b[43mmesolve\u001b[49m\u001b[43m(\u001b[49m\u001b[43mliouv\u001b[49m\u001b[43m,\u001b[49m\u001b[43m \u001b[49m\u001b[43mrho0\u001b[49m\u001b[43m,\u001b[49m\u001b[43m \u001b[49m\u001b[43mtimes\u001b[49m\u001b[43m,\u001b[49m\u001b[43m \u001b[49m\u001b[43m[\u001b[49m\u001b[43m]\u001b[49m\u001b[43m,\u001b[49m\u001b[43m \u001b[49m\u001b[43m[\u001b[49m\u001b[43ma\u001b[49m\u001b[38;5;241;43m.\u001b[39;49m\u001b[43mdag\u001b[49m\u001b[43m(\u001b[49m\u001b[43m)\u001b[49m\u001b[38;5;241;43m*\u001b[39;49m\u001b[43ma\u001b[49m\u001b[43m,\u001b[49m\u001b[43m \u001b[49m\u001b[43msm\u001b[49m\u001b[38;5;241;43m.\u001b[39;49m\u001b[43mdag\u001b[49m\u001b[43m(\u001b[49m\u001b[43m)\u001b[49m\u001b[38;5;241;43m*\u001b[39;49m\u001b[43msm\u001b[49m\u001b[43m]\u001b[49m\u001b[43m,\u001b[49m\u001b[43m \u001b[49m\u001b[43moptions\u001b[49m\u001b[38;5;241;43m=\u001b[39;49m\u001b[43mOptions\u001b[49m\u001b[43m(\u001b[49m\u001b[43mnsteps\u001b[49m\u001b[38;5;241;43m=\u001b[39;49m\u001b[38;5;241;43m10000\u001b[39;49m\u001b[43m)\u001b[49m\u001b[43m)\u001b[49m\n",
      "File \u001b[1;32mD:\\Mark\\Python\\lib\\site-packages\\qutip\\mesolve.py:244\u001b[0m, in \u001b[0;36mmesolve\u001b[1;34m(H, rho0, tlist, c_ops, e_ops, args, options, progress_bar, _safe_mode)\u001b[0m\n\u001b[0;32m    241\u001b[0m     v \u001b[38;5;241m=\u001b[39m rho0\u001b[38;5;241m.\u001b[39mfull()\u001b[38;5;241m.\u001b[39mravel(\u001b[38;5;124m'\u001b[39m\u001b[38;5;124mF\u001b[39m\u001b[38;5;124m'\u001b[39m)\n\u001b[0;32m    242\u001b[0m     func(\u001b[38;5;241m0.\u001b[39m, v, \u001b[38;5;241m*\u001b[39mode_args) \u001b[38;5;241m+\u001b[39m v\n\u001b[1;32m--> 244\u001b[0m res \u001b[38;5;241m=\u001b[39m \u001b[43m_generic_ode_solve\u001b[49m\u001b[43m(\u001b[49m\u001b[43mfunc\u001b[49m\u001b[43m,\u001b[49m\u001b[43m \u001b[49m\u001b[43mode_args\u001b[49m\u001b[43m,\u001b[49m\u001b[43m \u001b[49m\u001b[43mrho0\u001b[49m\u001b[43m,\u001b[49m\u001b[43m \u001b[49m\u001b[43mtlist\u001b[49m\u001b[43m,\u001b[49m\u001b[43m \u001b[49m\u001b[43me_ops\u001b[49m\u001b[43m,\u001b[49m\u001b[43m \u001b[49m\u001b[43moptions\u001b[49m\u001b[43m,\u001b[49m\n\u001b[0;32m    245\u001b[0m \u001b[43m                         \u001b[49m\u001b[43mprogress_bar\u001b[49m\u001b[43m,\u001b[49m\u001b[43m \u001b[49m\u001b[43mdims\u001b[49m\u001b[38;5;241;43m=\u001b[39;49m\u001b[43mrho0\u001b[49m\u001b[38;5;241;43m.\u001b[39;49m\u001b[43mdims\u001b[49m\u001b[43m)\u001b[49m\n\u001b[0;32m    246\u001b[0m res\u001b[38;5;241m.\u001b[39mnum_collapse \u001b[38;5;241m=\u001b[39m \u001b[38;5;28mlen\u001b[39m(c_ops)\n\u001b[0;32m    248\u001b[0m \u001b[38;5;28;01mif\u001b[39;00m e_ops_dict:\n",
      "File \u001b[1;32mD:\\Mark\\Python\\lib\\site-packages\\qutip\\mesolve.py:531\u001b[0m, in \u001b[0;36m_generic_ode_solve\u001b[1;34m(func, ode_args, rho0, tlist, e_ops, opt, progress_bar, dims)\u001b[0m\n\u001b[0;32m    526\u001b[0m             output\u001b[38;5;241m.\u001b[39mexpect[m][t_idx] \u001b[38;5;241m=\u001b[39m expect_rho_vec(e_ops_data[m], r\u001b[38;5;241m.\u001b[39my,\n\u001b[0;32m    527\u001b[0m                                                      e_ops[m]\u001b[38;5;241m.\u001b[39misherm\n\u001b[0;32m    528\u001b[0m                                                      \u001b[38;5;129;01mand\u001b[39;00m rho0\u001b[38;5;241m.\u001b[39misherm)\n\u001b[0;32m    530\u001b[0m     \u001b[38;5;28;01mif\u001b[39;00m t_idx \u001b[38;5;241m<\u001b[39m n_tsteps \u001b[38;5;241m-\u001b[39m \u001b[38;5;241m1\u001b[39m:\n\u001b[1;32m--> 531\u001b[0m         \u001b[43mr\u001b[49m\u001b[38;5;241;43m.\u001b[39;49m\u001b[43mintegrate\u001b[49m\u001b[43m(\u001b[49m\u001b[43mr\u001b[49m\u001b[38;5;241;43m.\u001b[39;49m\u001b[43mt\u001b[49m\u001b[43m \u001b[49m\u001b[38;5;241;43m+\u001b[39;49m\u001b[43m \u001b[49m\u001b[43mdt\u001b[49m\u001b[43m[\u001b[49m\u001b[43mt_idx\u001b[49m\u001b[43m]\u001b[49m\u001b[43m)\u001b[49m\n\u001b[0;32m    533\u001b[0m progress_bar\u001b[38;5;241m.\u001b[39mfinished()\n\u001b[0;32m    535\u001b[0m \u001b[38;5;28;01mif\u001b[39;00m opt\u001b[38;5;241m.\u001b[39mstore_final_state:\n",
      "File \u001b[1;32mD:\\Mark\\Python\\lib\\site-packages\\scipy\\integrate\\_ode.py:433\u001b[0m, in \u001b[0;36mode.integrate\u001b[1;34m(self, t, step, relax)\u001b[0m\n\u001b[0;32m    430\u001b[0m     mth \u001b[38;5;241m=\u001b[39m \u001b[38;5;28mself\u001b[39m\u001b[38;5;241m.\u001b[39m_integrator\u001b[38;5;241m.\u001b[39mrun\n\u001b[0;32m    432\u001b[0m \u001b[38;5;28;01mtry\u001b[39;00m:\n\u001b[1;32m--> 433\u001b[0m     \u001b[38;5;28mself\u001b[39m\u001b[38;5;241m.\u001b[39m_y, \u001b[38;5;28mself\u001b[39m\u001b[38;5;241m.\u001b[39mt \u001b[38;5;241m=\u001b[39m \u001b[43mmth\u001b[49m\u001b[43m(\u001b[49m\u001b[38;5;28;43mself\u001b[39;49m\u001b[38;5;241;43m.\u001b[39;49m\u001b[43mf\u001b[49m\u001b[43m,\u001b[49m\u001b[43m \u001b[49m\u001b[38;5;28;43mself\u001b[39;49m\u001b[38;5;241;43m.\u001b[39;49m\u001b[43mjac\u001b[49m\u001b[43m \u001b[49m\u001b[38;5;129;43;01mor\u001b[39;49;00m\u001b[43m \u001b[49m\u001b[43m(\u001b[49m\u001b[38;5;28;43;01mlambda\u001b[39;49;00m\u001b[43m:\u001b[49m\u001b[43m \u001b[49m\u001b[38;5;28;43;01mNone\u001b[39;49;00m\u001b[43m)\u001b[49m\u001b[43m,\u001b[49m\n\u001b[0;32m    434\u001b[0m \u001b[43m                          \u001b[49m\u001b[38;5;28;43mself\u001b[39;49m\u001b[38;5;241;43m.\u001b[39;49m\u001b[43m_y\u001b[49m\u001b[43m,\u001b[49m\u001b[43m \u001b[49m\u001b[38;5;28;43mself\u001b[39;49m\u001b[38;5;241;43m.\u001b[39;49m\u001b[43mt\u001b[49m\u001b[43m,\u001b[49m\u001b[43m \u001b[49m\u001b[43mt\u001b[49m\u001b[43m,\u001b[49m\n\u001b[0;32m    435\u001b[0m \u001b[43m                          \u001b[49m\u001b[38;5;28;43mself\u001b[39;49m\u001b[38;5;241;43m.\u001b[39;49m\u001b[43mf_params\u001b[49m\u001b[43m,\u001b[49m\u001b[43m \u001b[49m\u001b[38;5;28;43mself\u001b[39;49m\u001b[38;5;241;43m.\u001b[39;49m\u001b[43mjac_params\u001b[49m\u001b[43m)\u001b[49m\n\u001b[0;32m    436\u001b[0m \u001b[38;5;28;01mexcept\u001b[39;00m \u001b[38;5;167;01mSystemError\u001b[39;00m \u001b[38;5;28;01mas\u001b[39;00m e:\n\u001b[0;32m    437\u001b[0m     \u001b[38;5;66;03m# f2py issue with tuple returns, see ticket 1187.\u001b[39;00m\n\u001b[0;32m    438\u001b[0m     \u001b[38;5;28;01mraise\u001b[39;00m \u001b[38;5;167;01mValueError\u001b[39;00m(\n\u001b[0;32m    439\u001b[0m         \u001b[38;5;124m'\u001b[39m\u001b[38;5;124mFunction to integrate must not return a tuple.\u001b[39m\u001b[38;5;124m'\u001b[39m\n\u001b[0;32m    440\u001b[0m     ) \u001b[38;5;28;01mfrom\u001b[39;00m \u001b[38;5;21;01me\u001b[39;00m\n",
      "File \u001b[1;32mD:\\Mark\\Python\\lib\\site-packages\\scipy\\integrate\\_ode.py:1009\u001b[0m, in \u001b[0;36mvode.run\u001b[1;34m(self, f, jac, y0, t0, t1, f_params, jac_params)\u001b[0m\n\u001b[0;32m   1005\u001b[0m     jac \u001b[38;5;241m=\u001b[39m _vode_banded_jac_wrapper(jac, \u001b[38;5;28mself\u001b[39m\u001b[38;5;241m.\u001b[39mml, jac_params)\n\u001b[0;32m   1007\u001b[0m args \u001b[38;5;241m=\u001b[39m ((f, jac, y0, t0, t1) \u001b[38;5;241m+\u001b[39m \u001b[38;5;28mtuple\u001b[39m(\u001b[38;5;28mself\u001b[39m\u001b[38;5;241m.\u001b[39mcall_args) \u001b[38;5;241m+\u001b[39m\n\u001b[0;32m   1008\u001b[0m         (f_params, jac_params))\n\u001b[1;32m-> 1009\u001b[0m y1, t, istate \u001b[38;5;241m=\u001b[39m \u001b[38;5;28;43mself\u001b[39;49m\u001b[38;5;241;43m.\u001b[39;49m\u001b[43mrunner\u001b[49m\u001b[43m(\u001b[49m\u001b[38;5;241;43m*\u001b[39;49m\u001b[43margs\u001b[49m\u001b[43m)\u001b[49m\n\u001b[0;32m   1010\u001b[0m \u001b[38;5;28mself\u001b[39m\u001b[38;5;241m.\u001b[39mistate \u001b[38;5;241m=\u001b[39m istate\n\u001b[0;32m   1011\u001b[0m \u001b[38;5;28;01mif\u001b[39;00m istate \u001b[38;5;241m<\u001b[39m \u001b[38;5;241m0\u001b[39m:\n",
      "\u001b[1;31mKeyboardInterrupt\u001b[0m: "
     ]
    }
   ],
   "source": [
    "times = np.linspace(0.0, 0.2, 200)\n",
    "\n",
    "N = to_super(a*a.dag())\n",
    "rhoee = to_super(sm*sm.dag())\n",
    "\n",
    "result = mesolve(liouv, rho0, times, [], [a.dag()*a, sm.dag()*sm], options=Options(nsteps=10000))\n",
    "#result = mesolve(liouv, rho0, times, [], [N, rhoee])"
   ]
  },
  {
   "cell_type": "code",
   "execution_count": 31,
   "id": "e336fb2e",
   "metadata": {},
   "outputs": [
    {
     "ename": "IndexError",
     "evalue": "list index out of range",
     "output_type": "error",
     "traceback": [
      "\u001b[1;31m---------------------------------------------------------------------------\u001b[0m",
      "\u001b[1;31mIndexError\u001b[0m                                Traceback (most recent call last)",
      "Input \u001b[1;32mIn [31]\u001b[0m, in \u001b[0;36m<cell line: 2>\u001b[1;34m()\u001b[0m\n\u001b[0;32m      1\u001b[0m plt\u001b[38;5;241m.\u001b[39mplot(times, result\u001b[38;5;241m.\u001b[39mexpect[\u001b[38;5;241m0\u001b[39m], label\u001b[38;5;241m=\u001b[39m\u001b[38;5;124m\"\u001b[39m\u001b[38;5;124mN\u001b[39m\u001b[38;5;124m\"\u001b[39m)\n\u001b[1;32m----> 2\u001b[0m plt\u001b[38;5;241m.\u001b[39mplot(times, \u001b[43mresult\u001b[49m\u001b[38;5;241;43m.\u001b[39;49m\u001b[43mexpect\u001b[49m\u001b[43m[\u001b[49m\u001b[38;5;241;43m1\u001b[39;49m\u001b[43m]\u001b[49m, label\u001b[38;5;241m=\u001b[39m\u001b[38;5;124m\"\u001b[39m\u001b[38;5;124mrhoee\u001b[39m\u001b[38;5;124m\"\u001b[39m)\n\u001b[0;32m      3\u001b[0m plt\u001b[38;5;241m.\u001b[39mlegend()\n\u001b[0;32m      4\u001b[0m plt\u001b[38;5;241m.\u001b[39mshow()\n",
      "\u001b[1;31mIndexError\u001b[0m: list index out of range"
     ]
    },
    {
     "data": {
      "image/png": "[encoded data removed]",
      "text/plain": [
       "<Figure size 432x288 with 1 Axes>"
      ]
     },
     "metadata": {
      "needs_background": "light"
     },
     "output_type": "display_data"
    }
   ],
   "source": [
    "plt.plot(times, result.expect[0], label=\"N\")\n",
    "plt.plot(times, result.expect[1], label=\"rhoee\")\n",
    "plt.legend()\n",
    "plt.show()"
   ]
  },
  {
   "cell_type": "code",
   "execution_count": 99,
   "id": "63be88b6",
   "metadata": {},
   "outputs": [],
   "source": [
    "Ncut = 10\n",
    "nbar0 = 0\n",
    "delta = 0.0\n",
    "omegaVib = 2.0*np.pi*1.0e6\n",
    "Omega = 2.0*np.pi*10.0\n",
    "\n",
    "a = tensor(qeye(2), destroy(Ncut))\n",
    "sm = tensor(destroy(2), qeye(Ncut))\n",
    "aDag = a.dag()\n",
    "smDag = sm.dag()\n",
    "\n",
    "N = a*aDag\n",
    "N = to_super(N)\n",
    "\n",
    "rhoee = sm*smDag\n",
    "rhoee = to_super(rhoee)\n",
    "\n",
    "#a = to_super(a)\n",
    "#aDag = to_super(aDag)\n",
    "sm = to_super(sm)\n",
    "smDag = to_super(smDag)\n",
    "\n",
    "#H0 = -hbar*delta*sm*sm.dag() + hbar*omegaVib*(a*a.dag() + 0.5)\n",
    "#V = hbar*Omega*(sm + sm.dag())\n",
    "\n",
    "H0 = -hbar*delta*rhoee + hbar*omegaVib*(N + 0.5)\n",
    "V = hbar*Omega*(sm + smDag)\n",
    "\n",
    "psi0 = tensor(fock_dm(2,1), thermal_dm(Ncut, nbar0))"
   ]
  },
  {
   "cell_type": "code",
   "execution_count": 100,
   "id": "6ac1e125",
   "metadata": {},
   "outputs": [],
   "source": [
    "times = np.linspace(0.0, np.pi/Omega, 200)\n",
    "#result = mesolve(H0+V, psi0, times, [], [sm*sm.dag(), a*a.dag()])\n",
    "result = mesolve(H0+V, psi0, times, [], [tensor(destroy(2), qeye(Ncut))*tensor(destroy(2), qeye(Ncut)), a*aDag])"
   ]
  },
  {
   "cell_type": "code",
   "execution_count": 101,
   "id": "6a249a2d",
   "metadata": {},
   "outputs": [
    {
     "data": {
      "image/png": "[encoded data removed]",
      "text/plain": [
       "<Figure size 432x288 with 1 Axes>"
      ]
     },
     "metadata": {
      "needs_background": "light"
     },
     "output_type": "display_data"
    }
   ],
   "source": [
    "plt.plot(times*1e3, result.expect[0])\n",
    "plt.show()"
   ]
  },
  {
   "cell_type": "code",
   "execution_count": 27,
   "id": "cbaa58cb",
   "metadata": {},
   "outputs": [],
   "source": [
    "Omega = 2.0*np.pi*10.0\n",
    "hbar = 1.0#sp.constants.hbar\n",
    "delta = 0.0#Omega/2.0\n",
    "\n",
    "H = -hbar*delta*destroy(2)*destroy(2).dag() + hbar*Omega*(destroy(2) + destroy(2).dag())\n",
    "psi0 = fock(2,0)\n",
    "times = np.linspace(0, 5.0*np.pi/Omega, 200)\n",
    "result = sesolve(H,psi0,times,[destroy(2).dag()*destroy(2)])"
   ]
  },
  {
   "cell_type": "code",
   "execution_count": 28,
   "id": "9464fb4f",
   "metadata": {},
   "outputs": [
    {
     "data": {
      "text/plain": [
       "[<matplotlib.lines.Line2D at 0x208aa364460>]"
      ]
     },
     "execution_count": 28,
     "metadata": {},
     "output_type": "execute_result"
    },
    {
     "data": {
      "image/png": "[encoded data removed]",
      "text/plain": [
       "<Figure size 432x288 with 1 Axes>"
      ]
     },
     "metadata": {
      "needs_background": "light"
     },
     "output_type": "display_data"
    }
   ],
   "source": [
    "plt.plot(times, result.expect[0])"
   ]
  },
  {
   "cell_type": "code",
   "execution_count": 12,
   "id": "08bf4108",
   "metadata": {},
   "outputs": [
    {
     "data": {
      "text/plain": [
       "Result object with sesolve data.\n",
       "--------------------------------\n",
       "expect = True\n",
       "num_expect = 1, num_collapse = 0"
      ]
     },
     "execution_count": 12,
     "metadata": {},
     "output_type": "execute_result"
    }
   ],
   "source": [
    "result"
   ]
  },
  {
   "cell_type": "code",
   "execution_count": null,
   "id": "ba769fa5",
   "metadata": {},
   "outputs": [],
   "source": []
  }
 ],
 "metadata": {
  "kernelspec": {
   "display_name": "Python 3 (ipykernel)",
   "language": "python",
   "name": "python3"
  },
  "language_info": {
   "codemirror_mode": {
    "name": "ipython",
    "version": 3
   },
   "file_extension": ".py",
   "mimetype": "text/x-python",
   "name": "python",
   "nbconvert_exporter": "python",
   "pygments_lexer": "ipython3",
   "version": "3.10.5"
  }
 },
 "nbformat": 4,
 "nbformat_minor": 5
}
